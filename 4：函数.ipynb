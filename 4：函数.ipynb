{
 "cells": [
  {
   "cell_type": "code",
   "execution_count": 1,
   "id": "64c3928c",
   "metadata": {},
   "outputs": [
    {
     "name": "stdout",
     "output_type": "stream",
     "text": [
      "7\n",
      "7\n",
      "7\n"
     ]
    }
   ],
   "source": [
    "# len() 是Python内置函数，可以查看字符串长度，如：\n",
    "length = len(\"mooncat\")\n",
    "print(length)\n",
    "\n",
    "# 上述len函数也可以用代码写出：\n",
    "count = 0\n",
    "for x in \"mooncat\":\n",
    "    count += 1\n",
    "print(count)\n",
    "\n",
    "# 下面是自己定义函数的方式：（changdu）\n",
    "def changdu(juzi):\n",
    "    count = 0\n",
    "    for x in juzi:\n",
    "        count += 1\n",
    "    print(count)\n",
    "# 接下来使用自己定义的函数：changdu\n",
    "changdu(\"mooncat\")"
   ]
  },
  {
   "cell_type": "code",
   "execution_count": 2,
   "id": "a8fcfda7",
   "metadata": {},
   "outputs": [
    {
     "name": "stdout",
     "output_type": "stream",
     "text": [
      "我是张三，你好！\n"
     ]
    }
   ],
   "source": [
    "\"\"\"函数的定义：\n",
    "def 函数名(传入参数)：\n",
    "    函数体\n",
    "    return 返回值\n",
    "其中传入参数，返回值可以省略，函数需要先定义才能使用\"\"\"\n",
    "def say_hi():\n",
    "    print(\"我是张三，你好！\")\n",
    "say_hi()"
   ]
  },
  {
   "cell_type": "code",
   "execution_count": 3,
   "id": "22f9142b",
   "metadata": {},
   "outputs": [
    {
     "name": "stdout",
     "output_type": "stream",
     "text": [
      "欢迎来到本公司，请出示健康码及72小时核酸证明，并配合测量体温！\n",
      "你的体温是37.3摄氏度，体温正常，请进！\n"
     ]
    }
   ],
   "source": [
    "# 第一阶段-第五章-04-函数的传入参数 练习案例\n",
    "def check(x):\n",
    "    print(\"欢迎来到本公司，请出示健康码及72小时核酸证明，并配合测量体温！\")\n",
    "    if x <= 37.5:\n",
    "        print(f\"你的体温是{x}摄氏度，体温正常，请进！\")\n",
    "    else:\n",
    "        print(f\"你的体温是{x}摄氏度，体温异常，请隔离！\")\n",
    "check(37.3)"
   ]
  },
  {
   "cell_type": "code",
   "execution_count": 4,
   "id": "7fa988fe",
   "metadata": {},
   "outputs": [
    {
     "name": "stdout",
     "output_type": "stream",
     "text": [
      "10\n"
     ]
    }
   ],
   "source": [
    "# return返回值为result，表示函数进行完成的结果为result，所以用变量r = add(3, 7)最后得到的就是 3+7 的答案\n",
    "\n",
    "def add(x, y):\n",
    "    result = x + y\n",
    "    return result     #函数体在遇到return后就截止了，因此return后的内容不会输出\n",
    "    print(\"完成！\")  #上一行代码有return，故而本行代码不会执行，为了规范应当删掉，这里只做演示\n",
    "r = add(3, 7)\n",
    "print(r)"
   ]
  },
  {
   "cell_type": "code",
   "execution_count": 5,
   "id": "9000dfeb",
   "metadata": {},
   "outputs": [
    {
     "name": "stdout",
     "output_type": "stream",
     "text": [
      "你好啊！\n",
      "无返回值函数，返回的内容是：None\n",
      "无返回值函数，返回的内容类型是：<class 'NoneType'>\n",
      "你好啊！\n",
      "无返回值函数，返回的内容是：None\n",
      "无返回值函数，返回的内容类型是：<class 'NoneType'>\n",
      "你未满18岁，禁止进入本网吧!\n"
     ]
    }
   ],
   "source": [
    "# 无return语句的函数返回值为 None，如：\n",
    "def say_hi():\n",
    "    print(\"你好啊！\")\n",
    "result = say_hi()\n",
    "print(f\"无返回值函数，返回的内容是：{result}\")\n",
    "print(f\"无返回值函数，返回的内容类型是：{type(result)}\")\n",
    "\n",
    "\n",
    "# 主动返回 None 的函数：\n",
    "def say_hi2():\n",
    "    print(\"你好啊！\")\n",
    "    return None\n",
    "result = say_hi2()\n",
    "print(f\"无返回值函数，返回的内容是：{result}\")\n",
    "print(f\"无返回值函数，返回的内容类型是：{type(result)}\")\n",
    "\n",
    "\n",
    "# None作为一个特殊的字面量，用于表示：空、无意义，有许多的应用场景\n",
    "# 在if判断总，None等同于False，一般用于在函数中主动返回None，配合if判断做相关处理\n",
    "def check_age(age):\n",
    "    if age > 18:\n",
    "        return \"SUCCESS\"\n",
    "    else :\n",
    "        return None\n",
    "result = check_age(16)\n",
    "if not result:\n",
    "    # 这里的result能进入if，说明了result此时为None值，即False\n",
    "    print(\"你未满18岁，禁止进入本网吧!\")\n",
    "    \n",
    "    \n",
    "# 在定义变量的时候，如果变量暂时不需要有具体值，可以用None来代替，即： name = None，如：\n",
    "name = None"
   ]
  },
  {
   "cell_type": "code",
   "execution_count": 6,
   "id": "d37e6937",
   "metadata": {},
   "outputs": [
    {
     "name": "stdout",
     "output_type": "stream",
     "text": [
      "37+628=665\n"
     ]
    },
    {
     "data": {
      "text/plain": [
       "665"
      ]
     },
     "execution_count": 6,
     "metadata": {},
     "output_type": "execute_result"
    }
   ],
   "source": [
    "# 下面是对函数内容进行说明时的格式（说明文档），通常使用多行注释，可以辅助理解函数的作用\n",
    "def add(x, y):    \n",
    "    \"\"\"\n",
    "    add函数可以接收两个参数，进行相加\n",
    "    ：param x: 表示其中一个加数x\n",
    "    ：param y: 表示另一个加数y\n",
    "    ：返回值为x+y的计算结果\n",
    "    \"\"\"\n",
    "    result = x + y\n",
    "    print(f\"{x}+{y}={x+y}\")\n",
    "    return result\n",
    "\n",
    "add(37, 628)\n",
    "# 在Pycharm中，将鼠标放到参数上会显示多行注释中的内容，即说明文档"
   ]
  },
  {
   "cell_type": "code",
   "execution_count": 7,
   "id": "a9b2de57",
   "metadata": {},
   "outputs": [
    {
     "name": "stdout",
     "output_type": "stream",
     "text": [
      "---1---\n",
      "---2---\n",
      "---3---\n"
     ]
    }
   ],
   "source": [
    "# 所谓的函数嵌套调用指的是一个函数里面又调用了另外一个函数,如:\n",
    "\n",
    "# 先定义func_b\n",
    "def func_b():\n",
    "    print(\"---2---\")\n",
    "\n",
    "# 再定义fuc_a，并在内部调用func_b\n",
    "def func_a():\n",
    "    print(\"---1---\")\n",
    "    func_b()\n",
    "    print(\"---3---\")\n",
    "    \n",
    "# 调用函数func_a，查看结果\n",
    "func_a()\n",
    "\n",
    "# 在函数A中去调用函数B，会将B执行完成后，才会继续调用A的剩余内容"
   ]
  },
  {
   "cell_type": "code",
   "execution_count": 8,
   "id": "4ca2ccbe",
   "metadata": {},
   "outputs": [
    {
     "name": "stdout",
     "output_type": "stream",
     "text": [
      "37\n",
      "628\n",
      "628\n",
      "37\n",
      "628\n",
      "全局变量num = 628\n"
     ]
    }
   ],
   "source": [
    "# 变量作用域指的是变量的作用范围，分为局部变量和全局变量\n",
    "\n",
    "# 所谓的局部变量就是指：定义在函数体内的变量，只在函数体内部生效，如下述在函数内部定义的 num = 37\n",
    "# 所谓的全局变量就是指：在函数体内和函数体外都能生效的变量，如下述在函数外部定义的 num = 628\n",
    "\n",
    "num = 628  # 这个num就是全局变量\n",
    "def testA():\n",
    "    num = 37   # 这个num就是局部变量\n",
    "    print(num)\n",
    "testA()   #这里会输出100，因为num在函数testA中有定义，不然输出的就是外部的628，如：\n",
    "def testB():\n",
    "    print(num)\n",
    "testB()\n",
    "\n",
    "print(num)   #这里能输出是因为函数外有定义，否则会报错（‘num’ is not defined）\n",
    "\n",
    "\n",
    "# 如果使用global关键字，可以在函数内部定义一个全局变量（语法为：global 变量），如：\n",
    "num = 37\n",
    "\n",
    "def testC():\n",
    "    print(num)\n",
    "def testD():\n",
    "    global num   #这里将变量 num 变成了全局变量，如果没有这句话就是局部变量\n",
    "    num = 628\n",
    "    print(num)\n",
    "\n",
    "testC()\n",
    "testD()\n",
    "print(f\"全局变量num = {num}\")  #输出628是因为在函数testD中，全局变量 num = 628 将 num = 37覆盖了"
   ]
  },
  {
   "cell_type": "code",
   "execution_count": 9,
   "id": "be4f68b4",
   "metadata": {},
   "outputs": [
    {
     "name": "stdout",
     "output_type": "stream",
     "text": [
      "38\n"
     ]
    }
   ],
   "source": [
    "num = 37\n",
    "def func():\n",
    "    global num  #如果不加本行代码，程序会报错。因为num是全局变量，函数内部是局部，无法对num进行数据处理，故而只能将num变成全局变量\n",
    "    num += 1\n",
    "    print(num)\n",
    "func()"
   ]
  },
  {
   "cell_type": "code",
   "execution_count": 10,
   "id": "bf6a8da3",
   "metadata": {},
   "outputs": [
    {
     "name": "stdout",
     "output_type": "stream",
     "text": [
      "请输入您的姓名：张三\n",
      "--------------------------主菜单--------------------------\n",
      "查询余额\t1\n",
      "存款\t\t2\n",
      "取款\t\t3\n",
      "退出程序\t4\n",
      "请输入您要办理的业务：1\n",
      "--------------------------查询余额--------------------------\n",
      "张三您好！您的账户现在还有：5000000元\n",
      "--------------------------主菜单--------------------------\n",
      "查询余额\t1\n",
      "存款\t\t2\n",
      "取款\t\t3\n",
      "退出程序\t4\n",
      "请输入您要办理的业务：2\n",
      "--------------------------存款--------------------------\n",
      "请输入您要存入的现金（元）：500\n",
      "张三您好！您存款500.0元，现在余额还有：5000500.0元\n",
      "--------------------------主菜单--------------------------\n",
      "查询余额\t1\n",
      "存款\t\t2\n",
      "取款\t\t3\n",
      "退出程序\t4\n",
      "请输入您要办理的业务：1\n",
      "--------------------------查询余额--------------------------\n",
      "张三您好！您的账户现在还有：5000500.0元\n",
      "--------------------------主菜单--------------------------\n",
      "查询余额\t1\n",
      "存款\t\t2\n",
      "取款\t\t3\n",
      "退出程序\t4\n",
      "请输入您要办理的业务：3\n",
      "--------------------------取款--------------------------\n",
      "请输入您要取出的现金（元）：37628000000\n",
      "张三您好！您的余额不足，请重新输入取出金额\n",
      "--------------------------取款--------------------------\n",
      "请输入您要取出的现金（元）：37628\n",
      "张三您好！您取款37628.0元，现在余额还有：4962872.0元\n",
      "--------------------------主菜单--------------------------\n",
      "查询余额\t1\n",
      "存款\t\t2\n",
      "取款\t\t3\n",
      "退出程序\t4\n",
      "请输入您要办理的业务：1\n",
      "--------------------------查询余额--------------------------\n",
      "张三您好！您的账户现在还有：4962872.0元\n",
      "--------------------------主菜单--------------------------\n",
      "查询余额\t1\n",
      "存款\t\t2\n",
      "取款\t\t3\n",
      "退出程序\t4\n",
      "请输入您要办理的业务：5\n",
      "您输入的指令错误，请重新输入！\n",
      "--------------------------主菜单--------------------------\n",
      "查询余额\t1\n",
      "存款\t\t2\n",
      "取款\t\t3\n",
      "退出程序\t4\n",
      "请输入您要办理的业务：4\n",
      "已退出程序！\n"
     ]
    }
   ],
   "source": [
    "# 第一阶段-第五章-11-函数综合案例\n",
    "money = 5000000\n",
    "name = input(\"请输入您的姓名：\")\n",
    "def menu():\n",
    "    print(\"--------------------------主菜单--------------------------\")\n",
    "    print(\"查询余额\\t1\")\n",
    "    print(\"存款\\t\\t2\")\n",
    "    print(\"取款\\t\\t3\")\n",
    "    print(\"退出程序\\t4\")\n",
    "def balance():\n",
    "    print(\"--------------------------查询余额--------------------------\")\n",
    "    print(f\"{name}您好！您的账户现在还有：{money}元\")\n",
    "def save_money():\n",
    "    print(\"--------------------------存款--------------------------\")\n",
    "    a = float(input(\"请输入您要存入的现金（元）：\"))\n",
    "    global money\n",
    "    money += a\n",
    "    print(f\"{name}您好！您存款{a}元，现在余额还有：{money}元\")\n",
    "def get_money():\n",
    "    print(\"--------------------------取款--------------------------\")\n",
    "    b = float(input(\"请输入您要取出的现金（元）：\"))\n",
    "    global money\n",
    "    if b <= money:\n",
    "        money -= b\n",
    "        print(f\"{name}您好！您取款{b}元，现在余额还有：{money}元\")\n",
    "    else:\n",
    "        print(f\"{name}您好！您的余额不足，请重新输入取出金额\")\n",
    "        get_money()\n",
    "while True:\n",
    "    menu()\n",
    "    direction = input(\"请输入您要办理的业务：\") \n",
    "    if  direction == \"1\":\n",
    "        balance()\n",
    "    elif  direction == \"2\":\n",
    "        save_money()\n",
    "    elif  direction == \"3\":\n",
    "        get_money()\n",
    "    elif  direction == \"4\":\n",
    "        print(\"已退出程序！\")\n",
    "        break\n",
    "    else:\n",
    "        print(\"您输入的指令错误，请重新输入！\")"
   ]
  },
  {
   "cell_type": "code",
   "execution_count": 11,
   "id": "30bc74c5",
   "metadata": {},
   "outputs": [
    {
     "name": "stdout",
     "output_type": "stream",
     "text": [
      "请输入您的姓名：张三\n",
      "-------------------主菜单-------------------\n",
      "张三，您好！欢迎来到ATM自动存取款机，请输入您要进行的操作：\n",
      "查询余额\t[输入1]\n",
      "存款\t\t[输入2]\n",
      "取款\t\t[输入3]\n",
      "退出\t\t[输入4]\n",
      "请输入您的选择：1\n",
      "-------------------查询余额-------------------\n",
      "张三，您好，您的余额剩余：5000000元\n",
      "-------------------主菜单-------------------\n",
      "张三，您好！欢迎来到ATM自动存取款机，请输入您要进行的操作：\n",
      "查询余额\t[输入1]\n",
      "存款\t\t[输入2]\n",
      "取款\t\t[输入3]\n",
      "退出\t\t[输入4]\n",
      "请输入您的选择：2\n",
      "请输入存款数额：37\n",
      "-------------------存款-------------------\n",
      "张三，您好！您存款37元成功。\n",
      "张三，您好，您的余额剩余：5000037元\n",
      "-------------------主菜单-------------------\n",
      "张三，您好！欢迎来到ATM自动存取款机，请输入您要进行的操作：\n",
      "查询余额\t[输入1]\n",
      "存款\t\t[输入2]\n",
      "取款\t\t[输入3]\n",
      "退出\t\t[输入4]\n",
      "请输入您的选择：1\n",
      "-------------------查询余额-------------------\n",
      "张三，您好，您的余额剩余：5000037元\n",
      "-------------------主菜单-------------------\n",
      "张三，您好！欢迎来到ATM自动存取款机，请输入您要进行的操作：\n",
      "查询余额\t[输入1]\n",
      "存款\t\t[输入2]\n",
      "取款\t\t[输入3]\n",
      "退出\t\t[输入4]\n",
      "请输入您的选择：3\n",
      "请输入取款数额：628\n",
      "-------------------取款-------------------\n",
      "张三，您好！您取款628元成功。\n",
      "张三，您好，您的余额剩余：4999409元\n",
      "-------------------主菜单-------------------\n",
      "张三，您好！欢迎来到ATM自动存取款机，请输入您要进行的操作：\n",
      "查询余额\t[输入1]\n",
      "存款\t\t[输入2]\n",
      "取款\t\t[输入3]\n",
      "退出\t\t[输入4]\n",
      "请输入您的选择：1\n",
      "-------------------查询余额-------------------\n",
      "张三，您好，您的余额剩余：4999409元\n",
      "-------------------主菜单-------------------\n",
      "张三，您好！欢迎来到ATM自动存取款机，请输入您要进行的操作：\n",
      "查询余额\t[输入1]\n",
      "存款\t\t[输入2]\n",
      "取款\t\t[输入3]\n",
      "退出\t\t[输入4]\n",
      "请输入您的选择：4\n",
      "程序已退出。\n"
     ]
    }
   ],
   "source": [
    "# 第一阶段-第五章-11-函数综合案例（出题人答案）\n",
    "# 定义全局变量 money name\n",
    "money = 5000000\n",
    "name = None\n",
    "# 要求客户输入姓名\n",
    "name = input(\"请输入您的姓名：\")\n",
    "# 定义查询函数\n",
    "def query(show_header):\n",
    "    if show_header:\n",
    "        print(\"-------------------查询余额-------------------\")\n",
    "    print(f\"{name}，您好，您的余额剩余：{money}元\")\n",
    "# 定义存款函数\n",
    "def saving(num):\n",
    "    global money\n",
    "    money += num\n",
    "    print(\"-------------------存款-------------------\")\n",
    "    print(f\"{name}，您好！您存款{num}元成功。\")\n",
    "# 调用query函数查询余额\n",
    "    query(False)\n",
    "# 定义取款函数\n",
    "def get_money(num):\n",
    "    global money\n",
    "    money -= num\n",
    "    print(\"-------------------取款-------------------\")\n",
    "    print(f\"{name}，您好！您取款{num}元成功。\")\n",
    "    query(False)\n",
    "# 定义主菜单函数\n",
    "def main():\n",
    "    print(\"-------------------主菜单-------------------\")\n",
    "    print(f\"{name}，您好！欢迎来到ATM自动存取款机，请输入您要进行的操作：\")\n",
    "    print(\"查询余额\\t[输入1]\")\n",
    "    print(\"存款\\t\\t[输入2]\")\n",
    "    print(\"取款\\t\\t[输入3]\")\n",
    "    print(\"退出\\t\\t[输入4]\")\n",
    "    return input(\"请输入您的选择：\")\n",
    "# 设置无限循环，确保程序不会退出\n",
    "while True:\n",
    "    keyboard_input = main()\n",
    "    if keyboard_input == \"1\":\n",
    "        query(True)\n",
    "        continue\n",
    "    elif keyboard_input == \"2\":\n",
    "        num =int(input(\"请输入存款数额：\")) \n",
    "        saving(num)\n",
    "        continue\n",
    "    elif keyboard_input == \"3\":\n",
    "        num =int(input(\"请输入取款数额：\")) \n",
    "        get_money(num)\n",
    "        continue\n",
    "    else:\n",
    "        print(\"程序已退出。\")\n",
    "        break"
   ]
  }
 ],
 "metadata": {
  "kernelspec": {
   "display_name": "Python 3 (ipykernel)",
   "language": "python",
   "name": "python3"
  },
  "language_info": {
   "codemirror_mode": {
    "name": "ipython",
    "version": 3
   },
   "file_extension": ".py",
   "mimetype": "text/x-python",
   "name": "python",
   "nbconvert_exporter": "python",
   "pygments_lexer": "ipython3",
   "version": "3.10.9"
  }
 },
 "nbformat": 4,
 "nbformat_minor": 5
}

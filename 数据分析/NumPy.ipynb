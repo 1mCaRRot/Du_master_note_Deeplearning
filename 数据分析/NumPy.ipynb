{
 "cells": [
  {
   "cell_type": "markdown",
   "id": "4cad0382",
   "metadata": {},
   "source": [
    "# 1.ndarray数组"
   ]
  },
  {
   "cell_type": "markdown",
   "id": "2aeb1c3d",
   "metadata": {},
   "source": [
    "## 1.1 ndarray数组的创建"
   ]
  },
  {
   "cell_type": "markdown",
   "id": "2c36375f",
   "metadata": {},
   "source": [
    "### 1.1.1 练习：使用列表推导式创建一个内含8个子列表的列表，其中每个子列表内都是五个80-100的随机整数"
   ]
  },
  {
   "cell_type": "code",
   "execution_count": 1,
   "id": "50343193",
   "metadata": {},
   "outputs": [
    {
     "name": "stdout",
     "output_type": "stream",
     "text": [
      "[[81, 90, 80, 86, 80], [88, 83, 84, 98, 89], [98, 92, 83, 97, 83], [91, 94, 98, 96, 85], [83, 80, 88, 93, 91], [91, 81, 94, 97, 96], [89, 83, 88, 95, 91], [95, 98, 100, 84, 100]]\n"
     ]
    }
   ],
   "source": [
    "import random\n",
    "\n",
    "# 创建一个包含8个空列表的列表\n",
    "target_lists = [[] for _ in range(8)]\n",
    "\n",
    "# 向每个列表中添加随机整数（80-100）\n",
    "for i in range(8):\n",
    "    target_lists[i] = [random.randint(80, 100) for _ in range(5)]  # 每个列表包含5个随机整数\n",
    "\n",
    "# 打印结果\n",
    "print(target_lists)"
   ]
  },
  {
   "cell_type": "markdown",
   "id": "69ebdf18",
   "metadata": {},
   "source": [
    "### 1.1.2 np.array方法"
   ]
  },
  {
   "cell_type": "raw",
   "id": "68385add",
   "metadata": {},
   "source": [
    "使用np.array方法创建ndarray数组，语法： \n",
    "\n",
    "变量名 = numpy.array(列表)"
   ]
  },
  {
   "cell_type": "code",
   "execution_count": 2,
   "id": "25e19923",
   "metadata": {},
   "outputs": [
    {
     "name": "stdout",
     "output_type": "stream",
     "text": [
      "[[ 81  90  80  86  80]\n",
      " [ 88  83  84  98  89]\n",
      " [ 98  92  83  97  83]\n",
      " [ 91  94  98  96  85]\n",
      " [ 83  80  88  93  91]\n",
      " [ 91  81  94  97  96]\n",
      " [ 89  83  88  95  91]\n",
      " [ 95  98 100  84 100]]\n"
     ]
    }
   ],
   "source": [
    "# 先导包，通常会将numpy简写为np\n",
    "import numpy as np\n",
    "\n",
    "# 使用变量名scores接收上述练习中的target_lists（列表）\n",
    "scores = np.array(target_lists)\n",
    "\n",
    "# 输出scores，查看数组内容\n",
    "print(scores)"
   ]
  },
  {
   "cell_type": "markdown",
   "id": "d281e18f",
   "metadata": {},
   "source": [
    "### 1.1.3 np.arange方法"
   ]
  },
  {
   "cell_type": "raw",
   "id": "69bb3bd2",
   "metadata": {},
   "source": [
    "使用np.array方法创建ndarray数组，语法：\n",
    "\n",
    "变量名 = numpy.arange(起始值，终止值，步长)\n",
    "\n",
    "注：起始值默认为0，取不到终止值（左闭右开），步长默认为1"
   ]
  },
  {
   "cell_type": "code",
   "execution_count": 3,
   "id": "2377d2a7",
   "metadata": {},
   "outputs": [
    {
     "name": "stdout",
     "output_type": "stream",
     "text": [
      "数组a的内容为：\n",
      "[0 1 2 3 4 5]\n",
      "数组b的内容为：\n",
      "[3 4 5 6]\n"
     ]
    }
   ],
   "source": [
    "# 先导包\n",
    "import numpy as np\n",
    "\n",
    "# 创建数组a\n",
    "a = np.arange(6)\n",
    "print(\"数组a的内容为：\")\n",
    "print(a)\n",
    "\n",
    "# 创建数组b\n",
    "b = np.arange(3, 7)\n",
    "print(\"数组b的内容为：\")\n",
    "print(b)"
   ]
  },
  {
   "cell_type": "markdown",
   "id": "e5a523f2",
   "metadata": {},
   "source": [
    "### 1.1.4 np.zeros / np.ones 方法"
   ]
  },
  {
   "cell_type": "raw",
   "id": "22dadea4",
   "metadata": {},
   "source": [
    "创建 全零/全一 数组\n",
    "np.zeros(shape, dtype = \"元素类型\")\n",
    "np.ones(shape, dtype = \"元素类型\")\n",
    "说明：dtype默认为浮点型（float32/float64），如果需要整数型需要自己更改\n",
    "\n",
    "特殊的，创建一维数组也可以使用下述语法\n",
    "numpy.zeros(数组元素个数，dtype = \"元素类型\")\n",
    "numpy.ones(数组元素个数，dtype = \"元素类型\")"
   ]
  },
  {
   "cell_type": "code",
   "execution_count": 4,
   "id": "60244d90",
   "metadata": {},
   "outputs": [
    {
     "name": "stdout",
     "output_type": "stream",
     "text": [
      "数组a的内容为：\n",
      "[[0 0 0 0]\n",
      " [0 0 0 0]]\n",
      "数组b的内容为：\n",
      "[1. 1. 1. 1. 1. 1.]\n"
     ]
    }
   ],
   "source": [
    "# 先导包\n",
    "import numpy as np\n",
    "\n",
    "# 使用np.zeros创建2行4列的二维数组\n",
    "a = np.zeros((2,4), dtype=\"int32\")\n",
    "print(\"数组a的内容为：\")\n",
    "print(a)\n",
    "\n",
    "# 使用np.ones语法创建6个元素的一维数组\n",
    "b = np.ones(6)\n",
    "print(\"数组b的内容为：\")\n",
    "print(b)"
   ]
  },
  {
   "cell_type": "markdown",
   "id": "0725ec9c",
   "metadata": {},
   "source": [
    "### 1.1.5 np.zeros_like / np.ones_like 方法"
   ]
  },
  {
   "cell_type": "raw",
   "id": "f86316bf",
   "metadata": {},
   "source": [
    "语法： numpy.zeros_like(给定数组, dtype=\"\") \n",
    "功能： 根据给定数组的形状和数据类型生成全零或全一的数组"
   ]
  },
  {
   "cell_type": "code",
   "execution_count": 5,
   "id": "71ba9153",
   "metadata": {},
   "outputs": [
    {
     "name": "stdout",
     "output_type": "stream",
     "text": [
      "[[ 81  90  80  86  80]\n",
      " [ 88  83  84  98  89]\n",
      " [ 98  92  83  97  83]\n",
      " [ 91  94  98  96  85]\n",
      " [ 83  80  88  93  91]\n",
      " [ 91  81  94  97  96]\n",
      " [ 89  83  88  95  91]\n",
      " [ 95  98 100  84 100]]\n",
      "数组a的内容为：\n",
      "[[1 1 1 1 1]\n",
      " [1 1 1 1 1]\n",
      " [1 1 1 1 1]\n",
      " [1 1 1 1 1]\n",
      " [1 1 1 1 1]\n",
      " [1 1 1 1 1]\n",
      " [1 1 1 1 1]\n",
      " [1 1 1 1 1]]\n"
     ]
    }
   ],
   "source": [
    "# 先导包\n",
    "import numpy as np\n",
    "\n",
    "# 使用上述scores演示\n",
    "print(scores)\n",
    "\n",
    "# 使用np.ones_like()方法得到 8行5列 的全一数组\n",
    "a = np.ones_like(scores, dtype=\"int32\")\n",
    "print(\"数组a的内容为：\")\n",
    "print(a)"
   ]
  },
  {
   "cell_type": "raw",
   "id": "f34bd062",
   "metadata": {},
   "source": [
    "zeros_like和ones_like方法得到的是一个新的数组，并不是视图。\n",
    "因此改变原数组不会使 由ones_like和zeros_like得到的数组 改变，如："
   ]
  },
  {
   "cell_type": "code",
   "execution_count": 6,
   "id": "b90621ab",
   "metadata": {},
   "outputs": [
    {
     "name": "stdout",
     "output_type": "stream",
     "text": [
      "原始数组:\n",
      " [[1 2 3]\n",
      " [4 5 6]]\n",
      "与原始数组形状相同的全零数组:\n",
      " [[0 0 0]\n",
      " [0 0 0]]\n",
      "改变形状后的原始数组:\n",
      " [1 2 3 4 5 6]\n",
      "新的全零数组:\n",
      " [[0 0 0]\n",
      " [0 0 0]]\n"
     ]
    }
   ],
   "source": [
    "# 先导包\n",
    "import numpy as np\n",
    "\n",
    "# 创建一个原始二维数组\n",
    "original_array = np.array([[1, 2, 3], [4, 5, 6]])\n",
    "\n",
    "# 使用 zeros_like 创建全零数组\n",
    "zeros_like_array = np.zeros_like(original_array)\n",
    "\n",
    "# 输出结果\n",
    "print(\"原始数组:\\n\", original_array)\n",
    "print(\"与原始数组形状相同的全零数组:\\n\", zeros_like_array)\n",
    "\n",
    "# ☆改变原始数组的形状\n",
    "original_array = original_array.reshape((6,))\n",
    "\n",
    "# 输出结果\n",
    "print(\"改变形状后的原始数组:\\n\", original_array)\n",
    "print(\"新的全零数组:\\n\", zeros_like_array)"
   ]
  },
  {
   "cell_type": "markdown",
   "id": "e45cef68",
   "metadata": {},
   "source": [
    "### 1.1.6 np.linspace方法"
   ]
  },
  {
   "cell_type": "raw",
   "id": "f2227e75",
   "metadata": {},
   "source": [
    "linspace 的全称是 \"linear space\"，它用于生成等间隔的数值序列，语法如下：\n",
    "\n",
    "numpy.linspace(start, stop, num=50, endpoint=True, retstep=False, dtype=None)\n",
    "start：序列的起始值\n",
    "stop：序列的结束值\n",
    "num：要生成的样本数量，默认是 50\n",
    "endpoint：如果为 True（默认），则包含 stop 值；如果为 False，则不包含\n",
    "retstep：如果为 True，则返回样本之间的间隔值，默认值是 False\n",
    "dtype：输出数组的数据类型"
   ]
  },
  {
   "cell_type": "code",
   "execution_count": 7,
   "id": "2607884e",
   "metadata": {},
   "outputs": [
    {
     "name": "stdout",
     "output_type": "stream",
     "text": [
      "数组a的内容为：\n",
      "[1. 3. 5.]\n",
      "数组b的内容为：\n",
      "[1 3 5]\n",
      "数组c的内容为：\n",
      "[0.         1.57079633 3.14159265 4.71238898 6.28318531]\n",
      "数组d的内容为：\n",
      "[1 3 5]\n",
      "间隔为：2.0\n"
     ]
    }
   ],
   "source": [
    "# 先导包\n",
    "import numpy as np\n",
    "\n",
    "# 使用linspace语法创建数组\n",
    "a = np.linspace(1, 5, num = 3)  # 从1到5分成平均的三个数\n",
    "print(\"数组a的内容为：\")\n",
    "print(a)\n",
    "\n",
    "b = np.linspace(1, 5, num = 3, dtype = int)  # dtype改成整数\n",
    "print(\"数组b的内容为：\")\n",
    "print(b)\n",
    "\n",
    "c = np.linspace(0, 2 * np.pi, num = 5)  # np.pi指的就是π，直接用π会报错\n",
    "print(\"数组c的内容为：\")\n",
    "print(c)\n",
    "\n",
    "# 易知分割后的间隔为：(stop值-start值) / (num-1)\n",
    "# 人为计算间隔难免会有错误，故而使用retstep代码进行更好\n",
    "# 注意上面应当用两个变量接收，因为retstep有两个返回值，如果只有一个会报错\n",
    "d, step = np.linspace(1, 5, num = 3, retstep = True, dtype = int)  # dtype改成整数\n",
    "print(\"数组d的内容为：\")\n",
    "print(d)\n",
    "print(f\"间隔为：{step}\")"
   ]
  },
  {
   "cell_type": "markdown",
   "id": "bb582dd6",
   "metadata": {},
   "source": [
    "### 1.1.7 np.logspace方法"
   ]
  },
  {
   "cell_type": "raw",
   "id": "58872cf4",
   "metadata": {},
   "source": [
    "功能：用于生成对数间隔数值。它会创建一个数组，其中的数值在对数尺度上均匀分布。\n",
    "语法：np.logspace(start, stop, num=50, base=10.0, dtype=None, endpoint=True)\n",
    "参数\n",
    "start：对数间隔的起始点（底数的指数）。\n",
    "stop：对数间隔的结束点（底数的指数）。\n",
    "num：生成的样本数量，默认是 50。\n",
    "base：对数的底数，默认是 10.0。\n",
    "dtype：可选，指定输出数组的数据类型。\n",
    "endpoint：如果为 True，则包含结束点；如果为 False，则不包含。默认为True。"
   ]
  },
  {
   "cell_type": "code",
   "execution_count": 8,
   "id": "965387be",
   "metadata": {},
   "outputs": [
    {
     "name": "stdout",
     "output_type": "stream",
     "text": [
      "[  10.           31.6227766   100.          316.22776602 1000.        ]\n"
     ]
    }
   ],
   "source": [
    "# 先导包\n",
    "import numpy as np\n",
    "\n",
    "# 生成从 10^1 到 10^3 的 5 个数\n",
    "arr = np.logspace(1, 3, num=5, base=10)\n",
    "print(arr)  \n",
    "# 注：输出内容分别为10的1、 1.5、 2、 2.5、 3 次方\n",
    "# 输出: [  10.  31.6227766  100.  316.22776602 1000.]"
   ]
  },
  {
   "cell_type": "markdown",
   "id": "74943456",
   "metadata": {},
   "source": [
    "### 1.1.8 均匀分布（Uniform Distribution）"
   ]
  },
  {
   "cell_type": "markdown",
   "id": "980326f0",
   "metadata": {},
   "source": [
    "#### 1.1.8.1 np.random.rand方法"
   ]
  },
  {
   "cell_type": "raw",
   "id": "f8c45b92",
   "metadata": {},
   "source": [
    "语法：np.random.rand(d0, d1, ..., dn)\n",
    "参数：可以接受多个整数d0, d1, ..., dn。这些整数指定了生成数组的形状\n",
    "    如果不输入任何形状参数，得到的就是一个浮点数\n",
    "\n",
    "功能：用于生成在 [0.0, 1.0) 范围内的随机浮点数"
   ]
  },
  {
   "cell_type": "code",
   "execution_count": 9,
   "id": "9cf7814d",
   "metadata": {},
   "outputs": [
    {
     "name": "stdout",
     "output_type": "stream",
     "text": [
      "数组a的内容为：\n",
      "[[0.75391336 0.03268574]\n",
      " [0.22718221 0.37011896]\n",
      " [0.18612811 0.34414688]]\n",
      "不传入任何形状参数，得到的内容为：0.7926289143994316，其类型为：<class 'float'>\n"
     ]
    }
   ],
   "source": [
    "# 先导包\n",
    "import numpy as np\n",
    "\n",
    "# 使用np.random.rand语法生成形状为(3, 2)的二维数组\n",
    "a = np.random.rand(3, 2)\n",
    "print(f\"数组a的内容为：\")\n",
    "print(a)\n",
    "\n",
    "# 如果不输入任何形状参数，得到的就是一个浮点数\n",
    "b = np.random.rand()\n",
    "print(f\"不传入任何形状参数，得到的内容为：{b}，其类型为：{type(b)}\")"
   ]
  },
  {
   "cell_type": "markdown",
   "id": "eae34322",
   "metadata": {},
   "source": [
    "#### 1.1.8.2 np.random.random方法"
   ]
  },
  {
   "cell_type": "raw",
   "id": "4ea1345b",
   "metadata": {},
   "source": [
    "语法：np.random.rand(size=())\n",
    "参数：示例： size=(2, 3)，代表生成二行三列的二维随机数组\n",
    "         如果不输入任何形状参数，得到的就是一个浮点数\n",
    "\n",
    "功能：用于生成在 [0.0, 1.0) 范围内的随机浮点数"
   ]
  },
  {
   "cell_type": "code",
   "execution_count": 10,
   "id": "e1352abb",
   "metadata": {},
   "outputs": [
    {
     "name": "stdout",
     "output_type": "stream",
     "text": [
      "数组a的内容为：\n",
      "[[0.19864208 0.54564542]\n",
      " [0.33681927 0.31280207]\n",
      " [0.25276897 0.35882572]]\n",
      "数组b的内容为：\n",
      "[[0.48708239 0.38236855]\n",
      " [0.28346775 0.72489584]]\n",
      "不传入任何形状参数，得到的内容为：0.5352916817220119，其类型为：<class 'float'>\n"
     ]
    }
   ],
   "source": [
    "# 先导包\n",
    "import numpy as np\n",
    "\n",
    "# 使用np.random.random语法生成形状为(3, 2)的二维数组\n",
    "a = np.random.random(size=(3, 2))\n",
    "print(f\"数组a的内容为：\")\n",
    "print(a)\n",
    "\n",
    "# 使用np.random.random语法生成形状为(2, 2)的二维数组，参数只接受size，故而可以直接传入元组进行\n",
    "b = np.random.random((2, 2))\n",
    "print(f\"数组b的内容为：\")\n",
    "print(b)\n",
    "\n",
    "# 如果不输入任何形状参数，得到的就是一个浮点数\n",
    "c = np.random.random()\n",
    "print(f\"不传入任何形状参数，得到的内容为：{c}，其类型为：{type(c)}\")"
   ]
  },
  {
   "cell_type": "markdown",
   "id": "dd68b679",
   "metadata": {},
   "source": [
    "#### 1.1.8.3 np.random.uniform方法"
   ]
  },
  {
   "cell_type": "raw",
   "id": "395b9188",
   "metadata": {},
   "source": [
    "语法：np.random.uniform(low=0.0, high=1.0, size=None)\n",
    "参数\n",
    "low：可选，生成随机数的下界（默认值为 0.0）。\n",
    "high：可选，生成随机数的上界（默认值为 1.0）。\n",
    "size：可选，指定输出数组的形状。可以是整数或元组。\n",
    "\n",
    "注：不同于python自带的random中的uniform方法，这里的随机范围是左闭右开的，即包含low，但不包含high。。\n",
    "\n",
    "功能：生成在 [low, high) 范围内的随机浮点数（low、high都是自己给定的）"
   ]
  },
  {
   "cell_type": "code",
   "execution_count": 11,
   "id": "e616d1a3",
   "metadata": {},
   "outputs": [
    {
     "name": "stdout",
     "output_type": "stream",
     "text": [
      "数组a的内容为：\n",
      "[[3.6847352  4.66807511]\n",
      " [6.42750204 5.22615451]\n",
      " [4.24097064 5.65892935]]\n"
     ]
    }
   ],
   "source": [
    "# 先导包\n",
    "import numpy as np\n",
    "\n",
    "# 使用random.uniform方法得到均匀分布数组\n",
    "a = np.random.uniform(low=3, high=7, size=(3,2))\n",
    "print(f\"数组a的内容为：\")\n",
    "print(a)"
   ]
  },
  {
   "cell_type": "markdown",
   "id": "6ca0e438",
   "metadata": {},
   "source": [
    "#### 1.1.8.4 numpy.random.randint方法"
   ]
  },
  {
   "cell_type": "raw",
   "id": "2b6940dd",
   "metadata": {},
   "source": [
    "语法：np.random.randint(low, high=None, size=None)\n",
    "\n",
    "参数： low：生成随机整数的下界（包含）。\n",
    "     high：可选，生成随机整数的上界（不包含）。如果未提供，将生成 [0, low) 范围内的整数。\n",
    "     size：可选，指定输出数组的形状。可以是整数或元组。\n",
    "     \n",
    "功能：生成在[low, high) 内的随机整数\n",
    "\n",
    "注：请注意上述内容，如果未提供high，将生成 [0, low) 范围内的整数！！"
   ]
  },
  {
   "cell_type": "code",
   "execution_count": 12,
   "id": "071f5b1e",
   "metadata": {},
   "outputs": [
    {
     "name": "stdout",
     "output_type": "stream",
     "text": [
      "数组a的内容为：\n",
      "[[5 9 2]\n",
      " [3 1 5]]\n",
      "数组b的内容为：\n",
      "[[1 2]\n",
      " [4 0]\n",
      " [4 4]]\n"
     ]
    }
   ],
   "source": [
    "# 先导包\n",
    "import numpy as np\n",
    "\n",
    "# 使用np.random.randint方法创建 [1, 10) 之间的，形状为 (2, 3) 的二维数组\n",
    "a = np.random.randint(low=1, high=10, size=(2, 3))\n",
    "print(f\"数组a的内容为：\")\n",
    "print(a)\n",
    "\n",
    "# 因为没有提供上界high，所以随机整数的范围在[0,low) ，即[0, 5)\n",
    "b = np.random.randint(low=5, size=(3, 2))\n",
    "print(f\"数组b的内容为：\")\n",
    "print(b)"
   ]
  },
  {
   "cell_type": "markdown",
   "id": "0ef1fd97",
   "metadata": {},
   "source": [
    "#### 1.1.8.5 练习：使用plt.hist创建直方图，验证上述的np.random.uniform方法是否符合均匀分布"
   ]
  },
  {
   "cell_type": "code",
   "execution_count": 13,
   "id": "17f10151",
   "metadata": {},
   "outputs": [
    {
     "data": {
      "image/png": "[encoded data removed]",
      "text/plain": [
       "<Figure size 2400x960 with 1 Axes>"
      ]
     },
     "metadata": {},
     "output_type": "display_data"
    }
   ],
   "source": [
    "# 先导包\n",
    "import numpy as np\n",
    "import matplotlib.pyplot as plt\n",
    "\n",
    "# 创建随机数组（5000个元素），等待验证\n",
    "random_ary = np.random.uniform(3, 7, 5000)\n",
    "\n",
    "# 创建画布\n",
    "plt.figure(dpi=120, figsize=(20, 8))\n",
    "\n",
    "# 绘制直方图\n",
    "plt.hist(random_ary, bins=40)\n",
    "\n",
    "# 添加x、y轴的备注\n",
    "plt.xlabel(\"数字区间\") \n",
    "plt.ylabel(\"个数\")\n",
    "\n",
    "# 设置中文字体\n",
    "plt.rcParams['font.sans-serif'] = ['SimHei']  # 黑体\n",
    "plt.rcParams['axes.unicode_minus'] = False  # 解决负号显示问题\n",
    "\n",
    "# 显示网格\n",
    "plt.grid(True, alpha=0.6)\n",
    "\n",
    "# 显示图像\n",
    "plt.show()"
   ]
  },
  {
   "cell_type": "markdown",
   "id": "fc4943e0",
   "metadata": {},
   "source": [
    "### 1.1.9 正态分布（normal distribution）"
   ]
  },
  {
   "cell_type": "raw",
   "id": "fa9961fe",
   "metadata": {},
   "source": [
    "正态分布是一种概率分布，是具有两个参数μ和σ的连续型随机变量的分布，记作N(μ, σ)。\n",
    "\n",
    "第一参数μ是服从正态分布的随机变量的均值，第二参数σ是此随机变量的标准差。\n",
    "\n",
    "若均值为0，标准差为1，则称该正态分布为标准正态分布"
   ]
  },
  {
   "cell_type": "raw",
   "id": "363c46d3",
   "metadata": {},
   "source": [
    "1. 均值（Mean, μ）\n",
    "影响：均值决定了正态分布的中心位置。\n",
    "表现：不同均值的曲线在水平方向上移动，但形状保持不变。\n",
    "\n",
    "2. 标准差（Standard Deviation, σ）\n",
    "影响：标准差决定了正态分布的宽度。\n",
    "表现：标准差越大，曲线越宽，数据点分布越分散；标准差越小，曲线越窄，数据点分布越集中。\n",
    "\n",
    "注：标准差和方差可以作为一组数据离散程度的判断标准。标准差和方差越大，数据的离散程度越高，表示数据点远离均值的情况更常见。"
   ]
  },
  {
   "cell_type": "markdown",
   "id": "1d98f598",
   "metadata": {},
   "source": [
    "#### 1.1.9.1 np.random.normal方法"
   ]
  },
  {
   "cell_type": "raw",
   "id": "8a9fb7d3",
   "metadata": {},
   "source": [
    "语法：np.random.normal(loc=0.0, scale=1.0, size=None)\n",
    "\n",
    "参数：\n",
    "loc：均值（μ），默认值为 0.0。\n",
    "scale：标准差（σ），默认值为 1.0。\n",
    "size：输出数组的形状。\n",
    "\n",
    "功能：生成正态分布随机数"
   ]
  },
  {
   "cell_type": "code",
   "execution_count": 14,
   "id": "586b36b5",
   "metadata": {},
   "outputs": [],
   "source": [
    "# 先导包\n",
    "import numpy as np\n",
    "\n",
    "# 生成 100000 个均值为 0，标准差为 1 的正态分布随机数\n",
    "data = np.random.normal(loc=0, scale=1, size=100000)"
   ]
  },
  {
   "cell_type": "markdown",
   "id": "afc4ac2d",
   "metadata": {},
   "source": [
    "#### 1.1.9.1（续） 练习：使用plt.hist创建直方图，验证上述的np.random.normal方法所得data是否符合正态分布"
   ]
  },
  {
   "cell_type": "code",
   "execution_count": 15,
   "id": "8a651ecc",
   "metadata": {},
   "outputs": [
    {
     "data": {
      "image/png": "[encoded data removed]",
      "text/plain": [
       "<Figure size 2400x960 with 1 Axes>"
      ]
     },
     "metadata": {},
     "output_type": "display_data"
    }
   ],
   "source": [
    "# 先导包\n",
    "import numpy as np\n",
    "import matplotlib.pyplot as plt\n",
    "\n",
    "# 创建画布\n",
    "plt.figure(dpi=120, figsize=(20, 8))\n",
    "\n",
    "# 将上述data作为参数传入，绘制直方图\n",
    "plt.hist(data, bins=800)\n",
    "\n",
    "# 添加x、y轴的备注\n",
    "plt.xlabel(\"数字区间\") \n",
    "plt.ylabel(\"个数\")\n",
    "\n",
    "# 设置中文字体\n",
    "plt.rcParams['font.sans-serif'] = ['SimHei']  # 黑体\n",
    "plt.rcParams['axes.unicode_minus'] = False  # 解决负号显示问题\n",
    "\n",
    "# 显示网格\n",
    "plt.grid(True, alpha=0.6)\n",
    "\n",
    "# 显示图像\n",
    "plt.show()"
   ]
  },
  {
   "cell_type": "markdown",
   "id": "0e11fbc0",
   "metadata": {},
   "source": [
    "#### 1.1.9.2 np.random.randn方法"
   ]
  },
  {
   "cell_type": "raw",
   "id": "042a6adf",
   "metadata": {},
   "source": [
    "语法：np.random.randn(d0, d1, ..., dn)\n",
    "\n",
    "参数：输入维度的大小。\n",
    "\n",
    "功能：生成标准正态分布（均值为 0，标准差为 1）的随机数。"
   ]
  },
  {
   "cell_type": "code",
   "execution_count": 16,
   "id": "05ecc8de",
   "metadata": {},
   "outputs": [],
   "source": [
    "# 先导包\n",
    "import numpy as np\n",
    "\n",
    "# 生成一个 2x3 的标准正态分布随机数数组（如果太小，会有很大的偏差）\n",
    "data1 = np.random.randn(2, 3)\n",
    "\n",
    "# 生成一个 2x10000 的标准正态分布随机数数组\n",
    "data2 = np.random.randn(2, 10000)"
   ]
  },
  {
   "cell_type": "markdown",
   "id": "22333723",
   "metadata": {},
   "source": [
    "#### 1.1.9.3 np.mean 和 np.std 方法"
   ]
  },
  {
   "cell_type": "raw",
   "id": "85a322c6",
   "metadata": {},
   "source": [
    "语法：    np.mean(ary)   计算均值\n",
    "        np.std(ary)    计算标准差"
   ]
  },
  {
   "cell_type": "code",
   "execution_count": 17,
   "id": "933aa530",
   "metadata": {},
   "outputs": [
    {
     "name": "stdout",
     "output_type": "stream",
     "text": [
      "数据集data1的均值为：0.23054272511182117\n",
      "数据集data1的标准差为：1.093706239193337\n",
      "数据集data2的均值为：-0.00025988609585340824\n",
      "数据集data2的标准差为：0.996583890050643\n"
     ]
    }
   ],
   "source": [
    "# 先导包\n",
    "import numpy as np\n",
    "\n",
    "# 验证1.1.9.2中的示例数组data1的均值标准差\n",
    "mean_data1 = np.mean(data1)\n",
    "standard_deviation_data1 = np.std(data1)\n",
    "print(f\"数据集data1的均值为：{mean_data1}\")\n",
    "print(f\"数据集data1的标准差为：{standard_deviation_data1}\")\n",
    "\n",
    "# 验证1.1.9.2中的示例数组data2的均值标准差\n",
    "mean_data2 = np.mean(data2)\n",
    "standard_deviation_data2 = np.std(data2)\n",
    "print(f\"数据集data2的均值为：{mean_data2}\")\n",
    "print(f\"数据集data2的标准差为：{standard_deviation_data2}\")\n",
    "\n",
    "# 注：若均值与0、标准差与1的差距过大，说明样本数量太少。"
   ]
  },
  {
   "cell_type": "markdown",
   "id": "f44e452b",
   "metadata": {},
   "source": [
    "## 1.1.10 ndarray储存日期数据类型"
   ]
  },
  {
   "cell_type": "raw",
   "id": "470564ba",
   "metadata": {},
   "source": [
    "NumPy中的类型字符码（总结）\n",
    "np.bool_           字符码： ?\n",
    "np.int8/16/32/64      字符码： i1/i2/i4/i8\n",
    "np.uint8/16/32/64     字符码： u1/u2/u4/u8\n",
    "np.float16/32/64      字符码： f2/f4/f8\n",
    "np.complex64/128      字符码： c8/c16\n",
    "np.str_            字符码： U<字符数>\n",
    "np.datetime64        字符码： M8[精确度]"
   ]
  },
  {
   "cell_type": "code",
   "execution_count": 18,
   "id": "6ecacd9c",
   "metadata": {},
   "outputs": [
    {
     "name": "stdout",
     "output_type": "stream",
     "text": [
      "时间数组a的内容为：\n",
      "['2011-01-01' '2011' '2012-01-01' '2012-02' '2012-02-01 10:10:00']\n",
      "时间数组a的数据类型为：<U19\n",
      "\n",
      "将时间数组a的精确度确认到天，记为时间数组b，结果为：\n",
      "['2011-01-01' '2011-01-01' '2012-01-01' '2012-02-01' '2012-02-01']\n",
      "时间数组b的数据类型为：datetime64[D]\n",
      "\n",
      "\n",
      "将时间数组a的精确度确认到秒，记为时间数组c，结果为：\n",
      "['2011-01-01T00:00:00' '2011-01-01T00:00:00' '2012-01-01T00:00:00'\n",
      " '2012-02-01T00:00:00' '2012-02-01T10:10:00']\n",
      "时间数组c的数据类型为：datetime64[s]\n",
      "\n",
      "2011-01-01 到 2012-02-01 间隔 396 days\n"
     ]
    }
   ],
   "source": [
    "# 先导包\n",
    "import numpy as np\n",
    "\n",
    "# 测试数组中存储日期数据类型\n",
    "dates = ['2011-01-01', \"2011\", \"2012-01-01\", \"2012-02\", \"2012-02-01 10:10:00\"]\n",
    "a = np.array(dates)\n",
    "print(f\"时间数组a的内容为：\\n{a}\\n时间数组a的数据类型为：{a.dtype}\")\n",
    "# 这里的 <U19 指的是 不超过 19个Unicode 字符（2012-02-01 10:10:00 就有19个字符）\n",
    "\n",
    "# 类型转换，这里的 M8[D] 中的M8指的是数据类型datetime，[D]表示精确到天\n",
    "b = a.astype(\"M8[D]\")\n",
    "print(f\"\\n将时间数组a的精确度确认到天，记为时间数组b，结果为：\\n{b}\\n时间数组b的数据类型为：{b.dtype}\\n\")\n",
    "\n",
    "# 同理也有年[Y]，月[M]，日[D]，时[h]，分[m]，秒[s]，毫秒[ms]，微秒[us]，纳秒[ns]\n",
    "c = a.astype(\"M8[s]\")\n",
    "print(f\"\\n将时间数组a的精确度确认到秒，记为时间数组c，结果为：\\n{c}\\n时间数组c的数据类型为：{c.dtype}\\n\")\n",
    "\n",
    "# 也可进行时间的计算，如：\n",
    "print(f\"2011-01-01 到 2012-02-01 间隔 {b[-1] - b[0]}\")   # b[0] 对应 2011-01-01，b[-1] 对应 2012-02-01"
   ]
  },
  {
   "cell_type": "markdown",
   "id": "3db9eb35",
   "metadata": {},
   "source": [
    "### 1.1.11 自定义复合数据类型"
   ]
  },
  {
   "cell_type": "raw",
   "id": "6583072a",
   "metadata": {},
   "source": [
    "NumPy中的类型字符码（总结）\n",
    "np.bool_           字符码： ?\n",
    "np.int8/16/32/64      字符码： i1/i2/i4/i8\n",
    "np.uint8/16/32/64     字符码： u1/u2/u4/u8\n",
    "np.float16/32/64      字符码： f2/f4/f8\n",
    "np.complex64/128      字符码： c8/c16\n",
    "np.str_            字符码： U<字符数>\n",
    "np.datetime64        字符码： M8[精确度]"
   ]
  },
  {
   "cell_type": "raw",
   "id": "110e83c2",
   "metadata": {},
   "source": [
    "方法一：\n",
    "1.准备数据，这里要以元组的形式传参\n",
    "变量 = [(), (), ..., ()]\n",
    "\n",
    "2.创建数组，在内部指定dtype，这里的dtype应当依次描述可容纳元素的类型，需要一一对应，比如：\n",
    "\n",
    "U2表示Unicode字符 最多 出现两个\n",
    "int32表示整数类型\n",
    "3int32表示三个整数"
   ]
  },
  {
   "cell_type": "code",
   "execution_count": 19,
   "id": "3d597479",
   "metadata": {},
   "outputs": [
    {
     "name": "stdout",
     "output_type": "stream",
     "text": [
      "成绩数组的内容为：\n",
      "[('zs', [91, 78, 86], 19) ('ls', [90, 88, 87], 20)\n",
      " ('ww', [98, 94, 93], 19)]\n",
      "\n",
      "李四的成绩为:[90 88 87]\n"
     ]
    }
   ],
   "source": [
    "# 先导包\n",
    "import numpy as np\n",
    "\n",
    "# 准备数据\n",
    "data = [(\"zs\", [91, 78, 86], 19), (\"ls\", [90, 88, 87], 20), (\"ww\", [98, 94, 93], 19)]\n",
    "\n",
    "# 使用方法一创建数组ary_grade\n",
    "ary_grade = np.array(data, dtype=\"U2, 3int32, int32\") # U2表示Unicode字符最多出现两个，3int32表示三个整数，int32表示整数类型，需一一对应\n",
    "print(f\"成绩数组的内容为：\\n{ary_grade}\")\n",
    "# 注：这里U2如果改成U1，则只显示第一个字符，用于上述代码就是z,l,w。如果名字有三个字，则改成U3即可。\n",
    "\n",
    "# 取到李四（ls）的成绩 : 通过下标索引可以取到，李四是第二个对应下标索引1，成绩在第二栏对应下标索引1，则ary_grade[1][1]即可取到\n",
    "print(f\"\\n李四的成绩为:{ary_grade[1][1]}\")"
   ]
  },
  {
   "cell_type": "raw",
   "id": "fca905c0",
   "metadata": {},
   "source": [
    "方法二：\n",
    "1.准备数据，这里要以元组的形式传参\n",
    "变量 = [(), (), ..., ()]\n",
    "\n",
    "2.创建数组，在内部指定dtype，这里的dtype传入列表，列表内为元组，每个元组第一个是准备数据的标签，第二个为指定数据类型\n",
    "\n",
    "U2表示Unicode字符 最多 出现两个\n",
    "int32表示整数类型\n",
    "3int32表示三个整数"
   ]
  },
  {
   "cell_type": "code",
   "execution_count": 20,
   "id": "b6d6040f",
   "metadata": {},
   "outputs": [
    {
     "name": "stdout",
     "output_type": "stream",
     "text": [
      "成绩数组的内容为：\n",
      "[('zs', [91, 78, 86], 19) ('ls', [90, 88, 87], 20)\n",
      " ('ww', [98, 94, 93], 19)]\n",
      "\n",
      "李四的成绩为:[90 88 87]\n",
      "李四的成绩为:[90 88 87]\n"
     ]
    }
   ],
   "source": [
    "# 先导包\n",
    "import numpy as np\n",
    "\n",
    "# 准备数据\n",
    "data = [(\"zs\", [91, 78, 86], 19), (\"ls\", [90, 88, 87], 20), (\"ww\", [98, 94, 93], 19)]\n",
    "\n",
    "# 使用方法二创建数组ary_grade\n",
    "ary_grade = np.array(data, dtype=[(\"name\", \"U2\"), (\"scores\", \"3int32\"), (\"age\", \"int32\")])\n",
    "print(f\"成绩数组的内容为：\\n{ary_grade}\")\n",
    "\n",
    "# 取到李四的成绩 ： 通过下标索引，或者通过定义的名称都可以取到\n",
    "print(f\"\\n李四的成绩为:{ary_grade[1][1]}\")\n",
    "print(f\"李四的成绩为:{ary_grade[1]['scores']}\")"
   ]
  },
  {
   "cell_type": "raw",
   "id": "de210c06",
   "metadata": {},
   "source": [
    "方法三\n",
    "1.准备数据，这里要以元组的形式传参\n",
    "变量 = [(), (), ..., ()]\n",
    "\n",
    "2.创建数组，在内部指定dtype，语法：dtype={\"names\":[内容名称], \"formats\":[元素类型]}\n",
    "\n",
    "U2表示Unicode字符 最多 出现两个\n",
    "int32表示整数类型\n",
    "3int32表示三个整数"
   ]
  },
  {
   "cell_type": "code",
   "execution_count": 21,
   "id": "85dd2ba4",
   "metadata": {},
   "outputs": [
    {
     "name": "stdout",
     "output_type": "stream",
     "text": [
      "成绩数组的内容为：\n",
      "[('zs', [91, 78, 86], 19) ('ls', [90, 88, 87], 20)\n",
      " ('ww', [98, 94, 93], 19)]\n",
      "\n",
      "李四的成绩为:[90 88 87]\n",
      "李四的成绩为:[90 88 87]\n"
     ]
    }
   ],
   "source": [
    "# 先导包\n",
    "import numpy as np\n",
    "\n",
    "# 准备数据\n",
    "data = [(\"zs\", [91, 78, 86], 19), (\"ls\", [90, 88, 87], 20), (\"ww\", [98, 94, 93], 19)]\n",
    "\n",
    "# 使用方法三创建数组ary_grade\n",
    "ary_grade = np.array(data, dtype={\"names\":[\"name\", \"scores\", \"age\"], \"formats\": [\"U2\", \"3int32\", \"int32\"]})\n",
    "print(f\"成绩数组的内容为：\\n{ary_grade}\")\n",
    "\n",
    "# 取到李四的成绩 ： 通过下标索引，或者通过定义的名称都可以取到\n",
    "print(f\"\\n李四的成绩为:{ary_grade[1][1]}\")\n",
    "print(f\"李四的成绩为:{ary_grade[1]['scores']}\")"
   ]
  },
  {
   "cell_type": "markdown",
   "id": "cfad25fa",
   "metadata": {},
   "source": [
    "## 1.2 ndarray属性"
   ]
  },
  {
   "cell_type": "markdown",
   "id": "dc6aa711",
   "metadata": {},
   "source": [
    "### 1.2.1 形状（shape）、维度数（ndim）、元素个数（size）"
   ]
  },
  {
   "cell_type": "raw",
   "id": "e59568db",
   "metadata": {},
   "source": [
    "语法：数组.shape\n",
    "作用：查询数组的形状，并且可以通过返回值得出维度数(ndim)和元素个数(size)\n",
    "如：返回值是(6,)，表明是一维数组（向量），元素个数为6个\n",
    "   返回值是(2, 4)，表明是二维数组（矩阵），元素个数为8个\n",
    "   \n",
    "语法：数组.ndim\n",
    "作用：查询数组的维度数\n",
    "\n",
    "语法：数组.size\n",
    "作用：查询数组的元素个数"
   ]
  },
  {
   "cell_type": "code",
   "execution_count": 22,
   "id": "aa5ecc77",
   "metadata": {},
   "outputs": [
    {
     "name": "stdout",
     "output_type": "stream",
     "text": [
      "[[ 81  90  80  86  80]\n",
      " [ 88  83  84  98  89]\n",
      " [ 98  92  83  97  83]\n",
      " [ 91  94  98  96  85]\n",
      " [ 83  80  88  93  91]\n",
      " [ 91  81  94  97  96]\n",
      " [ 89  83  88  95  91]\n",
      " [ 95  98 100  84 100]]\n",
      "数组scores的形状为：(8, 5)，维度数为：2，元素个数为：40个\n"
     ]
    }
   ],
   "source": [
    "# 使用上面得到的名为 scores 的数组\n",
    "print(scores)\n",
    "print(f\"数组scores的形状为：{scores.shape}，维度数为：{scores.ndim}，元素个数为：{scores.size}个\")"
   ]
  },
  {
   "cell_type": "code",
   "execution_count": 23,
   "id": "f4599296",
   "metadata": {},
   "outputs": [
    {
     "name": "stdout",
     "output_type": "stream",
     "text": [
      "数组a的内容为：\n",
      "[[1 2 3]\n",
      " [4 5 6]]\n",
      "数组b的内容为：\n",
      "[1 2 3 4]\n",
      "数组c的内容为：\n",
      "[[[1 2 3]\n",
      "  [4 5 6]]\n",
      "\n",
      " [[1 2 3]\n",
      "  [4 5 6]]]\n",
      "数组a的形状为：(2, 3)，数组b的形状为：(4,)，数组c的形状为：(2, 2, 3)\n"
     ]
    }
   ],
   "source": [
    "# 先导包\n",
    "import numpy as np\n",
    "\n",
    "# 创建三个数组以供演示\n",
    "a = np.array([[1, 2, 3], [4, 5, 6]])  # 二维数组\n",
    "b = np.array([1, 2, 3, 4])  # 一维数组\n",
    "c = np.array([[[1, 2, 3],[4, 5, 6]], [[1, 2, 3], [4, 5, 6]]])  # 三维数组\n",
    "print(\"数组a的内容为：\")\n",
    "print(a)\n",
    "print(\"数组b的内容为：\")\n",
    "print(b)\n",
    "print(\"数组c的内容为：\")\n",
    "print(c)\n",
    "\n",
    "# 查询各数组的形状\n",
    "print(f\"数组a的形状为：{a.shape}，数组b的形状为：{b.shape}，数组c的形状为：{c.shape}\")"
   ]
  },
  {
   "cell_type": "markdown",
   "id": "84552be8",
   "metadata": {},
   "source": [
    "### 1.2.2 元素类型（dtype）、元素字节数（itemsize）"
   ]
  },
  {
   "cell_type": "raw",
   "id": "e07b848c",
   "metadata": {},
   "source": [
    "语法：数组.dtype\n",
    "作用：查询数组的元素类型，并且可以通过返回值得出元素字节数(itemsize)\n",
    "\n",
    "语法：数组.itemsize\n",
    "作用：查询数组的元素字节数\n",
    "\n",
    "注：元素类型最后的数字部分 = 元素字节数 × 8\n",
    "    因为 1 字节 = 8 位，元素类型最后的数字部分表示该类型在内存中使用的位数\n",
    "    \n",
    "注：Numpy数组是同质数组，即所有元素的数据类型必须相同。"
   ]
  },
  {
   "cell_type": "code",
   "execution_count": 24,
   "id": "c1846669",
   "metadata": {},
   "outputs": [
    {
     "name": "stdout",
     "output_type": "stream",
     "text": [
      "[[ 81  90  80  86  80]\n",
      " [ 88  83  84  98  89]\n",
      " [ 98  92  83  97  83]\n",
      " [ 91  94  98  96  85]\n",
      " [ 83  80  88  93  91]\n",
      " [ 91  81  94  97  96]\n",
      " [ 89  83  88  95  91]\n",
      " [ 95  98 100  84 100]]\n",
      "数组scores元素的数据类型为：int32，元素字节数为：4\n"
     ]
    }
   ],
   "source": [
    "# 使用上面得到的名为 scores 的数组\n",
    "print(scores)\n",
    "print(f\"数组scores元素的数据类型为：{scores.dtype}，元素字节数为：{scores.itemsize}\")"
   ]
  },
  {
   "cell_type": "markdown",
   "id": "42ac860f",
   "metadata": {},
   "source": [
    "### 1.2.3 ndarray数组的其它属性"
   ]
  },
  {
   "cell_type": "raw",
   "id": "7cb8c27e",
   "metadata": {},
   "source": [
    "ndarray类的所有属性（使用时只需要用 数组.待查询属性 即可）\n",
    "\n",
    "常用属性\n",
    "shape - 形状\n",
    "dtype - 元素类型\n",
    "size - 元素数量\n",
    "ndim - 维度数\n",
    "itemsize - 元素字节数\n",
    "\n",
    "其它属性\n",
    "nbytes - 总字节数\n",
    "real - 复数数组的实部数组\n",
    "imag - 复数数组的虚部数组\n",
    "T - 数组对象的转置视图\n",
    "flat - 扁平迭代器"
   ]
  },
  {
   "cell_type": "code",
   "execution_count": 25,
   "id": "2877d54d",
   "metadata": {},
   "outputs": [
    {
     "name": "stdout",
     "output_type": "stream",
     "text": [
      "数组array的内容是：\n",
      "[[1.+1.j 2.+4.j 3.+7.j]\n",
      " [4.+2.j 5.+5.j 6.+8.j]\n",
      " [7.+3.j 8.+6.j 9.+9.j]]\n",
      "数组array的维度是：(3, 3)\n",
      "数组array的元素类型是：complex128\n",
      "数组array的元素数量是：9\n",
      "数组array的维数是：2\n",
      "数组array的元素字节数是：16\n",
      "数组array的总字节数是：144\n",
      "数组array的实部数组是：\n",
      "[[1. 2. 3.]\n",
      " [4. 5. 6.]\n",
      " [7. 8. 9.]]\n",
      "数组array的虚部数组是：\n",
      "[[1. 4. 7.]\n",
      " [2. 5. 8.]\n",
      " [3. 6. 9.]]\n",
      "数组array的转置视图是：\n",
      "[[1.+1.j 4.+2.j 7.+3.j]\n",
      " [2.+4.j 5.+5.j 8.+6.j]\n",
      " [3.+7.j 6.+8.j 9.+9.j]]\n",
      "数组array的元素铺平后为：\n",
      "[(1+1j), (2+4j), (3+7j), (4+2j), (5+5j), (6+8j), (7+3j), (8+6j), (9+9j)]\n"
     ]
    }
   ],
   "source": [
    "# ndarray类的属性查询\n",
    "import numpy as np\n",
    "array = np.array([[1 + 1j, 2 + 4j, 3 + 7j],\n",
    "                  [4 + 2j, 5 + 5j, 6 + 8j],\n",
    "                  [7 + 3j, 8 + 6j, 9 + 9j]])   # NumPy中约定复数部分用j，这是语言的约定（防止与电流i混淆）\n",
    "print(\"数组array的内容是：\")\n",
    "print(array)\n",
    "print(f\"数组array的维度是：{array.shape}\")\n",
    "print(f\"数组array的元素类型是：{array.dtype}\")\n",
    "print(f\"数组array的元素数量是：{array.size}\")\n",
    "print(f\"数组array的维数是：{array.ndim}\")\n",
    "print(f\"数组array的元素字节数是：{array.itemsize}\")\n",
    "print(f\"数组array的总字节数是：{array.nbytes}\")  # 元素数量×元素字节数=总字节数\n",
    "print(\"数组array的实部数组是：\")\n",
    "print(array.real)\n",
    "print(\"数组array的虚部数组是：\")\n",
    "print(array.imag)\n",
    "print(\"数组array的转置视图是：\")\n",
    "print(array.T)\n",
    "print(\"数组array的元素铺平后为：\")\n",
    "print([x for x in array.flat])  # [x for x in 数组.flat] 是列表推导式，用于遍历列表中的元素"
   ]
  },
  {
   "cell_type": "markdown",
   "id": "81019390",
   "metadata": {},
   "source": [
    "## 1.3 数组的常用操作"
   ]
  },
  {
   "cell_type": "markdown",
   "id": "58d9ffc0",
   "metadata": {},
   "source": [
    "### 1.3.1 数组的索引、切片（视图）"
   ]
  },
  {
   "cell_type": "raw",
   "id": "24918fc9",
   "metadata": {},
   "source": [
    "ndarray数组切片操作  \n",
    "语法：数组对象[起始位置: 终止位置: 步长, ... , 起始位置: 终止位置: 步长]   \n",
    "默认步长为1"
   ]
  },
  {
   "cell_type": "code",
   "execution_count": 26,
   "id": "7d619c25",
   "metadata": {},
   "outputs": [],
   "source": [
    "# 先导包\n",
    "import numpy as np\n",
    "\n",
    "# 创建三个数组\n",
    "ary1 = np.arange(1, 11)\n",
    "ary2 = np.array([[1, 2, 3, 4, 5], [6, 7, 8, 9, 10]])\n",
    "ary3 = np.array([[[1, 2, 3], [4, 5, 6]], [[7, 8, 9], [10, 11, 12]], [[13, 14, 15], [16, 17, 18]]])"
   ]
  },
  {
   "cell_type": "code",
   "execution_count": 27,
   "id": "73e6d913",
   "metadata": {},
   "outputs": [
    {
     "name": "stdout",
     "output_type": "stream",
     "text": [
      "数组ary1的内容是：\n",
      "[ 1  2  3  4  5  6  7  8  9 10]\n",
      "数组ary1修改后的内容是：\n",
      "[ 1  2 37  4  5  6  7  8  9 10]\n",
      "使用下标索引接收到了元素37\n",
      "数组ary1的反转是：\n",
      "[10  9  8  7  6  5  4 37  2  1]\n"
     ]
    }
   ],
   "source": [
    "# 对上述ary1数组进行索引、切片相关操作\n",
    "\n",
    "# 0.验证ary1的内容\n",
    "print(\"数组ary1的内容是：\")\n",
    "print(ary1)\n",
    "\n",
    "# 1.将ary1的 第三个元素（下标为2） 改为37\n",
    "ary1[2] = 37\n",
    "print(\"数组ary1修改后的内容是：\")\n",
    "print(ary1)\n",
    "\n",
    "# 2.取得修改后的元素37，并用变量接收\n",
    "element = ary1[2]\n",
    "print(f\"使用下标索引接收到了元素{element}\")\n",
    "\n",
    "# 3.将新的ary1反置，得到ary1_reverse\n",
    "ary1_reverse = ary1[: : -1]\n",
    "print(\"数组ary1的反转是：\")\n",
    "print(ary1_reverse)"
   ]
  },
  {
   "cell_type": "code",
   "execution_count": 28,
   "id": "078971ed",
   "metadata": {},
   "outputs": [
    {
     "name": "stdout",
     "output_type": "stream",
     "text": [
      "数组ary2的内容是：\n",
      "[[ 1  2  3  4  5]\n",
      " [ 6  7  8  9 10]]\n",
      "通过上述切片操作得到的内容为：[6 7 8]\n",
      "通过上述切片操作得到的内容为：[6 7 8]\n",
      "通过上述索引操作得到的内容为：[ 6  7  8  9 10]\n",
      "通过上述切片操作得到的内容为：\n",
      "[[3 4]\n",
      " [8 9]]\n",
      "通过上述切片操作得到的内容为：\n",
      "[[ 1  3  5]\n",
      " [ 6  8 10]]\n"
     ]
    }
   ],
   "source": [
    "# 对上述ary2数组进行索引、切片相关操作\n",
    "\n",
    "# 0.验证ary2的内容\n",
    "print(\"数组ary2的内容是：\")\n",
    "print(ary2)\n",
    "\n",
    "# 1.获取ary2数组的第二行内容的前三列数据（即6 7 8）\n",
    "# 方法一：先取行，再取列\n",
    "target_data1 = ary2[1][0: 3: 1]\n",
    "print(f\"通过上述切片操作得到的内容为：{target_data1}\")\n",
    "\n",
    "# 方法二：在同一个索引中进行，逗号前是行，逗号后是列\n",
    "target_data2 = ary2[1, 0: 3: 1]\n",
    "print(f\"通过上述切片操作得到的内容为：{target_data2}\")\n",
    "\n",
    "# 2.获取ary2数组的第二行内容全部\n",
    "target_data3 = ary2[1]\n",
    "print(f\"通过上述索引操作得到的内容为：{target_data3}\")\n",
    "\n",
    "# 3.获取ary2数组的第三、四列内容全部\n",
    "target_data4 = ary2[: , 2: 4: 1]\n",
    "print(\"通过上述切片操作得到的内容为：\")\n",
    "print(target_data4)\n",
    "\n",
    "# 4.二维数组的切片，用逗号隔开，左边选行，右边选列，输出的内容类似高等代数中的“余子式”，如：a[ : : , : : ]\n",
    "target_data5 = ary2[: , : : 2]   # 得到的内容为1 3 5/6 8 10\n",
    "print(\"通过上述切片操作得到的内容为：\")\n",
    "print(target_data5)"
   ]
  },
  {
   "cell_type": "code",
   "execution_count": 29,
   "id": "dce6cd97",
   "metadata": {},
   "outputs": [
    {
     "name": "stdout",
     "output_type": "stream",
     "text": [
      "数组ary3的内容是：\n",
      "[[[ 1  2  3]\n",
      "  [ 4  5  6]]\n",
      "\n",
      " [[ 7  8  9]\n",
      "  [10 11 12]]\n",
      "\n",
      " [[13 14 15]\n",
      "  [16 17 18]]]\n",
      "要拿到数字6，应当拿第一页，第二行，第三列，对应下标为[0][1][2]，可拿到：6\n",
      "拿到数字6还可以简写为：ary3[0, 1, 2]\n",
      "修改后的数组ary3的内容是：\n",
      "[[[ 1  2  3]\n",
      "  [ 4  5  6]]\n",
      "\n",
      " [[ 9  8  7]\n",
      "  [10 11 12]]\n",
      "\n",
      " [[13 14 15]\n",
      "  [16 17 18]]]\n"
     ]
    }
   ],
   "source": [
    "# 对上述ary3数组进行索引相关操作\n",
    "\n",
    "# 0.验证ary3的内容\n",
    "print(\"数组ary3的内容是：\")\n",
    "print(ary3)\n",
    "\n",
    "# 1.获取ary3中的数字6\n",
    "print(f\"要拿到数字6，应当拿第一页，第二行，第三列，对应下标为[0][1][2]，可拿到：{ary3[0][1][2]}\")\n",
    "print(f\"拿到数字{ary3[0, 1, 2]}还可以简写为：ary3[0, 1, 2]\")\n",
    "\n",
    "# 2.将[7 8 9]倒置为[9 8 7]\n",
    "ary3[1, 0] = ary3[1, 0][: : -1]\n",
    "print(\"修改后的数组ary3的内容是：\")\n",
    "print(ary3)"
   ]
  },
  {
   "cell_type": "raw",
   "id": "89f364f5",
   "metadata": {},
   "source": [
    "应当注意，数组的序列切片操作得到的不是原数组的副本，而是视图，即双方共享数据，改变一方也会使得另一方发生变化，如："
   ]
  },
  {
   "cell_type": "code",
   "execution_count": 30,
   "id": "a2e439aa",
   "metadata": {},
   "outputs": [
    {
     "name": "stdout",
     "output_type": "stream",
     "text": [
      "原数组的内容是：\n",
      "[1 2 3 4 5 6]\n",
      "通过序列切片操作得到的视图为：\n",
      "[1 2]\n",
      "变化后的原数组的内容是：\n",
      "[    1 37628     3     4     5     6]\n",
      "通过序列切片操作得到的视图内容为：\n",
      "[    1 37628]\n",
      "通过序列切片操作得到的视图内容进行改变后表现为：\n",
      "[ 1 37]\n",
      "现在的原数组的内容是：\n",
      "[ 1 37  3  4  5  6]\n"
     ]
    }
   ],
   "source": [
    "# 先导包\n",
    "import numpy as np\n",
    "\n",
    "# 创建演示数组\n",
    "array = np.arange(1, 7)\n",
    "\n",
    "# 输出演示原数组\n",
    "print(\"原数组的内容是：\")\n",
    "print(array)\n",
    "\n",
    "# 进行序列切片操作\n",
    "view = array[0 : 2]\n",
    "print(\"通过序列切片操作得到的视图为：\")\n",
    "print(view)\n",
    "\n",
    "# 1.演示改变原数组内容，视图内容是否变化的示例代码\n",
    "\n",
    "# 改变原数组的内容\n",
    "array[1] = 37628\n",
    "\n",
    "# 输出新的演示原数组\n",
    "print(\"变化后的原数组的内容是：\")\n",
    "print(array)\n",
    "\n",
    "# 观察视图内容是否随之变化\n",
    "print(\"通过序列切片操作得到的视图内容为：\")\n",
    "print(view)\n",
    "\n",
    "# 2.演示改变视图内容，原数组是否变化的示例代码\n",
    "\n",
    "# 改变视图内容\n",
    "view[1] = 37\n",
    "\n",
    "# 输出新的视图内容\n",
    "print(\"通过序列切片操作得到的视图内容进行改变后表现为：\")\n",
    "print(view)\n",
    "\n",
    "# 观察原数组是否随之变化\n",
    "print(\"现在的原数组的内容是：\")\n",
    "print(array)"
   ]
  },
  {
   "cell_type": "markdown",
   "id": "d792c837",
   "metadata": {},
   "source": [
    "### 1.3.2 对三维数组进行遍历"
   ]
  },
  {
   "cell_type": "code",
   "execution_count": 31,
   "id": "43408108",
   "metadata": {},
   "outputs": [
    {
     "name": "stdout",
     "output_type": "stream",
     "text": [
      "待遍历数组的内容是：\n",
      "[[[ 1  2  3]\n",
      "  [ 4  5  6]]\n",
      "\n",
      " [[ 7  8  9]\n",
      "  [10 11 12]]\n",
      "\n",
      " [[13 14 15]\n",
      "  [16 17 18]]]\n",
      "1\n",
      "2\n",
      "3\n",
      "4\n",
      "5\n",
      "6\n",
      "7\n",
      "8\n",
      "9\n",
      "10\n",
      "11\n",
      "12\n",
      "13\n",
      "14\n",
      "15\n",
      "16\n",
      "17\n",
      "18\n"
     ]
    }
   ],
   "source": [
    "# 先导包\n",
    "import numpy as np\n",
    "\n",
    "# 创建待遍历三维数组ary_use_for_over\n",
    "ary_use_for_over = np.array([[[1, 2, 3], [4, 5, 6]], [[7, 8, 9], [10, 11, 12]], [[13, 14, 15], [16, 17, 18]]])\n",
    "print(\"待遍历数组的内容是：\")\n",
    "print(ary_use_for_over)\n",
    "\n",
    "# 使用for循环，配合上述索引、切片操作进行遍历\n",
    "for page in range(ary_use_for_over.shape[0]):  # 0, 1, 2\n",
    "    for row in range(ary_use_for_over.shape[1]):  # 0, 1\n",
    "        for column in range(ary_use_for_over.shape[2]): # 0, 1, 2\n",
    "            print(ary_use_for_over[page, row, column])"
   ]
  },
  {
   "cell_type": "markdown",
   "id": "d8faad45",
   "metadata": {},
   "source": [
    "### 1.3.3 数组的掩码操作"
   ]
  },
  {
   "cell_type": "code",
   "execution_count": 32,
   "id": "acb3c0ff",
   "metadata": {},
   "outputs": [
    {
     "name": "stdout",
     "output_type": "stream",
     "text": [
      "[1 3 5 7 9]\n"
     ]
    }
   ],
   "source": [
    "# ndarray的掩码操作(mask可以是任意名)\n",
    "\n",
    "# 先导包\n",
    "import numpy as np\n",
    "\n",
    "# 演示掩码操作\n",
    "a = np.arange(1, 10)\n",
    "mask = [True, False, True, False, True, False, True, False, True] # 可以把True当成一个洞，然后盖到数组上，就会显现出对应元素\n",
    "print(a[mask])   # 返回值为mask中对应True的部分"
   ]
  },
  {
   "cell_type": "code",
   "execution_count": 33,
   "id": "6e10444f",
   "metadata": {},
   "outputs": [
    {
     "name": "stdout",
     "output_type": "stream",
     "text": [
      "['37' '628' '515']\n"
     ]
    }
   ],
   "source": [
    "# 基于索引的掩码\n",
    "\n",
    "# 先导包\n",
    "import numpy as np\n",
    "\n",
    "# 准备数据\n",
    "dates = np.array([\"515\", \"37\", \"628\"])\n",
    "rank = [1, 2, 0]   # 对应\"37\", \"628\", \"515\"\n",
    "print(dates[rank])\n",
    "# 注：rank中的数字对应的是目标对应的下标索引，比如rank[0] = 1,则第一个就是下标为1的，即\"37\"\n",
    "# 注：可以理解为：rank是一个框，rank内的数字就是要在原数组取的顺序，比如1对应原数组第二个元素“37”"
   ]
  },
  {
   "cell_type": "raw",
   "id": "d8dddc63",
   "metadata": {},
   "source": [
    "应当注意，掩码操作得到的数组通常是副本而不是视图，即原数组的后续变化不会影响掩码操作所得数组，示例代码如下："
   ]
  },
  {
   "cell_type": "code",
   "execution_count": 34,
   "id": "a14eb79c",
   "metadata": {},
   "outputs": [
    {
     "name": "stdout",
     "output_type": "stream",
     "text": [
      "原数组的内容为：\n",
      "[1 2 3 4 5 6]\n",
      "通过掩码操作所得数组内容为：\n",
      "[4 5 6]\n",
      "改变后的原数组的内容为：\n",
      "[37  2  3  4  5  6]\n",
      "通过掩码操作所得数组内容为：\n",
      "[4 5 6]\n"
     ]
    }
   ],
   "source": [
    "# 先导包\n",
    "import numpy as np\n",
    "\n",
    "# 创建一个数组\n",
    "array = np.array([1, 2, 3, 4, 5, 6])\n",
    "\n",
    "# 演示原数组的内容\n",
    "print(\"原数组的内容为：\")\n",
    "print(array)\n",
    "\n",
    "# 创建掩码\n",
    "mask = array > 3\n",
    "\n",
    "# 应用掩码\n",
    "masked_array = array[mask]\n",
    "\n",
    "# 输出所得数组的内容\n",
    "print(\"通过掩码操作所得数组内容为：\")\n",
    "print(masked_array)\n",
    "\n",
    "# 对原数组进行改变\n",
    "array[0] = 37\n",
    "\n",
    "# 输出改变后的原数组内容\n",
    "print(\"改变后的原数组的内容为：\")\n",
    "print(array)\n",
    "\n",
    "# 观察新数组是否随之改变\n",
    "print(\"通过掩码操作所得数组内容为：\")\n",
    "print(masked_array)"
   ]
  },
  {
   "cell_type": "markdown",
   "id": "25b01580",
   "metadata": {},
   "source": [
    "#### 1.3.3.1 取100以内3的倍数（方法一）"
   ]
  },
  {
   "cell_type": "code",
   "execution_count": 35,
   "id": "150f5f27",
   "metadata": {},
   "outputs": [
    {
     "name": "stdout",
     "output_type": "stream",
     "text": [
      "[3, 6, 9, 12, 15, 18, 21, 24, 27, 30, 33, 36, 39, 42, 45, 48, 51, 54, 57, 60, 63, 66, 69, 72, 75, 78, 81, 84, 87, 90, 93, 96, 99]\n"
     ]
    }
   ],
   "source": [
    "# 创建一个空列表（为了输出时候省空间）\n",
    "num_list = []\n",
    "\n",
    "# 这里的else语句可以省略\n",
    "for num in range(1,101):\n",
    "    if num % 3 == 0:\n",
    "        num_list.append(num)\n",
    "    else:\n",
    "        continue\n",
    "\n",
    "# 输出num_list，即为3的倍数\n",
    "print(num_list)"
   ]
  },
  {
   "cell_type": "markdown",
   "id": "e6a2be95",
   "metadata": {},
   "source": [
    "#### 1.3.3.2 取100以内3的倍数（方法二）"
   ]
  },
  {
   "cell_type": "code",
   "execution_count": 36,
   "id": "350cb611",
   "metadata": {},
   "outputs": [
    {
     "name": "stdout",
     "output_type": "stream",
     "text": [
      "[ 3  6  9 12 15 18 21 24 27 30 33 36 39 42 45 48 51 54 57 60 63 66 69 72\n",
      " 75 78 81 84 87 90 93 96 99]\n"
     ]
    }
   ],
   "source": [
    "# 先导包\n",
    "import numpy as np\n",
    "\n",
    "# 创建数组ary，其中的元素即为1-100所有整数 \n",
    "ary = np.arange(1, 101)\n",
    "\n",
    "# 创建布尔数组，准备作为掩码使用\n",
    "mask = ary % 3 == 0  # 直接赋值，无需放入列表中\n",
    "\n",
    "# 使用布尔索引来筛选出能被 3 整除的元素\n",
    "print(ary[mask])"
   ]
  },
  {
   "cell_type": "markdown",
   "id": "bf41b104",
   "metadata": {},
   "source": [
    "#### 1.3.3.3 取100以内 3 和 7 的公倍数"
   ]
  },
  {
   "cell_type": "code",
   "execution_count": 37,
   "id": "495b423c",
   "metadata": {},
   "outputs": [
    {
     "name": "stdout",
     "output_type": "stream",
     "text": [
      "通过上述方法得到的布尔数组为：[False False False False False False False False False False False False\n",
      " False False False False False False False False  True False False False\n",
      " False False False False False False False False False False False False\n",
      " False False False False False  True False False False False False False\n",
      " False False False False False False False False False False False False\n",
      " False False  True False False False False False False False False False\n",
      " False False False False False False False False False False False  True\n",
      " False False False False False False False False False False False False\n",
      " False False False False]\n",
      "100以内 3 和 7 的所有公倍数为：[21 42 63 84]\n"
     ]
    }
   ],
   "source": [
    "# 先导包\n",
    "import numpy as np\n",
    "\n",
    "# 创建数组array，其中的元素为 1 到 100 的所有整数\n",
    "array = np.arange(1, 101)\n",
    "\n",
    "# 创建掩码，找出能被 3 和 7 整除的元素\n",
    "mask = (array % 3 == 0) & (array % 7 == 0)\n",
    "\n",
    "# 打印布尔掩码\n",
    "print(f\"通过上述方法得到的布尔数组为：{mask}\")\n",
    "\n",
    "# 使用掩码筛选出符合条件的元素\n",
    "print(f\"100以内 3 和 7 的所有公倍数为：{array[mask]}\")"
   ]
  },
  {
   "cell_type": "markdown",
   "id": "5fa7fa68",
   "metadata": {},
   "source": [
    "### 1.3.4 改变数组的形状（视图）"
   ]
  },
  {
   "cell_type": "raw",
   "id": "099e3788",
   "metadata": {},
   "source": [
    "注意： 变量接收的内容是原数组的视图，与原数组共享元素数据\n",
    "     如果变量名是原数组本身，即用原数组接收新的视图，则原数组会被改变，类比于a=1后再定义a=2，那么a=1会被覆盖"
   ]
  },
  {
   "cell_type": "markdown",
   "id": "d9d74042",
   "metadata": {},
   "source": [
    "#### 1.3.4.1 reshape方法"
   ]
  },
  {
   "cell_type": "raw",
   "id": "a426beda",
   "metadata": {},
   "source": [
    "语法一： 变量名 = 数组.reshape(d1, d2, ..., dn)\n",
    "语法二： 变量名 = 数组.reshape(shape)\n",
    "\n",
    "注：语法一和语法二是完全相同的，只是语法一以数字传参，语法二以元组传参，具体使用取决于个人习惯"
   ]
  },
  {
   "cell_type": "code",
   "execution_count": 38,
   "id": "4d62f531",
   "metadata": {},
   "outputs": [
    {
     "name": "stdout",
     "output_type": "stream",
     "text": [
      "一维数组的内容为：\n",
      "[1 2 3 4 5 6]\n",
      "语法一所得数组的内容为：\n",
      "[[1 2 3]\n",
      " [4 5 6]]\n",
      "语法二所得数组的内容为：\n",
      "[[1 2 3]\n",
      " [4 5 6]]\n"
     ]
    }
   ],
   "source": [
    "# 先导包\n",
    "import numpy as np\n",
    "\n",
    "# 创建演示数组\n",
    "array = np.array([1, 2, 3, 4, 5, 6])\n",
    "\n",
    "# 打印演示数组\n",
    "print(\"一维数组的内容为：\")\n",
    "print(array)\n",
    "\n",
    "# 使用语法一\n",
    "array1 = array.reshape(2, 3)\n",
    "\n",
    "# 使用语法二\n",
    "array2 = array.reshape((2, 3))\n",
    "\n",
    "# 观察区别（没有区别）\n",
    "print(\"语法一所得数组的内容为：\")\n",
    "print(array1)\n",
    "\n",
    "print(\"语法二所得数组的内容为：\")\n",
    "print(array2)"
   ]
  },
  {
   "cell_type": "markdown",
   "id": "ff52c0f5",
   "metadata": {},
   "source": [
    "##### 特殊使用规则：-1 的使用"
   ]
  },
  {
   "cell_type": "code",
   "execution_count": 39,
   "id": "df138f2e",
   "metadata": {},
   "outputs": [
    {
     "name": "stdout",
     "output_type": "stream",
     "text": [
      "数组ary1的内容为：\n",
      "[ 1  2  3  4  5  6  7  8  9 10 11 12 13 14 15]\n",
      "数组ary2的内容为：\n",
      "[[ 1  2  3]\n",
      " [ 4  5  6]\n",
      " [ 7  8  9]\n",
      " [10 11 12]\n",
      " [13 14 15]]\n",
      "数组ary3的内容为：\n",
      "[[ 1  2  3  4  5]\n",
      " [ 6  7  8  9 10]\n",
      " [11 12 13 14 15]]\n"
     ]
    }
   ],
   "source": [
    "# 先导包\n",
    "import numpy as np\n",
    "\n",
    "# 创建演示数组\n",
    "ary1 = np.arange(1, 16)\n",
    "print(\"数组ary1的内容为：\")\n",
    "print(ary1)\n",
    "\n",
    "# 使用-1\n",
    "ary2 = ary1.reshape(5, -1)   # 得到一个五行的数组，列数如何让程序自己算\n",
    "ary3 = ary1.reshape((-1, 5)) # 得到一个五列的数组，行数如何让程序自己算\n",
    "print(\"数组ary2的内容为：\")\n",
    "print(ary2)\n",
    "print(\"数组ary3的内容为：\")\n",
    "print(ary3)"
   ]
  },
  {
   "cell_type": "markdown",
   "id": "4daa1cc4",
   "metadata": {},
   "source": [
    "##### 练习：创建一维列向量"
   ]
  },
  {
   "cell_type": "code",
   "execution_count": 40,
   "id": "9d75cbcd",
   "metadata": {},
   "outputs": [
    {
     "name": "stdout",
     "output_type": "stream",
     "text": [
      "数组ary1的内容为：\n",
      "[1 2 3]\n",
      "数组ary2的内容为：\n",
      "[[1]\n",
      " [2]\n",
      " [3]]\n"
     ]
    }
   ],
   "source": [
    "# 先导包\n",
    "import numpy as np\n",
    "\n",
    "# 创建行向量\n",
    "ary1 = np.arange(1, 4)\n",
    "print(f\"数组ary1的内容为：\\n{ary1}\")\n",
    "\n",
    "# 创建列向量\n",
    "ary2 = ary1.reshape((-1,1))  # 这里 reshape(-1, 1) 也可以，括号内可以传入参数，也可以传入元组\n",
    "print(f\"数组ary2的内容为：\\n{ary2}\")"
   ]
  },
  {
   "cell_type": "markdown",
   "id": "2051dc43",
   "metadata": {},
   "source": [
    "#### 1.3.4.2 ravel方法"
   ]
  },
  {
   "cell_type": "raw",
   "id": "d084a0db",
   "metadata": {},
   "source": [
    "语法一：变量名 = 待展平数组.ravel()\n",
    "语法二：变量名 = np.ravel(待展平数组)\n",
    "\n",
    "功能：ravel()语法可以将数组“铺平”，即转变为一维数组(返回值为原数组的视图 )"
   ]
  },
  {
   "cell_type": "code",
   "execution_count": 41,
   "id": "570644b3",
   "metadata": {},
   "outputs": [
    {
     "name": "stdout",
     "output_type": "stream",
     "text": [
      "语法一所得数组的内容为：\n",
      "[1 2 3 4]\n",
      "语法二所得数组的内容为：\n",
      "[1 2 3 4]\n"
     ]
    }
   ],
   "source": [
    "# 先导包\n",
    "import numpy as np\n",
    "\n",
    "# 创建演示数组\n",
    "array = np.array([[1, 2], [3, 4]])\n",
    "\n",
    "# 使用语法一\n",
    "view1 = array.ravel()\n",
    "\n",
    "# 使用语法二\n",
    "view2 = np.ravel(array)\n",
    "\n",
    "# 观察区别（没有区别）\n",
    "print(\"语法一所得数组的内容为：\")\n",
    "print(view1)\n",
    "\n",
    "print(\"语法二所得数组的内容为：\")\n",
    "print(view2)"
   ]
  },
  {
   "cell_type": "markdown",
   "id": "efe6bb59",
   "metadata": {},
   "source": [
    "### 1.3.5 改变数组的形状（复制）"
   ]
  },
  {
   "cell_type": "raw",
   "id": "97777aa1",
   "metadata": {},
   "source": [
    "注意：复制变维得到的为原数组的副本，与原数组不共享数据，各自独立。"
   ]
  },
  {
   "cell_type": "markdown",
   "id": "27a2822d",
   "metadata": {},
   "source": [
    "#### 1.3.5.1 flatten方法"
   ]
  },
  {
   "cell_type": "raw",
   "id": "2671ac0a",
   "metadata": {},
   "source": [
    "语法：变量名 = 原数组.flatten()\n",
    "\n",
    "功能：铺平原数组，得到原数组的副本，与原数组不共享数据"
   ]
  },
  {
   "cell_type": "code",
   "execution_count": 42,
   "id": "b58af81c",
   "metadata": {},
   "outputs": [
    {
     "name": "stdout",
     "output_type": "stream",
     "text": [
      "原数组的内容为：\n",
      "[[1 2]\n",
      " [3 4]]\n",
      "通过flatten方法所得数组的内容为：\n",
      "[1 2 3 4]\n",
      "原数组改变后的内容为：\n",
      "[[37  2]\n",
      " [ 3  4]]\n",
      "改变原数组后，通过flatten方法所得数组的内容为：\n",
      "[1 2 3 4]\n"
     ]
    }
   ],
   "source": [
    "# 先导包\n",
    "import numpy as np\n",
    "\n",
    "# 创建演示数组\n",
    "array = np.array([[1, 2], [3, 4]])\n",
    "\n",
    "# 原数组的内容\n",
    "print(\"原数组的内容为：\")\n",
    "print(array)\n",
    "\n",
    "# 使用flatten方法\n",
    "copy = array.flatten()\n",
    "\n",
    "# 观察区别（没有区别）\n",
    "print(\"通过flatten方法所得数组的内容为：\")\n",
    "print(copy)\n",
    "\n",
    "# 改变原数组\n",
    "array[0][0] = 37\n",
    "print(\"原数组改变后的内容为：\")\n",
    "print(array)\n",
    "\n",
    "# 查看所得副本是否改变\n",
    "print(\"改变原数组后，通过flatten方法所得数组的内容为：\")\n",
    "print(copy)"
   ]
  },
  {
   "cell_type": "markdown",
   "id": "3cc9ccd6",
   "metadata": {},
   "source": [
    "### 1.3.6 改变数组的形状（直接改变原数组）"
   ]
  },
  {
   "cell_type": "markdown",
   "id": "2ff9256f",
   "metadata": {},
   "source": [
    "#### 1.3.6.1 数组.shape方法"
   ]
  },
  {
   "cell_type": "raw",
   "id": "2d00048c",
   "metadata": {},
   "source": [
    "语法一： 数组.shape = (d1, d2, ..., dn)\n",
    "语法二： 数组.shape = (shape)\n",
    "\n",
    "注：语法一和语法二是完全相同的，只是语法一以数字传参，语法二以元组传参，具体使用取决于个人习惯\n",
    "注：不同于reshape方法，这里直接对原数组的形状进行了改变"
   ]
  },
  {
   "cell_type": "code",
   "execution_count": 43,
   "id": "b4a7d0a1",
   "metadata": {},
   "outputs": [
    {
     "name": "stdout",
     "output_type": "stream",
     "text": [
      "一维数组array的内容为：\n",
      "[1 2 3 4 5 6]\n",
      "一维数组array_copy的内容为：\n",
      "[1 2 3 4 5 6]\n",
      "一维数组array的内容为：\n",
      "[[1 2 3]\n",
      " [4 5 6]]\n",
      "一维数组array_copy的内容为：\n",
      "[[1 2 3]\n",
      " [4 5 6]]\n"
     ]
    }
   ],
   "source": [
    "# 先导包\n",
    "import numpy as np\n",
    "\n",
    "# 创建演示数组\n",
    "array = np.array([1, 2, 3, 4, 5, 6])\n",
    "array_copy = np.array([1, 2, 3, 4, 5, 6])\n",
    "\n",
    "# 打印演示数组\n",
    "print(\"一维数组array的内容为：\")\n",
    "print(array)\n",
    "print(\"一维数组array_copy的内容为：\")\n",
    "print(array_copy)\n",
    "\n",
    "# 使用语法一\n",
    "array.shape = (2, 3)\n",
    "\n",
    "# 使用语法二\n",
    "array_copy.shape = ((2, 3))\n",
    "\n",
    "# 打印变化后的数组\n",
    "print(\"一维数组array的内容为：\")\n",
    "print(array)\n",
    "print(\"一维数组array_copy的内容为：\")\n",
    "print(array_copy)"
   ]
  },
  {
   "cell_type": "markdown",
   "id": "9e842881",
   "metadata": {},
   "source": [
    "#### 1.3.6.2 resize方法"
   ]
  },
  {
   "cell_type": "raw",
   "id": "e23a521d",
   "metadata": {},
   "source": [
    "语法： 原数组.resize(new_shape)\n",
    "\n",
    "参数：new_shape 指的是改变后的形状，以元组的方式传入\n",
    "\n",
    "功能： 改变原数组的形状，并在需要时插入或删除元素以适应新的形状\n",
    "     如果新形状的元素数量大于原数组，会在末尾填充 0\n",
    "     如果新形状的元素数量小于原数组，会截断数组"
   ]
  },
  {
   "cell_type": "code",
   "execution_count": 44,
   "id": "7a02c0a6",
   "metadata": {},
   "outputs": [
    {
     "name": "stdout",
     "output_type": "stream",
     "text": [
      "数组array的内容为：\n",
      "[1 2 3 4 5 6 7 8]\n",
      "改变数组array，所得内容为：\n",
      "[[1 2 3 4]\n",
      " [5 6 7 8]]\n",
      "新形状的元素数量大于原数组，所得内容为：\n",
      "[[1 2 3 4 5]\n",
      " [6 7 8 0 0]]\n",
      "新形状的元素数量小于原数组，所得内容为：\n",
      "[[1 2 3]\n",
      " [4 5 6]\n",
      " [7 8 0]]\n"
     ]
    }
   ],
   "source": [
    "# 先导包\n",
    "import numpy as np\n",
    "\n",
    "# 创建数组\n",
    "array = np.array([1, 2, 3, 4, 5, 6, 7, 8])\n",
    "print(\"数组array的内容为：\")\n",
    "print(array)\n",
    "\n",
    "# 使用resize方法\n",
    "array.resize((2, 4))\n",
    "print(\"改变数组array，所得内容为：\")\n",
    "print(array)\n",
    "\n",
    "# 新形状的元素数量大于原数组，会在末尾填充0\n",
    "array.resize((2, 5))\n",
    "print(\"新形状的元素数量大于原数组，所得内容为：\")\n",
    "print(array)\n",
    "\n",
    "# 如果新形状的元素数量小于原数组，会截断数组\n",
    "array.resize((3, 3))\n",
    "print(\"新形状的元素数量小于原数组，所得内容为：\")\n",
    "print(array)"
   ]
  },
  {
   "cell_type": "raw",
   "id": "bddfcc99",
   "metadata": {},
   "source": [
    "resize()语法 和 shape语法的区别："
   ]
  },
  {
   "cell_type": "code",
   "execution_count": 45,
   "id": "67f6cf7f",
   "metadata": {},
   "outputs": [
    {
     "name": "stdout",
     "output_type": "stream",
     "text": [
      "报错的原因是：cannot reshape array of size 7 into shape (2,4)\n",
      "[[1 2 3 4]\n",
      " [5 6 7 0]]\n"
     ]
    }
   ],
   "source": [
    "# 先导包\n",
    "import numpy as np\n",
    "\n",
    "# 演示代码如下：\n",
    "ary1 = np.array([1, 2, 3, 4, 5, 6, 7])\n",
    "try:\n",
    "    ary1.shape = (2,4)\n",
    "except Exception as e:\n",
    "    print(f\"报错的原因是：{e}\")\n",
    "    \n",
    "ary2 = np.array([1, 2, 3, 4, 5, 6, 7])\n",
    "ary2.resize((2,4))\n",
    "print(ary2)   # 这里在末尾填充了一个0"
   ]
  },
  {
   "cell_type": "markdown",
   "id": "9de2e514",
   "metadata": {},
   "source": [
    "### 1.3.7 创建数组的副本（不共享数据）"
   ]
  },
  {
   "cell_type": "raw",
   "id": "12f864eb",
   "metadata": {},
   "source": [
    "语法：变量名 = 原数组.copy()\n",
    "\n",
    "功能：用于安全地创建数组的独立副本，确保原数组不受影响"
   ]
  },
  {
   "cell_type": "code",
   "execution_count": 46,
   "id": "d4aa1e50",
   "metadata": {},
   "outputs": [
    {
     "name": "stdout",
     "output_type": "stream",
     "text": [
      "修改后的副本数组内容为:\n",
      "[[37  2]\n",
      " [ 3  4]]\n",
      "原数组的内容为:\n",
      "[[1 2]\n",
      " [3 4]]\n"
     ]
    }
   ],
   "source": [
    "# 先导包\n",
    "import numpy as np\n",
    "\n",
    "# 创建数组\n",
    "array = np.array([[1, 2], [3, 4]])\n",
    "\n",
    "# 创建副本\n",
    "array_copy = array.copy()\n",
    "\n",
    "# 修改副本\n",
    "array_copy[0, 0] = 37\n",
    "print(\"修改后的副本数组内容为:\")\n",
    "print(array_copy)\n",
    "\n",
    "# 观察原数组的内容是否变化（不会变化）\n",
    "print(\"原数组的内容为:\")\n",
    "print(array)"
   ]
  },
  {
   "cell_type": "markdown",
   "id": "03863263",
   "metadata": {},
   "source": [
    "### 1.3.8 改变数组的元素类型"
   ]
  },
  {
   "cell_type": "raw",
   "id": "5515101a",
   "metadata": {},
   "source": [
    "ndarray对象属性的详细内容\n",
    "布尔型（bool_）\n",
    "有符号整数型（int8/int16/int32/int64）      通常指的是有正有负的整数\n",
    "无符号整数型（uint8/uint16/uint32/uint64）   指的是无符号的整数，即正整数\n",
    "浮点型（float16/float32/float64）\n",
    "复数型（complex64/complex128）\n",
    "字符串型（str_），每个字符用32为Unicode编码表示"
   ]
  },
  {
   "cell_type": "markdown",
   "id": "56f1eee0",
   "metadata": {},
   "source": [
    "#### 1.3.8.1 astype方法"
   ]
  },
  {
   "cell_type": "raw",
   "id": "359caa78",
   "metadata": {},
   "source": [
    "语法：变量名 = 数组.astype(type)\n",
    "\n",
    "参数：type可以是int,float,str等\n",
    "\n",
    "功能：用于安全地将数组的数据类型转换为指定类型，返回新数组，原数组保持不变"
   ]
  },
  {
   "cell_type": "code",
   "execution_count": 47,
   "id": "83cfc23b",
   "metadata": {},
   "outputs": [
    {
     "name": "stdout",
     "output_type": "stream",
     "text": [
      "转换为浮点型数组，得到的数组ary2的内容为：\n",
      "[1. 2. 3. 4. 5. 6.]\n",
      "转换回整数型数组，得到的数组ary3的内容为：\n",
      "[1 2 3 4 5 6]\n",
      "转换为字符串型数组，得到的数组ary4的内容为：\n",
      "['1' '2' '3' '4' '5' '6']\n"
     ]
    }
   ],
   "source": [
    "# 先导包\n",
    "import numpy as np\n",
    "\n",
    "# 创建数组ary1\n",
    "ary1 = np.arange(1,7)   # ary1 = [1 2 3 4 5 6]\n",
    "\n",
    "# 转换数组元素的数据类型，语法： 数组.astype(元素类型)   注：这里不会改变原来的数组，故而需要用变量接收\n",
    "ary2 = ary1.astype(float)\n",
    "print(f\"转换为浮点型数组，得到的数组ary2的内容为：\")\n",
    "print(ary2)\n",
    "\n",
    "ary3 = ary2.astype(int)\n",
    "print(f\"转换回整数型数组，得到的数组ary3的内容为：\")\n",
    "print(ary3)\n",
    "\n",
    "ary4 = ary3.astype(str)\n",
    "print(f\"转换为字符串型数组，得到的数组ary4的内容为：\")\n",
    "print(ary4)"
   ]
  },
  {
   "cell_type": "markdown",
   "id": "bfb897ad",
   "metadata": {},
   "source": [
    "### 1.3.9 数组的去重操作(unique方法)"
   ]
  },
  {
   "cell_type": "markdown",
   "id": "052a620d",
   "metadata": {},
   "source": [
    "#### 1.3.9.1 unique方法的基础使用"
   ]
  },
  {
   "cell_type": "raw",
   "id": "57ed5fa9",
   "metadata": {},
   "source": [
    "基础语法：变量名 = np.unique(原数组)\n",
    "\n",
    "基础功能：用于查找 NumPy 数组中的唯一值，并以一维数组的形式，返回这些值"
   ]
  },
  {
   "cell_type": "code",
   "execution_count": 48,
   "id": "e8855859",
   "metadata": {},
   "outputs": [
    {
     "name": "stdout",
     "output_type": "stream",
     "text": [
      "数组array的内容为：\n",
      "[1 2 2 3 4 4 5]\n",
      "原数组去重后的内容为：\n",
      "[1 2 3 4 5]\n"
     ]
    }
   ],
   "source": [
    "# 先导包\n",
    "import numpy as np\n",
    "\n",
    "# 创建一个数组\n",
    "array = np.array([1, 2, 2, 3, 4, 4, 5])\n",
    "\n",
    "# 查看原数组的内容\n",
    "print(\"数组array的内容为：\")\n",
    "print(array)\n",
    "\n",
    "# 查找唯一值\n",
    "unique_values = np.unique(array)\n",
    "\n",
    "# 展示所得数组unique_values\n",
    "print(\"原数组去重后的内容为：\")\n",
    "print(unique_values)"
   ]
  },
  {
   "cell_type": "raw",
   "id": "f31eaff8",
   "metadata": {},
   "source": [
    "对于多维数组，返回值仍然是一维数组"
   ]
  },
  {
   "cell_type": "code",
   "execution_count": 49,
   "id": "c2523dd0",
   "metadata": {},
   "outputs": [
    {
     "name": "stdout",
     "output_type": "stream",
     "text": [
      "数组array的内容为：\n",
      "[[1 2 2 3]\n",
      " [4 4 5 4]]\n",
      "原数组去重后的内容为：\n",
      "[1 2 3 4 5]\n"
     ]
    }
   ],
   "source": [
    "# 先导包\n",
    "import numpy as np\n",
    "\n",
    "# 创建一个数组\n",
    "array = np.array([1, 2, 2, 3, 4, 4, 5, 4])\n",
    "array.shape = (2, 4)\n",
    "\n",
    "# 查看原数组的内容\n",
    "print(\"数组array的内容为：\")\n",
    "print(array)\n",
    "\n",
    "# 查找唯一值\n",
    "unique_values = np.unique(array)\n",
    "\n",
    "# 展示所得数组unique_values\n",
    "print(\"原数组去重后的内容为：\")\n",
    "print(unique_values)"
   ]
  },
  {
   "cell_type": "markdown",
   "id": "d0f44069",
   "metadata": {},
   "source": [
    "#### 1.3.9.2 扩展：unique方法的详细参数之——return_index"
   ]
  },
  {
   "cell_type": "raw",
   "id": "d5eb4a08",
   "metadata": {},
   "source": [
    "语法：\n",
    "变量名 = np.unique(原数组, return_index=None)\n",
    "\n",
    "参数：\n",
    "return_index（可选）：如果为 True，返回唯一值的索引。\n",
    "\n",
    "注意：这里的唯一值索引指的是：唯一值第一次出现的地方对应的索引。"
   ]
  },
  {
   "cell_type": "code",
   "execution_count": 50,
   "id": "68cf28fb",
   "metadata": {},
   "outputs": [
    {
     "name": "stdout",
     "output_type": "stream",
     "text": [
      "原数组去重后的内容为：\n",
      "[1 2 3 4 5]\n",
      "唯一值的索引为：\n",
      "[0 1 3 4 6]\n"
     ]
    }
   ],
   "source": [
    "# 先导包\n",
    "import numpy as np\n",
    "\n",
    "# 创建一个数组\n",
    "array = np.array([1, 2, 2, 3, 4, 4, 5])\n",
    "\n",
    "# 查找唯一值和索引（用两个变量进行接收）\n",
    "unique_values, indices = np.unique(array, return_index=True)\n",
    "\n",
    "# 内容输出\n",
    "print(\"原数组去重后的内容为：\")\n",
    "print(unique_values)\n",
    "\n",
    "print(\"唯一值的索引为：\")\n",
    "print(indices)"
   ]
  },
  {
   "cell_type": "markdown",
   "id": "c588fa54",
   "metadata": {},
   "source": [
    "#### 1.3.9.3 扩展：unique方法的详细参数之——return_inverse"
   ]
  },
  {
   "cell_type": "raw",
   "id": "870827b6",
   "metadata": {},
   "source": [
    "语法：\n",
    "变量名 = np.unique(原数组, return_inverse=None)\n",
    "\n",
    "参数：\n",
    "return_inverse（可选）：如果为 True，返回输入数组中每个唯一值的索引。\n",
    "\n",
    "注：不懂的话可以看代码，仔细比对。"
   ]
  },
  {
   "cell_type": "code",
   "execution_count": 51,
   "id": "262337c3",
   "metadata": {},
   "outputs": [
    {
     "name": "stdout",
     "output_type": "stream",
     "text": [
      "原数组去重后的内容为：\n",
      "[1 2 3 4]\n",
      "以0,1,2,3分别代表1,2,3,4，原列表可表示为：\n",
      "[2 0 1 2 3 0 1]\n"
     ]
    }
   ],
   "source": [
    "# 先导包\n",
    "import numpy as np\n",
    "\n",
    "# 创建一个数组\n",
    "array = np.array([3, 1, 2, 3, 4, 1, 2])\n",
    "\n",
    "# 查找唯一值及其反向索引\n",
    "unique_values, inverse_indices = np.unique(array, return_inverse=True)\n",
    "\n",
    "# 内容输出\n",
    "print(\"原数组去重后的内容为：\")\n",
    "print(unique_values)\n",
    "\n",
    "# 上面输出的原数组去重内容为1,2,3,4，对应下标索引0,1,2,3，这个参数就是用 去重后所得列表 的下标索引 去表示 原数组的内容\n",
    "print(\"以0,1,2,3分别代表1,2,3,4，原列表可表示为：\")\n",
    "print(inverse_indices)   # 输出: [2 0 1 2 3 0 1]"
   ]
  },
  {
   "cell_type": "markdown",
   "id": "5e8c82c0",
   "metadata": {},
   "source": [
    "#### 1.3.9.4 扩展：unique方法的详细参数之——return_counts"
   ]
  },
  {
   "cell_type": "raw",
   "id": "650e47a7",
   "metadata": {},
   "source": [
    "语法：\n",
    "变量名 = np.unique(原数组, return_counts=None)\n",
    "\n",
    "参数：\n",
    "return_counts（可选）：如果为 True，返回每个唯一值的出现次数。"
   ]
  },
  {
   "cell_type": "code",
   "execution_count": 52,
   "id": "d22ec398",
   "metadata": {},
   "outputs": [
    {
     "name": "stdout",
     "output_type": "stream",
     "text": [
      "原数组去重后的内容为：\n",
      "[1 2 3 4 5]\n",
      "原数组中，上述唯一值出现次数分别为\n",
      "[1 2 1 2 1]\n"
     ]
    }
   ],
   "source": [
    "# 先导包\n",
    "import numpy as np\n",
    "\n",
    "# 创建一个数组\n",
    "array = np.array([1, 2, 2, 3, 4, 4, 5])\n",
    "\n",
    "# 查找唯一值和出现次数\n",
    "unique_values, counts = np.unique(array, return_counts=True)\n",
    "\n",
    "# 内容输出\n",
    "print(\"原数组去重后的内容为：\")\n",
    "print(unique_values)\n",
    "\n",
    "print(\"原数组中，上述唯一值出现次数分别为\")\n",
    "print(counts)"
   ]
  },
  {
   "cell_type": "markdown",
   "id": "3fe49fb5",
   "metadata": {},
   "source": [
    "#### 1.3.9.5 扩展：unique方法的详细参数同时使用"
   ]
  },
  {
   "cell_type": "raw",
   "id": "cd2a2b33",
   "metadata": {},
   "source": [
    "语法：\n",
    "变量名 = np.unique(原数组, return_index=None, return_inverse=None, return_counts=None)\n",
    "\n",
    "参数：\n",
    "return_index（可选）：如果为 True，返回唯一值的索引。\n",
    "return_inverse（可选）：如果为 True，返回输入数组中每个唯一值的索引。\n",
    "return_counts（可选）：如果为 True，返回每个唯一值的出现次数。\n",
    "\n",
    "注1：同时使用的时候需要使用4个变量进行接收，示例代码如下：\n",
    "\n",
    "注2：如果在调用 np.unique 时调整了参数的顺序，那么接收变量的顺序也需要相应调整。返回值的顺序与参数的顺序一致"
   ]
  },
  {
   "cell_type": "code",
   "execution_count": 53,
   "id": "f5194c86",
   "metadata": {},
   "outputs": [
    {
     "name": "stdout",
     "output_type": "stream",
     "text": [
      "原数组的内容为： [3 1 2 3 4 1 2]\n",
      "所得唯一值为: [1 2 3 4]\n",
      "唯一值索引为: [1 2 0 4]\n",
      "反向索引: [2 0 1 2 3 0 1]\n",
      "唯一值出现次数为: [2 2 2 1]\n"
     ]
    }
   ],
   "source": [
    "# 先导包\n",
    "import numpy as np\n",
    "\n",
    "# 创建一个数组\n",
    "array = np.array([3, 1, 2, 3, 4, 1, 2])\n",
    "\n",
    "# 使用多个参数\n",
    "unique_values, indices, inverse_indices, counts = np.unique(\n",
    "    array, return_index=True, return_inverse=True, return_counts=True\n",
    ")\n",
    "\n",
    "# 打印结果\n",
    "print(\"原数组的内容为：\", array)\n",
    "print(\"所得唯一值为:\", unique_values)          # 输出: [1 2 3 4]\n",
    "print(\"唯一值索引为:\", indices)                   # 输出: [1 2 0 4]\n",
    "print(\"反向索引:\", inverse_indices)       # 输出: [2 0 1 2 3 0 1]\n",
    "print(\"唯一值出现次数为:\", counts)                # 输出: [2 2 2 1]"
   ]
  },
  {
   "cell_type": "markdown",
   "id": "023eb0d4",
   "metadata": {},
   "source": [
    "### 1.3.10 数组垂直方向的组合、拆分操作（常用于二维数组）"
   ]
  },
  {
   "cell_type": "markdown",
   "id": "757d47bd",
   "metadata": {},
   "source": [
    "#### 1.3.10.1 数组垂直方向的组合"
   ]
  },
  {
   "cell_type": "raw",
   "id": "3695ab64",
   "metadata": {},
   "source": [
    "v 代表 vertical（垂直），  可理解为y轴方向。\n",
    "\n",
    "语法： 变量名称 = np.vstack((数组1, 数组2))    # 注意这里传入的是元组！\n",
    "\n",
    "功能： 垂直方向完成组合（行相加，列不变），生成新数组。"
   ]
  },
  {
   "cell_type": "code",
   "execution_count": 54,
   "id": "f72dbb63",
   "metadata": {},
   "outputs": [
    {
     "name": "stdout",
     "output_type": "stream",
     "text": [
      "数组ary1的内容为：\n",
      "[[1 2 3]\n",
      " [4 5 6]]\n",
      "数组ary2的内容为：\n",
      "[[ 7  8  9]\n",
      " [10 11 12]]\n",
      "数组ary1和数组ary2垂直组合后的内容为：\n",
      "[[ 1  2  3]\n",
      " [ 4  5  6]\n",
      " [ 7  8  9]\n",
      " [10 11 12]]\n"
     ]
    }
   ],
   "source": [
    "# 先导包\n",
    "import numpy as np\n",
    "\n",
    "# 创建演示数组\n",
    "ary1 = np.array([[1, 2, 3], [4, 5, 6]])\n",
    "ary2 = np.array([[7, 8, 9], [10, 11, 12]])\n",
    "print(f\"数组ary1的内容为：\\n{ary1}\\n数组ary2的内容为：\\n{ary2}\")\n",
    "\n",
    "# 垂直方向完成组合（行相加，列不变），生成新数组\n",
    "ary3 = np.vstack((ary1, ary2))\n",
    "print(f\"数组ary1和数组ary2垂直组合后的内容为：\\n{ary3}\")"
   ]
  },
  {
   "cell_type": "markdown",
   "id": "45910428",
   "metadata": {},
   "source": [
    "#### 1.3.10.2 数组垂直方向的拆分"
   ]
  },
  {
   "cell_type": "raw",
   "id": "d374823b",
   "metadata": {},
   "source": [
    "v 代表 vertical（垂直），  可理解为y轴方向。\n",
    "\n",
    "语法： 变量名称1, ..., 变量名称n = np.vsplit(待拆分数组, n)  这里的n指的是平分成的份数\n",
    "\n",
    "功能： 垂直方向完成拆分（行平分，列不变），生成新数组。"
   ]
  },
  {
   "cell_type": "code",
   "execution_count": 55,
   "id": "8b3611ba",
   "metadata": {},
   "outputs": [
    {
     "name": "stdout",
     "output_type": "stream",
     "text": [
      "数组ary的内容为：\n",
      "[[ 1  2  3]\n",
      " [ 4  5  6]\n",
      " [ 7  8  9]\n",
      " [10 11 12]]\n",
      "\n",
      "拆分成两份\n",
      "数组ary1的内容为：\n",
      "[[1 2 3]\n",
      " [4 5 6]]\n",
      "数组ary2的内容为：\n",
      "[[ 7  8  9]\n",
      " [10 11 12]]\n",
      "\n",
      "拆分成四份\n",
      "数组ary3的内容为：\n",
      "[[1 2 3]]\n",
      "数组ary4的内容为：\n",
      "[[4 5 6]]\n",
      "数组ary5的内容为：\n",
      "[[7 8 9]]\n",
      "数组ary6的内容为：\n",
      "[[10 11 12]]\n"
     ]
    }
   ],
   "source": [
    "# 先导包\n",
    "import numpy as np\n",
    "\n",
    "# 创建演示数组\n",
    "ary = np.arange(1, 13).reshape(4, 3)\n",
    "print(f\"数组ary的内容为：\\n{ary}\\n\")\n",
    "\n",
    "# 垂直方向完成拆分（行平分，列不变），生成新数组，先演示拆分成两份\n",
    "ary1, ary2 = np.vsplit(ary, 2)\n",
    "print(f\"拆分成两份\\n数组ary1的内容为：\\n{ary1}\\n数组ary2的内容为：\\n{ary2}\\n\")\n",
    "\n",
    "# 垂直方向完成拆分（行平分，列不变），生成新数组，再演示拆分成四份\n",
    "ary3, ary4, ary5, ary6 = np.vsplit(ary, 4)\n",
    "print(f\"拆分成四份\\n数组ary3的内容为：\\n{ary3}\\n数组ary4的内容为：\\n{ary4}\\n数组ary5的内容为：\\n{ary5}\\n数组ary6的内容为：\\n{ary6}\")"
   ]
  },
  {
   "cell_type": "markdown",
   "id": "466657f1",
   "metadata": {},
   "source": [
    "### 1.3.11 数组水平方向的组合、拆分操作（常用于二维数组）"
   ]
  },
  {
   "cell_type": "markdown",
   "id": "a521b936",
   "metadata": {},
   "source": [
    "#### 1.3.11.1 数组水平方向的组合"
   ]
  },
  {
   "cell_type": "raw",
   "id": "c716d7b8",
   "metadata": {},
   "source": [
    "h 代表 horizontal（水平），可理解为x轴方向。\n",
    "\n",
    "语法： 变量名称 = np.hstack((数组1, 数组2))    # 注意这里传入的是元组！\n",
    "\n",
    "功能： 水平方向完成组合（列相加，行不变），生成新数组。"
   ]
  },
  {
   "cell_type": "code",
   "execution_count": 56,
   "id": "9fa1f9d5",
   "metadata": {},
   "outputs": [
    {
     "name": "stdout",
     "output_type": "stream",
     "text": [
      "数组ary1的内容为：\n",
      "[[1 2 3]\n",
      " [4 5 6]]\n",
      "数组ary2的内容为：\n",
      "[[ 7  8  9]\n",
      " [10 11 12]]\n",
      "数组ary1和数组ary2水平组合后的内容为：\n",
      "[[ 1  2  3  7  8  9]\n",
      " [ 4  5  6 10 11 12]]\n"
     ]
    }
   ],
   "source": [
    "# 先导包\n",
    "import numpy as np\n",
    "\n",
    "# 创建演示数组\n",
    "ary1 = np.array([[1, 2, 3], [4, 5, 6]])\n",
    "ary2 = np.array([[7, 8, 9], [10, 11, 12]])\n",
    "print(f\"数组ary1的内容为：\\n{ary1}\\n数组ary2的内容为：\\n{ary2}\")\n",
    "\n",
    "# 水平方向完成组合（列相加，行不变），生成新数组\n",
    "ary3 = np.hstack((ary1, ary2))\n",
    "print(f\"数组ary1和数组ary2水平组合后的内容为：\\n{ary3}\")"
   ]
  },
  {
   "cell_type": "markdown",
   "id": "86680ed6",
   "metadata": {},
   "source": [
    "#### 1.3.11.2 数组水平方向的拆分"
   ]
  },
  {
   "cell_type": "raw",
   "id": "44ccfef8",
   "metadata": {},
   "source": [
    "h 代表 horizontal（水平），可理解为x轴方向。\n",
    "\n",
    "语法： 变量名称1, ..., 变量名称n = np.hsplit(待拆分数组, n)  这里的n指的是平分成的份数\n",
    "\n",
    "功能： 水平方向完成拆分（列平分，行不变），生成新数组。"
   ]
  },
  {
   "cell_type": "code",
   "execution_count": 57,
   "id": "d007289a",
   "metadata": {},
   "outputs": [
    {
     "name": "stdout",
     "output_type": "stream",
     "text": [
      "数组ary的内容为：\n",
      "[[ 1  2  3  4  5  6]\n",
      " [ 7  8  9 10 11 12]]\n",
      "\n",
      "拆分成两份\n",
      "数组ary1的内容为：\n",
      "[[1 2 3]\n",
      " [7 8 9]]\n",
      "数组ary2的内容为：\n",
      "[[ 4  5  6]\n",
      " [10 11 12]]\n",
      "\n",
      "拆分成三份\n",
      "数组ary3的内容为：\n",
      "[[1 2]\n",
      " [7 8]]\n",
      "数组ary4的内容为：\n",
      "[[ 3  4]\n",
      " [ 9 10]]\n",
      "数组ary5的内容为：\n",
      "[[ 5  6]\n",
      " [11 12]]\n"
     ]
    }
   ],
   "source": [
    "# 先导包\n",
    "import numpy as np\n",
    "\n",
    "# 创建演示数组\n",
    "ary = np.arange(1, 13).reshape(2, 6)\n",
    "print(f\"数组ary的内容为：\\n{ary}\\n\")\n",
    "\n",
    "# 水平方向完成拆分（列平分，行不变），生成新数组，先演示拆分成两份\n",
    "ary1, ary2 = np.hsplit(ary, 2)\n",
    "print(f\"拆分成两份\\n数组ary1的内容为：\\n{ary1}\\n数组ary2的内容为：\\n{ary2}\\n\")\n",
    "\n",
    "# 水平方向完成拆分（列平分，行不变），生成新数组，先演示拆分成三份\n",
    "ary3, ary4, ary5 = np.hsplit(ary, 3)\n",
    "print(f\"拆分成三份\\n数组ary3的内容为：\\n{ary3}\\n数组ary4的内容为：\\n{ary4}\\n数组ary5的内容为：\\n{ary5}\")"
   ]
  },
  {
   "cell_type": "markdown",
   "id": "33ab209d",
   "metadata": {},
   "source": [
    "### 1.3.12 数组深度方向的组合、拆分操作（常用于二、三维数组）"
   ]
  },
  {
   "cell_type": "markdown",
   "id": "c80e4c05",
   "metadata": {},
   "source": [
    "#### 1.3.12.1 数组深度方向的组合"
   ]
  },
  {
   "cell_type": "raw",
   "id": "01f4da09",
   "metadata": {},
   "source": [
    "d 代表 depth（深度），可理解为楼梯的每一层方向，即组合成三维数组。\n",
    "\n",
    "语法： 变量名称 = np.dstack((数组1, 数组2))    # 这里传入的是元组！\n",
    "\n",
    "功能： 深度方向完成组合（升维），生成新数组。 \n",
    "\n",
    "具体规则如下：\n",
    "\n",
    "规则一：ary1内的元素 只和 ary2内对应的元素进行组合，且对应生成数组的索引。\n",
    "\n",
    "规则二：合成的ary3[a, b] 有两个元素，这可以用“行向量”来理解\n",
    "\n",
    "规则三：最后合成的ary3有两个参数，其中第一个对应深度，第二个对应所在深度的行。\n",
    "\n",
    "举例：ary1[a, b] 和 ary2[a, b] 会生成 ary3[a, b]\n",
    "如： ary1[0, 0] 和 ary2[0, 0] 会组合成 ary3[0, 0]，意味着深度为1的第一行元素为：[ary1[0, 0], ary2[0, 0]]"
   ]
  },
  {
   "cell_type": "raw",
   "id": "4df5553e",
   "metadata": {},
   "source": [
    "对于深度方向的组合，还有一种方式就是利用立体形状理解，比如，ary1记为第一堵墙，ary2记为第二堵墙，放在ary1后，这时候正对方向是ary1正好挡住了ary2。把视角换成上方看下方，并且同时满足从右侧看向左侧，这个方向看到的数组就是组合后的数组。有点像ary1和ary2并排，然后按照水平方向（列增加，行不变）进行组合的感觉。拆分就是按照水平方向进行拆分的。"
   ]
  },
  {
   "cell_type": "code",
   "execution_count": 58,
   "id": "58897720",
   "metadata": {},
   "outputs": [
    {
     "name": "stdout",
     "output_type": "stream",
     "text": [
      "数组ary1的内容为：\n",
      "[[1 2 3]\n",
      " [4 5 6]]\n",
      "数组ary2的内容为:\n",
      "[[ 7  8  9]\n",
      " [10 11 12]]\n",
      "数组ary1和数组ary2深度组合后的内容为：\n",
      "[[[ 1  7]\n",
      "  [ 2  8]\n",
      "  [ 3  9]]\n",
      "\n",
      " [[ 4 10]\n",
      "  [ 5 11]\n",
      "  [ 6 12]]]\n"
     ]
    }
   ],
   "source": [
    "# 先导包\n",
    "import numpy as np\n",
    "\n",
    "# 创建演示数组\n",
    "ary1 = np.array([[1, 2, 3], [4, 5, 6]])\n",
    "ary2 = np.array([[7, 8, 9], [10, 11, 12]])\n",
    "print(f\"数组ary1的内容为：\\n{ary1}\\n数组ary2的内容为:\\n{ary2}\")\n",
    "\n",
    "# 深度方向完成组合，生成新数组\n",
    "ary3 = np.dstack((ary1, ary2))\n",
    "print(f\"数组ary1和数组ary2深度组合后的内容为：\\n{ary3}\")"
   ]
  },
  {
   "cell_type": "code",
   "execution_count": 59,
   "id": "9a356369",
   "metadata": {},
   "outputs": [
    {
     "name": "stdout",
     "output_type": "stream",
     "text": [
      "数组ary1的内容为：\n",
      "[[1 2 3]\n",
      " [4 5 6]\n",
      " [7 8 9]]\n",
      "数组ary2的内容为:\n",
      "[[-1 -2 -3]\n",
      " [-4 -5 -6]\n",
      " [-7 -8 -9]]\n",
      "数组ary1和数组ary2深度组合后的内容为：\n",
      "[[[ 1 -1]\n",
      "  [ 2 -2]\n",
      "  [ 3 -3]]\n",
      "\n",
      " [[ 4 -4]\n",
      "  [ 5 -5]\n",
      "  [ 6 -6]]\n",
      "\n",
      " [[ 7 -7]\n",
      "  [ 8 -8]\n",
      "  [ 9 -9]]]\n"
     ]
    }
   ],
   "source": [
    "# 先导包\n",
    "import numpy as np\n",
    "\n",
    "# 创建演示数组\n",
    "ary1 = np.array([[1, 2, 3], [4, 5, 6], [7, 8, 9]])\n",
    "ary2 = ary1 * -1\n",
    "print(f\"数组ary1的内容为：\\n{ary1}\\n数组ary2的内容为:\\n{ary2}\")\n",
    "\n",
    "# 深度方向完成组合，生成新数组\n",
    "ary3 = np.dstack((ary1, ary2))\n",
    "print(f\"数组ary1和数组ary2深度组合后的内容为：\\n{ary3}\")"
   ]
  },
  {
   "cell_type": "markdown",
   "id": "3ed809a0",
   "metadata": {},
   "source": [
    "#### 1.3.12.2 数组深度方向的拆分（常用于三维数组）"
   ]
  },
  {
   "cell_type": "raw",
   "id": "79d57c58",
   "metadata": {},
   "source": [
    "d 代表 depth（深度）\n",
    "\n",
    "语法：变量名称1, ..., 变量名称n = np.dsplit(待拆分数组, n)    这里的n指的是平分成的份数。\n",
    "\n",
    "功能：深度方向完成拆分（降维），生成新数组。\n",
    "\n",
    "注意：这个拆分的规则很简单，只需要对一个深度进行水平方向的拆分即可。"
   ]
  },
  {
   "cell_type": "code",
   "execution_count": 60,
   "id": "ec215cc0",
   "metadata": {},
   "outputs": [
    {
     "name": "stdout",
     "output_type": "stream",
     "text": [
      "数组ary的内容为：\n",
      "[[[ 1  2]\n",
      "  [ 3  4]]\n",
      "\n",
      " [[ 5  6]\n",
      "  [ 7  8]]\n",
      "\n",
      " [[ 9 10]\n",
      "  [11 12]]]\n",
      "\n",
      "拆分成两份\n",
      "数组ary1的内容为：\n",
      "[[[ 1]\n",
      "  [ 3]]\n",
      "\n",
      " [[ 5]\n",
      "  [ 7]]\n",
      "\n",
      " [[ 9]\n",
      "  [11]]]\n",
      "数组ary2的内容为：\n",
      "[[[ 2]\n",
      "  [ 4]]\n",
      "\n",
      " [[ 6]\n",
      "  [ 8]]\n",
      "\n",
      " [[10]\n",
      "  [12]]]\n"
     ]
    }
   ],
   "source": [
    "# 先导包\n",
    "import numpy as np\n",
    "\n",
    "# 创建演示数组\n",
    "ary = np.array([[[1, 2], [3, 4]],\n",
    "                [[5, 6], [7, 8]],\n",
    "                [[9, 10], [11, 12]]])\n",
    "print(f\"数组ary的内容为：\\n{ary}\")\n",
    "\n",
    "# 深度方向完成拆分\n",
    "ary1, ary2 = np.dsplit(ary, 2)\n",
    "print(f\"\\n拆分成两份\\n数组ary1的内容为：\\n{ary1}\\n数组ary2的内容为：\\n{ary2}\")"
   ]
  },
  {
   "cell_type": "markdown",
   "id": "f60f3aab",
   "metadata": {},
   "source": [
    "### 1.3.13 np.concatenate方法（组合）、np.split方法（拆分）"
   ]
  },
  {
   "cell_type": "raw",
   "id": "7835d8f0",
   "metadata": {},
   "source": [
    "多维数组组合与拆分的相关函数：\n",
    "通过axis作为关键字参数指定组合的方向，取值如下：\n",
    "若待组合的数组都是二维数组：\n",
    "0：垂直方向组合\n",
    "1：水平方向组合\n",
    "若待组合的数组都是三维数组：\n",
    "0：垂直方向组合\n",
    "1：水平方向组合\n",
    "2：深度方向组合\n",
    "\n",
    "注：也就是说，二维数组间进行深度组合只能使用 np.dstack((数组1, 数组2)) 进行\n",
    "\n",
    "组合语法为： np.concatenate((数组1, 数组2) , axis = 0/1/2)\n",
    "拆分语法为： np.split(待拆分数组, n, axis = 0/1/2)   这里的n指的是拆分成的份数"
   ]
  },
  {
   "cell_type": "code",
   "execution_count": 61,
   "id": "8977dd1c",
   "metadata": {},
   "outputs": [
    {
     "name": "stdout",
     "output_type": "stream",
     "text": [
      "数组ary1的内容为：\n",
      "[[1 2 3]\n",
      " [4 5 6]]\n",
      "数组ary2的内容为：\n",
      "[[ 7  8  9]\n",
      " [10 11 12]]\n",
      "数组ary_v的内容为：\n",
      "[[ 1  2  3]\n",
      " [ 4  5  6]\n",
      " [ 7  8  9]\n",
      " [10 11 12]]\n",
      "数组ary_h的内容为：\n",
      "[[ 1  2  3  7  8  9]\n",
      " [ 4  5  6 10 11 12]]\n",
      "数组ary3的内容为：\n",
      "[[1 2 3]\n",
      " [4 5 6]]\n",
      "数组ary4的内容为：\n",
      "[[ 7  8  9]\n",
      " [10 11 12]]\n"
     ]
    }
   ],
   "source": [
    "# 先导包\n",
    "import numpy as np\n",
    "\n",
    "# 创建演示数组\n",
    "ary1 = np.array([[1, 2, 3], [4, 5, 6]])\n",
    "ary2 = np.array([[7, 8, 9], [10, 11, 12]])\n",
    "print(f\"数组ary1的内容为：\\n{ary1}\\n数组ary2的内容为：\\n{ary2}\")\n",
    "\n",
    "# 组合 np.concatenate()\n",
    "ary_v = np.concatenate((ary1, ary2), axis = 0)\n",
    "ary_h = np.concatenate((ary1, ary2), axis = 1)\n",
    "print(f\"数组ary_v的内容为：\\n{ary_v}\\n数组ary_h的内容为：\\n{ary_h}\")\n",
    "\n",
    "# 拆分 np.split()\n",
    "ary3, ary4 = np.split(ary_v, 2, axis = 0)  # 垂直切成两份\n",
    "print(f\"数组ary3的内容为：\\n{ary3}\\n数组ary4的内容为：\\n{ary4}\")"
   ]
  },
  {
   "cell_type": "markdown",
   "id": "e3a155a2",
   "metadata": {},
   "source": [
    "### 1.3.14 np.pad方法"
   ]
  },
  {
   "cell_type": "raw",
   "id": "38bafd16",
   "metadata": {},
   "source": [
    "pad: v. 填充；加垫\n",
    "\n",
    "语法：np.pad(array, pad_width=(a, b), mode=\"constant\", constant_values=c)\n",
    "\n",
    "参数：\n",
    "array：传入数组，即待操作数组。\n",
    "pad_width：通常传入元组，a代表在前面填充的元素数量，b代表在末尾填充的元素数量。\n",
    "mode：这里指填充的模式，constant表示用常数填充。\n",
    "constant_values：默认值为0，也可以自己指定常数。\n",
    "\n",
    "功能：对数组进行填充，以改变数组的长度，这里是创建新的数组，即副本。"
   ]
  },
  {
   "cell_type": "code",
   "execution_count": 62,
   "id": "0d66e9fe",
   "metadata": {},
   "outputs": [
    {
     "name": "stdout",
     "output_type": "stream",
     "text": [
      "演示数组的内容为：\n",
      "[1 2]\n",
      "填充后的演示数组的内容为：\n",
      "[1 2 3]\n",
      "演示数组的内容更改为：\n",
      "[ 37 628]\n",
      "填充后的演示数组的内容为：\n",
      "[1 2 3]（没有改变）\n"
     ]
    }
   ],
   "source": [
    "# 先导包\n",
    "import numpy as np\n",
    "\n",
    "# 创建演示数组\n",
    "ary = np.arange(1, 3)\n",
    "print(f\"演示数组的内容为：\\n{ary}\")\n",
    "\n",
    "# 使用pad方法在末尾填充一个常数3\n",
    "ary1 = np.pad(ary, pad_width=(0, 1), mode=\"constant\", constant_values=3)\n",
    "print(f\"填充后的演示数组的内容为：\\n{ary1}\")\n",
    "\n",
    "# 改变原数组不会使ary1改变，即pad方法是创建新数组\n",
    "ary = np.array([37, 628])\n",
    "print(f\"演示数组的内容更改为：\\n{ary}\")\n",
    "print(f\"填充后的演示数组的内容为：\\n{ary1}（没有改变）\")"
   ]
  },
  {
   "cell_type": "markdown",
   "id": "149b3682",
   "metadata": {},
   "source": [
    "#### 练习：长度不等的数组进行组合，需要先填充某数组使得两者长度相同"
   ]
  },
  {
   "cell_type": "code",
   "execution_count": 63,
   "id": "b4fc8fe7",
   "metadata": {},
   "outputs": [
    {
     "name": "stdout",
     "output_type": "stream",
     "text": [
      "数组ary1的内容为：\n",
      "[1 2 3 4 5]\n",
      "数组ary2的内容为：\n",
      "[1 2 3 4]\n",
      "填充后的数组ary2的内容为：\n",
      "[ 1  2  3  4 -1]\n",
      "数组ary3的内容为：\n",
      "[[ 1  2  3  4  5]\n",
      " [ 1  2  3  4 -1]]\n"
     ]
    }
   ],
   "source": [
    "# 先导包\n",
    "import numpy as np\n",
    "\n",
    "# 创建演示数组\n",
    "ary1 = np.arange(1, 6)\n",
    "ary2 = np.arange(1, 5)\n",
    "print(f\"数组ary1的内容为：\\n{ary1}\\n数组ary2的内容为：\\n{ary2}\")\n",
    "\n",
    "# 填充数组ary2的长度，使其与ary1相同\n",
    "ary2 = np.pad(ary2, pad_width=(0, 1), mode = \"constant\", constant_values = -1)\n",
    "\n",
    "# 这里的ary2是原数组，pad_width后的元组中，第一个表示在头部补几个元素，第二个表示在尾部补几个元素，constant是常量，赋值-1，即尾部补一个-1\n",
    "print(f\"填充后的数组ary2的内容为：\\n{ary2}\")\n",
    "\n",
    "# 对ary1和ary2进行垂直组合\n",
    "ary3 = np.vstack((ary1, ary2))\n",
    "print(\"数组ary3的内容为：\")\n",
    "print(ary3)"
   ]
  },
  {
   "cell_type": "markdown",
   "id": "17962026",
   "metadata": {},
   "source": [
    "### 1.3.15 简单的一维数组组合方案"
   ]
  },
  {
   "cell_type": "markdown",
   "id": "b6417ed9",
   "metadata": {},
   "source": [
    "#### 1.3.15.1 np.row_stack方法、np.column_stack方法"
   ]
  },
  {
   "cell_type": "raw",
   "id": "52c43863",
   "metadata": {},
   "source": [
    "row：行\n",
    "column：列\n",
    "\n",
    "语法： np.row_stack((数组一, 数组二))\n",
    "     np.column_stack((数组一, 数组二))        # 注意这里传入的都是元组！！！\n",
    "\n",
    "功能： 把两个一维数组组合成两行\n",
    "     把两个一维数组组合成两列"
   ]
  },
  {
   "cell_type": "code",
   "execution_count": 64,
   "id": "f0fae1c4",
   "metadata": {},
   "outputs": [
    {
     "name": "stdout",
     "output_type": "stream",
     "text": [
      "数组ary1的内容为：\n",
      "[1 2 3 4 5 6]\n",
      "数组ary2的内容为：\n",
      "[ 7  8  9 10 11 12]\n",
      "将两个数组按行组合所得内容为：\n",
      "[[ 1  2  3  4  5  6]\n",
      " [ 7  8  9 10 11 12]]\n",
      "将两个数组按列组合所得内容为：\n",
      "[[ 1  7]\n",
      " [ 2  8]\n",
      " [ 3  9]\n",
      " [ 4 10]\n",
      " [ 5 11]\n",
      " [ 6 12]]\n"
     ]
    }
   ],
   "source": [
    "# 先导包\n",
    "import numpy as np\n",
    "\n",
    "# 创建演示数组\n",
    "ary1 = np.arange(1, 7)  # 1 2 3 4 5 6\n",
    "ary2 = np.arange(7, 13) # 7 8 9 10 11 12\n",
    "print(f\"数组ary1的内容为：\\n{ary1}\\n数组ary2的内容为：\\n{ary2}\")\n",
    "\n",
    "# 把两个数组摞在一起成两行\n",
    "ary_h = np.row_stack((ary1, ary2))\n",
    "print(f\"将两个数组按行组合所得内容为：\\n{ary_h}\")\n",
    "\n",
    "# 把两个数组组合在一起成为两列\n",
    "ary_v = np.column_stack((ary1, ary2))\n",
    "print(f\"将两个数组按列组合所得内容为：\\n{ary_v}\")"
   ]
  },
  {
   "cell_type": "markdown",
   "id": "0f4bc147",
   "metadata": {},
   "source": [
    "#### 1.3.15.2 练习：使用vstack方法进行垂直组合，在一维数组中等同于row_stack方法"
   ]
  },
  {
   "cell_type": "code",
   "execution_count": 65,
   "id": "ae6137d8",
   "metadata": {},
   "outputs": [
    {
     "name": "stdout",
     "output_type": "stream",
     "text": [
      "数组ary1的内容为：\n",
      "[1 2 3 4 5 6]\n",
      "数组ary2的内容为：\n",
      "[ 7  8  9 10 11 12]\n",
      "将两个数组按行组合所得内容为：\n",
      "[[ 1  2  3  4  5  6]\n",
      " [ 7  8  9 10 11 12]]\n"
     ]
    }
   ],
   "source": [
    "# 先导包\n",
    "import numpy as np\n",
    "\n",
    "# 创建演示数组\n",
    "ary1 = np.arange(1, 7)  # 1 2 3 4 5 6\n",
    "ary2 = np.arange(7, 13) # 7 8 9 10 11 12\n",
    "print(f\"数组ary1的内容为：\\n{ary1}\\n数组ary2的内容为：\\n{ary2}\")\n",
    "\n",
    "# 把两个数组摞在一起成两行\n",
    "ary_h = np.vstack((ary1, ary2))\n",
    "print(f\"将两个数组按行组合所得内容为：\\n{ary_h}\")"
   ]
  },
  {
   "cell_type": "markdown",
   "id": "7e5c7708",
   "metadata": {},
   "source": [
    "#### 1.3.15.3 练习：使用reshape方法将数组转为列向量，再进行水平组合"
   ]
  },
  {
   "cell_type": "code",
   "execution_count": 66,
   "id": "16ed81c6",
   "metadata": {},
   "outputs": [
    {
     "name": "stdout",
     "output_type": "stream",
     "text": [
      "数组ary1的内容为：\n",
      "[1 2 3 4 5 6]\n",
      "数组ary2的内容为：\n",
      "[ 7  8  9 10 11 12]\n",
      "将两个数组按列组合所得内容为：\n",
      "[[ 1  7]\n",
      " [ 2  8]\n",
      " [ 3  9]\n",
      " [ 4 10]\n",
      " [ 5 11]\n",
      " [ 6 12]]\n"
     ]
    }
   ],
   "source": [
    "# 先导包\n",
    "import numpy as np\n",
    "\n",
    "# 创建演示数组\n",
    "ary1 = np.arange(1, 7)  # 1 2 3 4 5 6\n",
    "ary2 = np.arange(7, 13) # 7 8 9 10 11 12\n",
    "print(f\"数组ary1的内容为：\\n{ary1}\\n数组ary2的内容为：\\n{ary2}\")\n",
    "\n",
    "# 把两个数组组合在一起成为两列\n",
    "colum_vector_of_ary1 = ary1.reshape(-1, 1)    # 这里得到一个关于ary1的列向量\n",
    "colum_vector_of_ary2 = ary2.reshape(-1, 1)    # 这里得到一个关于ary2的列向量\n",
    "ary_v = np.hstack((colum_vector_of_ary1, colum_vector_of_ary2))\n",
    "print(f\"将两个数组按列组合所得内容为：\\n{ary_v}\")"
   ]
  },
  {
   "cell_type": "markdown",
   "id": "4577070e",
   "metadata": {},
   "source": [
    "## 1.4 ndarray运算"
   ]
  },
  {
   "cell_type": "markdown",
   "id": "64aa0481",
   "metadata": {},
   "source": [
    "### 1.4.1 逻辑运算"
   ]
  },
  {
   "cell_type": "markdown",
   "id": "caf66e9c",
   "metadata": {},
   "source": [
    "#### 1.4.1.1 使用大于、小于、等于、大于等于、小于等于号可以创建布尔数组"
   ]
  },
  {
   "cell_type": "code",
   "execution_count": 67,
   "id": "fc182ea8",
   "metadata": {},
   "outputs": [
    {
     "name": "stdout",
     "output_type": "stream",
     "text": [
      "演示数组array的内容是：\n",
      "[[   4    5    6   11   37]\n",
      " [ 515  628  144  828 1014]\n",
      " [ 918 1114    5   14   15]]\n",
      "\n",
      "大于30的记为True，其它的为False，原数组可表示为：\n",
      "[[False False False False  True]\n",
      " [ True  True  True  True  True]\n",
      " [ True  True False False False]]\n",
      "\n",
      "大于30的保留，其它的删除，得到的数组内容为：\n",
      "[  37  515  628  144  828 1014  918 1114]\n",
      "\n",
      "大于30的保留，其它的删除，得到的数组内容为：\n",
      "[  37  515  628  144  828 1014  918 1114]\n",
      "\n",
      "修改后演示数组array的内容是：\n",
      "[[   4    5    6   11 1314]\n",
      " [1314 1314 1314 1314 1314]\n",
      " [1314 1314    5   14   15]]\n"
     ]
    }
   ],
   "source": [
    "# 先导包\n",
    "import numpy as np\n",
    "\n",
    "# 创建演示数组\n",
    "array = np.array([4, 5, 6, 11, 37, 515, 628, 144, 828, 1014, 918, 1114, 5, 14, 15])\n",
    "array.shape = (3, 5)\n",
    "print(\"演示数组array的内容是：\")\n",
    "print(array)\n",
    "\n",
    "# 演示逻辑判断\n",
    "logical_decision = array > 30\n",
    "print(\"\\n大于30的记为True，其它的为False，原数组可表示为：\")\n",
    "print(logical_decision)\n",
    "\n",
    "# 将上述数组作为掩码使用\n",
    "filtered_array1 = array[logical_decision]\n",
    "print(\"\\n大于30的保留，其它的删除，得到的数组内容为：\")\n",
    "print(filtered_array1)\n",
    "\n",
    "# 总结：可以通过上述方法直接取出大于30的数作为数组，演示代码如下：\n",
    "filtered_array2 = array[array > 30]\n",
    "print(\"\\n大于30的保留，其它的删除，得到的数组内容为：\")\n",
    "print(filtered_array2)\n",
    "\n",
    "# 利用逻辑判断进行对应元素修改，下例将大于30的数字改为：1314\n",
    "array[array > 30] = 1314\n",
    "print(\"\\n修改后演示数组array的内容是：\")\n",
    "print(array)"
   ]
  },
  {
   "cell_type": "markdown",
   "id": "e572fa5e",
   "metadata": {},
   "source": [
    "#### 1.4.1.2 可以通过索引切片控制逻辑判断的内容范围"
   ]
  },
  {
   "cell_type": "code",
   "execution_count": 68,
   "id": "bae68c5b",
   "metadata": {},
   "outputs": [
    {
     "name": "stdout",
     "output_type": "stream",
     "text": [
      "演示数组ary的内容为：\n",
      "[[80 90 46 44]\n",
      " [94 68 56 74]\n",
      " [94 67 73 98]]\n",
      "\n",
      "小于60的记为False，其它的为True，原数组可表示为：\n",
      "[[False  True]\n",
      " [ True  True]]\n"
     ]
    }
   ],
   "source": [
    "# 先导包\n",
    "import numpy as np\n",
    "\n",
    "# 创建演示数组（形状为三行四列，内容为37-100的整数）\n",
    "ary = np.random.randint(37, 101, (3, 4))\n",
    "\n",
    "# 展示演示数组的内容\n",
    "print(\"演示数组ary的内容为：\")\n",
    "print(ary)\n",
    "\n",
    "# 只判断二三行、三四列对应的四个元素\n",
    "logical_decision = ary[1: 3, 2: 4] >= 60\n",
    "print(\"\\n小于60的记为False，其它的为True，原数组可表示为：\")\n",
    "print(logical_decision)"
   ]
  },
  {
   "cell_type": "markdown",
   "id": "d7197a3f",
   "metadata": {},
   "source": [
    "#### 1.4.1.3 复合逻辑判断：np.logical_and方法、np.logical_or方法"
   ]
  },
  {
   "cell_type": "raw",
   "id": "21a248bb",
   "metadata": {},
   "source": [
    "np.logical_and ：逻辑判断“且”，两者都需满足\n",
    "np.logical_or  ：逻辑判断“或”，只需满足一者"
   ]
  },
  {
   "cell_type": "code",
   "execution_count": 69,
   "id": "fb50b638",
   "metadata": {},
   "outputs": [
    {
     "name": "stdout",
     "output_type": "stream",
     "text": [
      "演示数组ary的内容为：\n",
      "[[42 13 20 46]\n",
      " [37  9  1 22]\n",
      " [23 19 25 22]]\n",
      "\n",
      "演示数组ary1的内容为：\n",
      "[[False False False False]\n",
      " [ True False False  True]\n",
      " [ True False  True  True]]\n",
      "\n",
      "演示数组ary2的内容为：\n",
      "[[ True  True  True  True]\n",
      " [False  True  True False]\n",
      " [False  True False False]]\n"
     ]
    }
   ],
   "source": [
    "# 先导包\n",
    "import numpy as np\n",
    "\n",
    "# 创建演示数组（形状为三行四列，内容为0-50的随机整数）\n",
    "ary = np.random.randint(0, 51, (3, 4))\n",
    "\n",
    "# 展示演示数组的内容\n",
    "print(\"演示数组ary的内容为：\")\n",
    "print(ary)\n",
    "\n",
    "# np.logical_and（并且）\n",
    "ary1 = np.logical_and(ary > 20, ary < 40)  # 大于20 并且 小于40的为True，其余为False\n",
    "\n",
    "# np.logical_or(或者)\n",
    "ary2 = np.logical_or(ary >= 40, ary <=20)  # 大于等于40或者小于等于20为True，大于20并且小于40为False\n",
    "\n",
    "# 输出内容\n",
    "print(\"\\n演示数组ary1的内容为：\")\n",
    "print(ary1)\n",
    "print(\"\\n演示数组ary2的内容为：\")\n",
    "print(ary2)"
   ]
  },
  {
   "cell_type": "markdown",
   "id": "b24b8f1d",
   "metadata": {},
   "source": [
    "### 1.4.2 通用判断函数"
   ]
  },
  {
   "cell_type": "markdown",
   "id": "8bac02f2",
   "metadata": {},
   "source": [
    "#### 1.4.2.1 np.all基础方法"
   ]
  },
  {
   "cell_type": "raw",
   "id": "0390388e",
   "metadata": {},
   "source": [
    "语法： np.all(布尔数组)\n",
    "\n",
    "功能： 如果传入的布尔数组全是True，则返回值为True，否则为False\n",
    "\n",
    "注：使用逻辑判断可以得到布尔数组"
   ]
  },
  {
   "cell_type": "code",
   "execution_count": 70,
   "id": "b1aa87b4",
   "metadata": {},
   "outputs": [
    {
     "name": "stdout",
     "output_type": "stream",
     "text": [
      "演示数组ary1的内容是：\n",
      "[ True  True  True  True  True  True]\n",
      "\n",
      "演示数组ary2的内容是：\n",
      "[False False False  True  True  True]\n",
      "\n",
      "结果一为：True\n",
      "\n",
      "结果二为：False\n"
     ]
    }
   ],
   "source": [
    "# 先导包\n",
    "import numpy as np\n",
    "\n",
    "# 创建演示数组\n",
    "array = np.array([1, 2, 3, 4, 5, 6])\n",
    "\n",
    "# 利用逻辑运算创建布尔数组\n",
    "ary1 = array > 0\n",
    "ary2 = array > 3\n",
    "\n",
    "# 展示布尔数组的内容\n",
    "print(\"演示数组ary1的内容是：\")\n",
    "print(ary1)\n",
    "print(\"\\n演示数组ary2的内容是：\")\n",
    "print(ary2)\n",
    "\n",
    "# 使用np.all方法\n",
    "ary1_result = np.all(ary1)\n",
    "ary2_result = np.all(ary2)\n",
    "print(f\"\\n结果一为：{ary1_result}\")\n",
    "print(f\"\\n结果二为：{ary2_result}\")"
   ]
  },
  {
   "cell_type": "markdown",
   "id": "9d82a30d",
   "metadata": {},
   "source": [
    "#### 1.4.2.2 np.any基础方法"
   ]
  },
  {
   "cell_type": "raw",
   "id": "ad134b35",
   "metadata": {},
   "source": [
    "语法： np.any(布尔数组)\n",
    "\n",
    "功能： 如果传入的布尔数组有至少一个True，则返回值为True，否则为False\n",
    "\n",
    "注：使用逻辑判断可以得到布尔数组"
   ]
  },
  {
   "cell_type": "code",
   "execution_count": 71,
   "id": "f0921c44",
   "metadata": {},
   "outputs": [
    {
     "name": "stdout",
     "output_type": "stream",
     "text": [
      "演示数组ary1的内容是：\n",
      "[ True  True  True  True  True  True]\n",
      "\n",
      "演示数组ary2的内容是：\n",
      "[False False False False False False]\n",
      "\n",
      "结果一为：True\n",
      "\n",
      "结果二为：False\n"
     ]
    }
   ],
   "source": [
    "# 先导包\n",
    "import numpy as np\n",
    "\n",
    "# 创建演示数组\n",
    "array = np.array([1, 2, 3, 4, 5, 6])\n",
    "\n",
    "# 利用逻辑运算创建布尔数组\n",
    "ary1 = array > 0\n",
    "ary2 = array > 6\n",
    "\n",
    "# 展示布尔数组的内容\n",
    "print(\"演示数组ary1的内容是：\")\n",
    "print(ary1)\n",
    "print(\"\\n演示数组ary2的内容是：\")\n",
    "print(ary2)\n",
    "\n",
    "# 使用np.any方法\n",
    "ary1_result = np.any(ary1)\n",
    "ary2_result = np.any(ary2)\n",
    "print(f\"\\n结果一为：{ary1_result}\")\n",
    "print(f\"\\n结果二为：{ary2_result}\")"
   ]
  },
  {
   "cell_type": "markdown",
   "id": "839715a1",
   "metadata": {},
   "source": [
    "#### 1.4.2.3 any、all方法的扩展（沿轴检查）"
   ]
  },
  {
   "cell_type": "raw",
   "id": "016a26bc",
   "metadata": {},
   "source": [
    "all、any方法的内置参数axis默认为None，表示检查全数组。\n",
    "可以通过axis=0表示沿着第一个轴进行检查，axis=1表示沿着第二个轴进行检查，以此类推\n",
    "\n",
    "对于二维数组\n",
    "axis=0 沿着第一个轴 即 行\n",
    "axis=1 沿着第二个轴 即 列\n",
    "\n",
    "对于三维数组\n",
    "axis=0 沿着第一个轴 即 深度\n",
    "axis=1 沿着第二个轴 即 行\n",
    "axis=2 沿着第三个轴 即 列\n",
    "\n",
    "由于any和all方法的axis参数使用方法一致，故只用all方法进行展示\n",
    "\n",
    "特别注意：沿行进行检查意味着检查结果是一列一列的输出，比如形状为二行三列的数组，沿行检查输出的是三列的结果，沿列检查输出的是两行的结果"
   ]
  },
  {
   "cell_type": "code",
   "execution_count": 72,
   "id": "8ea04482",
   "metadata": {},
   "outputs": [
    {
     "name": "stdout",
     "output_type": "stream",
     "text": [
      "演示数组ary的内容为：\n",
      "[[ True  True  True]\n",
      " [ True False  True]]\n",
      "\n",
      "沿行检查，即按列检查，结果为：\n",
      "[ True False  True]\n",
      "\n",
      "沿列检查，即按行检查，结果为：\n",
      "[ True False]\n"
     ]
    }
   ],
   "source": [
    "# 先导包\n",
    "import numpy as np\n",
    "\n",
    "# 创建演示数组\n",
    "ary = np.array([[True, True, True], [True, False, True]])\n",
    "\n",
    "# 展示演示数组\n",
    "print(\"演示数组ary的内容为：\")\n",
    "print(ary)\n",
    "\n",
    "# 演示axis参数\n",
    "result_row = np.all(ary, axis=0)   # 按行进行检查\n",
    "print(\"\\n沿行检查，即按列检查，结果为：\")\n",
    "print(result_row)\n",
    "\n",
    "result_column = np.all(ary, axis=1) # 按列进行检查\n",
    "print(\"\\n沿列检查，即按行检查，结果为：\")\n",
    "print(result_column)"
   ]
  },
  {
   "cell_type": "markdown",
   "id": "90e3bd96",
   "metadata": {},
   "source": [
    "### 1.4.3 np.where方法（三元运算符）"
   ]
  },
  {
   "cell_type": "raw",
   "id": "6bb74f33",
   "metadata": {},
   "source": [
    "语法： np.where(condition, x, y)\n",
    "\n",
    "参数：\n",
    "condition:   布尔数组，因为条件表达式会返回布尔数组，所以也可以传入条件表达式。\n",
    "x（可选）:   满足条件（True）时选取的值或数组。\n",
    "y（可选）:   不满足条件（False）时选取的值或数组。\n",
    "\n",
    "功能：  返回布尔数组中结果为True的下标索引，如果为二维数组，则先返回行元组，再返回列元组。\n",
    "      并可以将True修改为提供的x参数，False修改为y参数，返回新数组。"
   ]
  },
  {
   "cell_type": "markdown",
   "id": "d6b108e6",
   "metadata": {},
   "source": [
    "#### 1.4.3.1 只传入布尔数组或条件表达式"
   ]
  },
  {
   "cell_type": "markdown",
   "id": "7ad58a70",
   "metadata": {},
   "source": [
    "##### 一维数组"
   ]
  },
  {
   "cell_type": "code",
   "execution_count": 73,
   "id": "70b5b0c1",
   "metadata": {},
   "outputs": [
    {
     "name": "stdout",
     "output_type": "stream",
     "text": [
      "演示数组的内容为：\n",
      "[ 1  2  3  4  5  6  7  8  9 10 11 12]\n",
      "\n",
      "大于6的元素下标索引分别为：\n",
      "(array([ 6,  7,  8,  9, 10, 11], dtype=int64),)\n"
     ]
    }
   ],
   "source": [
    "# 先导包\n",
    "import numpy as np\n",
    "\n",
    "# 创建演示数组并展示\n",
    "ary = np.arange(1, 13)\n",
    "print(\"演示数组的内容为：\")\n",
    "print(ary)\n",
    "\n",
    "# 使用np.where方法\n",
    "indices = np.where(ary > 6)\n",
    "print(\"\\n大于6的元素下标索引分别为：\")\n",
    "print(indices)"
   ]
  },
  {
   "cell_type": "markdown",
   "id": "597d72ce",
   "metadata": {},
   "source": [
    "##### 二维数组"
   ]
  },
  {
   "cell_type": "code",
   "execution_count": 74,
   "id": "5979b7a3",
   "metadata": {},
   "outputs": [
    {
     "name": "stdout",
     "output_type": "stream",
     "text": [
      "演示数组的内容为：\n",
      "[[ 1  2  3  4]\n",
      " [ 5  6  7  8]\n",
      " [ 9 10 11 12]]\n",
      "\n",
      "大于6的元素下标索引分别为：\n",
      "(array([1, 1, 2, 2, 2, 2], dtype=int64), array([2, 3, 0, 1, 2, 3], dtype=int64))\n"
     ]
    }
   ],
   "source": [
    "# 先导包\n",
    "import numpy as np\n",
    "\n",
    "# 创建演示数组并展示\n",
    "ary = np.arange(1, 13)\n",
    "ary.shape = (3, 4)\n",
    "print(\"演示数组的内容为：\")\n",
    "print(ary)\n",
    "\n",
    "# 使用np.where方法\n",
    "indices = np.where(ary > 6)\n",
    "print(\"\\n大于6的元素下标索引分别为：\")\n",
    "print(indices)"
   ]
  },
  {
   "cell_type": "markdown",
   "id": "c799b4d2",
   "metadata": {},
   "source": [
    "#### 1.4.3.2 传入x、y参数（返回值为新数组）"
   ]
  },
  {
   "cell_type": "markdown",
   "id": "8c5dcf61",
   "metadata": {},
   "source": [
    "##### 传入的参数为原数组和标量"
   ]
  },
  {
   "cell_type": "code",
   "execution_count": 75,
   "id": "670281df",
   "metadata": {},
   "outputs": [
    {
     "name": "stdout",
     "output_type": "stream",
     "text": [
      "演示数组的内容为：\n",
      "[ 1  2  3  4  5  6  7  8  9 10 11 12]\n",
      "\n",
      "所得数组的内容为：\n",
      "[ 0  0  0  0  0  0  7  8  9 10 11 12]\n"
     ]
    }
   ],
   "source": [
    "# 先导包\n",
    "import numpy as np\n",
    "\n",
    "# 创建演示数组并展示\n",
    "ary = np.arange(1, 13)\n",
    "print(\"演示数组的内容为：\")\n",
    "print(ary)\n",
    "\n",
    "# 使用np.where方法，大于6的元素不变，其它的变为0\n",
    "result = np.where(ary > 6, ary, 0)\n",
    "\n",
    "# 查看返回值\n",
    "print(\"\\n所得数组的内容为：\")\n",
    "print(result)"
   ]
  },
  {
   "cell_type": "markdown",
   "id": "5b4ec67f",
   "metadata": {},
   "source": [
    "##### 传入参数为新的数组"
   ]
  },
  {
   "cell_type": "code",
   "execution_count": 76,
   "id": "17f01d24",
   "metadata": {},
   "outputs": [
    {
     "name": "stdout",
     "output_type": "stream",
     "text": [
      "演示数组的内容为：\n",
      "[[ 1  2  3  4]\n",
      " [ 5  6  7  8]\n",
      " [ 9 10 11 12]]\n",
      "\n",
      "数组ary1的内容为：\n",
      "[[ 2  4  6  8]\n",
      " [10 12 14 16]\n",
      " [18 20 22 24]]\n",
      "\n",
      "数组ary2的内容为：\n",
      "[[ 3  6  9 12]\n",
      " [15 18 21 24]\n",
      " [27 30 33 36]]\n",
      "\n",
      "所得数组的内容为：\n",
      "[[ 3  6  9 12]\n",
      " [15 18 14 16]\n",
      " [18 20 22 24]]\n"
     ]
    }
   ],
   "source": [
    "# 先导包\n",
    "import numpy as np\n",
    "\n",
    "# 创建演示数组并展示\n",
    "ary = np.arange(1, 13)\n",
    "ary.shape = (3, 4)\n",
    "print(\"演示数组的内容为：\")\n",
    "print(ary)\n",
    "\n",
    "# 创建待提供的参数数组，注意这里的形状应当与传入的布尔数组相同\n",
    "ary1 = ary * 2  # 这里指将数组ary的每个元素都乘2，并用ary1接收，后续会有详细介绍\n",
    "print(\"\\n数组ary1的内容为：\")\n",
    "print(ary1)\n",
    "ary2 = ary * 3  # 这里指将数组ary的每个元素都乘3，并用ary2接收，后续会有详细介绍\n",
    "print(\"\\n数组ary2的内容为：\")\n",
    "print(ary2)\n",
    "\n",
    "# 使用np.where方法，将大于6的元素乘2，将小于等于6的元素乘3\n",
    "result = np.where(ary > 6, ary1, ary2)\n",
    "\n",
    "# 查看返回值\n",
    "print(\"\\n所得数组的内容为：\")\n",
    "print(result)"
   ]
  },
  {
   "cell_type": "markdown",
   "id": "6eda5c83",
   "metadata": {},
   "source": [
    "### 1.4.4 统计运算"
   ]
  },
  {
   "cell_type": "markdown",
   "id": "d45b4639",
   "metadata": {},
   "source": [
    "#### 1.4.4.1 统计指标"
   ]
  },
  {
   "cell_type": "raw",
   "id": "a401be96",
   "metadata": {},
   "source": [
    "最大值（max）、最小值（min）、标准差（std）、平均值（mean）\n",
    "\n",
    "语法一：\n",
    "np.max(array, axis=)\n",
    "np.min(array, axis=)\n",
    "np.std(array, axis=)\n",
    "np.mean(array, axis=)\n",
    "\n",
    "语法二：\n",
    "数组.max(axis=)\n",
    "数组.min(axis=)\n",
    "数组.std(axis=)\n",
    "数组.mean(axis=)\n",
    "\n",
    "参数：\n",
    "array： 表示待定数组\n",
    "axis：  沿轴进行。axis=0，代表沿着第一个轴进行，比如对于二维数组，就是沿着行的方向进行，即逐列使用方法。\n",
    "\n",
    "说明：以上两种语法所求的结果一致，取决于个人习惯。"
   ]
  },
  {
   "cell_type": "code",
   "execution_count": 77,
   "id": "0c464a35",
   "metadata": {},
   "outputs": [
    {
     "name": "stdout",
     "output_type": "stream",
     "text": [
      "数组array的内容是：\n",
      "[[ 1  2  3  4  5]\n",
      " [ 6  7  8  9 10]\n",
      " [11 12 13 14 15]\n",
      " [16 17 18 19 20]] \n",
      "\n",
      "数组array最大值为：20\n",
      "数组array最小值为：1\n",
      "数组array标准差为：5.766281297335398\n",
      "数组array平均值为：10.5\n",
      "数组array最大值为：20\n",
      "数组array最小值为：1\n",
      "数组array标准差为：5.766281297335398\n",
      "数组array平均值为：10.5\n",
      "\n",
      "数组array每一行（沿着列方向进行）的最大值分别为：[ 5 10 15 20]\n",
      "数组array每一列（沿着行方向进行）的最大值分别为：[16 17 18 19 20]\n"
     ]
    }
   ],
   "source": [
    "# 先导包\n",
    "import numpy as np\n",
    "\n",
    "# 创建演示数组并展示\n",
    "array = np.arange(1, 21)\n",
    "array.shape = (4, 5)\n",
    "print(\"数组array的内容是：\")\n",
    "print(array, \"\\n\")\n",
    "\n",
    "# 演示各种统计指标方法\n",
    "print(f\"数组array最大值为：{array.max()}\")\n",
    "print(f\"数组array最小值为：{array.min()}\")\n",
    "print(f\"数组array标准差为：{array.std()}\")\n",
    "print(f\"数组array平均值为：{array.mean()}\")\n",
    "\n",
    "print(f\"数组array最大值为：{np.max(array)}\")\n",
    "print(f\"数组array最小值为：{np.min(array)}\")\n",
    "print(f\"数组array标准差为：{np.std(array)}\")\n",
    "print(f\"数组array平均值为：{np.mean(array)}\")\n",
    "\n",
    "# 演示参数axis的使用（仅使用max进行演示，其余的使用原理相同）\n",
    "print(f\"\\n数组array每一行（沿着列方向进行）的最大值分别为：{array.max(axis=1)}\")\n",
    "print(f\"数组array每一列（沿着行方向进行）的最大值分别为：{array.max(axis=0)}\")"
   ]
  },
  {
   "cell_type": "markdown",
   "id": "c0524a5a",
   "metadata": {},
   "source": [
    "#### 1.4.4.2 获取最大值、最小值对应的下标索引"
   ]
  },
  {
   "cell_type": "raw",
   "id": "ff32915c",
   "metadata": {},
   "source": [
    "语法一：\n",
    "np.argmax(array, axis=)\n",
    "np.argmin(array, axis=)\n",
    "\n",
    "语法二：\n",
    "数组.argmax(axis=)\n",
    "数组.argmin(axis=)\n",
    "\n",
    "参数：\n",
    "array： 表示待定数组\n",
    "axis：  沿轴进行。axis=0，代表沿着第一个轴进行，比如对于二维数组，就是沿着行的方向进行，即逐列使用方法。\n",
    "\n",
    "功能：获取数组的最大值、最小值的下标索引\n",
    "\n",
    "说明：以上两种语法所求的结果一致，取决于个人习惯。"
   ]
  },
  {
   "cell_type": "code",
   "execution_count": 78,
   "id": "7e4eb9c8",
   "metadata": {},
   "outputs": [
    {
     "name": "stdout",
     "output_type": "stream",
     "text": [
      "数组array的内容是：[1 3 2 5 4]\n",
      "数组array，最大值对应的下标索引为：3\n",
      "数组array，最小值对应的下标索引为：0\n"
     ]
    }
   ],
   "source": [
    "# 先导包\n",
    "import numpy as np\n",
    "\n",
    "# 创建演示数组并展示\n",
    "array = np.array([1, 3, 2, 5, 4])\n",
    "print(f\"数组array的内容是：{array}\")\n",
    "\n",
    "# 使用上述语法得到最大值和最小值索引\n",
    "index_max = np.argmax(array)\n",
    "index_min = array.argmin()\n",
    "print(f\"数组array，最大值对应的下标索引为：{index_max}\")\n",
    "print(f\"数组array，最小值对应的下标索引为：{index_min}\")"
   ]
  },
  {
   "cell_type": "code",
   "execution_count": 79,
   "id": "947ccfde",
   "metadata": {},
   "outputs": [
    {
     "name": "stdout",
     "output_type": "stream",
     "text": [
      "数组array的内容是：\n",
      "[[1 2 3]\n",
      " [4 5 6]]\n",
      "数组array，沿列取最大值（每行的最大值）对应的下标索引为：[2 2]\n",
      "数组array，沿行取最小值（每列的最小值）对应的下标索引为：[0 0 0]\n"
     ]
    }
   ],
   "source": [
    "# 演示二维数组的argmax和argmin语法\n",
    "# 先导包\n",
    "import numpy as np\n",
    "\n",
    "# 创建演示数组并展示\n",
    "array = np.arange(1, 7)\n",
    "array.shape = (2, 3)\n",
    "print(\"数组array的内容是：\")\n",
    "print(array)\n",
    "\n",
    "# 演示axis参数\n",
    "index_max = np.argmax(array, axis=1)\n",
    "print(f\"数组array，沿列取最大值（每行的最大值）对应的下标索引为：{index_max}\")\n",
    "index_min = array.argmin(axis=0)\n",
    "print(f\"数组array，沿行取最小值（每列的最小值）对应的下标索引为：{index_min}\")"
   ]
  },
  {
   "cell_type": "markdown",
   "id": "5508e6c5",
   "metadata": {},
   "source": [
    "### 1.4.5 数组间运算"
   ]
  },
  {
   "cell_type": "markdown",
   "id": "04e8d7a3",
   "metadata": {},
   "source": [
    "#### 1.4.5.1 数组与数的运算"
   ]
  },
  {
   "cell_type": "raw",
   "id": "556705cc",
   "metadata": {},
   "source": [
    "数组与数的运算较为简单，只需要使用：\n",
    "\n",
    "数组 对应符号 数字  \n",
    "\n",
    "即可，比如：\n",
    "\n",
    "数组 + 1    每个元素都加1\n",
    "数组 - 1    每个元素都减1\n",
    "数组 * 2    每个元素都乘2\n",
    "数组 / 2    每个元素都除以2"
   ]
  },
  {
   "cell_type": "code",
   "execution_count": 80,
   "id": "20623b44",
   "metadata": {},
   "outputs": [
    {
     "name": "stdout",
     "output_type": "stream",
     "text": [
      "数组array的内容是：[1 2 3 4 5 6 7 8]\n",
      "每一个元素加1的内容是：[2 3 4 5 6 7 8 9]\n",
      "每一个元素减1的内容是：[0 1 2 3 4 5 6 7]\n",
      "每一个元素乘2的内容是：[ 2  4  6  8 10 12 14 16]\n",
      "每一个元素除以2的内容是：[0.5 1.  1.5 2.  2.5 3.  3.5 4. ]\n"
     ]
    }
   ],
   "source": [
    "# 先导包\n",
    "import numpy as np\n",
    "\n",
    "# 创建演示数组\n",
    "array = np.arange(1, 9)\n",
    "print(f\"数组array的内容是：{array}\")\n",
    "\n",
    "# 演示数组与数的运算\n",
    "print(f\"每一个元素加1的内容是：{array + 1}\")\n",
    "print(f\"每一个元素减1的内容是：{array - 1}\")\n",
    "print(f\"每一个元素乘2的内容是：{array * 2}\")\n",
    "print(f\"每一个元素除以2的内容是：{array / 2}\")"
   ]
  },
  {
   "cell_type": "markdown",
   "id": "0a057c01",
   "metadata": {},
   "source": [
    "##### 练习：创建所有元素均为0.3的、形状为(4, 2) 的二维数组"
   ]
  },
  {
   "cell_type": "code",
   "execution_count": 81,
   "id": "46b2936b",
   "metadata": {},
   "outputs": [
    {
     "name": "stdout",
     "output_type": "stream",
     "text": [
      "[[0.3 0.3]\n",
      " [0.3 0.3]\n",
      " [0.3 0.3]\n",
      " [0.3 0.3]]\n"
     ]
    }
   ],
   "source": [
    "# 先导包\n",
    "import numpy as np\n",
    "\n",
    "# 创建所有元素均为0的、形状为(4, 2) 的二维数组\n",
    "a = np.zeros(shape=(4, 2), dtype=\"float32\")\n",
    "\n",
    "# 数组中的每个元素加0.3\n",
    "b = a + 0.3\n",
    "\n",
    "# 输出内容\n",
    "print(b)"
   ]
  },
  {
   "cell_type": "markdown",
   "id": "562c6be9",
   "metadata": {},
   "source": [
    "#### 1.4.5.2 数组与数组的运算（形状相同）"
   ]
  },
  {
   "cell_type": "raw",
   "id": "01198dbc",
   "metadata": {},
   "source": [
    "语法： ary1 + ary2（加 可以改为 减、乘、除）\n",
    "\n",
    "注意：这里需要保证形状相同，使用语法时，在数组一元素 与之唯一对应的 数组二元素之间 进行 加减乘除 运算"
   ]
  },
  {
   "cell_type": "code",
   "execution_count": 82,
   "id": "d36050b9",
   "metadata": {},
   "outputs": [
    {
     "name": "stdout",
     "output_type": "stream",
     "text": [
      "数组array1的内容是：[1 2 3 4 5 6 7 8]\n",
      "数组array2的内容是：[ 2  4  6  8 10 12 14 16]\n",
      "数组array1 加 数组array2的结果为：[ 3  6  9 12 15 18 21 24]\n",
      "数组array2 减 数组array1的结果为：[1 2 3 4 5 6 7 8]\n",
      "数组array2 乘 数组array1的结果为：[  2   8  18  32  50  72  98 128]\n",
      "数组array2 除以 数组array1的结果为：[2. 2. 2. 2. 2. 2. 2. 2.]\n"
     ]
    }
   ],
   "source": [
    "# 先导包\n",
    "import numpy as np\n",
    "\n",
    "# 创建演示数组\n",
    "array1 = np.arange(1, 9)\n",
    "print(f\"数组array1的内容是：{array1}\")\n",
    "array2 = np.array([2, 4, 6, 8, 10, 12, 14, 16])\n",
    "print(f\"数组array2的内容是：{array2}\")\n",
    "\n",
    "# 演示数组间的运算\n",
    "print(f\"数组array1 加 数组array2的结果为：{array1 + array2}\")\n",
    "print(f\"数组array2 减 数组array1的结果为：{array2 - array1}\")\n",
    "print(f\"数组array2 乘 数组array1的结果为：{array2 * array1}\")\n",
    "print(f\"数组array2 除以 数组array1的结果为：{array2 / array1}\")"
   ]
  },
  {
   "cell_type": "markdown",
   "id": "f21e75a6",
   "metadata": {},
   "source": [
    "#### 1.4.5.3 广播机制"
   ]
  },
  {
   "cell_type": "raw",
   "id": "574f1016",
   "metadata": {},
   "source": [
    "概念\n",
    "广播机制是 NumPy 中的一种功能，允许不同形状的数组进行元素级运算。通过自动扩展数组的形状，使得它们可以在不显式复制数据的情况下进行操作。\n",
    "\n",
    "广播规则\n",
    "\n",
    "相同形状：\n",
    "如果两个数组的形状相同，可以直接进行运算。\n",
    "\n",
    "不同形状：\n",
    "如果维度数量不同，较小的数组在前面补充维度。\n",
    "如果某个维度的大小不同，但其中一个数组的大小为 1，较小的数组将在该维度上进行扩展。\n",
    "如果任何维度的大小都不相同且都不是 1，则会引发错误。\n",
    "\n",
    "总结：不同形状的时候，把数组的形状写出来。从右往左看，应当满足两者相同，或者一者为1，如果都不满足则不可运算，维度不同时，空白的地方视为1."
   ]
  },
  {
   "cell_type": "code",
   "execution_count": 83,
   "id": "be772ea5",
   "metadata": {},
   "outputs": [
    {
     "name": "stdout",
     "output_type": "stream",
     "text": [
      "a补充后的内容为：\n",
      "[[1 2 3]\n",
      " [1 2 3]\n",
      " [1 2 3]]\n",
      "b补充后的内容为：\n",
      "[[10 10 10]\n",
      " [20 20 20]\n",
      " [30 30 30]]\n",
      "数组a和数组b由于广播机制可以进行相加，相加的结果为：\n",
      "[[11 12 13]\n",
      " [21 22 23]\n",
      " [31 32 33]]\n"
     ]
    }
   ],
   "source": [
    "# 先导包\n",
    "import numpy as np\n",
    "\n",
    "# 创建演示数组\n",
    "a = np.array([1, 2, 3])          # 形状 (3,)\n",
    "b = np.array([[10], [20], [30]]) # 形状 (3, 1)\n",
    "\n",
    "# 通过对比，两者可以进行运算，需要将a视为一行三列，b视为三行一列，然后补充后就是a,b均为三行三列\n",
    "a_broadcast = np.array([[1, 2, 3], [1, 2, 3], [1, 2, 3]])\n",
    "b_broadcast = np.array([[10, 10, 10], [20, 20, 20], [30, 30, 30]])\n",
    "print(\"a补充后的内容为：\")\n",
    "print(a_broadcast)\n",
    "print(\"b补充后的内容为：\")\n",
    "print(b_broadcast)\n",
    "\n",
    "# 进行计算\n",
    "print(\"数组a和数组b由于广播机制可以进行相加，相加的结果为：\")\n",
    "print(a + b)"
   ]
  },
  {
   "cell_type": "markdown",
   "id": "d6386b7b",
   "metadata": {},
   "source": [
    "# 2 矩阵"
   ]
  },
  {
   "cell_type": "markdown",
   "id": "18bc8a9e",
   "metadata": {},
   "source": [
    "## 2.1 矩阵的创建"
   ]
  },
  {
   "cell_type": "markdown",
   "id": "e727e118",
   "metadata": {},
   "source": [
    "### 2.1.1 np.matrix方法"
   ]
  },
  {
   "cell_type": "raw",
   "id": "74fdca1b",
   "metadata": {},
   "source": [
    "语法：\n",
    "np.matrix(二维数组, copy=True, dtype=None)\n",
    "\n",
    "参数：传入数组必须是二维数组，不然就会报错\n",
    "copy：默认值为True，创建的是副本。如果copy=False，则创建视图，意味着新建矩阵 会 随着原数组的变化而改变。\n",
    "dtype：默认值为None，会自动选择类型。也可以手动指定类型，如 dtype=np.float64\n",
    "\n",
    "功能：将传入数组转化为矩阵"
   ]
  },
  {
   "cell_type": "code",
   "execution_count": 84,
   "id": "4bc97b0f",
   "metadata": {},
   "outputs": [
    {
     "name": "stdout",
     "output_type": "stream",
     "text": [
      "原数组的内容为：\n",
      " [[1 2]\n",
      " [3 4]] \n",
      "矩阵的内容为：\n",
      " [[1 2]\n",
      " [3 4]] \n",
      "矩阵的类型是<class 'numpy.matrix'>，形状是：(2, 2)\n",
      "\n",
      "原数组的内容更改为：\n",
      " [[37  2]\n",
      " [ 3  4]] \n",
      "矩阵的内容为：\n",
      " [[1 2]\n",
      " [3 4]]\n"
     ]
    }
   ],
   "source": [
    "# 先导包\n",
    "import numpy as np\n",
    "\n",
    "# 创建数组\n",
    "array = np.array([[1, 2], [3, 4]])\n",
    "\n",
    "# 使用matrix方法 创建矩阵（副本）\n",
    "matrix = np.matrix(array)\n",
    "\n",
    "# 查看原数组和新建矩阵的内容\n",
    "print(\"原数组的内容为：\\n\", array, \"\\n矩阵的内容为：\\n\", matrix, f\"\\n矩阵的类型是{type(matrix)}，形状是：{matrix.shape}\")\n",
    "\n",
    "# 修改原数组\n",
    "array[0][0] = 37\n",
    "\n",
    "# 查看矩阵是否变化\n",
    "print(\"\\n原数组的内容更改为：\\n\", array, \"\\n矩阵的内容为：\\n\", matrix)"
   ]
  },
  {
   "cell_type": "markdown",
   "id": "577c775d",
   "metadata": {},
   "source": [
    "### 2.1.2 np.mat方法"
   ]
  },
  {
   "cell_type": "raw",
   "id": "15bc539c",
   "metadata": {},
   "source": [
    "语法：\n",
    "np.mat(二维数组, copy=False, dtype=None)\n",
    "\n",
    "参数：传入数组必须是二维数组，不然就会报错\n",
    "copy：默认值为False，创建的是视图。如果copy=True，则创建副本，意味着新建矩阵 不会 随着原数组的变化而改变。\n",
    "dtype：默认值为None，会自动选择类型。也可以手动指定类型，如 dtype=np.float64\n",
    "\n",
    "功能：将传入数组转化为矩阵\n",
    "\n",
    "注：这里的copy参数默认值不同，意味着在不调用任何参数的情况下： 创建副本就用matrix方法，创建视图就用mat方法"
   ]
  },
  {
   "cell_type": "code",
   "execution_count": 85,
   "id": "1f8ecac6",
   "metadata": {},
   "outputs": [
    {
     "name": "stdout",
     "output_type": "stream",
     "text": [
      "原数组的内容为：\n",
      " [[1 2]\n",
      " [3 4]] \n",
      "矩阵的内容为：\n",
      " [[1 2]\n",
      " [3 4]] \n",
      "矩阵的类型是<class 'numpy.matrix'>，形状是：(2, 2)\n",
      "\n",
      "原数组的内容更改为：\n",
      " [[37  2]\n",
      " [ 3  4]] \n",
      "矩阵的内容为：\n",
      " [[37  2]\n",
      " [ 3  4]]\n"
     ]
    }
   ],
   "source": [
    "# 先导包\n",
    "import numpy as np\n",
    "\n",
    "# 创建数组\n",
    "array = np.array([[1, 2], [3, 4]])\n",
    "\n",
    "# 使用mat方法 创建矩阵（视图）\n",
    "matrix = np.mat(array)\n",
    "\n",
    "# 查看原数组和新建矩阵的内容\n",
    "print(\"原数组的内容为：\\n\", array, \"\\n矩阵的内容为：\\n\", matrix, f\"\\n矩阵的类型是{type(matrix)}，形状是：{matrix.shape}\")\n",
    "\n",
    "# 修改原数组\n",
    "array[0][0] = 37\n",
    "\n",
    "# 查看矩阵是否变化\n",
    "print(\"\\n原数组的内容更改为：\\n\", array, \"\\n矩阵的内容为：\\n\", matrix)"
   ]
  },
  {
   "cell_type": "markdown",
   "id": "d0792dfe",
   "metadata": {},
   "source": [
    "## 2.2 矩阵的运算"
   ]
  },
  {
   "cell_type": "markdown",
   "id": "8c96e4c0",
   "metadata": {},
   "source": [
    "### 2.2.1 直接运算"
   ]
  },
  {
   "cell_type": "raw",
   "id": "1268a3c0",
   "metadata": {},
   "source": [
    "直接使用运算符号：如果是数组，将进行元素的对应运算；如果是矩阵，将进行矩阵运算。"
   ]
  },
  {
   "cell_type": "code",
   "execution_count": 86,
   "id": "376a5c2a",
   "metadata": {},
   "outputs": [
    {
     "name": "stdout",
     "output_type": "stream",
     "text": [
      "数组一和数组二进行乘法运算，结果为：\n",
      "[[1 2]\n",
      " [6 8]]\n",
      "\n",
      "矩阵一和矩阵二进行乘法运算，结果为：\n",
      "[[ 5]\n",
      " [11]]\n"
     ]
    }
   ],
   "source": [
    "# 先导包\n",
    "import numpy as np\n",
    "\n",
    "# 创建演示数组\n",
    "ary1 = np.arange(1,5).reshape(2,2)\n",
    "ary2 = np.arange(1,3).reshape(2,1)\n",
    "\n",
    "# 创建演示矩阵\n",
    "mat1 = np.mat(ary1)\n",
    "mat2 = np.mat(ary2)\n",
    "\n",
    "# 进行运算\n",
    "result1 = ary1 * ary2\n",
    "result2 = mat1 * mat2\n",
    "\n",
    "# 返回结果\n",
    "print(f\"数组一和数组二进行乘法运算，结果为：\\n{result1}\\n\\n矩阵一和矩阵二进行乘法运算，结果为：\\n{result2}\")"
   ]
  },
  {
   "cell_type": "markdown",
   "id": "2ccd6f2e",
   "metadata": {},
   "source": [
    "### 2.2.2 np.dot方法（点积）"
   ]
  },
  {
   "cell_type": "raw",
   "id": "aeacf4d7",
   "metadata": {},
   "source": [
    "语法：np.dot(数组一, 数组二)\n",
    "\n",
    "功能： 计算一维数组时，结果为数组一与数组二的点积，返回值为标量。\n",
    "     计算二维数组时，结果为矩阵运算，返回值为数组。"
   ]
  },
  {
   "cell_type": "markdown",
   "id": "a36b6596",
   "metadata": {},
   "source": [
    "#### 2.2.2.1 np.dot方法计算一维数组（点积）"
   ]
  },
  {
   "cell_type": "code",
   "execution_count": 87,
   "id": "f2ea95a9",
   "metadata": {},
   "outputs": [
    {
     "name": "stdout",
     "output_type": "stream",
     "text": [
      "数组一和数组二的点积结果为：32\n"
     ]
    }
   ],
   "source": [
    "# 先导包\n",
    "import numpy as np\n",
    "\n",
    "# 创建演示数组\n",
    "ary1 = np.array([1, 2, 3])\n",
    "ary2 = np.array([4, 5, 6])\n",
    "\n",
    "# 使用dot方法进行点积运算\n",
    "result = np.dot(ary1, ary2)\n",
    "print(f\"数组一和数组二的点积结果为：{result}\")"
   ]
  },
  {
   "cell_type": "markdown",
   "id": "c3d1c563",
   "metadata": {},
   "source": [
    "#### 2.2.2.2 np.dot方法计算二维数组（矩阵运算）"
   ]
  },
  {
   "cell_type": "code",
   "execution_count": 88,
   "id": "ac778fa9",
   "metadata": {},
   "outputs": [
    {
     "name": "stdout",
     "output_type": "stream",
     "text": [
      "数组一和数组二的计算结果为：\n",
      "[[1 2 3]\n",
      " [4 5 6]\n",
      " [7 8 9]]\n"
     ]
    }
   ],
   "source": [
    "# 先导包\n",
    "import numpy as np\n",
    "\n",
    "# 创建演示数组\n",
    "ary1 = np.array([[1, 0, 0], [0, 1, 0], [0, 0, 1]])  # 为方便演示，创建三阶单位矩阵ary1\n",
    "ary2 = np.array([[1, 2, 3], [4, 5, 6], [7, 8, 9]])\n",
    "\n",
    "# 使用dot方法进行矩阵运算\n",
    "result = np.dot(ary1, ary2)\n",
    "print(f\"数组一和数组二的计算结果为：\\n{result}\")"
   ]
  },
  {
   "cell_type": "markdown",
   "id": "d54e7e11",
   "metadata": {},
   "source": [
    "### 2.2.3 np.matmul方法"
   ]
  },
  {
   "cell_type": "raw",
   "id": "0cc61542",
   "metadata": {},
   "source": [
    "语法：np.matmul(数组一, 数组二)\n",
    "\n",
    "功能： 计算一维数组时，视为行向量和列向量的乘法，返回值为标量。\n",
    "       计算二维数组时，结果为标准的矩阵运算，返回值为数组。\n",
    "       计算高维数组时，按最后两个维度进行矩阵乘法，其余维度保持不变。"
   ]
  },
  {
   "cell_type": "markdown",
   "id": "2d0c99cc",
   "metadata": {},
   "source": [
    "#### 2.2.3.1 np.matmul方法计算一维数组（点积）"
   ]
  },
  {
   "cell_type": "code",
   "execution_count": 89,
   "id": "e7ad5bc7",
   "metadata": {},
   "outputs": [
    {
     "name": "stdout",
     "output_type": "stream",
     "text": [
      "数组一和数组二的点积结果为：20\n"
     ]
    }
   ],
   "source": [
    "# 先导包\n",
    "import numpy as np\n",
    "\n",
    "# 创建演示数组\n",
    "ary1 = np.array([1, 2, 3])\n",
    "ary2 = np.array([2, 3, 4])\n",
    "\n",
    "# 使用matmul方法计算一维数组的点积\n",
    "result = np.matmul(ary1, ary2)\n",
    "print(f\"数组一和数组二的点积结果为：{result}\")"
   ]
  },
  {
   "cell_type": "markdown",
   "id": "f2c2933b",
   "metadata": {},
   "source": [
    "#### 2.2.3.2 np.matmul方法计算二维数组（矩阵运算）"
   ]
  },
  {
   "cell_type": "code",
   "execution_count": 90,
   "id": "1e2634d5",
   "metadata": {},
   "outputs": [
    {
     "name": "stdout",
     "output_type": "stream",
     "text": [
      "数组一和数组二的计算结果为：\n",
      "[[1 2 3]\n",
      " [4 5 6]\n",
      " [7 8 9]]\n"
     ]
    }
   ],
   "source": [
    "# 先导包\n",
    "import numpy as np\n",
    "\n",
    "# 创建演示数组\n",
    "ary1 = np.array([[1, 0, 0], [0, 1, 0], [0, 0, 1]])  # 为方便演示，创建三阶单位矩阵ary1\n",
    "ary2 = np.array([[1, 2, 3], [4, 5, 6], [7, 8, 9]])\n",
    "\n",
    "# 使用matmul方法进行矩阵运算\n",
    "result = np.matmul(ary1, ary2)\n",
    "print(f\"数组一和数组二的计算结果为：\\n{result}\")"
   ]
  },
  {
   "cell_type": "markdown",
   "id": "317f7eb0",
   "metadata": {},
   "source": [
    "#### 2.2.3.3 np.matmul方法计算高维数组（只对最后两个轴进行矩阵运算）"
   ]
  },
  {
   "cell_type": "markdown",
   "id": "5a5e4b77",
   "metadata": {},
   "source": [
    "##### 三维数组与二维数组"
   ]
  },
  {
   "cell_type": "code",
   "execution_count": 91,
   "id": "67b75907",
   "metadata": {},
   "outputs": [
    {
     "name": "stdout",
     "output_type": "stream",
     "text": [
      "数组一的内容为：\n",
      "[[[ 1  2  3]\n",
      "  [ 4  5  6]]\n",
      "\n",
      " [[ 7  8  9]\n",
      "  [10 11 12]]\n",
      "\n",
      " [[13 14 15]\n",
      "  [16 17 18]]]\n",
      "\n",
      "数组二的内容为：\n",
      "[[1 2]\n",
      " [3 4]\n",
      " [5 6]]\n",
      "\n",
      "对数组一和数组二进行高维数组运算，结果为：\n",
      "[[[ 22  28]\n",
      "  [ 49  64]]\n",
      "\n",
      " [[ 76 100]\n",
      "  [103 136]]\n",
      "\n",
      " [[130 172]\n",
      "  [157 208]]]\n",
      "\n",
      "上述计算相当于，对数组一每个深度的矩阵都进行了与数组二的矩阵乘法，故而所得形状深度不变，但是后两个轴会变成矩阵相乘后的形状\n"
     ]
    }
   ],
   "source": [
    "# 先导包\n",
    "import numpy as np\n",
    "\n",
    "# 创建演示数组\n",
    "ary1 = np.arange(1, 19).reshape(3, 2, 3)\n",
    "ary2 = np.arange(1, 7).reshape(3, 2)\n",
    "print(f\"数组一的内容为：\\n{ary1}\\n\\n数组二的内容为：\\n{ary2}\\n\")\n",
    "\n",
    "# 使用matmul方法进行高维数组的矩阵运算\n",
    "result = np.matmul(ary1, ary2)\n",
    "print(f\"对数组一和数组二进行高维数组运算，结果为：\\n{result}\\n\")\n",
    "print(\"上述计算相当于，对数组一每个深度的矩阵都进行了与数组二的矩阵乘法，故而所得形状深度不变，但是后两个轴会变成矩阵相乘后的形状\")"
   ]
  },
  {
   "cell_type": "markdown",
   "id": "0eb22306",
   "metadata": {},
   "source": [
    "##### 四维数组与三维数组"
   ]
  },
  {
   "cell_type": "code",
   "execution_count": 92,
   "id": "90bb2ac3",
   "metadata": {},
   "outputs": [
    {
     "name": "stdout",
     "output_type": "stream",
     "text": [
      "数组一的内容为：\n",
      "[[[[1 0]\n",
      "   [1 1]\n",
      "   [0 0]]\n",
      "\n",
      "  [[0 2]\n",
      "   [2 1]\n",
      "   [2 2]]]\n",
      "\n",
      "\n",
      " [[[2 2]\n",
      "   [1 0]\n",
      "   [1 0]]\n",
      "\n",
      "  [[2 0]\n",
      "   [1 1]\n",
      "   [2 1]]]]\n",
      "\n",
      "数组二的内容为：\n",
      "[[[2 0 1]\n",
      "  [2 2 2]]\n",
      "\n",
      " [[1 0 0]\n",
      "  [0 0 1]]]\n",
      "\n",
      "对数组一和数组二进行高维数组运算，结果为：\n",
      "[[[[2 0 1]\n",
      "   [4 2 3]\n",
      "   [0 0 0]]\n",
      "\n",
      "  [[0 0 2]\n",
      "   [2 0 1]\n",
      "   [2 0 2]]]\n",
      "\n",
      "\n",
      " [[[8 4 6]\n",
      "   [2 0 1]\n",
      "   [2 0 1]]\n",
      "\n",
      "  [[2 0 0]\n",
      "   [1 0 1]\n",
      "   [2 0 1]]]]\n",
      "\n",
      "上述计算相当于，对数组一每个深度的矩阵都进行了与数组二的矩阵乘法，故而所得形状深度不变，但是后两个轴会变成矩阵相乘后的形状\n"
     ]
    }
   ],
   "source": [
    "# 先导包\n",
    "import numpy as np\n",
    "\n",
    "# 创建演示数组\n",
    "ary1 = np.random.randint(0, 3, (2, 2, 3, 2))\n",
    "ary2 = np.random.randint(0, 3, (2, 2, 3))\n",
    "print(f\"数组一的内容为：\\n{ary1}\\n\\n数组二的内容为：\\n{ary2}\\n\")\n",
    "\n",
    "# 使用matmul方法进行高维数组的矩阵运算\n",
    "result = np.matmul(ary1, ary2)\n",
    "print(f\"对数组一和数组二进行高维数组运算，结果为：\\n{result}\\n\")\n",
    "print(\"上述计算相当于，对数组一每个深度的矩阵都进行了与数组二的矩阵乘法，故而所得形状深度不变，但是后两个轴会变成矩阵相乘后的形状\")"
   ]
  },
  {
   "cell_type": "markdown",
   "id": "3968978a",
   "metadata": {},
   "source": [
    "#### 2.2.3.4 np.matmul的简易写法：@"
   ]
  },
  {
   "cell_type": "raw",
   "id": "f4b06eef",
   "metadata": {},
   "source": [
    "np.matmul(ary1, ary2) 可以简写为： ary1 @ ary2"
   ]
  },
  {
   "cell_type": "code",
   "execution_count": 93,
   "id": "ab6f1129",
   "metadata": {},
   "outputs": [
    {
     "name": "stdout",
     "output_type": "stream",
     "text": [
      "数组一的内容为：\n",
      "[1 2 3]\n",
      "\n",
      "数组二的内容为：\n",
      "[2 3 4]\n",
      "\n",
      "数组一和数组二的点积结果为：20\n",
      "\n",
      "数组三的内容为：\n",
      "[[1 0 0]\n",
      " [0 1 0]\n",
      " [0 0 1]]\n",
      "\n",
      "数组四的内容为：\n",
      "[[1 2 3]\n",
      " [4 5 6]\n",
      " [7 8 9]]\n",
      "\n",
      "数组三和数组四的计算结果为：\n",
      "[[1 2 3]\n",
      " [4 5 6]\n",
      " [7 8 9]]\n",
      "\n",
      "数组五的内容为：\n",
      "[[[ 1  2  3]\n",
      "  [ 4  5  6]]\n",
      "\n",
      " [[ 7  8  9]\n",
      "  [10 11 12]]\n",
      "\n",
      " [[13 14 15]\n",
      "  [16 17 18]]]\n",
      "\n",
      "数组六的内容为：\n",
      "[[1 2]\n",
      " [3 4]\n",
      " [5 6]]\n",
      "\n",
      "对数组五和数组六进行高维数组运算，结果为：\n",
      "[[[ 22  28]\n",
      "  [ 49  64]]\n",
      "\n",
      " [[ 76 100]\n",
      "  [103 136]]\n",
      "\n",
      " [[130 172]\n",
      "  [157 208]]]\n",
      "\n",
      "上述计算相当于，对数组五每个深度的矩阵都进行了与数组六的矩阵乘法，故而所得形状深度不变，但是后两个轴会变成矩阵相乘后的形状\n"
     ]
    }
   ],
   "source": [
    "# 先导包\n",
    "import numpy as np\n",
    "\n",
    "# 创建演示数组（一维）\n",
    "ary1 = np.array([1, 2, 3])\n",
    "ary2 = np.array([2, 3, 4])\n",
    "print(f\"数组一的内容为：\\n{ary1}\\n\\n数组二的内容为：\\n{ary2}\\n\")\n",
    "\n",
    "# 使用matmul方法的另外一种表述方式计算一维数组的点积\n",
    "result1 = ary1 @ ary2\n",
    "print(f\"数组一和数组二的点积结果为：{result1}\\n\")\n",
    "\n",
    "# 创建演示数组（二维）\n",
    "ary3 = np.array([[1, 0, 0], [0, 1, 0], [0, 0, 1]])  # 为方便演示，创建三阶单位矩阵ary3\n",
    "ary4 = np.array([[1, 2, 3], [4, 5, 6], [7, 8, 9]])\n",
    "print(f\"数组三的内容为：\\n{ary3}\\n\\n数组四的内容为：\\n{ary4}\\n\")\n",
    "\n",
    "# 使用matmul方法的另外一种表述方式进行矩阵运算\n",
    "result2 = ary3 @ ary4\n",
    "print(f\"数组三和数组四的计算结果为：\\n{result2}\\n\")\n",
    "\n",
    "# 创建演示数组（高维）\n",
    "ary5 = np.arange(1, 19).reshape(3, 2, 3)\n",
    "ary6 = np.arange(1, 7).reshape(3, 2)\n",
    "print(f\"数组五的内容为：\\n{ary5}\\n\\n数组六的内容为：\\n{ary6}\\n\")\n",
    "\n",
    "# 使用matmul方法的另外一种表述方式进行高维数组的矩阵运算\n",
    "result3 = ary5 @ ary6\n",
    "print(f\"对数组五和数组六进行高维数组运算，结果为：\\n{result3}\\n\")\n",
    "print(\"上述计算相当于，对数组五每个深度的矩阵都进行了与数组六的矩阵乘法，故而所得形状深度不变，但是后两个轴会变成矩阵相乘后的形状\")"
   ]
  },
  {
   "cell_type": "markdown",
   "id": "3f39ada6",
   "metadata": {},
   "source": [
    "# 3 IO操作与数据处理"
   ]
  },
  {
   "cell_type": "markdown",
   "id": "598d2460",
   "metadata": {},
   "source": [
    "## 3.1 Numpy读取：genfromtxt方法"
   ]
  },
  {
   "cell_type": "raw",
   "id": "90c07f54",
   "metadata": {},
   "source": [
    "语法：\n",
    "numpy.genfromtxt(fname, dtype='float', delimiter=None, skip_header=0, skip_footer=0, filling_values=None, names=None, invalid_raise=True, usecols=None, unpack=False)\n",
    "\n",
    "参数：\n",
    "fname: 文件名或文件对象，可以是字符串或打开的文件对象。\n",
    "dtype: 数据类型，默认为 float。\n",
    "delimiter: 分隔符，默认为空格。可以设置为其他字符，如 ','。\n",
    "skip_header: 跳过文件开头的行数。\n",
    "skip_footer: 跳过文件末尾的行数。\n",
    "filling_values: 用于替换缺失值的值。\n",
    "names: 如果为 True，将使用文件的第一行作为字段名；若为列表，将使用提供的字段名。\n",
    "invalid_raise: 如果为 True，在遇到无效数据时抛出错误；如果为 False，则返回 nan。\n",
    "usecols: 指定要读取的列。\n",
    "unpack: 如果为 True，则将列转置为行。\n",
    "\n",
    "功能：np.genfromtxt 是 NumPy 中用于从文本文件中加载数据的函数。它非常灵活，能够处理缺失值并支持多种数据格式。"
   ]
  },
  {
   "cell_type": "code",
   "execution_count": 94,
   "id": "a8257256",
   "metadata": {},
   "outputs": [
    {
     "name": "stdout",
     "output_type": "stream",
     "text": [
      "文件test.csv中储存的内容为：\n",
      "[[  nan   nan   nan   nan]\n",
      " [  1.  123.    1.4  23. ]\n",
      " [  2.  110.    nan  18. ]\n",
      " [  3.    nan   2.1  19. ]]\n"
     ]
    }
   ],
   "source": [
    "# 先导包\n",
    "import numpy as np\n",
    "\n",
    "# 读取数据\n",
    "data = np.genfromtxt(\"D:\\\\☆ Mathmatics\\\\test.csv\", delimiter=\",\")\n",
    "print(f\"文件test.csv中储存的内容为：\\n{data}\")"
   ]
  },
  {
   "cell_type": "markdown",
   "id": "069dfb7d",
   "metadata": {},
   "source": [
    "## 3.2 缺失值的处理（使用pandas更为便捷）"
   ]
  },
  {
   "cell_type": "markdown",
   "id": "a38ab4b2",
   "metadata": {},
   "source": [
    "### 3.2.1 直接删掉含有缺失值的样本"
   ]
  },
  {
   "cell_type": "markdown",
   "id": "d009198d",
   "metadata": {},
   "source": [
    "### 3.2.2 替换 / 插补"
   ]
  }
 ],
 "metadata": {
  "kernelspec": {
   "display_name": "Python 3 (ipykernel)",
   "language": "python",
   "name": "python3"
  },
  "language_info": {
   "codemirror_mode": {
    "name": "ipython",
    "version": 3
   },
   "file_extension": ".py",
   "mimetype": "text/x-python",
   "name": "python",
   "nbconvert_exporter": "python",
   "pygments_lexer": "ipython3",
   "version": "3.10.9"
  }
 },
 "nbformat": 4,
 "nbformat_minor": 5
}

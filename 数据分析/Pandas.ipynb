{
 "cells": [
  {
   "cell_type": "markdown",
   "id": "f20734ad",
   "metadata": {},
   "source": [
    "# 一： Pandas 核心数据结构"
   ]
  },
  {
   "cell_type": "markdown",
   "id": "425f31f8",
   "metadata": {},
   "source": [
    "# 1 Series（序列）"
   ]
  },
  {
   "cell_type": "markdown",
   "id": "87003eef",
   "metadata": {},
   "source": [
    "一维数组，能够存储任何数据类型（整数、浮点数、字符串等）。每个元素都有一个索引。"
   ]
  },
  {
   "cell_type": "markdown",
   "id": "291022da",
   "metadata": {},
   "source": [
    "## 1.1 序列的创建（pd.Series方法）"
   ]
  },
  {
   "cell_type": "raw",
   "id": "3c5edb0b",
   "metadata": {},
   "source": [
    "语法：pd.Series(data, index=[], dtype=\"\", name=\"\")\n",
    "\n",
    "参数\n",
    "data:    用于创建 Series 的数据，可以是列表、字典、NumPy 数组等。\n",
    "index:   用于指定索引标签的数组。如果未提供，默认索引为从 0 开始的整数。可以使用数组或类似数组的对象（如 list, range 等）。\n",
    "dtype:   指定数据的类型。可以是 NumPy 数据类型或 Python 类型。\n",
    "name:    指定 Series 的名称（字符串）。\n",
    "\n",
    "功能： 创建序列，除了data必须，其余都有默认值。最常用的是data和index参数。"
   ]
  },
  {
   "cell_type": "markdown",
   "id": "0a1aed83",
   "metadata": {},
   "source": [
    "### 1.1.1 利用列表对象 创建序列"
   ]
  },
  {
   "cell_type": "markdown",
   "id": "7be08899",
   "metadata": {},
   "source": [
    "#### 1.1.1.1 无索引序列（默认索引为0 1 2 ...）"
   ]
  },
  {
   "cell_type": "code",
   "execution_count": 1,
   "id": "dcfe0306",
   "metadata": {},
   "outputs": [
    {
     "name": "stdout",
     "output_type": "stream",
     "text": [
      "0    6000\n",
      "1    5000\n",
      "2    2300\n",
      "dtype: int64\n"
     ]
    }
   ],
   "source": [
    "# 先导包\n",
    "import pandas as pd\n",
    "\n",
    "# 创建价格列表\n",
    "price_list = [6000, 5000, 2300]\n",
    "\n",
    "# 使用列表对象创建序列\n",
    "Series1 = pd.Series(price_list)\n",
    "print(Series1)"
   ]
  },
  {
   "cell_type": "markdown",
   "id": "2a4a5cc4",
   "metadata": {},
   "source": [
    "#### 1.1.1.2 添加索引"
   ]
  },
  {
   "cell_type": "code",
   "execution_count": 2,
   "id": "cc2adf04",
   "metadata": {},
   "outputs": [
    {
     "name": "stdout",
     "output_type": "stream",
     "text": [
      "蝴蝶刀    6000\n",
      "玻璃杯    5000\n",
      "苹果     2300\n",
      "dtype: int64\n"
     ]
    }
   ],
   "source": [
    "# 先导包\n",
    "import pandas as pd\n",
    "\n",
    "# 创建价格列表\n",
    "price_list = [6000, 5000, 2300]\n",
    "\n",
    "# 添加行索引\n",
    "skins = [\"蝴蝶刀\", \"玻璃杯\", \"苹果\"]\n",
    "\n",
    "# 使用列表对象创建序列\n",
    "Series1 = pd.Series(price_list, index=skins)\n",
    "print(Series1)"
   ]
  },
  {
   "cell_type": "markdown",
   "id": "14564243",
   "metadata": {},
   "source": [
    "### 1.1.2 利用字典对象 创建序列"
   ]
  },
  {
   "cell_type": "code",
   "execution_count": 3,
   "id": "136a600e",
   "metadata": {},
   "outputs": [
    {
     "name": "stdout",
     "output_type": "stream",
     "text": [
      "蝴蝶刀    6000\n",
      "玻璃杯    5000\n",
      "苹果     2300\n",
      "dtype: int64\n"
     ]
    }
   ],
   "source": [
    "# 先导包\n",
    "import pandas as pd\n",
    "\n",
    "# 创建价格字典\n",
    "dict = {\"蝴蝶刀\": 6000,\n",
    "        \"玻璃杯\": 5000,\n",
    "        \"苹果\": 2300}\n",
    "\n",
    "Series2 = pd.Series(dict)\n",
    "print(Series2)"
   ]
  },
  {
   "cell_type": "markdown",
   "id": "f879bf7c",
   "metadata": {},
   "source": [
    "### 1.1.3 利用标量 创建序列"
   ]
  },
  {
   "cell_type": "code",
   "execution_count": 4,
   "id": "b7061bdd",
   "metadata": {},
   "outputs": [
    {
     "name": "stdout",
     "output_type": "stream",
     "text": [
      "37     0.2\n",
      "515    0.2\n",
      "628    0.2\n",
      "dtype: float64\n"
     ]
    }
   ],
   "source": [
    "# 先导包\n",
    "import pandas as pd\n",
    "\n",
    "# 通过标量创建序列\n",
    "Series3 = pd.Series(1/5, index=[\"37\", \"515\", \"628\"])\n",
    "print(Series3)"
   ]
  },
  {
   "cell_type": "markdown",
   "id": "b9e0acce",
   "metadata": {},
   "source": [
    "# 2 DataFrame（数据集、数据框、数据表格）"
   ]
  },
  {
   "cell_type": "markdown",
   "id": "1ab57b3d",
   "metadata": {},
   "source": [
    "二维表格，类似于电子表格或数据库表，可以存储不同类型的数据。由行和列组成，每列可以是不同的数据类型。"
   ]
  },
  {
   "cell_type": "markdown",
   "id": "884a524d",
   "metadata": {},
   "source": [
    "## 2.1 数据集的创建（pd.DataFrame方法）"
   ]
  },
  {
   "cell_type": "raw",
   "id": "30fc1e94",
   "metadata": {},
   "source": [
    "语法：  变量 = pd.DataFrame(data, index=[], columns=[], dtype=int, copy=False)\n",
    "\n",
    "参数：  \n",
    "data：    数据，支持多种格式（如字典、列表、NumPy 数组等）。默认值：None\n",
    "index：   行索引标签。默认值：None（使用默认的整数索引）\n",
    "columns：  列标签。None（使用数据的列名）\n",
    "dtype：   数据类型，用于强制转换。默认值：None（自动推断数据类型）\n",
    "copy：    是否复制数据。默认值：False（如果数据是可变的，则不会复制）\n",
    "\n",
    "功能：创建DataFrame对象。"
   ]
  },
  {
   "cell_type": "markdown",
   "id": "344d63e1",
   "metadata": {},
   "source": [
    "### a. 利用列表对象 创建数据集"
   ]
  },
  {
   "cell_type": "markdown",
   "id": "bed01c8e",
   "metadata": {},
   "source": [
    "#### a1. 单层列表数据（每个数据即为一行）"
   ]
  },
  {
   "cell_type": "code",
   "execution_count": 5,
   "id": "01826893",
   "metadata": {},
   "outputs": [
    {
     "data": {
      "text/html": [
       "<div>\n",
       "<style scoped>\n",
       "    .dataframe tbody tr th:only-of-type {\n",
       "        vertical-align: middle;\n",
       "    }\n",
       "\n",
       "    .dataframe tbody tr th {\n",
       "        vertical-align: top;\n",
       "    }\n",
       "\n",
       "    .dataframe thead th {\n",
       "        text-align: right;\n",
       "    }\n",
       "</style>\n",
       "<table border=\"1\" class=\"dataframe\">\n",
       "  <thead>\n",
       "    <tr style=\"text-align: right;\">\n",
       "      <th></th>\n",
       "      <th>0</th>\n",
       "    </tr>\n",
       "  </thead>\n",
       "  <tbody>\n",
       "    <tr>\n",
       "      <th>0</th>\n",
       "      <td>短尾猫</td>\n",
       "    </tr>\n",
       "    <tr>\n",
       "      <th>1</th>\n",
       "      <td>张三</td>\n",
       "    </tr>\n",
       "    <tr>\n",
       "      <th>2</th>\n",
       "      <td>Tom</td>\n",
       "    </tr>\n",
       "  </tbody>\n",
       "</table>\n",
       "</div>"
      ],
      "text/plain": [
       "     0\n",
       "0  短尾猫\n",
       "1   张三\n",
       "2  Tom"
      ]
     },
     "execution_count": 5,
     "metadata": {},
     "output_type": "execute_result"
    }
   ],
   "source": [
    "# 先导包\n",
    "import pandas as pd\n",
    "\n",
    "# 准备数据\n",
    "data_list = [\"短尾猫\", \"张三\", \"Tom\"]\n",
    "\n",
    "# 创建DataFrame（数据集）\n",
    "df = pd.DataFrame(data_list)\n",
    "df"
   ]
  },
  {
   "cell_type": "markdown",
   "id": "6cc30c10",
   "metadata": {},
   "source": [
    "#### a2. 多层列表数据（每个列表即为一行）"
   ]
  },
  {
   "cell_type": "code",
   "execution_count": 6,
   "id": "facb4d9c",
   "metadata": {},
   "outputs": [
    {
     "data": {
      "text/html": [
       "<div>\n",
       "<style scoped>\n",
       "    .dataframe tbody tr th:only-of-type {\n",
       "        vertical-align: middle;\n",
       "    }\n",
       "\n",
       "    .dataframe tbody tr th {\n",
       "        vertical-align: top;\n",
       "    }\n",
       "\n",
       "    .dataframe thead th {\n",
       "        text-align: right;\n",
       "    }\n",
       "</style>\n",
       "<table border=\"1\" class=\"dataframe\">\n",
       "  <thead>\n",
       "    <tr style=\"text-align: right;\">\n",
       "      <th></th>\n",
       "      <th>0</th>\n",
       "      <th>1</th>\n",
       "      <th>2</th>\n",
       "    </tr>\n",
       "  </thead>\n",
       "  <tbody>\n",
       "    <tr>\n",
       "      <th>姓名、种类</th>\n",
       "      <td>短尾猫</td>\n",
       "      <td>张三</td>\n",
       "      <td>Tom</td>\n",
       "    </tr>\n",
       "    <tr>\n",
       "      <th>乱七八糟</th>\n",
       "      <td>番茄</td>\n",
       "      <td>red</td>\n",
       "      <td>语文</td>\n",
       "    </tr>\n",
       "  </tbody>\n",
       "</table>\n",
       "</div>"
      ],
      "text/plain": [
       "         0    1    2\n",
       "姓名、种类  短尾猫   张三  Tom\n",
       "乱七八糟    番茄  red   语文"
      ]
     },
     "execution_count": 6,
     "metadata": {},
     "output_type": "execute_result"
    }
   ],
   "source": [
    "# 先导包\n",
    "import pandas as pd\n",
    "\n",
    "# 准备数据\n",
    "data_lists = [[\"短尾猫\", \"张三\", \"Tom\"], [\"番茄\", \"red\", \"语文\"]]\n",
    "\n",
    "# 创建DataFrame（数据集）\n",
    "df = pd.DataFrame(data_lists, index=[\"姓名、种类\", \"乱七八糟\"])\n",
    "df"
   ]
  },
  {
   "cell_type": "markdown",
   "id": "8cc51dd7",
   "metadata": {},
   "source": [
    "### b. 利用字典对象 创建数据集"
   ]
  },
  {
   "cell_type": "raw",
   "id": "7d0c62ec",
   "metadata": {},
   "source": [
    "规则如下：\n",
    "1.字典第一个key为第一个列索引，第二个key为第二个列索引，依此类推\n",
    "2.若要创建多行，则value值可以使用列表，按顺序对应行\n",
    "3.如果value值对应列表长度不同，则报错！"
   ]
  },
  {
   "cell_type": "code",
   "execution_count": 7,
   "id": "51dead9f",
   "metadata": {},
   "outputs": [
    {
     "data": {
      "text/html": [
       "<div>\n",
       "<style scoped>\n",
       "    .dataframe tbody tr th:only-of-type {\n",
       "        vertical-align: middle;\n",
       "    }\n",
       "\n",
       "    .dataframe tbody tr th {\n",
       "        vertical-align: top;\n",
       "    }\n",
       "\n",
       "    .dataframe thead th {\n",
       "        text-align: right;\n",
       "    }\n",
       "</style>\n",
       "<table border=\"1\" class=\"dataframe\">\n",
       "  <thead>\n",
       "    <tr style=\"text-align: right;\">\n",
       "      <th></th>\n",
       "      <th>姓名</th>\n",
       "      <th>年龄</th>\n",
       "    </tr>\n",
       "  </thead>\n",
       "  <tbody>\n",
       "    <tr>\n",
       "      <th>0</th>\n",
       "      <td>张三</td>\n",
       "      <td>24</td>\n",
       "    </tr>\n",
       "    <tr>\n",
       "      <th>1</th>\n",
       "      <td>短尾猫</td>\n",
       "      <td>3</td>\n",
       "    </tr>\n",
       "    <tr>\n",
       "      <th>2</th>\n",
       "      <td>Tom</td>\n",
       "      <td>18</td>\n",
       "    </tr>\n",
       "  </tbody>\n",
       "</table>\n",
       "</div>"
      ],
      "text/plain": [
       "    姓名  年龄\n",
       "0   张三  24\n",
       "1  短尾猫   3\n",
       "2  Tom  18"
      ]
     },
     "execution_count": 7,
     "metadata": {},
     "output_type": "execute_result"
    }
   ],
   "source": [
    "# 先导包\n",
    "import pandas as pd\n",
    "\n",
    "# 准备数据\n",
    "data_dict = {\"姓名\": [\"张三\", \"短尾猫\", \"Tom\"], \"年龄\": [24, 3, 18]}\n",
    "\n",
    "# 创建DataFrame(数据集)\n",
    "df = pd.DataFrame(data_dict)\n",
    "df"
   ]
  },
  {
   "cell_type": "markdown",
   "id": "1c62f5af",
   "metadata": {},
   "source": [
    "### c. 列表内元素为字典"
   ]
  },
  {
   "cell_type": "raw",
   "id": "4dc5c726",
   "metadata": {},
   "source": [
    "规则如下\n",
    "1.这里第一个字典的value值对应第一行，第二个字典的value值对应第二行，依次类推\n",
    "2.字典中的key是列索引，value是对应值\n",
    "3.如果字典中的key存在没有的内容，对应的表格为NaN（Not a Number）"
   ]
  },
  {
   "cell_type": "code",
   "execution_count": 8,
   "id": "f7fbf888",
   "metadata": {},
   "outputs": [
    {
     "data": {
      "text/html": [
       "<div>\n",
       "<style scoped>\n",
       "    .dataframe tbody tr th:only-of-type {\n",
       "        vertical-align: middle;\n",
       "    }\n",
       "\n",
       "    .dataframe tbody tr th {\n",
       "        vertical-align: top;\n",
       "    }\n",
       "\n",
       "    .dataframe thead th {\n",
       "        text-align: right;\n",
       "    }\n",
       "</style>\n",
       "<table border=\"1\" class=\"dataframe\">\n",
       "  <thead>\n",
       "    <tr style=\"text-align: right;\">\n",
       "      <th></th>\n",
       "      <th>a</th>\n",
       "      <th>b</th>\n",
       "      <th>c</th>\n",
       "    </tr>\n",
       "  </thead>\n",
       "  <tbody>\n",
       "    <tr>\n",
       "      <th>times1</th>\n",
       "      <td>1</td>\n",
       "      <td>2</td>\n",
       "      <td>NaN</td>\n",
       "    </tr>\n",
       "    <tr>\n",
       "      <th>times2</th>\n",
       "      <td>2</td>\n",
       "      <td>4</td>\n",
       "      <td>6.0</td>\n",
       "    </tr>\n",
       "  </tbody>\n",
       "</table>\n",
       "</div>"
      ],
      "text/plain": [
       "        a  b    c\n",
       "times1  1  2  NaN\n",
       "times2  2  4  6.0"
      ]
     },
     "execution_count": 8,
     "metadata": {},
     "output_type": "execute_result"
    }
   ],
   "source": [
    "# 先导包\n",
    "import pandas as pd\n",
    "\n",
    "# 准备数据\n",
    "data = [{\"a\": 1, \"b\": 2}, {\"a\": 2, \"b\": 4, \"c\": 6}]\n",
    "\n",
    "# 创建DataFrame（数据集）\n",
    "df = pd.DataFrame(data, index=[\"times1\", \"times2\"])\n",
    "df"
   ]
  },
  {
   "cell_type": "markdown",
   "id": "66392f50",
   "metadata": {},
   "source": [
    "### d. 利用数组对象 创建数据集"
   ]
  },
  {
   "cell_type": "code",
   "execution_count": 9,
   "id": "e74f2bff",
   "metadata": {},
   "outputs": [
    {
     "name": "stdout",
     "output_type": "stream",
     "text": [
      "随机创建的成绩数组内容为：\n",
      "[[94 91 84]\n",
      " [95 87 85]\n",
      " [81 85 80]\n",
      " [94 89 92]]\n"
     ]
    },
    {
     "data": {
      "text/html": [
       "<div>\n",
       "<style scoped>\n",
       "    .dataframe tbody tr th:only-of-type {\n",
       "        vertical-align: middle;\n",
       "    }\n",
       "\n",
       "    .dataframe tbody tr th {\n",
       "        vertical-align: top;\n",
       "    }\n",
       "\n",
       "    .dataframe thead th {\n",
       "        text-align: right;\n",
       "    }\n",
       "</style>\n",
       "<table border=\"1\" class=\"dataframe\">\n",
       "  <thead>\n",
       "    <tr style=\"text-align: right;\">\n",
       "      <th></th>\n",
       "      <th>语文</th>\n",
       "      <th>数学</th>\n",
       "      <th>英语</th>\n",
       "    </tr>\n",
       "  </thead>\n",
       "  <tbody>\n",
       "    <tr>\n",
       "      <th>张三</th>\n",
       "      <td>94</td>\n",
       "      <td>91</td>\n",
       "      <td>84</td>\n",
       "    </tr>\n",
       "    <tr>\n",
       "      <th>Tom</th>\n",
       "      <td>95</td>\n",
       "      <td>87</td>\n",
       "      <td>85</td>\n",
       "    </tr>\n",
       "    <tr>\n",
       "      <th>鸢泉花</th>\n",
       "      <td>81</td>\n",
       "      <td>85</td>\n",
       "      <td>80</td>\n",
       "    </tr>\n",
       "    <tr>\n",
       "      <th>短尾猫</th>\n",
       "      <td>94</td>\n",
       "      <td>89</td>\n",
       "      <td>92</td>\n",
       "    </tr>\n",
       "  </tbody>\n",
       "</table>\n",
       "</div>"
      ],
      "text/plain": [
       "     语文  数学  英语\n",
       "张三   94  91  84\n",
       "Tom  95  87  85\n",
       "鸢泉花  81  85  80\n",
       "短尾猫  94  89  92"
      ]
     },
     "execution_count": 9,
     "metadata": {},
     "output_type": "execute_result"
    }
   ],
   "source": [
    "# 先导包\n",
    "import numpy as np\n",
    "import pandas as pd\n",
    "\n",
    "# 使用随机数创建分数数组（4个人×3个科目）\n",
    "grades_ary = np.random.randint(80, 100, (4, 3))\n",
    "print(f\"随机创建的成绩数组内容为：\\n{grades_ary}\")\n",
    "\n",
    "# 创建DataFrame数据结构\n",
    "df = pd.DataFrame(grades_ary, index=[\"张三\", \"Tom\", \"鸢泉花\", \"短尾猫\"], columns=[\"语文\", \"数学\", \"英语\"])\n",
    "df"
   ]
  },
  {
   "cell_type": "markdown",
   "id": "7c5c700a",
   "metadata": {},
   "source": [
    "### e. 练习：创建月份简称数据集"
   ]
  },
  {
   "cell_type": "code",
   "execution_count": 10,
   "id": "805764c5",
   "metadata": {},
   "outputs": [
    {
     "data": {
      "text/html": [
       "<div>\n",
       "<style scoped>\n",
       "    .dataframe tbody tr th:only-of-type {\n",
       "        vertical-align: middle;\n",
       "    }\n",
       "\n",
       "    .dataframe tbody tr th {\n",
       "        vertical-align: top;\n",
       "    }\n",
       "\n",
       "    .dataframe thead th {\n",
       "        text-align: right;\n",
       "    }\n",
       "</style>\n",
       "<table border=\"1\" class=\"dataframe\">\n",
       "  <thead>\n",
       "    <tr style=\"text-align: right;\">\n",
       "      <th></th>\n",
       "      <th>一月</th>\n",
       "      <th>二月</th>\n",
       "      <th>三月</th>\n",
       "      <th>四月</th>\n",
       "      <th>五月</th>\n",
       "      <th>六月</th>\n",
       "      <th>七月</th>\n",
       "      <th>八月</th>\n",
       "      <th>九月</th>\n",
       "      <th>十月</th>\n",
       "      <th>十一月</th>\n",
       "      <th>十二月</th>\n",
       "    </tr>\n",
       "  </thead>\n",
       "  <tbody>\n",
       "    <tr>\n",
       "      <th>英文</th>\n",
       "      <td>January</td>\n",
       "      <td>February</td>\n",
       "      <td>March</td>\n",
       "      <td>April</td>\n",
       "      <td>May</td>\n",
       "      <td>June</td>\n",
       "      <td>July</td>\n",
       "      <td>August</td>\n",
       "      <td>September</td>\n",
       "      <td>October</td>\n",
       "      <td>November</td>\n",
       "      <td>December</td>\n",
       "    </tr>\n",
       "    <tr>\n",
       "      <th>简称</th>\n",
       "      <td>Jan</td>\n",
       "      <td>Feb</td>\n",
       "      <td>Mar</td>\n",
       "      <td>Apr</td>\n",
       "      <td>May</td>\n",
       "      <td>Jun</td>\n",
       "      <td>Jul</td>\n",
       "      <td>Aug</td>\n",
       "      <td>Sep</td>\n",
       "      <td>Oct</td>\n",
       "      <td>Nov</td>\n",
       "      <td>Dec</td>\n",
       "    </tr>\n",
       "  </tbody>\n",
       "</table>\n",
       "</div>"
      ],
      "text/plain": [
       "         一月        二月     三月     四月   五月    六月    七月      八月         九月  \\\n",
       "英文  January  February  March  April  May  June  July  August  September   \n",
       "简称      Jan       Feb    Mar    Apr  May   Jun   Jul     Aug        Sep   \n",
       "\n",
       "         十月       十一月       十二月  \n",
       "英文  October  November  December  \n",
       "简称      Oct       Nov       Dec  "
      ]
     },
     "execution_count": 10,
     "metadata": {},
     "output_type": "execute_result"
    }
   ],
   "source": [
    "# 先导包\n",
    "import numpy as np\n",
    "import pandas as pd\n",
    "\n",
    "# 准备数据\n",
    "month_index = [\"一月\", \"二月\", \"三月\", \"四月\", \"五月\", \"六月\", \"七月\", \"八月\", \"九月\", \"十月\", \"十一月\", \"十二月\"]\n",
    "name_columns = [\"英文\", \"简称\"]\n",
    "ary = np.array([[\"January\", \"Jan\"], [\"February\", \"Feb\"], [\"March\", \"Mar\"], [\"April\", \"Apr\"], [\"May\", \"May\"], [\"June\", \"Jun\"], \n",
    "                [\"July\", \"Jul\"], [\"August\", \"Aug\"], [\"September\", \"Sep\"], [\"October\", \"Oct\"], [\"November\", \"Nov\"], [\"December\", \"Dec\"]])\n",
    "\n",
    "# 创建数据集\n",
    "date_English = pd.DataFrame(ary, index=month_index, columns=name_columns)\n",
    "date_English.T  # 转置"
   ]
  },
  {
   "cell_type": "markdown",
   "id": "6053ae4a",
   "metadata": {},
   "source": [
    "### f. 使用字典 组合双序列 为 数据集"
   ]
  },
  {
   "cell_type": "raw",
   "id": "65609f64",
   "metadata": {},
   "source": [
    "DataFrame的单列数据为一个Series。根据DataFrame的定义可以知晓DataFrame是一个带有标签的二维数组，每个标签相当于每一列的列名。"
   ]
  },
  {
   "cell_type": "code",
   "execution_count": 11,
   "id": "66db5bb5",
   "metadata": {},
   "outputs": [
    {
     "data": {
      "text/html": [
       "<div>\n",
       "<style scoped>\n",
       "    .dataframe tbody tr th:only-of-type {\n",
       "        vertical-align: middle;\n",
       "    }\n",
       "\n",
       "    .dataframe tbody tr th {\n",
       "        vertical-align: top;\n",
       "    }\n",
       "\n",
       "    .dataframe thead th {\n",
       "        text-align: right;\n",
       "    }\n",
       "</style>\n",
       "<table border=\"1\" class=\"dataframe\">\n",
       "  <thead>\n",
       "    <tr style=\"text-align: right;\">\n",
       "      <th></th>\n",
       "      <th>Tom</th>\n",
       "      <th>短尾猫</th>\n",
       "    </tr>\n",
       "  </thead>\n",
       "  <tbody>\n",
       "    <tr>\n",
       "      <th>体重</th>\n",
       "      <td>65.0</td>\n",
       "      <td>12</td>\n",
       "    </tr>\n",
       "    <tr>\n",
       "      <th>品种</th>\n",
       "      <td>NaN</td>\n",
       "      <td>英短</td>\n",
       "    </tr>\n",
       "    <tr>\n",
       "      <th>年龄</th>\n",
       "      <td>23.0</td>\n",
       "      <td>3</td>\n",
       "    </tr>\n",
       "    <tr>\n",
       "      <th>身高</th>\n",
       "      <td>176.0</td>\n",
       "      <td>14</td>\n",
       "    </tr>\n",
       "  </tbody>\n",
       "</table>\n",
       "</div>"
      ],
      "text/plain": [
       "      Tom 短尾猫\n",
       "体重   65.0  12\n",
       "品种    NaN  英短\n",
       "年龄   23.0   3\n",
       "身高  176.0  14"
      ]
     },
     "execution_count": 11,
     "metadata": {},
     "output_type": "execute_result"
    }
   ],
   "source": [
    "# 先导包\n",
    "import pandas as pd\n",
    "\n",
    "# 创建演示序列\n",
    "Series1 = pd.Series([176, 23, 65], index=[\"身高\", \"年龄\", \"体重\"])\n",
    "Series2 = pd.Series([14, 3, 12, \"英短\"], index=[\"身高\", \"年龄\", \"体重\", \"品种\"])\n",
    "\n",
    "# 组合演示序列\n",
    "data = {\"Tom\": Series1,\n",
    "        \"短尾猫\": Series2}\n",
    "\n",
    "# 创建演示数据集\n",
    "df = pd.DataFrame(data)\n",
    "df"
   ]
  },
  {
   "cell_type": "markdown",
   "id": "62d75415",
   "metadata": {},
   "source": [
    "# 二： 数据访问"
   ]
  },
  {
   "cell_type": "markdown",
   "id": "41c9d920",
   "metadata": {},
   "source": [
    "## 2.1 序列的访问"
   ]
  },
  {
   "cell_type": "markdown",
   "id": "7f705c95",
   "metadata": {},
   "source": [
    "对序列进行访问，可以通过 下标索引、索引标签名称进行，且可以进行序列切片操作。推荐使用标签名称进行访问"
   ]
  },
  {
   "cell_type": "markdown",
   "id": "dbcf6123",
   "metadata": {},
   "source": [
    "### 2.1.0 创建Series1，用于下述演示"
   ]
  },
  {
   "cell_type": "code",
   "execution_count": 12,
   "id": "37154d9a",
   "metadata": {},
   "outputs": [
    {
     "name": "stdout",
     "output_type": "stream",
     "text": [
      "蝴蝶刀    6000\n",
      "玻璃杯    5000\n",
      "苹果     2300\n",
      "dtype: int64\n"
     ]
    }
   ],
   "source": [
    "# 先导包\n",
    "import pandas as pd\n",
    "\n",
    "# 创建价格列表\n",
    "price_list = [6000, 5000, 2300]\n",
    "\n",
    "# 添加行索引\n",
    "skins = [\"蝴蝶刀\", \"玻璃杯\", \"苹果\"]\n",
    "\n",
    "# 使用列表对象创建序列\n",
    "Series1 = pd.Series(price_list, index=skins)\n",
    "print(Series1)"
   ]
  },
  {
   "cell_type": "markdown",
   "id": "65c0aa7d",
   "metadata": {},
   "source": [
    "### 2.1.1 使用下标索引 对序列进行访问"
   ]
  },
  {
   "cell_type": "code",
   "execution_count": 13,
   "id": "20f2c108",
   "metadata": {},
   "outputs": [
    {
     "name": "stdout",
     "output_type": "stream",
     "text": [
      "6000 \n",
      "\n",
      "玻璃杯    5000\n",
      "苹果     2300\n",
      "dtype: int64\n"
     ]
    }
   ],
   "source": [
    "# 使用下标索引，只能获取对应标量\n",
    "print(Series1[0], \"\\n\")\n",
    "\n",
    "# 使用索引序列，可以获得一个 子Series数据结构\n",
    "print(Series1[1: ])  # 访问Series1的第二行到最后"
   ]
  },
  {
   "cell_type": "markdown",
   "id": "888eebc7",
   "metadata": {},
   "source": [
    "### 2.1.2 使用标签名称 对序列进行访问"
   ]
  },
  {
   "cell_type": "code",
   "execution_count": 14,
   "id": "4542de43",
   "metadata": {},
   "outputs": [
    {
     "name": "stdout",
     "output_type": "stream",
     "text": [
      "2300 \n",
      "\n",
      "蝴蝶刀    6000\n",
      "dtype: int64 \n",
      "\n",
      "玻璃杯    5000\n",
      "蝴蝶刀    6000\n",
      "dtype: int64\n"
     ]
    }
   ],
   "source": [
    "# 使用标签名称，可以获得对应标量\n",
    "print(Series1[\"苹果\"], \"\\n\")\n",
    "# 应当注意，使用单层只能获得一个标签名称对应的值\n",
    "\n",
    "# 使用双层[[]]，可以获得一个新的Series（序列）\n",
    "print(Series1[[\"蝴蝶刀\"]], \"\\n\")\n",
    "\n",
    "# 使用双层[[]]，可以同时访问多个标签，获得多个标签对应的子序列\n",
    "print(Series1[[\"玻璃杯\", \"蝴蝶刀\"]])"
   ]
  },
  {
   "cell_type": "markdown",
   "id": "a36b5ccf",
   "metadata": {},
   "source": [
    "## 2.2 数据集的访问（列）"
   ]
  },
  {
   "cell_type": "markdown",
   "id": "40e63680",
   "metadata": {},
   "source": [
    "### 2.2.1 使用列的名称"
   ]
  },
  {
   "cell_type": "code",
   "execution_count": 15,
   "id": "ecc0e29c",
   "metadata": {},
   "outputs": [
    {
     "name": "stdout",
     "output_type": "stream",
     "text": [
      "演示数据集的内容为：\n",
      "    Tom 短尾猫\n",
      "身高  176  14\n",
      "年龄   23   3\n",
      "体重   65  12\n",
      "品种   人类  英短 \n",
      "\n",
      "Tom的信息为：\n",
      "身高    176\n",
      "年龄     23\n",
      "体重     65\n",
      "品种     人类\n",
      "Name: Tom, dtype: object\n",
      "\n",
      "短尾猫的身高为：14cm\n"
     ]
    }
   ],
   "source": [
    "# 先导包\n",
    "import numpy as np\n",
    "import pandas as pd\n",
    "\n",
    "# 创建演示数据集\n",
    "data = np.array([[176, 23, 65, \"人类\"], [14, 3, 12, \"英短\"]]).T\n",
    "df = pd.DataFrame(data, index=[\"身高\", \"年龄\", \"体重\", \"品种\"], columns=[\"Tom\", \"短尾猫\"])\n",
    "print(f\"演示数据集的内容为：\\n{df}\", \"\\n\")\n",
    "\n",
    "# 访问Tom的信息\n",
    "print(f\"Tom的信息为：\\n{df['Tom']}\")\n",
    "\n",
    "# 访问短尾猫的身高\n",
    "print(f\"\\n短尾猫的身高为：{df['短尾猫']['身高']}cm\")"
   ]
  },
  {
   "cell_type": "markdown",
   "id": "9f7a8a1d",
   "metadata": {},
   "source": [
    "## 2.3 数据集的访问（行）"
   ]
  },
  {
   "cell_type": "markdown",
   "id": "241a5884",
   "metadata": {},
   "source": [
    "### 2.3.1 使用 序列切片"
   ]
  },
  {
   "cell_type": "code",
   "execution_count": 16,
   "id": "d4fedcb1",
   "metadata": {},
   "outputs": [
    {
     "name": "stdout",
     "output_type": "stream",
     "text": [
      "演示数据集的内容为：\n",
      "    Tom 短尾猫   橘子\n",
      "身高  176  14    6\n",
      "年龄   23   3  0.8\n",
      "体重   65  12    1\n",
      "品种   人类  英短   柑橘 \n",
      "\n",
      "各组数据中的身高信息为：\n",
      "    Tom 短尾猫 橘子\n",
      "身高  176  14  6\n"
     ]
    }
   ],
   "source": [
    "# 先导包\n",
    "import numpy as np\n",
    "import pandas as pd\n",
    "\n",
    "# 创建演示数据集\n",
    "data = np.array([[176, 23, 65, \"人类\"], [14, 3, 12, \"英短\"], [6, 0.8, 1, \"柑橘\"]]).T\n",
    "df = pd.DataFrame(data, index=[\"身高\", \"年龄\", \"体重\", \"品种\"], columns=[\"Tom\", \"短尾猫\", \"橘子\"])\n",
    "print(f\"演示数据集的内容为：\\n{df}\", \"\\n\")\n",
    "\n",
    "# 访问身高信息（行）\n",
    "print(f\"各组数据中的身高信息为：\\n{df[0: 1]}\")"
   ]
  },
  {
   "cell_type": "markdown",
   "id": "1c2d74ca",
   "metadata": {},
   "source": [
    "## 2.4 数据集的访问（行、列）"
   ]
  },
  {
   "cell_type": "markdown",
   "id": "06ceff92",
   "metadata": {},
   "source": [
    "### 2.4.1 loc方法"
   ]
  },
  {
   "cell_type": "raw",
   "id": "163a82df",
   "metadata": {},
   "source": [
    "语法：df.loc[行标签名称, 列标签名称]\n",
    "\n",
    "参数说明： 行标签名称：可以是单个标签、标签列表或切片。\n",
    "        列标签名称：可以是单个标签、标签列表或切片。\n",
    "\n",
    "功能：按标签选择行和列（支持布尔索引）。"
   ]
  },
  {
   "cell_type": "markdown",
   "id": "8a0f4c7b",
   "metadata": {},
   "source": [
    "#### 2.4.1.1 只取一行"
   ]
  },
  {
   "cell_type": "code",
   "execution_count": 17,
   "id": "c18019c4",
   "metadata": {},
   "outputs": [
    {
     "name": "stdout",
     "output_type": "stream",
     "text": [
      "演示所用DataFrame的内容为：\n",
      "     语文  数学  英语\n",
      "张三   82  92  89\n",
      "Tom  91  83  80\n",
      "鸢泉花  86  90  88\n",
      "短尾猫  84  99  91\n",
      "\n",
      "所取行的内容为：\n",
      "语文    84\n",
      "数学    99\n",
      "英语    91\n",
      "Name: 短尾猫, dtype: int32\n",
      "返回值类型为：<class 'pandas.core.series.Series'>\n"
     ]
    }
   ],
   "source": [
    "# 先导包\n",
    "import numpy as np\n",
    "import pandas as pd\n",
    "\n",
    "# 使用随机数创建分数数组（4个人×3个科目）\n",
    "grades_ary = np.random.randint(80, 100, (4, 3))\n",
    "\n",
    "# 创建DataFrame数据结构\n",
    "df = pd.DataFrame(grades_ary, index=[\"张三\", \"Tom\", \"鸢泉花\", \"短尾猫\"], columns=[\"语文\", \"数学\", \"英语\"])\n",
    "print(f\"演示所用DataFrame的内容为：\\n{df}\")\n",
    "\n",
    "# 取出短尾猫的行\n",
    "df_短尾猫 = df.loc[\"短尾猫\"]\n",
    "print(f\"\\n所取行的内容为：\\n{df_短尾猫}\\n返回值类型为：{type(df_短尾猫)}\")"
   ]
  },
  {
   "cell_type": "markdown",
   "id": "b5567340",
   "metadata": {},
   "source": [
    "#### 2.4.1.2 只取一列"
   ]
  },
  {
   "cell_type": "markdown",
   "id": "8007d7cd",
   "metadata": {},
   "source": [
    "应当注意，如果取的是列，在loc方法中的逗号前一定要有冒号，表示取全部的行，否则会报错"
   ]
  },
  {
   "cell_type": "code",
   "execution_count": 18,
   "id": "809df61a",
   "metadata": {},
   "outputs": [
    {
     "name": "stdout",
     "output_type": "stream",
     "text": [
      "演示所用 DataFrame 的内容为：\n",
      "     语文  数学  英语\n",
      "张三   85  80  94\n",
      "Tom  86  82  82\n",
      "鸢泉花  82  97  99\n",
      "短尾猫  90  82  97\n",
      "\n",
      "所取行的内容为：\n",
      "张三     80\n",
      "Tom    82\n",
      "鸢泉花    97\n",
      "短尾猫    82\n",
      "Name: 数学, dtype: int32\n",
      "返回值类型为：<class 'pandas.core.series.Series'>\n"
     ]
    }
   ],
   "source": [
    "# 先导包\n",
    "import numpy as np\n",
    "import pandas as pd\n",
    "\n",
    "# 使用随机数创建分数数组（4个人×3个科目）\n",
    "grades_ary = np.random.randint(80, 100, (4, 3))\n",
    "\n",
    "# 创建 DataFrame 数据结构\n",
    "df = pd.DataFrame(grades_ary, index=[\"张三\", \"Tom\", \"鸢泉花\", \"短尾猫\"], columns=[\"语文\", \"数学\", \"英语\"])\n",
    "print(f\"演示所用 DataFrame 的内容为：\\n{df}\")\n",
    "\n",
    "# 取出所有同学的数学成绩\n",
    "df_数学 = df.loc[: , \"数学\"]\n",
    "print(f\"\\n所取行的内容为：\\n{df_数学}\\n返回值类型为：{type(df_数学)}\")"
   ]
  },
  {
   "cell_type": "markdown",
   "id": "4c465496",
   "metadata": {},
   "source": [
    "#### 2.4.1.3 选择多行和多列"
   ]
  },
  {
   "cell_type": "code",
   "execution_count": 19,
   "id": "4190fde1",
   "metadata": {},
   "outputs": [
    {
     "name": "stdout",
     "output_type": "stream",
     "text": [
      "演示所用DataFrame的内容为：\n",
      "     语文  数学  英语\n",
      "张三   97  87  87\n",
      "Tom  82  93  91\n",
      "鸢泉花  92  98  85\n",
      "短尾猫  86  98  98\n",
      "\n",
      "所取行的内容为：\n",
      "     数学  英语\n",
      "短尾猫  98  98\n",
      "Tom  93  91\n",
      "返回值类型为：<class 'pandas.core.frame.DataFrame'>\n"
     ]
    }
   ],
   "source": [
    "# 先导包\n",
    "import numpy as np\n",
    "import pandas as pd\n",
    "\n",
    "# 使用随机数创建分数数组（4个人×3个科目）\n",
    "grades_ary = np.random.randint(80, 100, (4, 3))\n",
    "\n",
    "# 创建DataFrame数据结构\n",
    "df = pd.DataFrame(grades_ary, index=[\"张三\", \"Tom\", \"鸢泉花\", \"短尾猫\"], columns=[\"语文\", \"数学\", \"英语\"])\n",
    "print(f\"演示所用DataFrame的内容为：\\n{df}\")\n",
    "\n",
    "# 取出 短尾猫和Tom 的 数学和英语成绩\n",
    "df_prac = df.loc[[\"短尾猫\", \"Tom\"], [\"数学\", \"英语\"]]\n",
    "print(f\"\\n所取行的内容为：\\n{df_prac}\\n返回值类型为：{type(df_prac)}\")"
   ]
  },
  {
   "cell_type": "markdown",
   "id": "b83dcbf7",
   "metadata": {},
   "source": [
    "#### 2.4.1.4 使用切片"
   ]
  },
  {
   "cell_type": "raw",
   "id": "aafde020",
   "metadata": {},
   "source": [
    "语法： df.loc[行切片, 列切片]\n",
    "\n",
    "详细说明： 行切片：可以是标签、标签列表或切片。\n",
    "        列切片：可以是标签、标签列表或切片。\n",
    "        \n",
    "注意：这里的行切片和列切片都不需要中括号，即：哪边进行切片，哪边不需要列表嵌套\n",
    "\n",
    "特别注意：使用 loc 方法进行切片时，右边的标签是包含在内的。这与基于位置的切片（如 iloc）不同，后者不包括右边界。"
   ]
  },
  {
   "cell_type": "markdown",
   "id": "a85f0b20",
   "metadata": {},
   "source": [
    "##### a. 如果都切片，就不需要列表嵌套"
   ]
  },
  {
   "cell_type": "code",
   "execution_count": 20,
   "id": "0c690dc6",
   "metadata": {},
   "outputs": [
    {
     "name": "stdout",
     "output_type": "stream",
     "text": [
      "演示所用DataFrame的内容为：\n",
      "     语文  数学  英语\n",
      "张三   89  98  82\n",
      "Tom  99  84  95\n",
      "鸢泉花  87  85  97\n",
      "短尾猫  95  95  85\n",
      "\n",
      "所取行的内容为：\n",
      "     数学  英语\n",
      "Tom  84  95\n",
      "鸢泉花  85  97\n",
      "短尾猫  95  85\n",
      "返回值类型为：<class 'pandas.core.frame.DataFrame'>\n"
     ]
    }
   ],
   "source": [
    "# 先导包\n",
    "import numpy as np\n",
    "import pandas as pd\n",
    "\n",
    "# 使用随机数创建分数数组（4个人×3个科目）\n",
    "grades_ary = np.random.randint(80, 100, (4, 3))\n",
    "\n",
    "# 创建DataFrame数据结构\n",
    "df = pd.DataFrame(grades_ary, index=[\"张三\", \"Tom\", \"鸢泉花\", \"短尾猫\"], columns=[\"语文\", \"数学\", \"英语\"])\n",
    "print(f\"演示所用DataFrame的内容为：\\n{df}\")\n",
    "\n",
    "# 取出 从Tom到短尾猫  数学到英语 的数据集\n",
    "df_prac = df.loc[\"Tom\": \"短尾猫\", \"数学\": \"英语\"]\n",
    "print(f\"\\n所取行的内容为：\\n{df_prac}\\n返回值类型为：{type(df_prac)}\")"
   ]
  },
  {
   "cell_type": "markdown",
   "id": "5016fb8e",
   "metadata": {},
   "source": [
    "##### b. 只进行 行切片，则列切片需要进行列表嵌套"
   ]
  },
  {
   "cell_type": "code",
   "execution_count": 21,
   "id": "14921725",
   "metadata": {},
   "outputs": [
    {
     "name": "stdout",
     "output_type": "stream",
     "text": [
      "演示所用DataFrame的内容为：\n",
      "     语文  数学  英语\n",
      "张三   92  92  90\n",
      "Tom  91  95  89\n",
      "鸢泉花  98  86  82\n",
      "短尾猫  88  82  91\n",
      "\n",
      "所取行的内容为：\n",
      "     数学  英语\n",
      "Tom  95  89\n",
      "鸢泉花  86  82\n",
      "短尾猫  82  91\n",
      "返回值类型为：<class 'pandas.core.frame.DataFrame'>\n"
     ]
    }
   ],
   "source": [
    "# 先导包\n",
    "import numpy as np\n",
    "import pandas as pd\n",
    "\n",
    "# 使用随机数创建分数数组（4个人×3个科目）\n",
    "grades_ary = np.random.randint(80, 100, (4, 3))\n",
    "\n",
    "# 创建DataFrame数据结构\n",
    "df = pd.DataFrame(grades_ary, index=[\"张三\", \"Tom\", \"鸢泉花\", \"短尾猫\"], columns=[\"语文\", \"数学\", \"英语\"])\n",
    "print(f\"演示所用DataFrame的内容为：\\n{df}\")\n",
    "\n",
    "# 取出 从Tom到短尾猫 的 数学和英语 的数据集\n",
    "df_prac = df.loc[\"Tom\": \"短尾猫\", [\"数学\", \"英语\"]]\n",
    "print(f\"\\n所取行的内容为：\\n{df_prac}\\n返回值类型为：{type(df_prac)}\")"
   ]
  },
  {
   "cell_type": "markdown",
   "id": "0ac97f81",
   "metadata": {},
   "source": [
    "##### c. 只进行 列切片，则行切片需要进行列表嵌套"
   ]
  },
  {
   "cell_type": "code",
   "execution_count": 22,
   "id": "449dca66",
   "metadata": {},
   "outputs": [
    {
     "name": "stdout",
     "output_type": "stream",
     "text": [
      "演示所用DataFrame的内容为：\n",
      "     语文  数学  英语\n",
      "张三   86  97  90\n",
      "Tom  89  91  97\n",
      "鸢泉花  93  91  85\n",
      "短尾猫  98  85  92\n",
      "\n",
      "所取行的内容为：\n",
      "     数学  英语\n",
      "Tom  91  97\n",
      "短尾猫  85  92\n",
      "返回值类型为：<class 'pandas.core.frame.DataFrame'>\n"
     ]
    }
   ],
   "source": [
    "# 先导包\n",
    "import numpy as np\n",
    "import pandas as pd\n",
    "\n",
    "# 使用随机数创建分数数组（4个人×3个科目）\n",
    "grades_ary = np.random.randint(80, 100, (4, 3))\n",
    "\n",
    "# 创建DataFrame数据结构\n",
    "df = pd.DataFrame(grades_ary, index=[\"张三\", \"Tom\", \"鸢泉花\", \"短尾猫\"], columns=[\"语文\", \"数学\", \"英语\"])\n",
    "print(f\"演示所用DataFrame的内容为：\\n{df}\")\n",
    "\n",
    "# 取出 Tom和短尾猫  从数学到英语 的数据集\n",
    "df_prac = df.loc[[\"Tom\", \"短尾猫\"], \"数学\": \"英语\"]\n",
    "print(f\"\\n所取行的内容为：\\n{df_prac}\\n返回值类型为：{type(df_prac)}\")"
   ]
  },
  {
   "cell_type": "markdown",
   "id": "f5be7b8c",
   "metadata": {},
   "source": [
    "#### 2.4.1.5 使用布尔索引"
   ]
  },
  {
   "cell_type": "markdown",
   "id": "9600d184",
   "metadata": {},
   "source": [
    "##### a. 演示：使用布尔索引"
   ]
  },
  {
   "cell_type": "code",
   "execution_count": 23,
   "id": "158f8d05",
   "metadata": {},
   "outputs": [
    {
     "name": "stdout",
     "output_type": "stream",
     "text": [
      "演示所用DataFrame的内容为：\n",
      "     语文  数学  英语\n",
      "张三   81  93  81\n",
      "Tom  83  83  89\n",
      "鸢泉花  85  94  88\n",
      "短尾猫  88  98  86\n",
      "\n",
      "只展示一、四行的内容，结果为：\n",
      "     语文  数学  英语\n",
      "张三   81  93  81\n",
      "短尾猫  88  98  86\n"
     ]
    }
   ],
   "source": [
    "# 先导包\n",
    "import numpy as np\n",
    "import pandas as pd\n",
    "\n",
    "# 使用随机数创建分数数组（4个人×3个科目）\n",
    "grades_ary = np.random.randint(80, 100, (4, 3))\n",
    "\n",
    "# 创建DataFrame数据结构\n",
    "df = pd.DataFrame(grades_ary, index=[\"张三\", \"Tom\", \"鸢泉花\", \"短尾猫\"], columns=[\"语文\", \"数学\", \"英语\"])\n",
    "print(f\"演示所用DataFrame的内容为：\\n{df}\\n\")\n",
    "\n",
    "# 使用布尔索引，演示 一、四行 的内容\n",
    "bool_index = [True, False, False, True]\n",
    "df_prac = df.loc[bool_index]\n",
    "print(f\"只展示一、四行的内容，结果为：\\n{df_prac}\")"
   ]
  },
  {
   "cell_type": "markdown",
   "id": "43257a93",
   "metadata": {},
   "source": [
    "##### b. 练习：得到短尾猫大于85的科目及成绩"
   ]
  },
  {
   "cell_type": "code",
   "execution_count": 24,
   "id": "a961cb84",
   "metadata": {},
   "outputs": [
    {
     "name": "stdout",
     "output_type": "stream",
     "text": [
      "演示所用DataFrame的内容为：\n",
      "     语文  数学  英语\n",
      "张三   98  84  98\n",
      "Tom  85  93  91\n",
      "鸢泉花  81  99  97\n",
      "短尾猫  96  85  84\n",
      "\n",
      "短尾猫的成绩：\n",
      "语文    96\n",
      "数学    85\n",
      "英语    84\n",
      "Name: 短尾猫, dtype: int32\n",
      "\n",
      "短尾猫的成绩大于85的布尔索引：\n",
      "语文     True\n",
      "数学    False\n",
      "英语    False\n",
      "Name: 短尾猫, dtype: bool\n",
      "\n",
      "短尾猫成绩大于85的科目：\n",
      "语文    96\n",
      "Name: 短尾猫, dtype: int32\n"
     ]
    }
   ],
   "source": [
    "# 先导包\n",
    "import numpy as np\n",
    "import pandas as pd\n",
    "\n",
    "# 使用随机数创建分数数组（4个人×3个科目）\n",
    "grades_ary = np.random.randint(80, 100, (4, 3))\n",
    "\n",
    "# 创建DataFrame数据结构\n",
    "df = pd.DataFrame(grades_ary, index=[\"张三\", \"Tom\", \"鸢泉花\", \"短尾猫\"], columns=[\"语文\", \"数学\", \"英语\"])\n",
    "print(f\"演示所用DataFrame的内容为：\\n{df}\\n\")\n",
    "\n",
    "# 1. 取出短尾猫的成绩\n",
    "短尾猫 = df.loc[\"短尾猫\"]  # 取出短尾猫的所有成绩\n",
    "print(f\"短尾猫的成绩：\\n{短尾猫}\\n\")  # 为了演示\n",
    "\n",
    "# 2. 创建布尔索引，判断短尾猫的成绩是否大于85\n",
    "短尾猫大于85 = 短尾猫 > 85\n",
    "print(f\"短尾猫的成绩大于85的布尔索引：\\n{短尾猫大于85}\\n\")\n",
    "\n",
    "# 3. 使用布尔索引筛选出成绩大于85的科目\n",
    "短尾猫大于85的科目 = df.loc[\"短尾猫\", 短尾猫大于85]\n",
    "print(f\"短尾猫成绩大于85的科目：\\n{短尾猫大于85的科目}\")"
   ]
  },
  {
   "cell_type": "markdown",
   "id": "1af38f00",
   "metadata": {},
   "source": [
    "### 2.4.2 iloc方法"
   ]
  },
  {
   "cell_type": "raw",
   "id": "dfe4e54c",
   "metadata": {},
   "source": [
    "语法：df.iloc[行下标索引, 列下标索引]\n",
    "\n",
    "参数说明：   行下标索引：可以是单个整数、整数列表或切片。\n",
    "          列下标索引：可以是单个整数、整数列表或切片。\n",
    "    \n",
    "功能：按整数位置选择行和列（支持切片和布尔索引）。"
   ]
  },
  {
   "cell_type": "markdown",
   "id": "1996ec94",
   "metadata": {},
   "source": [
    "#### 2.4.2.1 只取一行"
   ]
  },
  {
   "cell_type": "code",
   "execution_count": 25,
   "id": "91a7c305",
   "metadata": {},
   "outputs": [
    {
     "name": "stdout",
     "output_type": "stream",
     "text": [
      "演示所用DataFrame的内容为：\n",
      "     语文  数学  英语\n",
      "张三   84  85  97\n",
      "Tom  95  84  96\n",
      "鸢泉花  84  82  96\n",
      "短尾猫  83  93  90\n",
      "\n",
      "所取行的内容为：\n",
      "语文    83\n",
      "数学    93\n",
      "英语    90\n",
      "Name: 短尾猫, dtype: int32\n",
      "返回值类型为：<class 'pandas.core.series.Series'>\n"
     ]
    }
   ],
   "source": [
    "# 先导包\n",
    "import numpy as np\n",
    "import pandas as pd\n",
    "\n",
    "# 使用随机数创建分数数组（4个人×3个科目）\n",
    "grades_ary = np.random.randint(80, 100, (4, 3))\n",
    "\n",
    "# 创建DataFrame数据结构\n",
    "df = pd.DataFrame(grades_ary, index=[\"张三\", \"Tom\", \"鸢泉花\", \"短尾猫\"], columns=[\"语文\", \"数学\", \"英语\"])\n",
    "print(f\"演示所用DataFrame的内容为：\\n{df}\")\n",
    "\n",
    "# 取出短尾猫的行\n",
    "df_短尾猫 = df.iloc[3]\n",
    "print(f\"\\n所取行的内容为：\\n{df_短尾猫}\\n返回值类型为：{type(df_短尾猫)}\")"
   ]
  },
  {
   "cell_type": "markdown",
   "id": "65bc829b",
   "metadata": {},
   "source": [
    "#### 2.4.2.2 只取一列"
   ]
  },
  {
   "cell_type": "markdown",
   "id": "ea795678",
   "metadata": {},
   "source": [
    "应当注意，如果取的是列，在iloc方法中的逗号前一定要有冒号，表示取全部的行，否则会报错"
   ]
  },
  {
   "cell_type": "code",
   "execution_count": 26,
   "id": "7022c458",
   "metadata": {},
   "outputs": [
    {
     "name": "stdout",
     "output_type": "stream",
     "text": [
      "演示所用DataFrame的内容为：\n",
      "     语文  数学  英语\n",
      "张三   81  89  90\n",
      "Tom  92  97  81\n",
      "鸢泉花  91  85  88\n",
      "短尾猫  96  90  94\n",
      "\n",
      "所取行的内容为：\n",
      "张三     89\n",
      "Tom    97\n",
      "鸢泉花    85\n",
      "短尾猫    90\n",
      "Name: 数学, dtype: int32\n",
      "返回值类型为：<class 'pandas.core.series.Series'>\n"
     ]
    }
   ],
   "source": [
    "# 先导包\n",
    "import numpy as np\n",
    "import pandas as pd\n",
    "\n",
    "# 使用随机数创建分数数组（4个人×3个科目）\n",
    "grades_ary = np.random.randint(80, 100, (4, 3))\n",
    "\n",
    "# 创建DataFrame数据结构\n",
    "df = pd.DataFrame(grades_ary, index=[\"张三\", \"Tom\", \"鸢泉花\", \"短尾猫\"], columns=[\"语文\", \"数学\", \"英语\"])\n",
    "print(f\"演示所用DataFrame的内容为：\\n{df}\")\n",
    "\n",
    "# 取出数学的列\n",
    "df_短尾猫 = df.iloc[: , 1]\n",
    "print(f\"\\n所取行的内容为：\\n{df_短尾猫}\\n返回值类型为：{type(df_短尾猫)}\")"
   ]
  },
  {
   "cell_type": "markdown",
   "id": "097653e0",
   "metadata": {},
   "source": [
    "#### 2.4.2.3 选择多行和多列"
   ]
  },
  {
   "cell_type": "code",
   "execution_count": 27,
   "id": "d1e3f65a",
   "metadata": {},
   "outputs": [
    {
     "name": "stdout",
     "output_type": "stream",
     "text": [
      "演示所用DataFrame的内容为：\n",
      "     语文  数学  英语\n",
      "张三   90  85  98\n",
      "Tom  80  81  90\n",
      "鸢泉花  94  95  84\n",
      "短尾猫  98  85  90\n",
      "\n",
      "所取行的内容为：\n",
      "     数学  英语\n",
      "短尾猫  85  90\n",
      "Tom  81  90\n",
      "返回值类型为：<class 'pandas.core.frame.DataFrame'>\n"
     ]
    }
   ],
   "source": [
    "# 先导包\n",
    "import numpy as np\n",
    "import pandas as pd\n",
    "\n",
    "# 使用随机数创建分数数组（4个人×3个科目）\n",
    "grades_ary = np.random.randint(80, 100, (4, 3))\n",
    "\n",
    "# 创建DataFrame数据结构\n",
    "df = pd.DataFrame(grades_ary, index=[\"张三\", \"Tom\", \"鸢泉花\", \"短尾猫\"], columns=[\"语文\", \"数学\", \"英语\"])\n",
    "print(f\"演示所用DataFrame的内容为：\\n{df}\")\n",
    "\n",
    "# 取出 短尾猫和Tom 的 数学和英语成绩\n",
    "df_prac = df.iloc[[3, 1], [1, 2]]\n",
    "print(f\"\\n所取行的内容为：\\n{df_prac}\\n返回值类型为：{type(df_prac)}\")"
   ]
  },
  {
   "cell_type": "markdown",
   "id": "df687f7d",
   "metadata": {},
   "source": [
    "#### 2.4.2.4 使用切片"
   ]
  },
  {
   "cell_type": "raw",
   "id": "2f41c22a",
   "metadata": {},
   "source": [
    "语法： df.iloc[行切片, 列切片]\n",
    "\n",
    "详细说明： 行切片：可以是索引、索引列表或切片。\n",
    "        列切片：可以是索引、索引列表或切片。\n",
    "        \n",
    "注意：这里的行切片和列切片都不需要中括号，即：哪边进行切片，哪边不需要列表嵌套\n",
    "\n",
    "特别注意：使用 iloc 方法进行切片时，右边的标签是不包含在内的。这与loc方法进行的切片不同，后者包括右边界。"
   ]
  },
  {
   "cell_type": "markdown",
   "id": "be3f8721",
   "metadata": {},
   "source": [
    "##### a. 如果都切片，就不需要列表嵌套"
   ]
  },
  {
   "cell_type": "code",
   "execution_count": 28,
   "id": "650ffa0e",
   "metadata": {},
   "outputs": [
    {
     "name": "stdout",
     "output_type": "stream",
     "text": [
      "演示所用DataFrame的内容为：\n",
      "     语文  数学  英语\n",
      "张三   81  86  91\n",
      "Tom  82  88  93\n",
      "鸢泉花  92  94  89\n",
      "短尾猫  97  82  82\n",
      "\n",
      "所取行的内容为：\n",
      "     数学  英语\n",
      "Tom  88  93\n",
      "鸢泉花  94  89\n",
      "短尾猫  82  82\n",
      "返回值类型为：<class 'pandas.core.frame.DataFrame'>\n"
     ]
    }
   ],
   "source": [
    "# 先导包\n",
    "import numpy as np\n",
    "import pandas as pd\n",
    "\n",
    "# 使用随机数创建分数数组（4个人×3个科目）\n",
    "grades_ary = np.random.randint(80, 100, (4, 3))\n",
    "\n",
    "# 创建DataFrame数据结构\n",
    "df = pd.DataFrame(grades_ary, index=[\"张三\", \"Tom\", \"鸢泉花\", \"短尾猫\"], columns=[\"语文\", \"数学\", \"英语\"])\n",
    "print(f\"演示所用DataFrame的内容为：\\n{df}\")\n",
    "\n",
    "# 取出 从Tom到短尾猫  数学到英语 的数据集\n",
    "df_prac = df.iloc[1: 4, 1:]\n",
    "print(f\"\\n所取行的内容为：\\n{df_prac}\\n返回值类型为：{type(df_prac)}\")"
   ]
  },
  {
   "cell_type": "markdown",
   "id": "818c7a61",
   "metadata": {},
   "source": [
    "##### b. 只进行 行切片，则列切片需要进行列表嵌套"
   ]
  },
  {
   "cell_type": "code",
   "execution_count": 29,
   "id": "62aea421",
   "metadata": {},
   "outputs": [
    {
     "name": "stdout",
     "output_type": "stream",
     "text": [
      "演示所用DataFrame的内容为：\n",
      "     语文  数学  英语\n",
      "张三   94  93  86\n",
      "Tom  95  89  98\n",
      "鸢泉花  87  94  83\n",
      "短尾猫  93  81  86\n",
      "\n",
      "所取行的内容为：\n",
      "     数学  英语\n",
      "Tom  89  98\n",
      "鸢泉花  94  83\n",
      "短尾猫  81  86\n",
      "返回值类型为：<class 'pandas.core.frame.DataFrame'>\n"
     ]
    }
   ],
   "source": [
    "# 先导包\n",
    "import numpy as np\n",
    "import pandas as pd\n",
    "\n",
    "# 使用随机数创建分数数组（4个人×3个科目）\n",
    "grades_ary = np.random.randint(80, 100, (4, 3))\n",
    "\n",
    "# 创建DataFrame数据结构\n",
    "df = pd.DataFrame(grades_ary, index=[\"张三\", \"Tom\", \"鸢泉花\", \"短尾猫\"], columns=[\"语文\", \"数学\", \"英语\"])\n",
    "print(f\"演示所用DataFrame的内容为：\\n{df}\")\n",
    "\n",
    "# 取出 从Tom到短尾猫 的 数学和英语 的数据集\n",
    "df_prac = df.iloc[1: , [1, 2]]\n",
    "print(f\"\\n所取行的内容为：\\n{df_prac}\\n返回值类型为：{type(df_prac)}\")"
   ]
  },
  {
   "cell_type": "markdown",
   "id": "a9e1304b",
   "metadata": {},
   "source": [
    "##### c. 只进行 列切片，则行切片需要进行列表嵌套"
   ]
  },
  {
   "cell_type": "code",
   "execution_count": 30,
   "id": "76dc66c8",
   "metadata": {},
   "outputs": [
    {
     "name": "stdout",
     "output_type": "stream",
     "text": [
      "演示所用DataFrame的内容为：\n",
      "     语文  数学  英语\n",
      "张三   85  85  90\n",
      "Tom  89  97  90\n",
      "鸢泉花  99  93  99\n",
      "短尾猫  98  96  94\n",
      "\n",
      "所取行的内容为：\n",
      "     数学  英语\n",
      "Tom  97  90\n",
      "短尾猫  96  94\n",
      "返回值类型为：<class 'pandas.core.frame.DataFrame'>\n"
     ]
    }
   ],
   "source": [
    "# 先导包\n",
    "import numpy as np\n",
    "import pandas as pd\n",
    "\n",
    "# 使用随机数创建分数数组（4个人×3个科目）\n",
    "grades_ary = np.random.randint(80, 100, (4, 3))\n",
    "\n",
    "# 创建DataFrame数据结构\n",
    "df = pd.DataFrame(grades_ary, index=[\"张三\", \"Tom\", \"鸢泉花\", \"短尾猫\"], columns=[\"语文\", \"数学\", \"英语\"])\n",
    "print(f\"演示所用DataFrame的内容为：\\n{df}\")\n",
    "\n",
    "# 取出 Tom和短尾猫  从数学到英语 的数据集\n",
    "df_prac = df.iloc[[1, 3], 1: 3]\n",
    "print(f\"\\n所取行的内容为：\\n{df_prac}\\n返回值类型为：{type(df_prac)}\")"
   ]
  },
  {
   "cell_type": "markdown",
   "id": "790b5afd",
   "metadata": {},
   "source": [
    "#### 2.4.2.5 使用布尔索引"
   ]
  },
  {
   "cell_type": "markdown",
   "id": "3da6cb08",
   "metadata": {},
   "source": [
    "##### a. 演示：使用布尔索引（这里同loc方法）"
   ]
  },
  {
   "cell_type": "code",
   "execution_count": 31,
   "id": "588375ae",
   "metadata": {},
   "outputs": [
    {
     "name": "stdout",
     "output_type": "stream",
     "text": [
      "演示所用DataFrame的内容为：\n",
      "     语文  数学  英语\n",
      "张三   93  90  82\n",
      "Tom  84  81  81\n",
      "鸢泉花  90  84  93\n",
      "短尾猫  93  86  86\n",
      "\n",
      "只展示一、四行的内容，结果为：\n",
      "     语文  数学  英语\n",
      "张三   93  90  82\n",
      "短尾猫  93  86  86\n"
     ]
    }
   ],
   "source": [
    "# 先导包\n",
    "import numpy as np\n",
    "import pandas as pd\n",
    "\n",
    "# 使用随机数创建分数数组（4个人×3个科目）\n",
    "grades_ary = np.random.randint(80, 100, (4, 3))\n",
    "\n",
    "# 创建DataFrame数据结构\n",
    "df = pd.DataFrame(grades_ary, index=[\"张三\", \"Tom\", \"鸢泉花\", \"短尾猫\"], columns=[\"语文\", \"数学\", \"英语\"])\n",
    "print(f\"演示所用DataFrame的内容为：\\n{df}\\n\")\n",
    "\n",
    "# 使用布尔索引，演示 一、四行 的内容\n",
    "bool_index = [True, False, False, True]\n",
    "df_prac = df.iloc[bool_index]\n",
    "print(f\"只展示一、四行的内容，结果为：\\n{df_prac}\")"
   ]
  },
  {
   "cell_type": "markdown",
   "id": "0e0ff0c0",
   "metadata": {},
   "source": [
    "##### b. 练习：得到短尾猫大于85的科目及成绩（这里可以使用np.where方法）"
   ]
  },
  {
   "cell_type": "code",
   "execution_count": 32,
   "id": "7bdb3629",
   "metadata": {},
   "outputs": [
    {
     "name": "stdout",
     "output_type": "stream",
     "text": [
      "演示所用DataFrame的内容为：\n",
      "     语文  数学  英语\n",
      "张三   90  84  86\n",
      "Tom  83  99  84\n",
      "鸢泉花  86  89  97\n",
      "短尾猫  89  87  92\n",
      "\n",
      "张三     False\n",
      "Tom     True\n",
      "鸢泉花     True\n",
      "短尾猫     True\n",
      "Name: 数学, dtype: bool \n",
      "\n",
      "[1 2 3] \n",
      "\n",
      "数学成绩大于85的学生成绩为：\n",
      "     语文  数学  英语\n",
      "Tom  83  99  84\n",
      "鸢泉花  86  89  97\n",
      "短尾猫  89  87  92\n"
     ]
    }
   ],
   "source": [
    "# 先导包\n",
    "import numpy as np\n",
    "import pandas as pd\n",
    "\n",
    "# 使用随机数创建分数数组（4个人×3个科目）\n",
    "grades_ary = np.random.randint(80, 100, (4, 3))\n",
    "\n",
    "# 创建DataFrame数据结构\n",
    "df = pd.DataFrame(grades_ary, index=[\"张三\", \"Tom\", \"鸢泉花\", \"短尾猫\"], columns=[\"语文\", \"数学\", \"英语\"])\n",
    "print(f\"演示所用DataFrame的内容为：\\n{df}\\n\")\n",
    "\n",
    "# 1.创建布尔索引，选择数学成绩大于85的行\n",
    "数学成绩大于85 = df[\"数学\"] > 85\n",
    "print(数学成绩大于85, \"\\n\")\n",
    "\n",
    "# 2.使用 iloc 方法选择符合条件的行（需要先转换布尔索引为整数索引）\n",
    "符合条件的行索引 = np.where(数学成绩大于85)[0]  # 获取满足条件的行的索引\n",
    "print(符合条件的行索引, \"\\n\")\n",
    "\n",
    "# 3.使用 iloc 选择这些行\n",
    "df_数学高分 = df.iloc[符合条件的行索引]\n",
    "print(f\"数学成绩大于85的学生成绩为：\\n{df_数学高分}\")"
   ]
  },
  {
   "cell_type": "markdown",
   "id": "df7443c6",
   "metadata": {},
   "source": [
    "# 三 DataFrame 常用操作"
   ]
  },
  {
   "cell_type": "markdown",
   "id": "8e7976a9",
   "metadata": {},
   "source": [
    "# 1. DataFrame 行、列添加"
   ]
  },
  {
   "cell_type": "raw",
   "id": "ede173e8",
   "metadata": {},
   "source": [
    "无论是行添加还是列添加，都可以首先访问到对应行、列，然后进行添加，下面是常用的几种方式"
   ]
  },
  {
   "cell_type": "markdown",
   "id": "5d4361cd",
   "metadata": {},
   "source": [
    "## 1.1 使用 序列 进行添加"
   ]
  },
  {
   "cell_type": "markdown",
   "id": "16767363",
   "metadata": {},
   "source": [
    "下例添加列时，将行索引中的 身高与年龄 进行了调换，但是最终结果会自动对齐"
   ]
  },
  {
   "cell_type": "code",
   "execution_count": 33,
   "id": "cc0f82d0",
   "metadata": {},
   "outputs": [
    {
     "name": "stdout",
     "output_type": "stream",
     "text": [
      "演示数据集的内容为：\n",
      "    Tom 短尾猫\n",
      "身高  176  14\n",
      "年龄   23   3\n",
      "体重   65  12\n",
      "品种   人类  英短 \n",
      "\n",
      "添加“橘子”列后，演示数据集的内容为：\n",
      "    Tom 短尾猫   橘子\n",
      "身高  176  14    6\n",
      "年龄   23   3  0.8\n",
      "体重   65  12    1\n",
      "品种   人类  英短   柑橘 \n",
      "\n",
      "添加“口感”行后，演示数据集的内容为：\n",
      "    Tom 短尾猫   橘子\n",
      "身高  176  14    6\n",
      "年龄   23   3  0.8\n",
      "体重   65  12    1\n",
      "品种   人类  英短   柑橘\n",
      "口感  无口感   酸    甜 \n",
      "\n"
     ]
    }
   ],
   "source": [
    "# 先导包\n",
    "import numpy as np\n",
    "import pandas as pd\n",
    "\n",
    "# 创建演示数据集\n",
    "data = np.array([[176, 23, 65, \"人类\"], [14, 3, 12, \"英短\"]]).T\n",
    "df = pd.DataFrame(data, index=[\"身高\", \"年龄\", \"体重\", \"品种\"], columns=[\"Tom\", \"短尾猫\"])\n",
    "print(f\"演示数据集的内容为：\\n{df}\", \"\\n\")\n",
    "\n",
    "# 添加新的列：橘子\n",
    "Series1 = pd.Series([0.8, 6, 1, \"柑橘\"], index=[\"年龄\", \"身高\", \"体重\", \"品种\"])\n",
    "df[\"橘子\"] = Series1\n",
    "print(f\"添加“橘子”列后，演示数据集的内容为：\\n{df}\", \"\\n\")\n",
    "\n",
    "# 添加新的行：口感\n",
    "Series2 = pd.Series([\"无口感\", \"酸\", \"甜\"], index=[\"Tom\", \"短尾猫\", \"橘子\"])\n",
    "df.loc[\"口感\"] = Series2\n",
    "print(f\"添加“口感”行后，演示数据集的内容为：\\n{df}\", \"\\n\")"
   ]
  },
  {
   "cell_type": "markdown",
   "id": "a8f5eaa1",
   "metadata": {},
   "source": [
    "## 1.2 使用 列表 进行添加"
   ]
  },
  {
   "cell_type": "markdown",
   "id": "f5747719",
   "metadata": {},
   "source": [
    "使用列表时候，只会按照列表中的顺序挨个填入，因而需要保证数据能与行索引相对应"
   ]
  },
  {
   "cell_type": "code",
   "execution_count": 34,
   "id": "8af06ff2",
   "metadata": {},
   "outputs": [
    {
     "name": "stdout",
     "output_type": "stream",
     "text": [
      "演示数据集的内容为：\n",
      "    Tom 短尾猫\n",
      "身高  176  14\n",
      "年龄   23   3\n",
      "体重   65  12\n",
      "品种   人类  英短 \n",
      "\n",
      "添加“橘子”列后，演示数据集的内容为：\n",
      "    Tom 短尾猫   橘子\n",
      "身高  176  14  0.8\n",
      "年龄   23   3    6\n",
      "体重   65  12    1\n",
      "品种   人类  英短   柑橘 \n",
      "\n",
      "添加“口感”行后，演示数据集的内容为：\n",
      "    Tom 短尾猫   橘子\n",
      "身高  176  14  0.8\n",
      "年龄   23   3    6\n",
      "体重   65  12    1\n",
      "品种   人类  英短   柑橘\n",
      "口感  无口感   酸    甜 \n",
      "\n"
     ]
    }
   ],
   "source": [
    "# 先导包\n",
    "import numpy as np\n",
    "import pandas as pd\n",
    "\n",
    "# 创建演示数据集\n",
    "data = np.array([[176, 23, 65, \"人类\"], [14, 3, 12, \"英短\"]]).T\n",
    "df = pd.DataFrame(data, index=[\"身高\", \"年龄\", \"体重\", \"品种\"], columns=[\"Tom\", \"短尾猫\"])\n",
    "print(f\"演示数据集的内容为：\\n{df}\", \"\\n\")\n",
    "\n",
    "# 添加新的列：橘子\n",
    "list1 = [0.8, 6, 1, \"柑橘\"]\n",
    "df[\"橘子\"] = list1\n",
    "print(f\"添加“橘子”列后，演示数据集的内容为：\\n{df}\", \"\\n\")\n",
    "\n",
    "# 添加新的行：口感\n",
    "list2 = [\"无口感\", \"酸\", \"甜\"]\n",
    "df.loc[\"口感\"] = list2\n",
    "print(f\"添加“口感”行后，演示数据集的内容为：\\n{df}\", \"\\n\")"
   ]
  },
  {
   "cell_type": "markdown",
   "id": "bd9a98d7",
   "metadata": {},
   "source": [
    "# 2 DataFrame 行、列删除"
   ]
  },
  {
   "cell_type": "markdown",
   "id": "0f8df799",
   "metadata": {},
   "source": [
    "## 2.1 列删除"
   ]
  },
  {
   "cell_type": "markdown",
   "id": "eba4a510",
   "metadata": {},
   "source": [
    "### 2.1.1 del方法"
   ]
  },
  {
   "cell_type": "raw",
   "id": "7dc4df52",
   "metadata": {},
   "source": [
    "语法： del 数据集[\"列名称\"]\n",
    "\n",
    "参数说明： \n",
    "数据集 ：待处理数据集\n",
    "列名称 ：待处理的列名称\n",
    "\n",
    "功能： 删除数据集的指定列\n",
    "\n",
    "返回值：无返回值，用于处理需要直接删除，无需备份的数据"
   ]
  },
  {
   "cell_type": "code",
   "execution_count": 35,
   "id": "3bc8a5dc",
   "metadata": {},
   "outputs": [
    {
     "name": "stdout",
     "output_type": "stream",
     "text": [
      "演示数据集的内容为：\n",
      "    Tom 短尾猫   橘子\n",
      "身高  176  14    6\n",
      "年龄   23   3  0.8\n",
      "体重   65  12    1\n",
      "品种   人类  英短   柑橘 \n",
      "\n",
      "   短尾猫   橘子\n",
      "身高  14    6\n",
      "年龄   3  0.8\n",
      "体重  12    1\n",
      "品种  英短   柑橘\n"
     ]
    }
   ],
   "source": [
    "# 先导包\n",
    "import numpy as np\n",
    "import pandas as pd\n",
    "\n",
    "# 创建演示数据集\n",
    "data = np.array([[176, 23, 65, \"人类\"], [14, 3, 12, \"英短\"], [6, 0.8, 1, \"柑橘\"]]).T\n",
    "df = pd.DataFrame(data, index=[\"身高\", \"年龄\", \"体重\", \"品种\"], columns=[\"Tom\", \"短尾猫\", \"橘子\"])\n",
    "print(f\"演示数据集的内容为：\\n{df}\", \"\\n\")\n",
    "\n",
    "# 删除列：Tom\n",
    "del df[\"Tom\"]\n",
    "print(df)"
   ]
  },
  {
   "cell_type": "markdown",
   "id": "1866f6db",
   "metadata": {},
   "source": [
    "### 2.1.2 pop方法"
   ]
  },
  {
   "cell_type": "raw",
   "id": "7143e97b",
   "metadata": {},
   "source": [
    "语法：变量名 = df.pop(\"列名称\")\n",
    "\n",
    "参数说明： \n",
    "数据集 ：待处理DataFrame\n",
    "列名称 ：待处理的列名称\n",
    "\n",
    "功能： 提取数据集的指定列，并删除原数据集中的指定列\n",
    "\n",
    "返回值：删除的列，用于处理需要备份使用的数据。可使用变量接收，展示被删除的数据"
   ]
  },
  {
   "cell_type": "code",
   "execution_count": 36,
   "id": "a8ce9d78",
   "metadata": {},
   "outputs": [
    {
     "name": "stdout",
     "output_type": "stream",
     "text": [
      "演示数据集的内容为：\n",
      "    Tom 短尾猫   橘子\n",
      "身高  176  14    6\n",
      "年龄   23   3  0.8\n",
      "体重   65  12    1\n",
      "品种   人类  英短   柑橘 \n",
      "\n",
      "   短尾猫   橘子\n",
      "身高  14    6\n",
      "年龄   3  0.8\n",
      "体重  12    1\n",
      "品种  英短   柑橘 \n",
      "\n",
      "被删除的序列内容为：\n",
      "身高    176\n",
      "年龄     23\n",
      "体重     65\n",
      "品种     人类\n",
      "Name: Tom, dtype: object\n"
     ]
    }
   ],
   "source": [
    "# 先导包\n",
    "import numpy as np\n",
    "import pandas as pd\n",
    "\n",
    "# 创建演示数据集\n",
    "data = np.array([[176, 23, 65, \"人类\"], [14, 3, 12, \"英短\"], [6, 0.8, 1, \"柑橘\"]]).T\n",
    "df = pd.DataFrame(data, index=[\"身高\", \"年龄\", \"体重\", \"品种\"], columns=[\"Tom\", \"短尾猫\", \"橘子\"])\n",
    "print(f\"演示数据集的内容为：\\n{df}\", \"\\n\")\n",
    "\n",
    "# 删除列：Tom\n",
    "Tom = df.pop(\"Tom\")\n",
    "print(df, f\"\\n\\n被删除的序列内容为：\\n{Tom}\")"
   ]
  },
  {
   "cell_type": "markdown",
   "id": "26dc1ac3",
   "metadata": {},
   "source": [
    "## 2.2 行、列删除"
   ]
  },
  {
   "cell_type": "raw",
   "id": "648bb316",
   "metadata": {},
   "source": [
    "语法： df.drop(index=None, columns=None)\n",
    "\n",
    "参数说明： index：行的名称\n",
    "        columns：列的名称\n",
    "\n",
    "功能：删除指定行/列"
   ]
  },
  {
   "cell_type": "code",
   "execution_count": 37,
   "id": "e7417e4e",
   "metadata": {},
   "outputs": [
    {
     "name": "stdout",
     "output_type": "stream",
     "text": [
      "演示所用DataFrame1的内容为：\n",
      "     语文  数学  英语\n",
      "张三   94  86  87\n",
      "Tom  98  86  94\n",
      "冰红茶  93  89  83\n",
      "短尾猫  92  93  97\n",
      "\n",
      "删掉英语列后，结果为：\n",
      "     语文  数学\n",
      "张三   94  86\n",
      "Tom  98  86\n",
      "冰红茶  93  89\n",
      "短尾猫  92  93\n",
      "\n",
      "删掉冰红茶行后，结果为：\n",
      "     语文  数学\n",
      "张三   94  86\n",
      "Tom  98  86\n",
      "短尾猫  92  93\n"
     ]
    }
   ],
   "source": [
    "# 先导包\n",
    "import numpy as np\n",
    "import pandas as pd\n",
    "\n",
    "# 使用随机数创建分数数组（4个人×3个科目）\n",
    "grades_ary1 = np.random.randint(80, 100, (4, 3))\n",
    "grades_ary2 = np.random.randint(100, 120, (4, 3))\n",
    "\n",
    "# 创建DataFrame数据结构\n",
    "df = pd.DataFrame(grades_ary1, index=[\"张三\", \"Tom\", \"冰红茶\", \"短尾猫\"], columns=[\"语文\", \"数学\", \"英语\"])\n",
    "print(f\"演示所用DataFrame1的内容为：\\n{df}\\n\")\n",
    "\n",
    "# 使用drop语法\n",
    "# 1.删除列：英语\n",
    "df1 = df.drop(columns=\"英语\")\n",
    "print(f\"删掉英语列后，结果为：\\n{df1}\\n\")\n",
    "\n",
    "# 2.再删除行：冰红茶\n",
    "df2 = df1.drop(index=\"冰红茶\")\n",
    "print(f\"删掉冰红茶行后，结果为：\\n{df2}\")"
   ]
  },
  {
   "cell_type": "markdown",
   "id": "4b96d8ac",
   "metadata": {},
   "source": [
    "# 3 DataFrame 内容修改"
   ]
  },
  {
   "cell_type": "markdown",
   "id": "1aab8468",
   "metadata": {},
   "source": [
    "## 3.1 先访问列，再访问行"
   ]
  },
  {
   "cell_type": "code",
   "execution_count": 38,
   "id": "d230a583",
   "metadata": {},
   "outputs": [
    {
     "name": "stdout",
     "output_type": "stream",
     "text": [
      "演示所用DataFrame的内容为：\n",
      "     语文  数学  英语\n",
      "张三    1   2   3\n",
      "Tom   4   5   6\n",
      "冰红茶   7   8   9\n",
      "短尾猫  10  11  12\n",
      "\n",
      "修改后的DataFrame的内容为：\n",
      "     语文  数学  英语\n",
      "张三    1   2   3\n",
      "Tom   4  37   6\n",
      "冰红茶   7   8   9\n",
      "短尾猫  10  11  12\n",
      "\n"
     ]
    }
   ],
   "source": [
    "# 先导包\n",
    "import numpy as np\n",
    "import pandas as pd\n",
    "\n",
    "# 使用随机数创建分数数组（4个人×3个科目）\n",
    "grades_ary = np.arange(1, 13).reshape(4, 3)\n",
    "\n",
    "# 创建DataFrame数据结构\n",
    "df = pd.DataFrame(grades_ary, index=[\"张三\", \"Tom\", \"冰红茶\", \"短尾猫\"], columns=[\"语文\", \"数学\", \"英语\"])\n",
    "print(f\"演示所用DataFrame的内容为：\\n{df}\\n\")\n",
    "\n",
    "# 将Tom的数学分数改为 37\n",
    "df[\"数学\"][1] = 37\n",
    "print(f\"修改后的DataFrame的内容为：\\n{df}\\n\")"
   ]
  },
  {
   "cell_type": "markdown",
   "id": "c4f10573",
   "metadata": {},
   "source": [
    "## 3.2 先访问行，再访问列"
   ]
  },
  {
   "cell_type": "code",
   "execution_count": 39,
   "id": "c958c157",
   "metadata": {},
   "outputs": [
    {
     "name": "stdout",
     "output_type": "stream",
     "text": [
      "演示所用DataFrame的内容为：\n",
      "     语文  数学  英语\n",
      "张三    1   2   3\n",
      "Tom   4   5   6\n",
      "冰红茶   7   8   9\n",
      "短尾猫  10  11  12\n",
      "\n",
      "修改后的DataFrame的内容为：\n",
      "     语文  数学  英语\n",
      "张三    1   2   3\n",
      "Tom   4  37   6\n",
      "冰红茶   7   8   9\n",
      "短尾猫  10  11  12\n",
      "\n"
     ]
    }
   ],
   "source": [
    "# 先导包\n",
    "import numpy as np\n",
    "import pandas as pd\n",
    "\n",
    "# 使用随机数创建分数数组（4个人×3个科目）\n",
    "grades_ary = np.arange(1, 13).reshape(4, 3)\n",
    "\n",
    "# 创建DataFrame数据结构\n",
    "df = pd.DataFrame(grades_ary, index=[\"张三\", \"Tom\", \"冰红茶\", \"短尾猫\"], columns=[\"语文\", \"数学\", \"英语\"])\n",
    "print(f\"演示所用DataFrame的内容为：\\n{df}\\n\")\n",
    "\n",
    "# 将Tom的数学分数改为 37\n",
    "df.loc[\"Tom\"][1] = 37\n",
    "print(f\"修改后的DataFrame的内容为：\\n{df}\\n\")"
   ]
  },
  {
   "cell_type": "markdown",
   "id": "f628f87e",
   "metadata": {},
   "source": [
    "# 4 DataFrame属性"
   ]
  },
  {
   "cell_type": "raw",
   "id": "63c42182",
   "metadata": {},
   "source": [
    "T 转置\n",
    "axes 返回行、列标签 以列表的形式\n",
    "dtype 返回对象的数据类型\n",
    "empty 如果系列为空，则返回True\n",
    "ndim 返回底层数据的维数，默认为1\n",
    "size 返回基础数据中的元素数\n",
    "values 将系列作为ndarray返回\n",
    "shape 形状\n",
    "\n",
    "head() 返回前n行\n",
    "tail() 返回后n行"
   ]
  },
  {
   "cell_type": "code",
   "execution_count": 40,
   "id": "cb36e3dd",
   "metadata": {},
   "outputs": [
    {
     "name": "stdout",
     "output_type": "stream",
     "text": [
      "原数据集的内容为：\n",
      "     语文  数学  英语  政治\n",
      "Tom  13  13  16   2\n",
      "短尾猫   1   5  14  15\n",
      "李四   17   5  13  12\n",
      "\n",
      "原数据集的转置为：\n",
      "    Tom  短尾猫  李四\n",
      "语文   13    1  17\n",
      "数学   13    5   5\n",
      "英语   16   14  13\n",
      "政治    2   15  12\n",
      "\n",
      "原数据集的标签内容为：\n",
      "[Index(['Tom', '短尾猫', '李四'], dtype='object'), Index(['语文', '数学', '英语', '政治'], dtype='object')]\n",
      "\n",
      "原数据集的元素类型为：int32\n",
      "原数据集的原始数据是否为空，结果为：False\n",
      "原数据集的维数为：2\n",
      "原数据集的元素数量为：12\n",
      "原数据集的数组类型为：\n",
      "[[13 13 16  2]\n",
      " [ 1  5 14 15]\n",
      " [17  5 13 12]]\n",
      "原数据集的形状为：(3, 4)\n",
      "     语文  数学  英语  政治\n",
      "Tom  13  13  16   2\n",
      "短尾猫   1   5  14  15 \n",
      "      语文  数学  英语  政治\n",
      "短尾猫   1   5  14  15\n",
      "李四   17   5  13  12\n"
     ]
    }
   ],
   "source": [
    "# 先导包\n",
    "import numpy as np\n",
    "import pandas as pd\n",
    "\n",
    "# 创建演示数组\n",
    "data = np.random.randint(0, 20, size=(3, 4))\n",
    "df = pd.DataFrame(data, index=[\"Tom\", \"短尾猫\", \"李四\"], columns=[\"语文\", \"数学\", \"英语\", \"政治\"])\n",
    "\n",
    "# 展示属性\n",
    "print(f\"原数据集的内容为：\\n{df}\\n\")\n",
    "print(f\"原数据集的转置为：\\n{df.T}\\n\")\n",
    "print(f\"原数据集的标签内容为：\\n{df.axes}\\n\")\n",
    "print(f\"原数据集的元素类型为：{df['语文'].dtype}\")\n",
    "print(f\"原数据集的原始数据是否为空，结果为：{df.empty}\")\n",
    "print(f\"原数据集的维数为：{df.ndim}\")\n",
    "print(f\"原数据集的元素数量为：{df.size}\")\n",
    "print(f\"原数据集的数组类型为：\\n{df.values}\")\n",
    "print(f\"原数据集的形状为：{df.shape}\")\n",
    "df1 = df.head(2)\n",
    "df2 = df.tail(2)\n",
    "print(df1, \"\\n\", df2)"
   ]
  },
  {
   "cell_type": "markdown",
   "id": "78bc330e",
   "metadata": {},
   "source": [
    "# 四 Pandas通用操作"
   ]
  },
  {
   "cell_type": "markdown",
   "id": "866ce879",
   "metadata": {},
   "source": [
    "# 1 拼接：concat方法"
   ]
  },
  {
   "cell_type": "raw",
   "id": "a493601d",
   "metadata": {},
   "source": [
    "语法： 变量名 = pd.concat(objs=[df1, df2],           # 要连接的对象\n",
    "                  axis=0,                 # 按行连接\n",
    "                 join='outer',              # 保留所有列\n",
    "                 ignore_index=True,           # 重置索引\n",
    "                 keys=['组1', '组2'],         # 创建多级索引\n",
    "                 verify_integrity=False,       # 不检查索引完整性\n",
    "                 sort=False                # 不排序列)\n",
    "\n",
    "\n",
    "参数说明：\n",
    "objs: 要连接的对象列表，通常是 DataFrame 或 Series（以列表或字典传入）\n",
    "axis：连接的轴，0 表示按行连接，1 表示按列连接。（默认为0）\n",
    "\n",
    "join: 默认值：'outer'\n",
    "说明：控制连接时如何处理不同的列：\n",
    "'outer': 保留所有列（并填充缺失值）。\n",
    "'inner': 只保留交集列。\n",
    "\n",
    "ignore_index: 默认值：False\n",
    "说明：如果为 True，结果 DataFrame 的索引将被重置为默认整数索引。\n",
    "\n",
    "keys: 如果传入，将为每个连接的对象创建一个多级索引。（以列表传入）\n",
    "levels:\n",
    "类型：list\n",
    "说明：用于指定多级索引的级别。\n",
    "names:\n",
    "类型：list\n",
    "说明：用于指定多级索引的名称。\n",
    "\n",
    "verify_integrity: 默认值：False\n",
    "说明：如果为 True，则检查连接后的索引是否有重复。\n",
    "\n",
    "sort: 默认值：False\n",
    "说明：如果为 True，连接时会对列进行排序。"
   ]
  },
  {
   "cell_type": "markdown",
   "id": "de4c6f0f",
   "metadata": {},
   "source": [
    "## 1.1 对行拼接"
   ]
  },
  {
   "cell_type": "code",
   "execution_count": 41,
   "id": "c621bec9",
   "metadata": {},
   "outputs": [
    {
     "name": "stdout",
     "output_type": "stream",
     "text": [
      "演示所用DataFrame1的内容为：\n",
      "     语文  数学  英语\n",
      "张三   95  89  80\n",
      "Tom  93  95  80\n",
      "鸢泉花  90  84  98\n",
      "短尾猫  86  85  90\n",
      "\n",
      "演示所用DataFrame2的内容为：\n",
      "      语文   英语   数学\n",
      "知更鸟  115  107  111\n",
      "虎鼎鹤  114  109  110\n",
      "时云兔  118  109  113\n",
      "茶鼠   106  103  110\n",
      "\n",
      "拼接后的DataFrame3的内容为：\n",
      "      语文   数学   英语\n",
      "张三    95   89   80\n",
      "Tom   93   95   80\n",
      "鸢泉花   90   84   98\n",
      "短尾猫   86   85   90\n",
      "知更鸟  115  111  107\n",
      "虎鼎鹤  114  110  109\n",
      "时云兔  118  113  109\n",
      "茶鼠   106  110  103\n",
      "\n"
     ]
    }
   ],
   "source": [
    "# 先导包\n",
    "import numpy as np\n",
    "import pandas as pd\n",
    "\n",
    "# 使用随机数创建分数数组（4个人×3个科目）\n",
    "grades_ary1 = np.random.randint(80, 100, (4, 3))\n",
    "grades_ary2 = np.random.randint(100, 120, (4, 3))\n",
    "\n",
    "# 创建DataFrame数据结构，应当注意两个演示数据集的数学与英文位置不同\n",
    "df1 = pd.DataFrame(grades_ary1, index=[\"张三\", \"Tom\", \"鸢泉花\", \"短尾猫\"], columns=[\"语文\", \"数学\", \"英语\"])\n",
    "print(f\"演示所用DataFrame1的内容为：\\n{df1}\\n\")\n",
    "\n",
    "df2 = pd.DataFrame(grades_ary2, index=[\"知更鸟\", \"虎鼎鹤\", \"时云兔\", \"茶鼠\"], columns=[\"语文\", \"英语\", \"数学\"])\n",
    "print(f\"演示所用DataFrame2的内容为：\\n{df2}\\n\")\n",
    "\n",
    "# 按行进行拼接\n",
    "df3 = pd.concat([df1, df2], axis=0)\n",
    "print(f\"拼接后的DataFrame3的内容为：\\n{df3}\\n\")"
   ]
  },
  {
   "cell_type": "markdown",
   "id": "da5be48d",
   "metadata": {},
   "source": [
    "## 1.2 对列拼接"
   ]
  },
  {
   "cell_type": "code",
   "execution_count": 42,
   "id": "b291f7ca",
   "metadata": {},
   "outputs": [
    {
     "name": "stdout",
     "output_type": "stream",
     "text": [
      "演示所用DataFrame1的内容为：\n",
      "     政治  数学分析  英语\n",
      "张三   84    83  88\n",
      "Tom  88    97  94\n",
      "鸢泉花  90    87  95\n",
      "短尾猫  92    96  86\n",
      "\n",
      "演示所用DataFrame2的内容为：\n",
      "     高等代数\n",
      "张三    105\n",
      "Tom   100\n",
      "鸢泉花   118\n",
      "短尾猫   113\n",
      "\n",
      "拼接后的DataFrame3的内容为：\n",
      "     政治  数学分析  英语  高等代数\n",
      "张三   84    83  88   105\n",
      "Tom  88    97  94   100\n",
      "鸢泉花  90    87  95   118\n",
      "短尾猫  92    96  86   113\n",
      "\n"
     ]
    }
   ],
   "source": [
    "# 先导包\n",
    "import numpy as np\n",
    "import pandas as pd\n",
    "\n",
    "# 使用随机数创建分数数组（4个人×3个科目）\n",
    "grades_ary1 = np.random.randint(80, 100, (4, 3))\n",
    "grades_ary2 = np.random.randint(100, 120, (4, 1))\n",
    "\n",
    "# 创建DataFrame数据结构\n",
    "df1 = pd.DataFrame(grades_ary1, index=[\"张三\", \"Tom\", \"鸢泉花\", \"短尾猫\"], columns=[\"政治\", \"数学分析\", \"英语\"])\n",
    "print(f\"演示所用DataFrame1的内容为：\\n{df1}\\n\")\n",
    "\n",
    "df2 = pd.DataFrame(grades_ary2, index=[\"张三\", \"Tom\", \"鸢泉花\", \"短尾猫\"], columns=[\"高等代数\"])\n",
    "print(f\"演示所用DataFrame2的内容为：\\n{df2}\\n\")\n",
    "\n",
    "# 按行进行拼接\n",
    "df3 = pd.concat([df1, df2], axis=1)\n",
    "print(f\"拼接后的DataFrame3的内容为：\\n{df3}\\n\")"
   ]
  },
  {
   "cell_type": "markdown",
   "id": "7e51292d",
   "metadata": {},
   "source": [
    "# 2 描述性统计"
   ]
  },
  {
   "cell_type": "markdown",
   "id": "e09a6d52",
   "metadata": {},
   "source": [
    "## 2.1 指标语法"
   ]
  },
  {
   "cell_type": "raw",
   "id": "c849bed3",
   "metadata": {},
   "source": [
    "语法： 数据集.mean(axis=0, numeric_only=None)\n",
    "\n",
    "参数说明： axis： 计算统计数据时的轴，默认为0，即按列计算；若需要计算行的统计指标，可使用 axis=1\n",
    "        numeric_only： 默认值为None；如果为 True，则只计算数字列的均值。\n",
    "        \n",
    "描述性指标如下：\n",
    "min 最小值\n",
    "max 最大值\n",
    "mean 均值\n",
    "median 中位数\n",
    "std 标准差\n",
    "var 方差\n",
    "cov 协方差"
   ]
  },
  {
   "cell_type": "code",
   "execution_count": 43,
   "id": "0514e3d8",
   "metadata": {},
   "outputs": [
    {
     "name": "stdout",
     "output_type": "stream",
     "text": [
      "各评委给学生的打分数据集为：\n",
      "     张三  Tom  短尾猫\n",
      "评委1   7    4    2\n",
      "评委2   9    2    3\n",
      "评委3   3    4    4\n",
      "评委4   6    0    7\n",
      "评委5   3    8    4\n",
      "\n",
      "平均值（按列计算）为：\n",
      "张三     5.6\n",
      "Tom    3.6\n",
      "短尾猫    4.0\n",
      "dtype: float64\n",
      "\n",
      "短尾猫的中位数为：4.0\n",
      "\n",
      "Tom的最高分为：8\n",
      "\n",
      "评委4打出的最低分为：0\n"
     ]
    }
   ],
   "source": [
    "# 先导包\n",
    "import numpy as np\n",
    "import pandas as pd\n",
    "\n",
    "# 创建演示数据集\n",
    "data = np.random.randint(0, 10, size=(5, 3))\n",
    "index_list = [f\"评委{x}\" for x in range(1, 6)]\n",
    "columns_list = [\"张三\", \"Tom\", \"短尾猫\"]\n",
    "df = pd.DataFrame(data, index=index_list, columns=columns_list)\n",
    "print(f\"各评委给学生的打分数据集为：\\n{df}\\n\")\n",
    "\n",
    "# 演示描述性统计数据\n",
    "print(f\"平均值（按列计算）为：\\n{df.mean()}\\n\")\n",
    "print(f\"短尾猫的中位数为：{df['短尾猫'].median()}\\n\")\n",
    "print(f\"Tom的最高分为：{df['Tom'].max()}\\n\")\n",
    "print(f\"评委4打出的最低分为：{df.loc['评委4'].min()}\")"
   ]
  },
  {
   "cell_type": "markdown",
   "id": "ed309d19",
   "metadata": {},
   "source": [
    "## 2.2 describe方法"
   ]
  },
  {
   "cell_type": "raw",
   "id": "77331199",
   "metadata": {},
   "source": [
    "语法： df.describe() \n",
    "\n",
    "功能： 用于生成 DataFrame 的描述性统计信息的方法。它提供了数据的基本统计特征，包括计数、均值、标准差、最小值、四分位数和最大值。"
   ]
  },
  {
   "cell_type": "code",
   "execution_count": 44,
   "id": "85929eb7",
   "metadata": {},
   "outputs": [
    {
     "name": "stdout",
     "output_type": "stream",
     "text": [
      "各评委给学生的打分数据集为：\n",
      "     张三  Tom  短尾猫\n",
      "评委1   1    7    0\n",
      "评委2   8    4    3\n",
      "评委3   2    6    9\n",
      "评委4   5    1    6\n",
      "评委5   1    9    3\n",
      "\n",
      "该数据集的各基本统计特征为：\n",
      "            张三      Tom       短尾猫\n",
      "count  5.00000  5.00000  5.000000\n",
      "mean   3.40000  5.40000  4.200000\n",
      "std    3.04959  3.04959  3.420526\n",
      "min    1.00000  1.00000  0.000000\n",
      "25%    1.00000  4.00000  3.000000\n",
      "50%    2.00000  6.00000  3.000000\n",
      "75%    5.00000  7.00000  6.000000\n",
      "max    8.00000  9.00000  9.000000\n"
     ]
    }
   ],
   "source": [
    "# 先导包\n",
    "import numpy as np\n",
    "import pandas as pd\n",
    "\n",
    "# 创建演示数据集\n",
    "data = np.random.randint(0, 10, size=(5, 3))\n",
    "index_list = [f\"评委{x}\" for x in range(1, 6)]\n",
    "columns_list = [\"张三\", \"Tom\", \"短尾猫\"]\n",
    "df = pd.DataFrame(data, index=index_list, columns=columns_list)\n",
    "print(f\"各评委给学生的打分数据集为：\\n{df}\\n\")\n",
    "\n",
    "# 演示描述性统计数据\n",
    "print(f\"该数据集的各基本统计特征为：\\n{df.describe()}\")"
   ]
  },
  {
   "cell_type": "markdown",
   "id": "26d16f04",
   "metadata": {},
   "source": [
    "# 3 通用排序方法"
   ]
  },
  {
   "cell_type": "markdown",
   "id": "a5a68800",
   "metadata": {},
   "source": [
    "## 3.1 按照索引内容排序：sort_index方法"
   ]
  },
  {
   "cell_type": "raw",
   "id": "3742316d",
   "metadata": {},
   "source": [
    "语法：df.sort_index(axis=0, ascending=True)\n",
    "\n",
    "参数： ascending=True      表示升序（默认）\n",
    "     ascending=False     表示降序\n",
    "     axis=0           按行索引进行排序（默认）\n",
    "     axis=1           按列索引进行排序\n",
    "     \n",
    "功能：按照索引进行排序"
   ]
  },
  {
   "cell_type": "code",
   "execution_count": 45,
   "id": "30ba7cc9",
   "metadata": {},
   "outputs": [
    {
     "data": {
      "text/html": [
       "<div>\n",
       "<style scoped>\n",
       "    .dataframe tbody tr th:only-of-type {\n",
       "        vertical-align: middle;\n",
       "    }\n",
       "\n",
       "    .dataframe tbody tr th {\n",
       "        vertical-align: top;\n",
       "    }\n",
       "\n",
       "    .dataframe thead th {\n",
       "        text-align: right;\n",
       "    }\n",
       "</style>\n",
       "<table border=\"1\" class=\"dataframe\">\n",
       "  <thead>\n",
       "    <tr style=\"text-align: right;\">\n",
       "      <th></th>\n",
       "      <th>张三</th>\n",
       "      <th>短尾猫</th>\n",
       "      <th>Tom</th>\n",
       "    </tr>\n",
       "  </thead>\n",
       "  <tbody>\n",
       "    <tr>\n",
       "      <th>4</th>\n",
       "      <td>5</td>\n",
       "      <td>7</td>\n",
       "      <td>1</td>\n",
       "    </tr>\n",
       "    <tr>\n",
       "      <th>3</th>\n",
       "      <td>0</td>\n",
       "      <td>4</td>\n",
       "      <td>4</td>\n",
       "    </tr>\n",
       "    <tr>\n",
       "      <th>2</th>\n",
       "      <td>1</td>\n",
       "      <td>6</td>\n",
       "      <td>0</td>\n",
       "    </tr>\n",
       "    <tr>\n",
       "      <th>1</th>\n",
       "      <td>7</td>\n",
       "      <td>6</td>\n",
       "      <td>1</td>\n",
       "    </tr>\n",
       "  </tbody>\n",
       "</table>\n",
       "</div>"
      ],
      "text/plain": [
       "   张三  短尾猫  Tom\n",
       "4   5    7    1\n",
       "3   0    4    4\n",
       "2   1    6    0\n",
       "1   7    6    1"
      ]
     },
     "execution_count": 45,
     "metadata": {},
     "output_type": "execute_result"
    }
   ],
   "source": [
    "# 先导包\n",
    "import numpy as np\n",
    "import pandas as pd\n",
    "\n",
    "# 创建演示数据集\n",
    "data = np.random.randint(0, 10, size=(4, 3))\n",
    "df = pd.DataFrame(data, index=[2, 3, 4, 1], columns=[\"张三\", \"短尾猫\", \"Tom\"])\n",
    "\n",
    "# 按行进行降序排序\n",
    "df.sort_index(ascending=False)"
   ]
  },
  {
   "cell_type": "code",
   "execution_count": 46,
   "id": "c4572f4f",
   "metadata": {},
   "outputs": [
    {
     "data": {
      "text/html": [
       "<div>\n",
       "<style scoped>\n",
       "    .dataframe tbody tr th:only-of-type {\n",
       "        vertical-align: middle;\n",
       "    }\n",
       "\n",
       "    .dataframe tbody tr th {\n",
       "        vertical-align: top;\n",
       "    }\n",
       "\n",
       "    .dataframe thead th {\n",
       "        text-align: right;\n",
       "    }\n",
       "</style>\n",
       "<table border=\"1\" class=\"dataframe\">\n",
       "  <thead>\n",
       "    <tr style=\"text-align: right;\">\n",
       "      <th></th>\n",
       "      <th>1</th>\n",
       "      <th>2</th>\n",
       "      <th>3</th>\n",
       "      <th>4</th>\n",
       "    </tr>\n",
       "  </thead>\n",
       "  <tbody>\n",
       "    <tr>\n",
       "      <th>张三</th>\n",
       "      <td>4</td>\n",
       "      <td>9</td>\n",
       "      <td>5</td>\n",
       "      <td>0</td>\n",
       "    </tr>\n",
       "    <tr>\n",
       "      <th>短尾猫</th>\n",
       "      <td>5</td>\n",
       "      <td>3</td>\n",
       "      <td>2</td>\n",
       "      <td>5</td>\n",
       "    </tr>\n",
       "    <tr>\n",
       "      <th>Tom</th>\n",
       "      <td>0</td>\n",
       "      <td>6</td>\n",
       "      <td>7</td>\n",
       "      <td>5</td>\n",
       "    </tr>\n",
       "  </tbody>\n",
       "</table>\n",
       "</div>"
      ],
      "text/plain": [
       "     1  2  3  4\n",
       "张三   4  9  5  0\n",
       "短尾猫  5  3  2  5\n",
       "Tom  0  6  7  5"
      ]
     },
     "execution_count": 46,
     "metadata": {},
     "output_type": "execute_result"
    }
   ],
   "source": [
    "# 先导包\n",
    "import numpy as np\n",
    "import pandas as pd\n",
    "\n",
    "# 创建演示数据集\n",
    "data = np.random.randint(0, 10, size=(3, 4))\n",
    "df = pd.DataFrame(data, index=[\"张三\", \"短尾猫\", \"Tom\"], columns=[2, 3, 4, 1])\n",
    "\n",
    "# 按列进行升序排序\n",
    "df.sort_index(axis=1)"
   ]
  },
  {
   "cell_type": "markdown",
   "id": "e2211f13",
   "metadata": {},
   "source": [
    "## 3.2 按照元素内容排序：sort_values方法"
   ]
  },
  {
   "cell_type": "raw",
   "id": "a1ca865a",
   "metadata": {},
   "source": [
    "语法： df.sort_values(by='', ascending=True)\n",
    "\n",
    "参数说明： by表示按哪一列的内容进行排序\n",
    "        ascending=True      表示升序（默认）\n",
    "        ascending=False     表示降序"
   ]
  },
  {
   "cell_type": "code",
   "execution_count": 47,
   "id": "9455fd54",
   "metadata": {},
   "outputs": [
    {
     "data": {
      "text/html": [
       "<div>\n",
       "<style scoped>\n",
       "    .dataframe tbody tr th:only-of-type {\n",
       "        vertical-align: middle;\n",
       "    }\n",
       "\n",
       "    .dataframe tbody tr th {\n",
       "        vertical-align: top;\n",
       "    }\n",
       "\n",
       "    .dataframe thead th {\n",
       "        text-align: right;\n",
       "    }\n",
       "</style>\n",
       "<table border=\"1\" class=\"dataframe\">\n",
       "  <thead>\n",
       "    <tr style=\"text-align: right;\">\n",
       "      <th></th>\n",
       "      <th>张三</th>\n",
       "      <th>短尾猫</th>\n",
       "      <th>Tom</th>\n",
       "    </tr>\n",
       "  </thead>\n",
       "  <tbody>\n",
       "    <tr>\n",
       "      <th>1</th>\n",
       "      <td>0</td>\n",
       "      <td>1</td>\n",
       "      <td>6</td>\n",
       "    </tr>\n",
       "    <tr>\n",
       "      <th>2</th>\n",
       "      <td>4</td>\n",
       "      <td>5</td>\n",
       "      <td>9</td>\n",
       "    </tr>\n",
       "    <tr>\n",
       "      <th>3</th>\n",
       "      <td>0</td>\n",
       "      <td>6</td>\n",
       "      <td>9</td>\n",
       "    </tr>\n",
       "    <tr>\n",
       "      <th>4</th>\n",
       "      <td>9</td>\n",
       "      <td>9</td>\n",
       "      <td>8</td>\n",
       "    </tr>\n",
       "  </tbody>\n",
       "</table>\n",
       "</div>"
      ],
      "text/plain": [
       "   张三  短尾猫  Tom\n",
       "1   0    1    6\n",
       "2   4    5    9\n",
       "3   0    6    9\n",
       "4   9    9    8"
      ]
     },
     "execution_count": 47,
     "metadata": {},
     "output_type": "execute_result"
    }
   ],
   "source": [
    "# 先导包\n",
    "import numpy as np\n",
    "import pandas as pd\n",
    "\n",
    "# 创建演示数据集\n",
    "data = np.random.randint(0, 10, size=(4, 3))\n",
    "df = pd.DataFrame(data, index=[2, 3, 4, 1], columns=[\"张三\", \"短尾猫\", \"Tom\"])\n",
    "\n",
    "# 按短尾猫列的数据进行升序排序\n",
    "df.sort_values(by=\"短尾猫\")"
   ]
  },
  {
   "cell_type": "code",
   "execution_count": 48,
   "id": "785fe397",
   "metadata": {},
   "outputs": [
    {
     "name": "stdout",
     "output_type": "stream",
     "text": [
      "演示数据集df的内容为：\n",
      "     a   b   c   d\n",
      "1号  21  22  22  31\n",
      "2号  31  26  25  25\n",
      "3号  26  28  29  22\n",
      "\n"
     ]
    },
    {
     "data": {
      "text/html": [
       "<div>\n",
       "<style scoped>\n",
       "    .dataframe tbody tr th:only-of-type {\n",
       "        vertical-align: middle;\n",
       "    }\n",
       "\n",
       "    .dataframe tbody tr th {\n",
       "        vertical-align: top;\n",
       "    }\n",
       "\n",
       "    .dataframe thead th {\n",
       "        text-align: right;\n",
       "    }\n",
       "</style>\n",
       "<table border=\"1\" class=\"dataframe\">\n",
       "  <thead>\n",
       "    <tr style=\"text-align: right;\">\n",
       "      <th></th>\n",
       "      <th>a</th>\n",
       "      <th>b</th>\n",
       "      <th>c</th>\n",
       "      <th>d</th>\n",
       "    </tr>\n",
       "  </thead>\n",
       "  <tbody>\n",
       "    <tr>\n",
       "      <th>2号</th>\n",
       "      <td>31</td>\n",
       "      <td>26</td>\n",
       "      <td>25</td>\n",
       "      <td>25</td>\n",
       "    </tr>\n",
       "    <tr>\n",
       "      <th>3号</th>\n",
       "      <td>26</td>\n",
       "      <td>28</td>\n",
       "      <td>29</td>\n",
       "      <td>22</td>\n",
       "    </tr>\n",
       "    <tr>\n",
       "      <th>1号</th>\n",
       "      <td>21</td>\n",
       "      <td>22</td>\n",
       "      <td>22</td>\n",
       "      <td>31</td>\n",
       "    </tr>\n",
       "  </tbody>\n",
       "</table>\n",
       "</div>"
      ],
      "text/plain": [
       "     a   b   c   d\n",
       "2号  31  26  25  25\n",
       "3号  26  28  29  22\n",
       "1号  21  22  22  31"
      ]
     },
     "execution_count": 48,
     "metadata": {},
     "output_type": "execute_result"
    }
   ],
   "source": [
    "# 先导包\n",
    "import numpy as np\n",
    "import pandas as pd\n",
    "\n",
    "# 创建演示数据集\n",
    "data = np.random.randint(20, 37, size=(3, 4))\n",
    "df = pd.DataFrame(data, index=[\"1号\", \"2号\", \"3号\"], columns=[\"a\", \"b\", \"c\", \"d\"])\n",
    "print(f\"演示数据集df的内容为：\\n{df}\\n\")\n",
    "\n",
    "# 按照a列内容进行降序排列\n",
    "df.sort_values(by=\"a\", ascending=False)"
   ]
  },
  {
   "cell_type": "code",
   "execution_count": 49,
   "id": "9c3c4eda",
   "metadata": {},
   "outputs": [
    {
     "name": "stdout",
     "output_type": "stream",
     "text": [
      "演示数据集df的内容为：\n",
      "     a   b   c   d\n",
      "1号  20  30  37  44\n",
      "2号  21  34  37  24\n",
      "3号  21  35  25  51\n",
      "\n"
     ]
    },
    {
     "data": {
      "text/html": [
       "<div>\n",
       "<style scoped>\n",
       "    .dataframe tbody tr th:only-of-type {\n",
       "        vertical-align: middle;\n",
       "    }\n",
       "\n",
       "    .dataframe tbody tr th {\n",
       "        vertical-align: top;\n",
       "    }\n",
       "\n",
       "    .dataframe thead th {\n",
       "        text-align: right;\n",
       "    }\n",
       "</style>\n",
       "<table border=\"1\" class=\"dataframe\">\n",
       "  <thead>\n",
       "    <tr style=\"text-align: right;\">\n",
       "      <th></th>\n",
       "      <th>a</th>\n",
       "      <th>b</th>\n",
       "      <th>c</th>\n",
       "      <th>d</th>\n",
       "    </tr>\n",
       "  </thead>\n",
       "  <tbody>\n",
       "    <tr>\n",
       "      <th>3号</th>\n",
       "      <td>21</td>\n",
       "      <td>35</td>\n",
       "      <td>25</td>\n",
       "      <td>51</td>\n",
       "    </tr>\n",
       "    <tr>\n",
       "      <th>2号</th>\n",
       "      <td>21</td>\n",
       "      <td>34</td>\n",
       "      <td>37</td>\n",
       "      <td>24</td>\n",
       "    </tr>\n",
       "    <tr>\n",
       "      <th>1号</th>\n",
       "      <td>20</td>\n",
       "      <td>30</td>\n",
       "      <td>37</td>\n",
       "      <td>44</td>\n",
       "    </tr>\n",
       "  </tbody>\n",
       "</table>\n",
       "</div>"
      ],
      "text/plain": [
       "     a   b   c   d\n",
       "3号  21  35  25  51\n",
       "2号  21  34  37  24\n",
       "1号  20  30  37  44"
      ]
     },
     "execution_count": 49,
     "metadata": {},
     "output_type": "execute_result"
    }
   ],
   "source": [
    "# 先导包\n",
    "import numpy as np\n",
    "import pandas as pd\n",
    "\n",
    "# 创建演示数据集\n",
    "data = np.array([[20, 30, 37, 44], [21, 34, 37, 24], [21, 35, 25, 51]])\n",
    "df = pd.DataFrame(data, index=[\"1号\", \"2号\", \"3号\"], columns=[\"a\", \"b\", \"c\", \"d\"])\n",
    "print(f\"演示数据集df的内容为：\\n{df}\\n\")\n",
    "\n",
    "# 先按照a列进行升序排序，再按照b列进行升序排序\n",
    "df.sort_values(by=[\"a\", \"b\"], ascending=False)\n",
    "# 最后呈现的结果就是用a的进行升序，然后a相同的元素之间进行b列大小的比较，并进行排序"
   ]
  },
  {
   "cell_type": "markdown",
   "id": "83b241db",
   "metadata": {},
   "source": [
    "# 4 分组操作"
   ]
  },
  {
   "cell_type": "markdown",
   "id": "13d0880b",
   "metadata": {},
   "source": [
    "## 4.1 groupby方法"
   ]
  },
  {
   "cell_type": "raw",
   "id": "bb629948",
   "metadata": {},
   "source": [
    "语法：df.groupby(\" \")\n",
    "\n",
    "参数：括号内直接将需要分组的列名称输入即可\n",
    "\n",
    "功能：分组后，按照某一列的内容进行分组，可以用变量名接收，然后变量名.groups查看分组结果"
   ]
  },
  {
   "cell_type": "code",
   "execution_count": 50,
   "id": "a4397e7e",
   "metadata": {},
   "outputs": [
    {
     "name": "stdout",
     "output_type": "stream",
     "text": [
      "所创建的演示数据集内容为：\n",
      "         获奖年份  年龄  获奖时得分\n",
      "张三       2014  37   1002\n",
      "Tom      2016  24   1025\n",
      "短尾猫      2014  34    994\n",
      "徐坤       2015  28   1005\n",
      "Jumping  2014  17   1062\n"
     ]
    },
    {
     "data": {
      "text/plain": [
       "{2014: ['张三', '短尾猫', 'Jumping'], 2015: ['徐坤'], 2016: ['Tom']}"
      ]
     },
     "execution_count": 50,
     "metadata": {},
     "output_type": "execute_result"
    }
   ],
   "source": [
    "# 先导包\n",
    "import numpy as np\n",
    "import pandas as pd\n",
    "\n",
    "# 创建演示数据集\n",
    "data = np.array([[2014, 37, 1002], [2016, 24, 1025], [2014, 34, 994], [2015, 28, 1005], [2014, 17, 1062]])\n",
    "df = pd.DataFrame(data, index=[\"张三\", \"Tom\", \"短尾猫\", \"徐坤\", \"Jumping\"], columns=[\"获奖年份\", \"年龄\", \"获奖时得分\"])\n",
    "print(f\"所创建的演示数据集内容为：\\n{df}\")\n",
    "\n",
    "# 对演示数据集进行分组处理\n",
    "df_grouped = df.groupby(\"获奖年份\")\n",
    "\n",
    "# 展示分组结果\n",
    "df_grouped.groups"
   ]
  },
  {
   "cell_type": "markdown",
   "id": "03c90585",
   "metadata": {},
   "source": [
    "## 4.2 迭代遍历分组"
   ]
  },
  {
   "cell_type": "markdown",
   "id": "4cea55fa",
   "metadata": {},
   "source": [
    "可以使用for循环进行迭代"
   ]
  },
  {
   "cell_type": "code",
   "execution_count": 51,
   "id": "b4a97776",
   "metadata": {},
   "outputs": [
    {
     "name": "stdout",
     "output_type": "stream",
     "text": [
      "所创建的演示数据集内容为：\n",
      "     获奖年份  年龄  获奖时得分\n",
      "张三   2014  37   1002\n",
      "Tom  2016  24   1025\n",
      "短尾猫  2014  34    994\n",
      "徐坤   2015  28   1005\n",
      "姜萍   2014  17   1062\n",
      "\n",
      "分组后的结果为：\n",
      "{2014: ['张三', '短尾猫', '姜萍'], 2015: ['徐坤'], 2016: ['Tom']}\n",
      "\n",
      "2014\n",
      "     获奖年份  年龄  获奖时得分\n",
      "张三   2014  37   1002\n",
      "短尾猫  2014  34    994\n",
      "姜萍   2014  17   1062 \n",
      "\n",
      "2015\n",
      "    获奖年份  年龄  获奖时得分\n",
      "徐坤  2015  28   1005 \n",
      "\n",
      "2016\n",
      "     获奖年份  年龄  获奖时得分\n",
      "Tom  2016  24   1025 \n",
      "\n"
     ]
    }
   ],
   "source": [
    "# 先导包\n",
    "import numpy as np\n",
    "import pandas as pd\n",
    "\n",
    "# 创建演示数据集\n",
    "data = np.array([[2014, 37, 1002], [2016, 24, 1025], [2014, 34, 994], [2015, 28, 1005], [2014, 17, 1062]])\n",
    "df = pd.DataFrame(data, index=[\"张三\", \"Tom\", \"短尾猫\", \"徐坤\", \"姜萍\"], columns=[\"获奖年份\", \"年龄\", \"获奖时得分\"])\n",
    "print(f\"所创建的演示数据集内容为：\\n{df}\\n\")\n",
    "\n",
    "# 对演示数据集进行分组处理\n",
    "df_grouped = df.groupby(\"获奖年份\")\n",
    "\n",
    "# 展示分组结果\n",
    "print(f\"分组后的结果为：\\n{df_grouped.groups}\\n\")\n",
    "\n",
    "# 遍历每一个分组\n",
    "for year, group in df_grouped:\n",
    "    print(year)\n",
    "    print(group, \"\\n\")"
   ]
  },
  {
   "cell_type": "markdown",
   "id": "9d9fc01e",
   "metadata": {},
   "source": [
    "## 4.3 分组后，获得一个分组细节"
   ]
  },
  {
   "cell_type": "markdown",
   "id": "4831d6b2",
   "metadata": {},
   "source": [
    "语法：已分组变量名称.get_group(元素数据名称)"
   ]
  },
  {
   "cell_type": "code",
   "execution_count": 52,
   "id": "338779f1",
   "metadata": {},
   "outputs": [
    {
     "name": "stdout",
     "output_type": "stream",
     "text": [
      "所创建的演示数据集内容为：\n",
      "     获奖年份  年龄  获奖时得分\n",
      "张三   2014  37   1002\n",
      "Tom  2016  24   1025\n",
      "短尾猫  2014  34    994\n",
      "徐坤   2015  28   1005\n",
      "鸽子   2014  17   1062\n",
      "\n",
      "分组后的结果为：\n",
      "{2014: ['张三', '短尾猫', '鸽子'], 2015: ['徐坤'], 2016: ['Tom']}\n",
      "\n"
     ]
    },
    {
     "data": {
      "text/html": [
       "<div>\n",
       "<style scoped>\n",
       "    .dataframe tbody tr th:only-of-type {\n",
       "        vertical-align: middle;\n",
       "    }\n",
       "\n",
       "    .dataframe tbody tr th {\n",
       "        vertical-align: top;\n",
       "    }\n",
       "\n",
       "    .dataframe thead th {\n",
       "        text-align: right;\n",
       "    }\n",
       "</style>\n",
       "<table border=\"1\" class=\"dataframe\">\n",
       "  <thead>\n",
       "    <tr style=\"text-align: right;\">\n",
       "      <th></th>\n",
       "      <th>获奖年份</th>\n",
       "      <th>年龄</th>\n",
       "      <th>获奖时得分</th>\n",
       "    </tr>\n",
       "  </thead>\n",
       "  <tbody>\n",
       "    <tr>\n",
       "      <th>张三</th>\n",
       "      <td>2014</td>\n",
       "      <td>37</td>\n",
       "      <td>1002</td>\n",
       "    </tr>\n",
       "    <tr>\n",
       "      <th>短尾猫</th>\n",
       "      <td>2014</td>\n",
       "      <td>34</td>\n",
       "      <td>994</td>\n",
       "    </tr>\n",
       "    <tr>\n",
       "      <th>鸽子</th>\n",
       "      <td>2014</td>\n",
       "      <td>17</td>\n",
       "      <td>1062</td>\n",
       "    </tr>\n",
       "  </tbody>\n",
       "</table>\n",
       "</div>"
      ],
      "text/plain": [
       "     获奖年份  年龄  获奖时得分\n",
       "张三   2014  37   1002\n",
       "短尾猫  2014  34    994\n",
       "鸽子   2014  17   1062"
      ]
     },
     "execution_count": 52,
     "metadata": {},
     "output_type": "execute_result"
    }
   ],
   "source": [
    "# 先导包\n",
    "import numpy as np\n",
    "import pandas as pd\n",
    "\n",
    "# 创建演示数据集\n",
    "data = np.array([[2014, 37, 1002], [2016, 24, 1025], [2014, 34, 994], [2015, 28, 1005], [2014, 17, 1062]])\n",
    "df = pd.DataFrame(data, index=[\"张三\", \"Tom\", \"短尾猫\", \"徐坤\", \"鸽子\"], columns=[\"获奖年份\", \"年龄\", \"获奖时得分\"])\n",
    "print(f\"所创建的演示数据集内容为：\\n{df}\\n\")\n",
    "\n",
    "# 对演示数据集进行分组处理\n",
    "df_grouped = df.groupby(\"获奖年份\")\n",
    "\n",
    "# 展示分组结果\n",
    "print(f\"分组后的结果为：\\n{df_grouped.groups}\\n\")\n",
    "\n",
    "# 获得一个分组细节\n",
    "df_grouped.get_group(2014)"
   ]
  },
  {
   "cell_type": "markdown",
   "id": "dc5cb156",
   "metadata": {},
   "source": [
    "## 4.4 分组后，进行分组聚合 pd.merge方法"
   ]
  },
  {
   "cell_type": "raw",
   "id": "c79b4abd",
   "metadata": {},
   "source": [
    "pd.merge() 方法参数\n",
    "\n",
    "left:\n",
    "描述：要合并的左侧 DataFrame。\n",
    "right:\n",
    "描述：要合并的右侧 DataFrame。\n",
    "\n",
    "how:\n",
    "描述：合并的方式。可选值包括：\n",
    "'inner': 交集（默认值）。\n",
    "'outer': 并集。\n",
    "'left': 以左侧 DataFrame 为基准。\n",
    "'right': 以右侧 DataFrame 为基准。\n",
    "\n",
    "on:\n",
    "类型：字符串或列表\n",
    "描述：用于合并的列名或索引名称。必须在两个 DataFrame 中都存在。\n",
    "默认值：None（如果没有提供，将尝试使用两个 DataFrame 中的共同列/索引）。\n",
    "\n",
    "left_on:\n",
    "类型：字符串或列表\n",
    "描述：左侧 DataFrame 中用于合并的列。\n",
    "默认值：None\n",
    "\n",
    "right_on:\n",
    "类型：字符串或列表\n",
    "描述：右侧 DataFrame 中用于合并的列。\n",
    "默认值：None\n",
    "\n",
    "left_index:\n",
    "类型：布尔值\n",
    "描述：是否使用左侧 DataFrame 的索引进行合并。\n",
    "默认值：False\n",
    "\n",
    "right_index:\n",
    "类型：布尔值\n",
    "描述：是否使用右侧 DataFrame 的索引进行合并。\n",
    "默认值：False\n",
    "\n",
    "suffixes:\n",
    "类型：元组\n",
    "描述：当两个 DataFrame 中有重叠列时，后缀名称。\n",
    "默认值：('_x', '_y')\n",
    "\n",
    "indicator:\n",
    "类型：布尔值或字符串\n",
    "描述：如果为 True，则添加一个列指示合并的来源。\n",
    "默认值：False"
   ]
  },
  {
   "cell_type": "markdown",
   "id": "1688d895",
   "metadata": {},
   "source": [
    "### 4.4.1 基本的merge使用"
   ]
  },
  {
   "cell_type": "code",
   "execution_count": 53,
   "id": "d347fbcc",
   "metadata": {},
   "outputs": [
    {
     "name": "stdout",
     "output_type": "stream",
     "text": [
      "创建的演示数据集df1内容为：\n",
      "  key  value1\n",
      "0   A       1\n",
      "1   B       2\n",
      "2   C       3\n",
      "演示数据集df2内容为：\n",
      "  key  value2\n",
      "0   B       4\n",
      "1   C       5\n",
      "2   D       6\n",
      "内合并后的内容为:\n",
      "   key  value1  value2\n",
      "0   B       2       4\n",
      "1   C       3       5\n"
     ]
    }
   ],
   "source": [
    "# 先导包\n",
    "import pandas as pd\n",
    "\n",
    "# 创建示例 DataFrame，并进行展示\n",
    "df1 = pd.DataFrame({\n",
    "    'key': ['A', 'B', 'C'],\n",
    "    'value1': [1, 2, 3]\n",
    "})\n",
    "\n",
    "df2 = pd.DataFrame({\n",
    "    'key': ['B', 'C', 'D'],\n",
    "    'value2': [4, 5, 6]\n",
    "})\n",
    "print(f\"创建的演示数据集df1内容为：\\n{df1}\\n演示数据集df2内容为：\\n{df2}\")\n",
    "\n",
    "# 使用 inner 合并\n",
    "merged_inner = pd.merge(df1, df2, how='inner', on='key')\n",
    "print(\"内合并后的内容为:\\n\", merged_inner)"
   ]
  },
  {
   "cell_type": "markdown",
   "id": "1544c8f6",
   "metadata": {},
   "source": [
    "### 4.4.2 使用外连接"
   ]
  },
  {
   "cell_type": "code",
   "execution_count": 54,
   "id": "ff872207",
   "metadata": {},
   "outputs": [
    {
     "name": "stdout",
     "output_type": "stream",
     "text": [
      "创建的演示数据集df1内容为：\n",
      "  key  value1\n",
      "0   A       1\n",
      "1   B       2\n",
      "2   C       3\n",
      "演示数据集df2内容为：\n",
      "  key  value2\n",
      "0   B       4\n",
      "1   C       5\n",
      "2   D       6\n",
      "外合并后的内容为:\n",
      "   key  value1  value2\n",
      "0   A     1.0     NaN\n",
      "1   B     2.0     4.0\n",
      "2   C     3.0     5.0\n",
      "3   D     NaN     6.0\n"
     ]
    }
   ],
   "source": [
    "# 先导包\n",
    "import pandas as pd\n",
    "\n",
    "# 创建示例 DataFrame，并进行展示\n",
    "df1 = pd.DataFrame({\n",
    "    'key': ['A', 'B', 'C'],\n",
    "    'value1': [1, 2, 3]\n",
    "})\n",
    "\n",
    "df2 = pd.DataFrame({\n",
    "    'key': ['B', 'C', 'D'],\n",
    "    'value2': [4, 5, 6]\n",
    "})\n",
    "print(f\"创建的演示数据集df1内容为：\\n{df1}\\n演示数据集df2内容为：\\n{df2}\")\n",
    "\n",
    "# 使用 outer 合并\n",
    "merged_outer = pd.merge(df1, df2, how='outer', on='key')\n",
    "print(\"外合并后的内容为:\\n\", merged_outer)"
   ]
  },
  {
   "cell_type": "markdown",
   "id": "ddf864e0",
   "metadata": {},
   "source": [
    "### 4.4.3 使用左连接和右连接"
   ]
  },
  {
   "cell_type": "code",
   "execution_count": 55,
   "id": "b3e0baa7",
   "metadata": {},
   "outputs": [
    {
     "name": "stdout",
     "output_type": "stream",
     "text": [
      "创建的演示数据集df1内容为：\n",
      "  key  value1\n",
      "0   A       1\n",
      "1   B       2\n",
      "2   C       3\n",
      "演示数据集df2内容为：\n",
      "  key  value2\n",
      "0   B       4\n",
      "1   C       5\n",
      "2   D       6\n",
      "左连接后的内容为:\n",
      "   key  value1  value2\n",
      "0   A       1     NaN\n",
      "1   B       2     4.0\n",
      "2   C       3     5.0\n",
      "右连接后的内容为:\n",
      "   key  value1  value2\n",
      "0   B     2.0       4\n",
      "1   C     3.0       5\n",
      "2   D     NaN       6\n"
     ]
    }
   ],
   "source": [
    "# 先导包\n",
    "import pandas as pd\n",
    "\n",
    "# 创建示例 DataFrame，并进行展示\n",
    "df1 = pd.DataFrame({\n",
    "    'key': ['A', 'B', 'C'],\n",
    "    'value1': [1, 2, 3]\n",
    "})\n",
    "\n",
    "df2 = pd.DataFrame({\n",
    "    'key': ['B', 'C', 'D'],\n",
    "    'value2': [4, 5, 6]\n",
    "})\n",
    "print(f\"创建的演示数据集df1内容为：\\n{df1}\\n演示数据集df2内容为：\\n{df2}\")\n",
    "\n",
    "# 左连接\n",
    "merged_left = pd.merge(df1, df2, how='left', on='key')\n",
    "print(\"左连接后的内容为:\\n\", merged_left)\n",
    "\n",
    "# 右连接\n",
    "merged_right = pd.merge(df1, df2, how='right', on='key')\n",
    "print(\"右连接后的内容为:\\n\", merged_right)"
   ]
  },
  {
   "cell_type": "markdown",
   "id": "227d0270",
   "metadata": {},
   "source": [
    "### 4.4.4 使用不同的列进行合并"
   ]
  },
  {
   "cell_type": "code",
   "execution_count": 56,
   "id": "0d7a3ed5",
   "metadata": {},
   "outputs": [
    {
     "name": "stdout",
     "output_type": "stream",
     "text": [
      "创建的演示数据集df1内容为：\n",
      "   id value\n",
      "0   1     A\n",
      "1   2     B\n",
      "2   3     C\n",
      "演示数据集df2内容为：\n",
      "   id value\n",
      "0   2     D\n",
      "1   3     E\n",
      "2   4     F\n",
      "使用不同的列进行合并后所得内容为:\n",
      "    id value_x value_y\n",
      "0   2       B       D\n",
      "1   3       C       E\n"
     ]
    }
   ],
   "source": [
    "# 创建不同列的 DataFrame\n",
    "df1 = pd.DataFrame({\n",
    "    'id': [1, 2, 3],\n",
    "    'value': ['A', 'B', 'C']\n",
    "})\n",
    "\n",
    "df2 = pd.DataFrame({\n",
    "    'id': [2, 3, 4],\n",
    "    'value': ['D', 'E', 'F']\n",
    "})\n",
    "print(f\"创建的演示数据集df1内容为：\\n{df1}\\n演示数据集df2内容为：\\n{df2}\")\n",
    "\n",
    "# 使用 id 列进行合并\n",
    "merged_diff = pd.merge(df1, df2, how='inner', on='id')\n",
    "print(\"使用不同的列进行合并后所得内容为:\\n\", merged_diff)"
   ]
  },
  {
   "cell_type": "markdown",
   "id": "b2136089",
   "metadata": {},
   "source": [
    "### 4.4.5 使用索引进行合并"
   ]
  },
  {
   "cell_type": "code",
   "execution_count": 57,
   "id": "13890387",
   "metadata": {},
   "outputs": [
    {
     "name": "stdout",
     "output_type": "stream",
     "text": [
      "创建的演示数据集df1内容为：\n",
      "   value1\n",
      "A       1\n",
      "B       2\n",
      "C       3\n",
      "演示数据集df2内容为：\n",
      "   value2\n",
      "B       4\n",
      "C       5\n",
      "D       6\n",
      "使用索引进行合并后的内容为:\n",
      "    value1  value2\n",
      "B       2       4\n",
      "C       3       5\n"
     ]
    }
   ],
   "source": [
    "# 创建带有索引的 DataFrame\n",
    "df1 = pd.DataFrame({\n",
    "    'value1': [1, 2, 3]},\n",
    "    index=['A', 'B', 'C'])\n",
    "\n",
    "df2 = pd.DataFrame({\n",
    "    'value2': [4, 5, 6]},\n",
    "    index=['B', 'C', 'D'])\n",
    "print(f\"创建的演示数据集df1内容为：\\n{df1}\\n演示数据集df2内容为：\\n{df2}\")\n",
    "\n",
    "# 使用索引进行合并\n",
    "merged_index = pd.merge(df1, df2, left_index=True, right_index=True, how='inner')\n",
    "print(\"使用索引进行合并后的内容为:\\n\", merged_index)"
   ]
  },
  {
   "cell_type": "markdown",
   "id": "eb18e2c3",
   "metadata": {},
   "source": [
    "# 5 算术运算"
   ]
  },
  {
   "cell_type": "markdown",
   "id": "e6a3686b",
   "metadata": {},
   "source": [
    "## 5.1 直接运算"
   ]
  },
  {
   "cell_type": "raw",
   "id": "430b65ba",
   "metadata": {},
   "source": [
    "对Pandas文件进行运算，可以使用如下语法：\n",
    "\n",
    "语法：文件 的某一列/行 + num\n",
    "\n",
    "说明：这里的+可以是其他运算符号，num指我们想要加的数"
   ]
  },
  {
   "cell_type": "code",
   "execution_count": 58,
   "id": "46be65b0",
   "metadata": {},
   "outputs": [
    {
     "name": "stdout",
     "output_type": "stream",
     "text": [
      "演示数据集的内容为：\n",
      "     第一列  第二列  第三列\n",
      "第一行   37  628  515\n",
      "第二行   32  623  514\n",
      "第三行   38  648  575\n",
      "\n",
      "通过数据集运算得到的新序列1内容为：\n",
      "第一行    42\n",
      "第二行    37\n",
      "第三行    43\n",
      "Name: 第一列, dtype: int32\n",
      "\n",
      "通过数据集运算得到的新序列2内容为：\n",
      "第一行    185\n",
      "第二行    160\n",
      "第三行    190\n",
      "Name: 第一列, dtype: int32\n",
      "\n",
      "通过数据集运算得到的新序列3内容为：\n",
      "第一列     32\n",
      "第二列    623\n",
      "第三列    510\n",
      "Name: 第一行, dtype: int32\n",
      "\n",
      "通过数据集运算得到的新数据集2内容为:\n",
      "     第一列  第二列  第三列\n",
      "第一行   42  633  520\n",
      "第二行   37  628  519\n"
     ]
    }
   ],
   "source": [
    "# 先导包，并准备数据\n",
    "import numpy as np\n",
    "import pandas as pd\n",
    "data = np.array([[37, 628, 515], [32, 623, 514], [38, 648, 575]])\n",
    "\n",
    "# 创建演示数据集\n",
    "df1 = pd.DataFrame(data, index=[\"第一行\", \"第二行\", \"第三行\"], columns=[\"第一列\", \"第二列\", \"第三列\"])\n",
    "print(f\"演示数据集的内容为：\\n{df1}\\n\")\n",
    "\n",
    "# 演示pandas运算\n",
    "series1 = df1[\"第一列\"] + 5\n",
    "print(f\"通过数据集运算得到的新序列1内容为：\\n{series1}\\n\")\n",
    "series2 = df1[\"第一列\"] * 5\n",
    "print(f\"通过数据集运算得到的新序列2内容为：\\n{series2}\\n\")\n",
    "series3 = df1.loc[\"第一行\"] - 5\n",
    "print(f\"通过数据集运算得到的新序列3内容为：\\n{series3}\\n\")\n",
    "df2 = df1.loc[\"第一行\": \"第二行\"] + 5\n",
    "print(f\"通过数据集运算得到的新数据集2内容为:\\n{df2}\")"
   ]
  },
  {
   "cell_type": "markdown",
   "id": "83d91e00",
   "metadata": {},
   "source": [
    "## 5.2 通过方法运算"
   ]
  },
  {
   "cell_type": "raw",
   "id": "31ff3881",
   "metadata": {},
   "source": [
    "英语：subtract  v.减\n",
    "\n",
    "加语法： pdfile.add(num)\n",
    "减语法： pdfile.sub(num)\n",
    "乘语法： pdfile.mul(num)\n",
    "除语法： pdfile.div(num)\n",
    "\n",
    "参数说明： pdfile：pandas文件\n",
    "        num：进行运算提供的数字"
   ]
  },
  {
   "cell_type": "code",
   "execution_count": 59,
   "id": "8115e359",
   "metadata": {},
   "outputs": [
    {
     "name": "stdout",
     "output_type": "stream",
     "text": [
      "演示数据集的内容为：\n",
      "     第一列  第二列  第三列\n",
      "第一行   37  628  515\n",
      "第二行   32  623  514\n",
      "第三行   38  648  575\n",
      "\n",
      "通过数据集运算得到的新数据集1内容为:\n",
      "     第一列  第二列\n",
      "第一行   42  633\n",
      "第二行   37  628\n",
      "\n",
      "通过数据集运算得到的新数据集2内容为:\n",
      "     第一列  第二列  第三列\n",
      "第一行   32  623  510\n",
      "第二行   27  618  509\n",
      "第三行   33  643  570\n"
     ]
    }
   ],
   "source": [
    "# 先导包，并准备数据\n",
    "import numpy as np\n",
    "import pandas as pd\n",
    "data = np.array([[37, 628, 515], [32, 623, 514], [38, 648, 575]])\n",
    "\n",
    "# 创建演示数据集\n",
    "df = pd.DataFrame(data, index=[\"第一行\", \"第二行\", \"第三行\"], columns=[\"第一列\", \"第二列\", \"第三列\"])\n",
    "print(f\"演示数据集的内容为：\\n{df}\\n\")\n",
    "\n",
    "# 演示pandas运算\n",
    "df1 = df.loc[\"第一行\": \"第二行\", \"第一列\": \"第二列\"].add(5)\n",
    "print(f\"通过数据集运算得到的新数据集1内容为:\\n{df1}\\n\")\n",
    "df2 = df.sub(5)\n",
    "print(f\"通过数据集运算得到的新数据集2内容为:\\n{df2}\")"
   ]
  },
  {
   "cell_type": "markdown",
   "id": "274c426a",
   "metadata": {},
   "source": [
    "# 6 逻辑运算"
   ]
  },
  {
   "cell_type": "markdown",
   "id": "03c55837",
   "metadata": {},
   "source": [
    "## 6.1 使用判断语句"
   ]
  },
  {
   "cell_type": "code",
   "execution_count": 60,
   "id": "5a1f8747",
   "metadata": {},
   "outputs": [
    {
     "name": "stdout",
     "output_type": "stream",
     "text": [
      "演示数据集的内容为：\n",
      "     第一列  第二列  第三列  第四列\n",
      "第一行   31   17   10   21\n",
      "第二行   32   27   13   17\n",
      "第三行   12   14   31   24\n",
      "\n",
      "所得演示数据集的内容为：\n",
      "       第一列    第二列    第三列    第四列\n",
      "第一行   True  False  False  False\n",
      "第二行   True   True  False  False\n",
      "第三行  False  False   True  False\n"
     ]
    },
    {
     "data": {
      "text/html": [
       "<div>\n",
       "<style scoped>\n",
       "    .dataframe tbody tr th:only-of-type {\n",
       "        vertical-align: middle;\n",
       "    }\n",
       "\n",
       "    .dataframe tbody tr th {\n",
       "        vertical-align: top;\n",
       "    }\n",
       "\n",
       "    .dataframe thead th {\n",
       "        text-align: right;\n",
       "    }\n",
       "</style>\n",
       "<table border=\"1\" class=\"dataframe\">\n",
       "  <thead>\n",
       "    <tr style=\"text-align: right;\">\n",
       "      <th></th>\n",
       "      <th>第一列</th>\n",
       "      <th>第二列</th>\n",
       "      <th>第三列</th>\n",
       "      <th>第四列</th>\n",
       "    </tr>\n",
       "  </thead>\n",
       "  <tbody>\n",
       "    <tr>\n",
       "      <th>第一行</th>\n",
       "      <td>31.0</td>\n",
       "      <td>NaN</td>\n",
       "      <td>NaN</td>\n",
       "      <td>NaN</td>\n",
       "    </tr>\n",
       "    <tr>\n",
       "      <th>第二行</th>\n",
       "      <td>32.0</td>\n",
       "      <td>27.0</td>\n",
       "      <td>NaN</td>\n",
       "      <td>NaN</td>\n",
       "    </tr>\n",
       "    <tr>\n",
       "      <th>第三行</th>\n",
       "      <td>NaN</td>\n",
       "      <td>NaN</td>\n",
       "      <td>31.0</td>\n",
       "      <td>NaN</td>\n",
       "    </tr>\n",
       "  </tbody>\n",
       "</table>\n",
       "</div>"
      ],
      "text/plain": [
       "      第一列   第二列   第三列  第四列\n",
       "第一行  31.0   NaN   NaN  NaN\n",
       "第二行  32.0  27.0   NaN  NaN\n",
       "第三行   NaN   NaN  31.0  NaN"
      ]
     },
     "execution_count": 60,
     "metadata": {},
     "output_type": "execute_result"
    }
   ],
   "source": [
    "# 先导包\n",
    "import numpy as np\n",
    "import pandas as pd\n",
    "\n",
    "# 创建演示数据集\n",
    "data = np.random.randint(10, 37, size=(3, 4))\n",
    "df = pd.DataFrame(data, index=[\"第一行\", \"第二行\", \"第三行\"], columns=[\"第一列\", \"第二列\", \"第三列\", \"第四列\"])\n",
    "print(f\"演示数据集的内容为：\\n{df}\\n\")\n",
    "\n",
    "# 演示逻辑语句\n",
    "mask = df > 25\n",
    "print(f\"所得演示数据集的内容为：\\n{mask}\")\n",
    "\n",
    "# 将大于25的保留，其余删除\n",
    "df[mask]"
   ]
  },
  {
   "cell_type": "markdown",
   "id": "357b4b07",
   "metadata": {},
   "source": [
    "## 6.2 进行多个逻辑判断，使用 &（且） 、  |（或）"
   ]
  },
  {
   "cell_type": "raw",
   "id": "f1a9e017",
   "metadata": {},
   "source": [
    "说明： 可以将多个 逻辑判断 使用 & |连接，注意这里应当将每一个逻辑判断都使用括号包含\n",
    "\n",
    "语法： (逻辑1) & (逻辑2)\n",
    "     (逻辑1) | (逻辑2)"
   ]
  },
  {
   "cell_type": "code",
   "execution_count": 61,
   "id": "afe42715",
   "metadata": {},
   "outputs": [
    {
     "name": "stdout",
     "output_type": "stream",
     "text": [
      "演示数据集的内容为：\n",
      "     第一列  第二列  第三列  第四列\n",
      "第一行   33   32   13   36\n",
      "第二行   24   30   10   18\n",
      "第三行   24   33   19   18\n",
      "\n",
      "所得演示数据集的内容为：\n",
      "       第一列    第二列    第三列    第四列\n",
      "第一行  False  False  False  False\n",
      "第二行  False   True  False  False\n",
      "第三行  False  False  False  False\n",
      "\n",
      "所得演示数据集的内容为：\n",
      "      第一列    第二列   第三列   第四列\n",
      "第一行  True   True  True  True\n",
      "第二行  True  False  True  True\n",
      "第三行  True   True  True  True\n"
     ]
    }
   ],
   "source": [
    "# 先导包\n",
    "import numpy as np\n",
    "import pandas as pd\n",
    "\n",
    "# 创建演示数据集\n",
    "data = np.random.randint(10, 37, size=(3, 4))\n",
    "df = pd.DataFrame(data, index=[\"第一行\", \"第二行\", \"第三行\"], columns=[\"第一列\", \"第二列\", \"第三列\", \"第四列\"])\n",
    "print(f\"演示数据集的内容为：\\n{df}\\n\")\n",
    "\n",
    "# 演示多个逻辑判断语句，大于25 且 小于32\n",
    "mask1 = (df > 25) & (df < 32)\n",
    "print(f\"所得演示数据集的内容为：\\n{mask1}\\n\")\n",
    "\n",
    "# 演示多个逻辑判断语句，大于等于32 或 小于等于25\n",
    "mask2 = (df >= 32) | (df <= 25)\n",
    "print(f\"所得演示数据集的内容为：\\n{mask2}\")"
   ]
  },
  {
   "cell_type": "markdown",
   "id": "10000081",
   "metadata": {},
   "source": [
    "## 6.3 query方法"
   ]
  },
  {
   "cell_type": "raw",
   "id": "4c25dbcf",
   "metadata": {},
   "source": [
    "语法：DataFrame.query(expr, inplace=False)\n",
    "\n",
    "参数说明： expr: 用于筛选的查询表达式，类似于 SQL 的语法，需要传入字符串。\n",
    "        inplace: 默认为False，如果为True，则在原地修改DataFrame，不返回新的DataFrame。\n",
    "        \n",
    "功能：使用字符串表达式来筛选 DataFrame 中的行"
   ]
  },
  {
   "cell_type": "code",
   "execution_count": 62,
   "id": "f12a2186",
   "metadata": {},
   "outputs": [
    {
     "name": "stdout",
     "output_type": "stream",
     "text": [
      "演示数据集的内容为：\n",
      "     第一列  第二列  第三列  第四列\n",
      "第一行   16   13   27    2\n",
      "第二行    7   10   32    6\n",
      "第三行   28   35   30    6\n",
      "\n",
      "第一列数字中，大于20的留下，得到的数据集为：\n",
      "     第一列  第二列  第三列  第四列\n",
      "第三行   28   35   30    6\n"
     ]
    }
   ],
   "source": [
    "# 先导包\n",
    "import numpy as np\n",
    "import pandas as pd\n",
    "\n",
    "# 创建示例 DataFrame\n",
    "data = np.random.randint(0, 37, size=(3, 4))\n",
    "df = pd.DataFrame(data, index=[\"第一行\", \"第二行\", \"第三行\"], columns=[\"第一列\", \"第二列\", \"第三列\", \"第四列\"])\n",
    "print(f\"演示数据集的内容为：\\n{df}\\n\")\n",
    "\n",
    "# 使用 query 方法筛选\n",
    "result_query1 = df.query('第一列 > 20')\n",
    "print(f\"第一列数字中，大于20的留下，得到的数据集为：\\n{result_query1}\")"
   ]
  },
  {
   "cell_type": "markdown",
   "id": "3413bbf6",
   "metadata": {},
   "source": [
    "## 6.4 isin方法"
   ]
  },
  {
   "cell_type": "raw",
   "id": "f0fd8cb3",
   "metadata": {},
   "source": [
    "语法：DataFrame/Series.isin(values)\n",
    "\n",
    "参数说明：values: 用于检查的值，可以是列表、集合、字典等\n",
    "\n",
    "注意：即使想要查询内容的只有一项，也需要以列表、集合、字典等形式传入"
   ]
  },
  {
   "cell_type": "code",
   "execution_count": 63,
   "id": "9784300e",
   "metadata": {},
   "outputs": [
    {
     "name": "stdout",
     "output_type": "stream",
     "text": [
      "演示数据集的内容为：\n",
      "     第一列  第二列  第三列\n",
      "第一行   37  628  515\n",
      "第二行   32  623  514\n",
      "第三行   38  648  575\n",
      "\n"
     ]
    },
    {
     "data": {
      "text/html": [
       "<div>\n",
       "<style scoped>\n",
       "    .dataframe tbody tr th:only-of-type {\n",
       "        vertical-align: middle;\n",
       "    }\n",
       "\n",
       "    .dataframe tbody tr th {\n",
       "        vertical-align: top;\n",
       "    }\n",
       "\n",
       "    .dataframe thead th {\n",
       "        text-align: right;\n",
       "    }\n",
       "</style>\n",
       "<table border=\"1\" class=\"dataframe\">\n",
       "  <thead>\n",
       "    <tr style=\"text-align: right;\">\n",
       "      <th></th>\n",
       "      <th>第一列</th>\n",
       "      <th>第二列</th>\n",
       "      <th>第三列</th>\n",
       "    </tr>\n",
       "  </thead>\n",
       "  <tbody>\n",
       "    <tr>\n",
       "      <th>第一行</th>\n",
       "      <td>False</td>\n",
       "      <td>False</td>\n",
       "      <td>False</td>\n",
       "    </tr>\n",
       "    <tr>\n",
       "      <th>第二行</th>\n",
       "      <td>False</td>\n",
       "      <td>True</td>\n",
       "      <td>False</td>\n",
       "    </tr>\n",
       "    <tr>\n",
       "      <th>第三行</th>\n",
       "      <td>False</td>\n",
       "      <td>False</td>\n",
       "      <td>False</td>\n",
       "    </tr>\n",
       "  </tbody>\n",
       "</table>\n",
       "</div>"
      ],
      "text/plain": [
       "       第一列    第二列    第三列\n",
       "第一行  False  False  False\n",
       "第二行  False   True  False\n",
       "第三行  False  False  False"
      ]
     },
     "execution_count": 63,
     "metadata": {},
     "output_type": "execute_result"
    }
   ],
   "source": [
    "# 先导包，并准备数据\n",
    "import numpy as np\n",
    "import pandas as pd\n",
    "data = np.array([[37, 628, 515], [32, 623, 514], [38, 648, 575]])\n",
    "\n",
    "# 创建演示数据集\n",
    "df = pd.DataFrame(data, index=[\"第一行\", \"第二行\", \"第三行\"], columns=[\"第一列\", \"第二列\", \"第三列\"])\n",
    "print(f\"演示数据集的内容为：\\n{df}\\n\")\n",
    "\n",
    "# 使用isin方法检查值\n",
    "df.isin([623])"
   ]
  },
  {
   "cell_type": "markdown",
   "id": "3d136d0b",
   "metadata": {},
   "source": [
    "# 7 缺失值处理"
   ]
  },
  {
   "cell_type": "markdown",
   "id": "be5916ce",
   "metadata": {},
   "source": [
    "## 7.1 从Excel读取数据，并作为DataFrame保存（pd.read_excel方法）"
   ]
  },
  {
   "cell_type": "raw",
   "id": "9680eadc",
   "metadata": {},
   "source": [
    "说明：pd.read_excel 是 Pandas 库中的一个函数，用于从 Excel 文件中读取数据并将其加载为 DataFrame。"
   ]
  },
  {
   "cell_type": "raw",
   "id": "54c610d8",
   "metadata": {},
   "source": [
    "import pandas as pd\n",
    "\n",
    "# 从 Excel 文件读取数据\n",
    "df = pd.read_excel('文件路径.xlsx', sheet_name='Sheet1')"
   ]
  },
  {
   "cell_type": "raw",
   "id": "0a9c33eb",
   "metadata": {},
   "source": [
    "参数说明\n",
    "io：文件路径（字符串）或文件对象，表示要读取的 Excel 文件。\n",
    "sheet_name：指定要读取的工作表名或索引（默认是第一个工作表）。\n",
    "header：指定用于列名的行索引，默认为 0（第一行）。\n",
    "usecols：指定要读取的列，可以是列的索引或名称。\n",
    "skiprows：指定要跳过的行数。"
   ]
  },
  {
   "cell_type": "markdown",
   "id": "d6804abb",
   "metadata": {},
   "source": [
    "## 7.2 pd.isnull方法"
   ]
  },
  {
   "cell_type": "raw",
   "id": "4bc81d80",
   "metadata": {},
   "source": [
    "语法： pd.isnull(data)\n",
    "\n",
    "参数说明： data： 可以是DataFrame，也可以是Series\n",
    "\n",
    "功能： pd.isnull() 是 Pandas 库中的一个函数，用于检查 DataFrame 或 Series 中的缺失值（NaN）。\n",
    "     它返回一个与输入对象形状相同的布尔数组，指示每个元素是否为缺失值。"
   ]
  },
  {
   "cell_type": "code",
   "execution_count": 64,
   "id": "2c6393d2",
   "metadata": {},
   "outputs": [
    {
     "name": "stdout",
     "output_type": "stream",
     "text": [
      "演示数据集的内容为：      第一列 第二列   第三列\n",
      "第一行     1   2  None\n",
      "第二行     3   4     5\n",
      "第三行  None   8     9\n"
     ]
    },
    {
     "data": {
      "text/html": [
       "<div>\n",
       "<style scoped>\n",
       "    .dataframe tbody tr th:only-of-type {\n",
       "        vertical-align: middle;\n",
       "    }\n",
       "\n",
       "    .dataframe tbody tr th {\n",
       "        vertical-align: top;\n",
       "    }\n",
       "\n",
       "    .dataframe thead th {\n",
       "        text-align: right;\n",
       "    }\n",
       "</style>\n",
       "<table border=\"1\" class=\"dataframe\">\n",
       "  <thead>\n",
       "    <tr style=\"text-align: right;\">\n",
       "      <th></th>\n",
       "      <th>第一列</th>\n",
       "      <th>第二列</th>\n",
       "      <th>第三列</th>\n",
       "    </tr>\n",
       "  </thead>\n",
       "  <tbody>\n",
       "    <tr>\n",
       "      <th>第一行</th>\n",
       "      <td>False</td>\n",
       "      <td>False</td>\n",
       "      <td>True</td>\n",
       "    </tr>\n",
       "    <tr>\n",
       "      <th>第二行</th>\n",
       "      <td>False</td>\n",
       "      <td>False</td>\n",
       "      <td>False</td>\n",
       "    </tr>\n",
       "    <tr>\n",
       "      <th>第三行</th>\n",
       "      <td>True</td>\n",
       "      <td>False</td>\n",
       "      <td>False</td>\n",
       "    </tr>\n",
       "  </tbody>\n",
       "</table>\n",
       "</div>"
      ],
      "text/plain": [
       "       第一列    第二列    第三列\n",
       "第一行  False  False   True\n",
       "第二行  False  False  False\n",
       "第三行   True  False  False"
      ]
     },
     "execution_count": 64,
     "metadata": {},
     "output_type": "execute_result"
    }
   ],
   "source": [
    "# 先导包\n",
    "import numpy as np\n",
    "import pandas as pd\n",
    "\n",
    "# 创建演示数据集\n",
    "data = np.array([[1, 2, None], [3, 4, 5], [None, 8, 9]])\n",
    "df = pd.DataFrame(data, index=[\"第一行\", \"第二行\", \"第三行\"], columns=[\"第一列\", \"第二列\", \"第三列\"])\n",
    "print(f\"演示数据集的内容为：{df}\")\n",
    "\n",
    "# 使用pd.isnull方法\n",
    "pd.isnull(df)"
   ]
  },
  {
   "cell_type": "markdown",
   "id": "f5038959",
   "metadata": {},
   "source": [
    "## 7.3 pd.notnull方法"
   ]
  },
  {
   "cell_type": "raw",
   "id": "e6b04e0b",
   "metadata": {},
   "source": [
    "语法： pd.notnull(data)\n",
    "\n",
    "参数说明： data： 可以是DataFrame，也可以是Series\n",
    "\n",
    "功能： pd.notnull() 是 Pandas 库中的一个函数，用于检查 DataFrame 或 Series 中的非缺失值（NaN）。\n",
    "     它返回一个与输入对象形状相同的布尔数组，指示每个元素是否为非缺失值。"
   ]
  },
  {
   "cell_type": "code",
   "execution_count": 65,
   "id": "616f6280",
   "metadata": {},
   "outputs": [
    {
     "name": "stdout",
     "output_type": "stream",
     "text": [
      "演示数据集的内容为：     第一列 第二列   第三列\n",
      "第一行    1   2  None\n",
      "第二行    3   4     5\n",
      "第三行  NaN   8     9\n"
     ]
    },
    {
     "data": {
      "text/html": [
       "<div>\n",
       "<style scoped>\n",
       "    .dataframe tbody tr th:only-of-type {\n",
       "        vertical-align: middle;\n",
       "    }\n",
       "\n",
       "    .dataframe tbody tr th {\n",
       "        vertical-align: top;\n",
       "    }\n",
       "\n",
       "    .dataframe thead th {\n",
       "        text-align: right;\n",
       "    }\n",
       "</style>\n",
       "<table border=\"1\" class=\"dataframe\">\n",
       "  <thead>\n",
       "    <tr style=\"text-align: right;\">\n",
       "      <th></th>\n",
       "      <th>第一列</th>\n",
       "      <th>第二列</th>\n",
       "      <th>第三列</th>\n",
       "    </tr>\n",
       "  </thead>\n",
       "  <tbody>\n",
       "    <tr>\n",
       "      <th>第一行</th>\n",
       "      <td>True</td>\n",
       "      <td>True</td>\n",
       "      <td>False</td>\n",
       "    </tr>\n",
       "    <tr>\n",
       "      <th>第二行</th>\n",
       "      <td>True</td>\n",
       "      <td>True</td>\n",
       "      <td>True</td>\n",
       "    </tr>\n",
       "    <tr>\n",
       "      <th>第三行</th>\n",
       "      <td>False</td>\n",
       "      <td>True</td>\n",
       "      <td>True</td>\n",
       "    </tr>\n",
       "  </tbody>\n",
       "</table>\n",
       "</div>"
      ],
      "text/plain": [
       "       第一列   第二列    第三列\n",
       "第一行   True  True  False\n",
       "第二行   True  True   True\n",
       "第三行  False  True   True"
      ]
     },
     "execution_count": 65,
     "metadata": {},
     "output_type": "execute_result"
    }
   ],
   "source": [
    "# 先导包\n",
    "import numpy as np\n",
    "import pandas as pd\n",
    "\n",
    "# 创建演示数据集\n",
    "data = np.array([[1, 2, None], [3, 4, 5], [np.nan, 8, 9]])\n",
    "df = pd.DataFrame(data, index=[\"第一行\", \"第二行\", \"第三行\"], columns=[\"第一列\", \"第二列\", \"第三列\"])\n",
    "print(f\"演示数据集的内容为：{df}\")\n",
    "\n",
    "# 使用pd.notnull方法\n",
    "pd.notnull(df)"
   ]
  },
  {
   "cell_type": "markdown",
   "id": "38a6e68d",
   "metadata": {},
   "source": [
    "## 7.4 dropna方法"
   ]
  },
  {
   "cell_type": "raw",
   "id": "f817d7cf",
   "metadata": {},
   "source": [
    "语法：变量.dropna(axis=0, how=\"any\")\n",
    "\n",
    "参数说明：axis 默认为0，表示行；如果需要对列使用dropna方法，需要指定axis=1\n",
    "       how  默认为any，表示 只要有一个缺失值就删除；如果是all，则表示 只有当所有值都是缺失值时才删除。\n",
    "\n",
    "功能：变量.dropna() 是 Pandas 库中的一个方法，用于删除 DataFrame 中的缺失值（NaN）。你可以根据需求选择删除行或列。"
   ]
  },
  {
   "cell_type": "code",
   "execution_count": 66,
   "id": "56ed9979",
   "metadata": {},
   "outputs": [
    {
     "name": "stdout",
     "output_type": "stream",
     "text": [
      "演示数据集的内容为：     第一列 第二列   第三列\n",
      "第一行    1   2  None\n",
      "第二行    3   4     5\n",
      "第三行  NaN   8     9\n"
     ]
    },
    {
     "data": {
      "text/html": [
       "<div>\n",
       "<style scoped>\n",
       "    .dataframe tbody tr th:only-of-type {\n",
       "        vertical-align: middle;\n",
       "    }\n",
       "\n",
       "    .dataframe tbody tr th {\n",
       "        vertical-align: top;\n",
       "    }\n",
       "\n",
       "    .dataframe thead th {\n",
       "        text-align: right;\n",
       "    }\n",
       "</style>\n",
       "<table border=\"1\" class=\"dataframe\">\n",
       "  <thead>\n",
       "    <tr style=\"text-align: right;\">\n",
       "      <th></th>\n",
       "      <th>第二列</th>\n",
       "    </tr>\n",
       "  </thead>\n",
       "  <tbody>\n",
       "    <tr>\n",
       "      <th>第一行</th>\n",
       "      <td>2</td>\n",
       "    </tr>\n",
       "    <tr>\n",
       "      <th>第二行</th>\n",
       "      <td>4</td>\n",
       "    </tr>\n",
       "    <tr>\n",
       "      <th>第三行</th>\n",
       "      <td>8</td>\n",
       "    </tr>\n",
       "  </tbody>\n",
       "</table>\n",
       "</div>"
      ],
      "text/plain": [
       "    第二列\n",
       "第一行   2\n",
       "第二行   4\n",
       "第三行   8"
      ]
     },
     "execution_count": 66,
     "metadata": {},
     "output_type": "execute_result"
    }
   ],
   "source": [
    "# 先导包\n",
    "import numpy as np\n",
    "import pandas as pd\n",
    "\n",
    "# 创建演示数据集\n",
    "data = np.array([[1, 2, None], [3, 4, 5], [np.nan, 8, 9]])\n",
    "df = pd.DataFrame(data, index=[\"第一行\", \"第二行\", \"第三行\"], columns=[\"第一列\", \"第二列\", \"第三列\"])\n",
    "print(f\"演示数据集的内容为：{df}\")\n",
    "\n",
    "# 使用dropna方法\n",
    "df.dropna(axis=1, how=\"any\")"
   ]
  },
  {
   "cell_type": "markdown",
   "id": "9fd28845",
   "metadata": {},
   "source": [
    "## 7.5 fillna方法"
   ]
  },
  {
   "cell_type": "raw",
   "id": "4f4cfc2c",
   "metadata": {},
   "source": [
    "语法：变量.fillna(value, method=None, axis=None)\n",
    "\n",
    "参数说明：value    表示用于填充NaN的值\n",
    "       method   表示填充的方式，包括：\n",
    "              None（默认值）：不使用任何方式，即用指定的value值进行填充\n",
    "              ffill：用前一个值填充\n",
    "              bfill：用后一个值填充\n",
    "       axis     表示填充到的轴，默认值为None，即全部填充，axis=0表示对行进行填充；axis=1表示对列进行填充。"
   ]
  },
  {
   "cell_type": "code",
   "execution_count": 67,
   "id": "c19f017c",
   "metadata": {},
   "outputs": [
    {
     "name": "stdout",
     "output_type": "stream",
     "text": [
      "演示数据集的内容为：     第一列 第二列   第三列\n",
      "第一行    1   2  None\n",
      "第二行    3   4     5\n",
      "第三行  NaN   8     9\n"
     ]
    },
    {
     "data": {
      "text/html": [
       "<div>\n",
       "<style scoped>\n",
       "    .dataframe tbody tr th:only-of-type {\n",
       "        vertical-align: middle;\n",
       "    }\n",
       "\n",
       "    .dataframe tbody tr th {\n",
       "        vertical-align: top;\n",
       "    }\n",
       "\n",
       "    .dataframe thead th {\n",
       "        text-align: right;\n",
       "    }\n",
       "</style>\n",
       "<table border=\"1\" class=\"dataframe\">\n",
       "  <thead>\n",
       "    <tr style=\"text-align: right;\">\n",
       "      <th></th>\n",
       "      <th>第一列</th>\n",
       "      <th>第二列</th>\n",
       "      <th>第三列</th>\n",
       "    </tr>\n",
       "  </thead>\n",
       "  <tbody>\n",
       "    <tr>\n",
       "      <th>第一行</th>\n",
       "      <td>1</td>\n",
       "      <td>2</td>\n",
       "      <td>37</td>\n",
       "    </tr>\n",
       "    <tr>\n",
       "      <th>第二行</th>\n",
       "      <td>3</td>\n",
       "      <td>4</td>\n",
       "      <td>5</td>\n",
       "    </tr>\n",
       "    <tr>\n",
       "      <th>第三行</th>\n",
       "      <td>37</td>\n",
       "      <td>8</td>\n",
       "      <td>9</td>\n",
       "    </tr>\n",
       "  </tbody>\n",
       "</table>\n",
       "</div>"
      ],
      "text/plain": [
       "     第一列  第二列  第三列\n",
       "第一行    1    2   37\n",
       "第二行    3    4    5\n",
       "第三行   37    8    9"
      ]
     },
     "execution_count": 67,
     "metadata": {},
     "output_type": "execute_result"
    }
   ],
   "source": [
    "# 先导包\n",
    "import numpy as np\n",
    "import pandas as pd\n",
    "\n",
    "# 创建演示数据集\n",
    "data = np.array([[1, 2, None], [3, 4, 5], [np.nan, 8, 9]])\n",
    "df = pd.DataFrame(data, index=[\"第一行\", \"第二行\", \"第三行\"], columns=[\"第一列\", \"第二列\", \"第三列\"])\n",
    "print(f\"演示数据集的内容为：{df}\")\n",
    "\n",
    "# 使用fillna方法\n",
    "df.fillna(37)"
   ]
  },
  {
   "cell_type": "markdown",
   "id": "463abab2",
   "metadata": {},
   "source": [
    "## 7.6 replace方法"
   ]
  },
  {
   "cell_type": "raw",
   "id": "8a6ba54e",
   "metadata": {},
   "source": [
    "语法：变量.replace(to_replace=, value=, inplace=False)\n",
    "\n",
    "参数说明： to_replace: 要被替换的值，可以是单个值、列表等\n",
    "        value：替换成的值，可以是单个值、列表等\n",
    "        inplace 默认为False，即不替换原数据，需要使用变量接收，如果为True，则会直接更改原数据\n",
    "\n",
    "功能：将指定的值替换成另外的值，在处理数据时，可以把问号替换成NaN，然后用上述方法进行处理"
   ]
  },
  {
   "cell_type": "code",
   "execution_count": 68,
   "id": "37a47333",
   "metadata": {},
   "outputs": [
    {
     "name": "stdout",
     "output_type": "stream",
     "text": [
      "演示数据集的内容为：     第一列 第二列   第三列\n",
      "第一行    1   2  None\n",
      "第二行    3   4     5\n",
      "第三行  NaN   8     9\n"
     ]
    },
    {
     "data": {
      "text/html": [
       "<div>\n",
       "<style scoped>\n",
       "    .dataframe tbody tr th:only-of-type {\n",
       "        vertical-align: middle;\n",
       "    }\n",
       "\n",
       "    .dataframe tbody tr th {\n",
       "        vertical-align: top;\n",
       "    }\n",
       "\n",
       "    .dataframe thead th {\n",
       "        text-align: right;\n",
       "    }\n",
       "</style>\n",
       "<table border=\"1\" class=\"dataframe\">\n",
       "  <thead>\n",
       "    <tr style=\"text-align: right;\">\n",
       "      <th></th>\n",
       "      <th>第一列</th>\n",
       "      <th>第二列</th>\n",
       "      <th>第三列</th>\n",
       "    </tr>\n",
       "  </thead>\n",
       "  <tbody>\n",
       "    <tr>\n",
       "      <th>第一行</th>\n",
       "      <td>1</td>\n",
       "      <td>2</td>\n",
       "      <td>37</td>\n",
       "    </tr>\n",
       "    <tr>\n",
       "      <th>第二行</th>\n",
       "      <td>3</td>\n",
       "      <td>4</td>\n",
       "      <td>5</td>\n",
       "    </tr>\n",
       "    <tr>\n",
       "      <th>第三行</th>\n",
       "      <td>37</td>\n",
       "      <td>8</td>\n",
       "      <td>9</td>\n",
       "    </tr>\n",
       "  </tbody>\n",
       "</table>\n",
       "</div>"
      ],
      "text/plain": [
       "     第一列  第二列  第三列\n",
       "第一行    1    2   37\n",
       "第二行    3    4    5\n",
       "第三行   37    8    9"
      ]
     },
     "execution_count": 68,
     "metadata": {},
     "output_type": "execute_result"
    }
   ],
   "source": [
    "# 先导包\n",
    "import numpy as np\n",
    "import pandas as pd\n",
    "\n",
    "# 创建演示数据集\n",
    "data = np.array([[1, 2, None], [3, 4, 5], [np.nan, 8, 9]])\n",
    "df = pd.DataFrame(data, index=[\"第一行\", \"第二行\", \"第三行\"], columns=[\"第一列\", \"第二列\", \"第三列\"])\n",
    "print(f\"演示数据集的内容为：{df}\")\n",
    "\n",
    "# 演示使用replace方法\n",
    "df2 = df.replace(to_replace=np.nan, value=37)\n",
    "df2"
   ]
  },
  {
   "cell_type": "markdown",
   "id": "dd55209c",
   "metadata": {},
   "source": [
    "# 五 Pandas日期处理"
   ]
  },
  {
   "cell_type": "raw",
   "id": "0a340ce7",
   "metadata": {},
   "source": [
    "常见的时间数据属性\n",
    "datetime：表示单个时间点。\n",
    "timedelta：表示时间间隔或持续时间。\n",
    "DatetimeIndex：用于存储多个 datetime 对象的索引，适合时间序列分析。"
   ]
  },
  {
   "cell_type": "markdown",
   "id": "0e7a2e28",
   "metadata": {},
   "source": [
    "# 1 Pandas识别的日期字符串格式"
   ]
  },
  {
   "cell_type": "raw",
   "id": "2048c590",
   "metadata": {},
   "source": [
    "Pandas库可以识别的日期格式要远多于NumPy库，下面创建一个Pandas可识别的日期序列来进行演示。"
   ]
  },
  {
   "cell_type": "code",
   "execution_count": 69,
   "id": "e2c179ee",
   "metadata": {},
   "outputs": [
    {
     "name": "stdout",
     "output_type": "stream",
     "text": [
      "0                   2024\n",
      "1                2023-02\n",
      "2              2001-8-28\n",
      "3               2020-3-7\n",
      "4              2024/3/31\n",
      "5    2031/05/01 01:37:06\n",
      "6            01 dec 1997\n",
      "7             1 Oct 1949\n",
      "dtype: object\n"
     ]
    }
   ],
   "source": [
    "# 先导包\n",
    "import pandas as pd\n",
    "\n",
    "# 创建Pandas可识别的日期序列\n",
    "dates = pd.Series([\"2024\", \"2023-02\", \"2001-8-28\", \"2020-3-7\", \"2024/3/31\", \"2031/05/01 01:37:06\", \"01 dec 1997\", \"1 Oct 1949\"])\n",
    "\n",
    "# 展示Pandas所识别的日期内容\n",
    "print(dates)\n",
    "\n",
    "# 注意：这里的dates还只是一个普通的序列，需要进行1.4.2的方法才能转化为datetime对象。"
   ]
  },
  {
   "cell_type": "markdown",
   "id": "46cbd75f",
   "metadata": {},
   "source": [
    "# 2 处理日期时间数据：pd.to_datetime方法"
   ]
  },
  {
   "cell_type": "raw",
   "id": "4c6fc2e8",
   "metadata": {},
   "source": [
    "语法：pd.to_datetime(arg, format=None, errors='raise', utc=False, dayfirst=False, cache=True)\n",
    "\n",
    "参数详解如下：\n",
    "arg:   待转换的日期时间数据，可以是字符串、列表、数组、Series 等。\n",
    "\n",
    "format: 指定输入数据的日期时间格式。使用时可以提高解析速度。如：\"%Y-%m-%d\"。\n",
    "errors: 处理解析错误的方式。\n",
    "选项：\n",
    "'raise'（默认）：抛出错误。\n",
    "'coerce'：将错误项转换为 NaT（缺失值）。\n",
    "'ignore'：返回原始数据。\n",
    "\n",
    "utc:     是否将结果转换为 UTC 时间。默认值：False。\n",
    "dayfirst:  是否将日期解析为日-月-年格式。默认值：False（即月-日-年）。\n",
    "cache:    是否缓存解析结果以提高性能。默认值：True。\n",
    "\n",
    "功能： 处理日期时间数据，能够轻松解析多种格式的日期时间字符串，并转换为 Pandas 可以处理的 datetime 对象。"
   ]
  },
  {
   "cell_type": "code",
   "execution_count": 70,
   "id": "dff3ed73",
   "metadata": {},
   "outputs": [
    {
     "name": "stdout",
     "output_type": "stream",
     "text": [
      "男友生日    2001-10-14\n",
      "潇潇恋爱日   2020-03-07\n",
      "男友复试日   2024-03-31\n",
      "订婚日     2024-05-15\n",
      "dtype: datetime64[ns]\n"
     ]
    }
   ],
   "source": [
    "# 先导包\n",
    "import pandas as pd\n",
    "\n",
    "# 创建Pandas可识别的日期序列\n",
    "dates = pd.Series([\"2001-10-14\", \"2020-3-7\", \"2024/3/31\", \"2024-5-15\"], index=[\"男友生日\", \"潇潇恋爱日\", \"男友复试日\", \"订婚日\"])\n",
    "\n",
    "# 转换日期数据类型\n",
    "dates = pd.to_datetime(dates)\n",
    "print(dates)"
   ]
  },
  {
   "cell_type": "markdown",
   "id": "06b678da",
   "metadata": {},
   "source": [
    "# 3 datetime.dt方法"
   ]
  },
  {
   "cell_type": "raw",
   "id": "9f766d47",
   "metadata": {},
   "source": [
    "在Pandas中：   .dt是一个用于访问和处理 datetime 对象的属性集合。\n",
    "           它提供了一系列方便的方法和属性，允许用户轻松地提取和转换日期和时间的各个部分。\n",
    "\n",
    "语法： datetime对象.dt.xx\n",
    "\n",
    "说明： 这里的xx有很多选择，包括：\n",
    ".dt.year:     提取年份。\n",
    ".dt.month:    提取月份（1-12）。\n",
    ".dt.day:      提取日期（1-31）。\n",
    ".dt.hour:     提取小时（0-23）。\n",
    ".dt.minute:    提取分钟（0-59）。\n",
    ".dt.second:    提取秒（0-59）。\n",
    ".dt.dayofweek:  提取星期几（0=周一，6=周日）。\n",
    ".dt.strftime(format):  按指定格式转换为字符串。\n",
    ".dt.tz_convert(tz):   转换时区。"
   ]
  },
  {
   "cell_type": "code",
   "execution_count": 71,
   "id": "86bc6128",
   "metadata": {},
   "outputs": [
    {
     "name": "stdout",
     "output_type": "stream",
     "text": [
      "Years:\n",
      " 0    2023\n",
      "1    2024\n",
      "2    2022\n",
      "dtype: int64\n",
      "\n",
      "Months:\n",
      " 0     4\n",
      "1     8\n",
      "2    12\n",
      "dtype: int64\n",
      "\n",
      "Weekdays:\n",
      " 0    4\n",
      "1    3\n",
      "2    4\n",
      "dtype: int64\n"
     ]
    }
   ],
   "source": [
    "# 先导包\n",
    "import pandas as pd\n",
    "\n",
    "# 创建日期时间 Series\n",
    "dates_Series = pd.Series([\"2023-4-21 10:00\", \"2024-08-22 12:30\", \"2022-12-23 15:45\"])\n",
    "dates = pd.to_datetime(dates_Series)\n",
    "\n",
    "# 提取年份\n",
    "years = dates.dt.year\n",
    "print(\"Years:\\n\", years)\n",
    "\n",
    "# 提取月份\n",
    "months = dates.dt.month\n",
    "print(\"\\nMonths:\\n\", months)\n",
    "\n",
    "# 提取星期几\n",
    "weekdays = dates.dt.dayofweek\n",
    "print(\"\\nWeekdays:\\n\", weekdays)"
   ]
  },
  {
   "cell_type": "markdown",
   "id": "1c902c51",
   "metadata": {},
   "source": [
    "# 4 日期计算（返回值为timedelta）"
   ]
  },
  {
   "cell_type": "code",
   "execution_count": 72,
   "id": "db662314",
   "metadata": {},
   "outputs": [
    {
     "name": "stdout",
     "output_type": "stream",
     "text": [
      "男友生日     364 days\n",
      "潇潇恋爱日   7083 days\n",
      "男友复试日   8568 days\n",
      "订婚日     8613 days\n",
      "dtype: timedelta64[ns]\n"
     ]
    }
   ],
   "source": [
    "# 先导包\n",
    "import pandas as pd\n",
    "\n",
    "# 创建Pandas可识别的日期序列\n",
    "dates = pd.Series([\"2001-10-14\", \"2020-3-7\", \"2024/3/31\", \"2024-5-15\"], index=[\"男友生日\", \"潇潇恋爱日\", \"男友复试日\", \"订婚日\"])\n",
    "\n",
    "# 转换日期数据类型\n",
    "dates = pd.to_datetime(dates)\n",
    "\n",
    "# 计算上述datetime对象与2000-10-15的时间间隔\n",
    "timedelta = dates - pd.to_datetime(\"2000-10-15\")\n",
    "print(timedelta)"
   ]
  },
  {
   "cell_type": "markdown",
   "id": "8c34169a",
   "metadata": {},
   "source": [
    "## 使用五-3方法，只显示日"
   ]
  },
  {
   "cell_type": "code",
   "execution_count": 73,
   "id": "5efe87ea",
   "metadata": {},
   "outputs": [
    {
     "name": "stdout",
     "output_type": "stream",
     "text": [
      "男友生日      364\n",
      "潇潇恋爱日    7083\n",
      "男友复试日    8568\n",
      "订婚日      8613\n",
      "dtype: int64\n"
     ]
    }
   ],
   "source": [
    "# 先导包\n",
    "import pandas as pd\n",
    "\n",
    "# 创建Pandas可识别的日期序列\n",
    "dates = pd.Series([\"2001-10-14\", \"2020-3-7\", \"2024/3/31\", \"2024-5-15\"], index=[\"男友生日\", \"潇潇恋爱日\", \"男友复试日\", \"订婚日\"])\n",
    "\n",
    "# 转换日期数据类型\n",
    "dates = pd.to_datetime(dates)\n",
    "\n",
    "# 计算上述datetime对象与2000-10-15的时间间隔\n",
    "timedelta = dates - pd.to_datetime(\"2000-10-15\")\n",
    "print(timedelta.dt.days)"
   ]
  },
  {
   "cell_type": "markdown",
   "id": "78997dca",
   "metadata": {},
   "source": [
    "# 5 pd.date_range方法（返回值为DatetimeIndex）"
   ]
  },
  {
   "cell_type": "raw",
   "id": "68d9874e",
   "metadata": {},
   "source": [
    "语法：pd.date_range(start=None, end=None, periods=None, freq='D')\n",
    "\n",
    "参数描述：\n",
    "start:    日期范围的起始日期（字符串或 datetime 对象）。\n",
    "end:      日期范围的结束日期（字符串或 datetime 对象）。\n",
    "periods:  生成的日期数量。如果指定了 start 和 end，则不能同时指定。\n",
    "freq:     生成日期的频率。\n",
    "常用的频率包括：\n",
    "'D'：天\n",
    "'B'：工作日\n",
    "'M'：月末\n",
    "'MS'：月初\n",
    "'Y'：年\n",
    "\n",
    "说明：上述参数只需要出现任意三个即可，四个都出现会报错！"
   ]
  },
  {
   "cell_type": "markdown",
   "id": "7b02b2ab",
   "metadata": {},
   "source": [
    "## 5.1 使用start、end、periods参数"
   ]
  },
  {
   "cell_type": "code",
   "execution_count": 74,
   "id": "53a6619e",
   "metadata": {},
   "outputs": [
    {
     "name": "stdout",
     "output_type": "stream",
     "text": [
      "DatetimeIndex(['2023-01-01 00:00:00', '2023-01-05 12:00:00',\n",
      "               '2023-01-10 00:00:00'],\n",
      "              dtype='datetime64[ns]', freq=None)\n"
     ]
    }
   ],
   "source": [
    "# 先导包\n",
    "import pandas as pd\n",
    "\n",
    "# 创建一个日期范围\n",
    "date_range = pd.date_range(start='2023-01-01', end='2023-01-10', periods=3)\n",
    "print(date_range)"
   ]
  },
  {
   "cell_type": "markdown",
   "id": "03657c91",
   "metadata": {},
   "source": [
    "## 5.2 使用start、end、freq参数"
   ]
  },
  {
   "cell_type": "code",
   "execution_count": 75,
   "id": "283fdaf5",
   "metadata": {},
   "outputs": [
    {
     "name": "stdout",
     "output_type": "stream",
     "text": [
      "DatetimeIndex(['2023-01-01', '2023-01-02', '2023-01-03', '2023-01-04',\n",
      "               '2023-01-05', '2023-01-06', '2023-01-07', '2023-01-08',\n",
      "               '2023-01-09', '2023-01-10'],\n",
      "              dtype='datetime64[ns]', freq='D')\n"
     ]
    }
   ],
   "source": [
    "# 先导包\n",
    "import pandas as pd\n",
    "\n",
    "# 创建一个日期范围\n",
    "date_range = pd.date_range(start='2023-01-01', end='2023-01-10', freq=\"D\")\n",
    "print(date_range)"
   ]
  }
 ],
 "metadata": {
  "kernelspec": {
   "display_name": "Python 3 (ipykernel)",
   "language": "python",
   "name": "python3"
  },
  "language_info": {
   "codemirror_mode": {
    "name": "ipython",
    "version": 3
   },
   "file_extension": ".py",
   "mimetype": "text/x-python",
   "name": "python",
   "nbconvert_exporter": "python",
   "pygments_lexer": "ipython3",
   "version": "3.10.9"
  }
 },
 "nbformat": 4,
 "nbformat_minor": 5
}

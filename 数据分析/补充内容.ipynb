{
 "cells": [
  {
   "cell_type": "markdown",
   "id": "6c2c4ee9",
   "metadata": {},
   "source": [
    "# 1 改变当前工作目录（os.chdir方法）"
   ]
  },
  {
   "cell_type": "raw",
   "id": "1e2e017f",
   "metadata": {},
   "source": [
    "# 导包\n",
    "import os\n",
    "\n",
    "# 方法介绍\n",
    "os.chdir 是 Python 中 os 模块的一个函数，用于改变当前工作目录。\n",
    "\n",
    "# 设置新的工作目录\n",
    "语法：os.chdir('/path/to/directory')\n",
    "\n",
    "说明:\n",
    "os.chdir(path) 接受一个路径字符串 path，将当前工作目录更改为指定的路径。\n",
    "更改当前工作目录后，所有相对路径的文件操作将基于新的工作目录。"
   ]
  },
  {
   "cell_type": "markdown",
   "id": "d02c8e5b",
   "metadata": {},
   "source": [
    "# 2 删掉numpy数组中的 行/列（np.delete方法）"
   ]
  },
  {
   "cell_type": "raw",
   "id": "9e46a785",
   "metadata": {},
   "source": [
    "语法：np.delete(array, axis=0)\n",
    "\n",
    "参数： axis=0表示删掉np数组中的行\n",
    "     axis=1表示删掉np数组中的列\n",
    "\n",
    "功能：可以删除指定索引的行"
   ]
  },
  {
   "cell_type": "code",
   "execution_count": 4,
   "id": "6be070ac",
   "metadata": {},
   "outputs": [
    {
     "name": "stdout",
     "output_type": "stream",
     "text": [
      "删掉第一行后的数组内容为：\n",
      "[[4 5 6]\n",
      " [7 8 9]]\n",
      "\n",
      "再删掉第一列后的数组内容为：\n",
      "[[5 6]\n",
      " [8 9]]\n"
     ]
    }
   ],
   "source": [
    "# 先导包\n",
    "import numpy as np\n",
    "\n",
    "# 创建一个示例数组\n",
    "array = np.array([[1, 2, 3],\n",
    "                  [4, 5, 6],\n",
    "                  [7, 8, 9]])\n",
    "\n",
    "# 删除第 1 行（索引为 0）\n",
    "new_array1 = np.delete(array, 0, axis=0)\n",
    "print(f\"删掉第一行后的数组内容为：\\n{new_array1}\\n\")\n",
    "\n",
    "# 再删除第 1 列（索引为 0）\n",
    "new_array2 = np.delete(new_array1, 0, axis=1)\n",
    "print(f\"再删掉第一列后的数组内容为：\\n{new_array2}\")"
   ]
  },
  {
   "cell_type": "markdown",
   "id": "b27411dd",
   "metadata": {},
   "source": [
    "## 3 np.nan方法"
   ]
  },
  {
   "cell_type": "raw",
   "id": "cf0e9b5b",
   "metadata": {},
   "source": [
    "语法：np.nan\n",
    "功能：创建一个NaN值"
   ]
  },
  {
   "cell_type": "markdown",
   "id": "b4210a04",
   "metadata": {},
   "source": [
    "# 4 round方法（np）"
   ]
  },
  {
   "cell_type": "raw",
   "id": "7ed49f4b",
   "metadata": {},
   "source": [
    "使用\n",
    ".round(1)\n",
    "可以保留小数点后一位"
   ]
  },
  {
   "cell_type": "code",
   "execution_count": null,
   "id": "91d46866",
   "metadata": {},
   "outputs": [],
   "source": []
  }
 ],
 "metadata": {
  "kernelspec": {
   "display_name": "Python 3 (ipykernel)",
   "language": "python",
   "name": "python3"
  },
  "language_info": {
   "codemirror_mode": {
    "name": "ipython",
    "version": 3
   },
   "file_extension": ".py",
   "mimetype": "text/x-python",
   "name": "python",
   "nbconvert_exporter": "python",
   "pygments_lexer": "ipython3",
   "version": "3.10.9"
  }
 },
 "nbformat": 4,
 "nbformat_minor": 5
}

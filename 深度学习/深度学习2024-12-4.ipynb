{
 "cells": [
  {
   "cell_type": "raw",
   "id": "ded4e34f-7ba9-4e7b-841b-4f9baa694d37",
   "metadata": {},
   "source": [
    "time.time() 函数在 Python 中用于获取自纪元（1970年1月1日00:00:00 UTC）以来的当前时间，以秒为单位。它返回一个浮点数，表示经过的秒数。"
   ]
  },
  {
   "cell_type": "code",
   "execution_count": 8,
   "id": "cb23685f-0e47-431d-be68-2cd535258097",
   "metadata": {},
   "outputs": [
    {
     "name": "stdout",
     "output_type": "stream",
     "text": [
      "自纪元以来的当前时间（单位：秒）： 1733295024.663643\n"
     ]
    }
   ],
   "source": [
    "import time\n",
    "\n",
    "# 获取当前时间\n",
    "current_time = time.time()\n",
    "\n",
    "print(\"自纪元以来的当前时间（单位：秒）：\", current_time)"
   ]
  },
  {
   "cell_type": "raw",
   "id": "14e375e0-c07e-42f6-b24f-6e1fb6420042",
   "metadata": {},
   "source": [
    "tic 和 toc 是用于计时的变量名，源自于许多编程语言和软件开发中的常用约定。下面是这两个名称的含义：\n",
    "1.tic：\n",
    "通常用于表示计时的开始。它是一个标记，用于记录开始时间。\n",
    "2.toc：\n",
    "通常用于表示计时的结束。它是一个标记，用于记录结束时间。"
   ]
  },
  {
   "cell_type": "code",
   "execution_count": 41,
   "id": "48ea3ad2-827d-41ef-a001-0079d48c16f6",
   "metadata": {},
   "outputs": [
    {
     "name": "stdout",
     "output_type": "stream",
     "text": [
      "创建的数组a内容为：\n",
      " [ 2 37]\n",
      "导包所用时间为：0.0 ms\n"
     ]
    }
   ],
   "source": [
    "# 先导包\n",
    "import time\n",
    "\n",
    "# 使用tic、toc记录代码运行所需时间\n",
    "tic = time.time()\n",
    "import numpy as np\n",
    "a = np.array([2, 37])\n",
    "print(\"创建的数组a内容为：\\n\" , a)\n",
    "toc = time.time()\n",
    "\n",
    "# 打印\n",
    "print(f\"导包所用时间为：{toc - tic} ms\")"
   ]
  },
  {
   "cell_type": "markdown",
   "id": "d7409242-e68f-44cc-9382-b6cbc321bdf7",
   "metadata": {},
   "source": [
    "### 1. 向量化举例"
   ]
  },
  {
   "cell_type": "code",
   "execution_count": 3,
   "id": "f11428bb-7b37-4790-ba50-c5ac31558ac1",
   "metadata": {},
   "outputs": [
    {
     "name": "stdout",
     "output_type": "stream",
     "text": [
      "24995.21570625711\n",
      "Vectorized version: 134.63211059570312 ms\n",
      "24995.215706257244\n",
      "For loop: 47.00517654418945 ms\n"
     ]
    }
   ],
   "source": [
    "import time\n",
    "import numpy as np\n",
    "\n",
    "# 生成两个包含 100000 个随机数的数组 a 和 b\n",
    "a = np.random.rand(100000)\n",
    "b = np.random.rand(100000)\n",
    "\n",
    "# 计算 c 为 a 和 b 的点积（逐元素相乘后求和）\n",
    "tic = time.time()  # 记录开始时间\n",
    "c = np.dot(a, b)   # 使用 NumPy 的点积函数\n",
    "toc = time.time()  # 记录结束时间\n",
    "\n",
    "# 打印点积结果和计算所用时间\n",
    "print(c)\n",
    "print(\"Vectorized version: \" + str(1000 * (toc - tic)) + \" ms\")\n",
    "\n",
    "# 使用循环手动计算 a 和 b 的逐元素乘积\n",
    "c = 0\n",
    "tic = time.time()  # 记录开始时间\n",
    "for i in range(100000):\n",
    "    c += a[i] * b[i]  # 逐元素相乘并累加\n",
    "toc = time.time()  # 记录结束时间\n",
    "\n",
    "# 打印逐元素计算结果和所用时间\n",
    "print(c)\n",
    "print(\"For loop: \" + str(1000 * (toc - tic)) + \" ms\")"
   ]
  },
  {
   "cell_type": "markdown",
   "id": "34eb444e-9a19-4880-bedd-1aa706d90bd5",
   "metadata": {},
   "source": [
    "### 2. 尽量使用内置函数而不是for循环"
   ]
  },
  {
   "cell_type": "code",
   "execution_count": 72,
   "id": "008a69fe-46d6-40d5-bf88-c7d9c74d3622",
   "metadata": {},
   "outputs": [
    {
     "name": "stdout",
     "output_type": "stream",
     "text": [
      "向量v的内容为：\n",
      "[17 13  5 33 11  9 32  6 24 16  1 33 26 35 20 32 24 11  8  3 32 24 25 37\n",
      "  9  5 11 35 32  6 16 24  7 32 29 36  4]\n",
      "向量u的内容为：[[2.90488497e+13]\n",
      " [2.71828183e+00]\n",
      " [1.20260428e+06]\n",
      " [7.38905610e+00]\n",
      " [4.42413392e+05]\n",
      " [1.95729609e+11]\n",
      " [4.85165195e+08]\n",
      " [1.78482301e+08]\n",
      " [4.85165195e+08]\n",
      " [1.31881573e+09]\n",
      " [4.42413392e+05]\n",
      " [5.32048241e+11]\n",
      " [7.89629602e+13]\n",
      " [5.32048241e+11]\n",
      " [4.42413392e+05]\n",
      " [2.98095799e+03]\n",
      " [9.74480345e+09]\n",
      " [1.09663316e+03]\n",
      " [4.03428793e+02]\n",
      " [3.26901737e+06]\n",
      " [1.58601345e+15]\n",
      " [2.98095799e+03]\n",
      " [5.83461743e+14]\n",
      " [1.48413159e+02]\n",
      " [5.83461743e+14]\n",
      " [9.74480345e+09]\n",
      " [6.56599691e+07]\n",
      " [5.98741417e+04]\n",
      " [7.89629602e+13]\n",
      " [3.93133430e+12]\n",
      " [8.88611052e+06]\n",
      " [1.58601345e+15]\n",
      " [1.06864746e+13]\n",
      " [4.31123155e+15]\n",
      " [7.89629602e+13]\n",
      " [5.98741417e+04]\n",
      " [2.14643580e+14]]\n",
      "使用np.exp方法，所用时间为：0.0009996891021728516ms\n"
     ]
    }
   ],
   "source": [
    "import numpy as np\n",
    "import time\n",
    "v = np.random.randint(low=1, high=38, size=(37, 1))\n",
    "print(f\"向量v的内容为：\\n{a}\")\n",
    "\n",
    "# 1.使用内置代码 np.exp\n",
    "tic = time.time()\n",
    "u = np.exp(v)\n",
    "print(f\"向量u的内容为：{u}\")\n",
    "toc = time.time()\n",
    "print(f\"使用np.exp方法，所用时间为：{toc - tic}ms\")"
   ]
  }
 ],
 "metadata": {
  "kernelspec": {
   "display_name": "Python 3 (ipykernel)",
   "language": "python",
   "name": "python3"
  },
  "language_info": {
   "codemirror_mode": {
    "name": "ipython",
    "version": 3
   },
   "file_extension": ".py",
   "mimetype": "text/x-python",
   "name": "python",
   "nbconvert_exporter": "python",
   "pygments_lexer": "ipython3",
   "version": "3.12.4"
  }
 },
 "nbformat": 4,
 "nbformat_minor": 5
}

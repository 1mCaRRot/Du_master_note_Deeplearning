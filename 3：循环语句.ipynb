{
 "cells": [
  {
   "cell_type": "code",
   "execution_count": 1,
   "id": "6692a00c",
   "metadata": {},
   "outputs": [
    {
     "name": "stdout",
     "output_type": "stream",
     "text": [
      "这是一段文字\n",
      "1\n",
      "这是一段文字\n",
      "2\n",
      "这是一段文字\n",
      "3\n",
      "这是一段文字\n",
      "4\n",
      "这是一段文字\n",
      "5\n",
      "这是一段文字\n",
      "1\n",
      "这是一段文字\n",
      "2\n",
      "这是一段文字\n",
      "3\n",
      "这是一段文字\n",
      "4\n",
      "这是一段文字\n",
      "5\n",
      "5\n",
      "这是一段文字\n",
      "这是一段文字\n",
      "这是一段文字\n",
      "这是一段文字\n",
      "这是一段文字\n",
      "5\n"
     ]
    }
   ],
   "source": [
    "# while语句的格式与if语句相同，区别就是：while语句表示循环，只要满足条件会一直进行，if只会进行一次，故而while语句需要记得加停止条件。\n",
    "\n",
    "i = 0\n",
    "while i < 5:\n",
    "    print(\"这是一段文字\")\n",
    "    i = i + 1   # 这里也可以写为 i += 1\n",
    "    print(i)\n",
    "\n",
    "# 下边的是if语句：\n",
    "i = 0\n",
    "if i < 5:\n",
    "    print(\"这是一段文字\")\n",
    "    i = i + 1\n",
    "print(i)\n",
    "if i < 5:\n",
    "    print(\"这是一段文字\")\n",
    "    i = i + 1\n",
    "print(i)\n",
    "if i < 5:\n",
    "    print(\"这是一段文字\")\n",
    "    i = i + 1\n",
    "print(i)\n",
    "if i < 5:\n",
    "    print(\"这是一段文字\")\n",
    "    i = i + 1\n",
    "print(i)\n",
    "if i < 5:\n",
    "    print(\"这是一段文字\")\n",
    "    i = i + 1\n",
    "print(i)\n",
    "if i < 5:\n",
    "    print(\"这是一段文字\")\n",
    "    i = i + 1\n",
    "print(i)\n",
    "# 这里输出会多一个5，因为最后i=5不满足if的条件了，所以不会执行print语句\n",
    "\n",
    "# 下边是print语句在外面的情形\n",
    "i = 0\n",
    "while i < 5:\n",
    "    print(\"这是一段文字\")\n",
    "    i = i + 1\n",
    "print(i)"
   ]
  },
  {
   "cell_type": "code",
   "execution_count": 2,
   "id": "4bb61b1d",
   "metadata": {},
   "outputs": [
    {
     "name": "stdout",
     "output_type": "stream",
     "text": [
      "这是第1段文字\n",
      "这是第2段文字\n",
      "这是第3段文字\n",
      "这是第4段文字\n",
      "这是第5段文字\n",
      "这是第1段文字\n",
      "这是第2段文字\n",
      "这是第3段文字\n",
      "这是第4段文字\n",
      "这是第5段文字\n"
     ]
    }
   ],
   "source": [
    "# 改良代码\n",
    "i = 1\n",
    "while i < 6:\n",
    "    print(f\"这是第{i}段文字\")\n",
    "    i = i + 1\n",
    "# 或者\n",
    "i = 1\n",
    "while i < 6:\n",
    "    print(\"这是第%s段文字\" % i )\n",
    "    i = i + 1"
   ]
  },
  {
   "cell_type": "code",
   "execution_count": 3,
   "id": "1e802a42",
   "metadata": {},
   "outputs": [
    {
     "name": "stdout",
     "output_type": "stream",
     "text": [
      "从1一直累加到100的和是：5050\n"
     ]
    }
   ],
   "source": [
    "sum = 0\n",
    "i = 1\n",
    "while i<101:\n",
    "    sum += i\n",
    "    i += 1\n",
    "print(f\"从1一直累加到100的和是：{sum}\")"
   ]
  },
  {
   "cell_type": "code",
   "execution_count": 4,
   "id": "4432e07d",
   "metadata": {},
   "outputs": [
    {
     "name": "stdout",
     "output_type": "stream",
     "text": [
      "请输入一个1-100的整数：50\n",
      "你猜大了\n",
      "请输入一个1-100的整数：30\n",
      "你猜大了\n",
      "请输入一个1-100的整数：15\n",
      "你猜小了\n",
      "请输入一个1-100的整数：24\n",
      "你猜小了\n",
      "请输入一个1-100的整数：28\n",
      "你猜大了\n",
      "请输入一个1-100的整数：26\n",
      "恭喜你答对了！\n",
      "你一共猜测了6次\n"
     ]
    }
   ],
   "source": [
    "\"\"\"猜数游戏(升级版)，要求如下：\n",
    "无限次机会，直到猜中为止\n",
    "每一次猜不中，会提醒数大还是数小\n",
    "猜到数字后，提示猜了几次 \"\"\"\n",
    "\n",
    "# 下两行的代码指的是给出1-100的随机整数num\n",
    "import random\n",
    "num = random.randint(1, 100)\n",
    "\n",
    "# 先定义一个标识符，使其等于布尔类型的True，再使用While语句：\n",
    "i = 0\n",
    "flag = True\n",
    "while flag:\n",
    "    guess_num = int(input(\"请输入一个1-100的整数：\"))\n",
    "    if guess_num == num:\n",
    "        print(\"恭喜你答对了！\")\n",
    "        i += 1\n",
    "        flag = False   # 这就是一个终止条件，定义这个flag是为了对 True 和 False 进行更改\n",
    "    elif guess_num > num:\n",
    "        print(\"你猜大了\")\n",
    "        i += 1\n",
    "    elif guess_num < num:\n",
    "        print(\"你猜小了\")\n",
    "        i += 1\n",
    "print(f\"你一共猜测了{i}次\")"
   ]
  },
  {
   "cell_type": "code",
   "execution_count": 5,
   "id": "7ddba1ef",
   "metadata": {},
   "outputs": [
    {
     "name": "stdout",
     "output_type": "stream",
     "text": [
      "请输入一个1-100的整数：40\n",
      "你猜小了\n",
      "请输入一个1-100的整数：60\n",
      "你猜小了\n",
      "请输入一个1-100的整数：80\n",
      "你猜小了\n",
      "请输入一个1-100的整数：90\n",
      "你猜大了\n",
      "请输入一个1-100的整数：84\n",
      "你猜小了\n",
      "请输入一个1-100的整数：86\n",
      "你猜小了\n",
      "请输入一个1-100的整数：88\n",
      "恭喜你答对了！\n",
      "你一共猜测了7次\n"
     ]
    }
   ],
   "source": [
    "# 猜数游戏优化版本（把i += 1 放在外面，即少了两行代码）\n",
    "# 下两行的代码指的是给出1-100的随机整数num\n",
    "import random\n",
    "num = random.randint(1, 100)\n",
    "\n",
    "# 先定义一个标识符，使其等于布尔类型的True，再使用While语句：\n",
    "i = 0\n",
    "flag = True\n",
    "while flag:\n",
    "    guess_num = int(input(\"请输入一个1-100的整数：\"))\n",
    "    i += 1\n",
    "    if guess_num == num:\n",
    "        print(\"恭喜你答对了！\")\n",
    "        flag = False   # 这就是一个终止条件，定义这个flag是为了对 True 和 False 进行更改\n",
    "    elif guess_num > num:\n",
    "        print(\"你猜大了\")\n",
    "    elif guess_num < num:\n",
    "        print(\"你猜小了\")\n",
    "print(f\"你一共猜测了{i}次\")"
   ]
  },
  {
   "cell_type": "code",
   "execution_count": 6,
   "id": "6578edbf",
   "metadata": {},
   "outputs": [
    {
     "name": "stdout",
     "output_type": "stream",
     "text": [
      "今天是学习Python的第1天\n",
      "已学习1分钟\n",
      "已学习2分钟\n",
      "已学习3分钟\n",
      "已学习4分钟\n",
      "已学习5分钟\n",
      "已学习6分钟\n",
      "已学习7分钟\n",
      "已学习8分钟\n",
      "已学习9分钟\n",
      "已学习10分钟\n",
      "已完成今天的学习！\n",
      "今天是学习Python的第2天\n",
      "已学习1分钟\n",
      "已学习2分钟\n",
      "已学习3分钟\n",
      "已学习4分钟\n",
      "已学习5分钟\n",
      "已学习6分钟\n",
      "已学习7分钟\n",
      "已学习8分钟\n",
      "已学习9分钟\n",
      "已学习10分钟\n",
      "已完成今天的学习！\n",
      "今天是学习Python的第3天\n",
      "已学习1分钟\n",
      "已学习2分钟\n",
      "已学习3分钟\n",
      "已学习4分钟\n",
      "已学习5分钟\n",
      "已学习6分钟\n",
      "已学习7分钟\n",
      "已学习8分钟\n",
      "已学习9分钟\n",
      "已学习10分钟\n",
      "已完成今天的学习！\n",
      "今天是学习Python的第4天\n",
      "已学习1分钟\n",
      "已学习2分钟\n",
      "已学习3分钟\n",
      "已学习4分钟\n",
      "已学习5分钟\n",
      "已学习6分钟\n",
      "已学习7分钟\n",
      "已学习8分钟\n",
      "已学习9分钟\n",
      "已学习10分钟\n",
      "已完成今天的学习！\n",
      "今天是学习Python的第5天\n",
      "已学习1分钟\n",
      "已学习2分钟\n",
      "已学习3分钟\n",
      "已学习4分钟\n",
      "已学习5分钟\n",
      "已学习6分钟\n",
      "已学习7分钟\n",
      "已学习8分钟\n",
      "已学习9分钟\n",
      "已学习10分钟\n",
      "已完成今天的学习！\n",
      "共计学习了5天。\n"
     ]
    }
   ],
   "source": [
    "i = 1\n",
    "while i <= 5:\n",
    "    print(f\"今天是学习Python的第{i}天\")\n",
    "    j = 1\n",
    "    while j <= 10:\n",
    "        print(f\"已学习{j}分钟\")\n",
    "        j += 1\n",
    "    print(\"已完成今天的学习！\")\n",
    "    i += 1\n",
    "print(f\"共计学习了{i - 1}天。\")"
   ]
  },
  {
   "cell_type": "code",
   "execution_count": 7,
   "id": "b2178b5a",
   "metadata": {},
   "outputs": [
    {
     "name": "stdout",
     "output_type": "stream",
     "text": [
      "今天是学习Python的第1天\n",
      "已学习1分钟\n",
      "已学习2分钟\n",
      "已学习3分钟\n",
      "已学习4分钟\n",
      "已学习5分钟\n",
      "今天是学习Python的第2天\n",
      "今天是学习Python的第3天\n",
      "今天是学习Python的第4天\n",
      "今天是学习Python的第5天\n",
      "已完成全部学习内容\n"
     ]
    }
   ],
   "source": [
    "# 错误示范\n",
    "i = 1\n",
    "j = 1\n",
    "while i <= 5 :\n",
    "    print(f\"今天是学习Python的第{i}天\")\n",
    "    i += 1\n",
    "    while j <= 5:\n",
    "        print(f\"已学习{j}分钟\")\n",
    "        j += 1\n",
    "print(\"已完成全部学习内容\")\n",
    "\n",
    "# 这里把 j = 1 放到了外面，会发现循环的时候内层 j = 5 保留到了外层循环，因此需要将 j = 1 定义到内层循环前。"
   ]
  },
  {
   "cell_type": "code",
   "execution_count": 8,
   "id": "6d37c33f",
   "metadata": {},
   "outputs": [
    {
     "name": "stdout",
     "output_type": "stream",
     "text": [
      "我\n",
      "是张三\n",
      "我是张三\n",
      "hello world\n",
      "hi world\n",
      "hello\tworld\n",
      "hi\tworld\n",
      "\n"
     ]
    }
   ],
   "source": [
    "# print语句输出会自动换行，用  end = ''  （即end = 空字符的形式）可以做到输出不换行，比如：\n",
    "print(\"我\")\n",
    "print(\"是张三\")\n",
    "\n",
    "print(\"我\", end = \"\")\n",
    "print(\"是张三\")\n",
    "\n",
    "# 制表符 \\t ，可以将多行字符串进行对齐，比如：\n",
    "print(\"hello world\")\n",
    "print(\"hi world\")\n",
    "# \\t代填上面的空格位置\n",
    "print(\"hello\\tworld\")\n",
    "print(\"hi\\tworld\")\n",
    "\n",
    "\n",
    "# print()  表示：输出一个换行\n",
    "print()"
   ]
  },
  {
   "cell_type": "code",
   "execution_count": 9,
   "id": "d2ee5560",
   "metadata": {},
   "outputs": [
    {
     "name": "stdout",
     "output_type": "stream",
     "text": [
      "1×1=1\t\n",
      "1×2=2\t2×2=4\t\n",
      "1×3=3\t2×3=6\t3×3=9\t\n",
      "1×4=4\t2×4=8\t3×4=12\t4×4=16\t\n",
      "1×5=5\t2×5=10\t3×5=15\t4×5=20\t5×5=25\t\n",
      "1×6=6\t2×6=12\t3×6=18\t4×6=24\t5×6=30\t6×6=36\t\n",
      "1×7=7\t2×7=14\t3×7=21\t4×7=28\t5×7=35\t6×7=42\t7×7=49\t\n",
      "1×8=8\t2×8=16\t3×8=24\t4×8=32\t5×8=40\t6×8=48\t7×8=56\t8×8=64\t\n",
      "1×9=9\t2×9=18\t3×9=27\t4×9=36\t5×9=45\t6×9=54\t7×9=63\t8×9=72\t9×9=81\t\n"
     ]
    }
   ],
   "source": [
    "i = 1\n",
    "while i <= 9:\n",
    "    \n",
    "    j = 1\n",
    "    while j <= i:\n",
    "        print(f\"{j}×{i}={i * j}\\t\", end='')  # 内层print语句不换行，因此有end = “”，为了对齐，添加了 \\t\n",
    "        j += 1\n",
    "        \n",
    "    i += 1\n",
    "    print() #这一行代码表示：输出一个换行"
   ]
  },
  {
   "cell_type": "code",
   "execution_count": 10,
   "id": "f641ea66",
   "metadata": {},
   "outputs": [
    {
     "name": "stdout",
     "output_type": "stream",
     "text": [
      "Q\n",
      "U\n",
      "S\n",
      "T\n"
     ]
    }
   ],
   "source": [
    "\"\"\" while 和 for 循环的区别：\n",
    "1：while循环的循环条件是自定义的，自行控制循环条件\n",
    "2：for循环是一种“轮询”机制，是对一批内容进行“逐个处理”\"\"\"\n",
    "\n",
    "# for循环语句为： for 临时变量 in 待处理数据集：（换行缩进4格）循环满足条件时执行的代码，如：\n",
    "\n",
    "name = \"QUST\"   #将name的内容挨个取出赋予x临时变量，就可以再循环体内对x进行处理。\n",
    "for x in name:\n",
    "    print(x)\n",
    "    \n",
    "# 可以看出，for循环是将字符串内容依次取出，所以也被称为遍历循环。\n",
    "# for循环无法定义循环条件，只能从被处理的数据集中，依次取出内容进行处理，从而在理论上，Python中的for循环无法构建无限循环。"
   ]
  },
  {
   "cell_type": "code",
   "execution_count": 11,
   "id": "93af3774",
   "metadata": {},
   "outputs": [
    {
     "name": "stdout",
     "output_type": "stream",
     "text": [
      "本句共有3个“e”\n"
     ]
    }
   ],
   "source": [
    "# 第一阶段-第四章-06-for循环的基础语法 课后练习题\n",
    "message = \"Knowledge is power.\"\n",
    "count = 0\n",
    "for x in message:\n",
    "    if x == \"e\":\n",
    "        count += 1\n",
    "print(f'本句共有{count}个“e”')"
   ]
  },
  {
   "cell_type": "code",
   "execution_count": 12,
   "id": "6d8b7f38",
   "metadata": {},
   "outputs": [
    {
     "name": "stdout",
     "output_type": "stream",
     "text": [
      "0\n",
      "1\n",
      "2\n",
      "3\n",
      "4\n"
     ]
    }
   ],
   "source": [
    "# for循环语法中的待处理数据集严格称为：序列类型\n",
    "# 序列类型指，其内容可以一个个依次取出的一种类型，包括：字符串，列表，元组等\n",
    "'''range语法有：\n",
    "1： range(num):表示从0开始，到num结束的数字序列（不包含num本身），如range(5)得到的就是[0,1,2,3,4]\n",
    "2： range(num1, num2)：获取一个从num1开始到num2结束的数字序列（不包含num2本身），如range(1,3)取得的就是[1,2]\n",
    "3： range(num1,num2,step)：step是数字之间的步长，如果没有step默认为1，可理解为等差数列中的d，如range(5,10,2)取得的数据就是[5,7,9]'''\n",
    "\n",
    "# range语法1 range(num)\n",
    "for x in range(5):\n",
    "    print(x)"
   ]
  },
  {
   "cell_type": "code",
   "execution_count": 13,
   "id": "a3571762",
   "metadata": {},
   "outputs": [
    {
     "name": "stdout",
     "output_type": "stream",
     "text": [
      "3\n",
      "4\n",
      "5\n",
      "6\n"
     ]
    }
   ],
   "source": [
    "# for循环语法中的待处理数据集严格称为：序列类型\n",
    "# 序列类型指，其内容可以一个个依次取出的一种类型，包括：字符串，列表，元组等\n",
    "'''range语法有：\n",
    "1： range(num):表示从0开始，到num结束的数字序列（不包含num本身），如range(5)得到的就是[0,1,2,3,4]\n",
    "2： range(num1, num2)：获取一个从num1开始到num2结束的数字序列（不包含num2本身），如range(1,3)取得的就是[1,2]\n",
    "3： range(num1,num2,step)：step是数字之间的步长，如果没有step默认为1，可理解为等差数列中的d，如range(5,10,2)取得的数据就是[5,7,9]'''\n",
    "\n",
    "# range语法2 range(num1, num2)\n",
    "for x in range(3,7):\n",
    "    print(x)"
   ]
  },
  {
   "cell_type": "code",
   "execution_count": 14,
   "id": "e182e359",
   "metadata": {},
   "outputs": [
    {
     "name": "stdout",
     "output_type": "stream",
     "text": [
      "3\n",
      "5\n"
     ]
    }
   ],
   "source": [
    "# for循环语法中的待处理数据集严格称为：序列类型\n",
    "# 序列类型指，其内容可以一个个依次取出的一种类型，包括：字符串，列表，元组等\n",
    "'''range语法有：\n",
    "1： range(num):表示从0开始，到num结束的数字序列（不包含num本身），如range(5)得到的就是[0,1,2,3,4]\n",
    "2： range(num1, num2)：获取一个从num1开始到num2结束的数字序列（不包含num2本身），如range(1,3)取得的就是[1,2]\n",
    "3： range(num1,num2,step)：step是数字之间的步长，如果没有step默认为1，可理解为等差数列中的d，如range(5,10,2)取得的数据就是[5,7,9]'''\n",
    "\n",
    "# range语法3 range(num1, num2, step)\n",
    "for x in range(3,7,2):\n",
    "    print(x)"
   ]
  },
  {
   "cell_type": "code",
   "execution_count": 15,
   "id": "d2c38b7f",
   "metadata": {},
   "outputs": [
    {
     "name": "stdout",
     "output_type": "stream",
     "text": [
      "从1到100范围（不包含100）内，有49个偶数\n"
     ]
    }
   ],
   "source": [
    "# 第一阶段-第四章-08-range语句 课后练习\n",
    "count = 0\n",
    "for x in range(1,100):\n",
    "    if x % 2 == 0:\n",
    "        count += 1\n",
    "print(f\"从1到100范围（不包含100）内，有{count}个偶数\")"
   ]
  },
  {
   "cell_type": "code",
   "execution_count": 16,
   "id": "dae60660",
   "metadata": {},
   "outputs": [
    {
     "name": "stdout",
     "output_type": "stream",
     "text": [
      "0\n",
      "1\n",
      "2\n",
      "3\n",
      "4\n",
      "4\n"
     ]
    }
   ],
   "source": [
    "# for循环的临时变量只应该在for循环的内部生效，在规范上是不允许在外面访问的，比如：\n",
    "for i in range(5):\n",
    "    print(i) #这时对临时变量i的访问在for循环内部\n",
    "\n",
    "print(i)   #这时对临时变量i的访问在for循环外部，尽管可以运行，但是不符合规范，不能这样使用。"
   ]
  },
  {
   "cell_type": "code",
   "execution_count": 17,
   "id": "8c16d366",
   "metadata": {},
   "outputs": [
    {
     "name": "stdout",
     "output_type": "stream",
     "text": [
      "0\n",
      "1\n",
      "2\n",
      "3\n",
      "4\n",
      "4\n"
     ]
    }
   ],
   "source": [
    "# 外部定义一个变量不会对for循环内的临时变量有影响，比如：\n",
    "i = 1\n",
    "for i in range(5):\n",
    "    print(i)\n",
    "print(i)  #尽管输出内容和上一个相同，但是这里的“4”是被for循环覆盖后的结果，因为前面定义了这个变量，所以在结构上没有问题，也符合规范"
   ]
  },
  {
   "cell_type": "code",
   "execution_count": 18,
   "id": "312f32ba",
   "metadata": {},
   "outputs": [
    {
     "name": "stdout",
     "output_type": "stream",
     "text": [
      "今天是学习Python的第1天\n",
      "已学习1分钟\n",
      "已学习2分钟\n",
      "已学习3分钟\n",
      "已完成今天的学习！\n",
      "今天是学习Python的第2天\n",
      "已学习1分钟\n",
      "已学习2分钟\n",
      "已学习3分钟\n",
      "已完成今天的学习！\n",
      "今天是学习Python的第3天\n",
      "已学习1分钟\n",
      "已学习2分钟\n",
      "已学习3分钟\n",
      "已完成今天的学习！\n",
      "共计学习了3天。\n",
      "今天是学习Python的第1天\n",
      "已学习1分钟\n",
      "已学习2分钟\n",
      "已学习3分钟\n",
      "已完成今天的学习！\n",
      "今天是学习Python的第2天\n",
      "已学习1分钟\n",
      "已学习2分钟\n",
      "已学习3分钟\n",
      "已完成今天的学习！\n",
      "今天是学习Python的第3天\n",
      "已学习1分钟\n",
      "已学习2分钟\n",
      "已学习3分钟\n",
      "已完成今天的学习！\n",
      "共计学习了3天\n"
     ]
    }
   ],
   "source": [
    "# while循环语句\n",
    "i = 1\n",
    "while i <= 3:\n",
    "    print(f\"今天是学习Python的第{i}天\")\n",
    "    j = 1\n",
    "    while j <= 3:\n",
    "        print(f\"已学习{j}分钟\")\n",
    "        j += 1\n",
    "    print(\"已完成今天的学习！\")\n",
    "    i += 1\n",
    "print(f\"共计学习了{i - 1}天。\")\n",
    "\n",
    "# for循环语句\n",
    "x = 37628   # 这里定义x是为了符合规范\n",
    "for x in range(1,4):\n",
    "    print(f\"今天是学习Python的第{x}天\")\n",
    "    for y in range(1,4):\n",
    "        print(f\"已学习{y}分钟\")\n",
    "    print(\"已完成今天的学习！\")\n",
    "print(f\"共计学习了{x}天\")"
   ]
  },
  {
   "cell_type": "code",
   "execution_count": 19,
   "id": "4fcf2c48",
   "metadata": {},
   "outputs": [
    {
     "name": "stdout",
     "output_type": "stream",
     "text": [
      "1*1=1\t\n",
      "1*2=2\t2*2=4\t\n",
      "1*3=3\t2*3=6\t3*3=9\t\n",
      "1*4=4\t2*4=8\t3*4=12\t4*4=16\t\n",
      "1*5=5\t2*5=10\t3*5=15\t4*5=20\t5*5=25\t\n",
      "1*6=6\t2*6=12\t3*6=18\t4*6=24\t5*6=30\t6*6=36\t\n",
      "1*7=7\t2*7=14\t3*7=21\t4*7=28\t5*7=35\t6*7=42\t7*7=49\t\n",
      "1*8=8\t2*8=16\t3*8=24\t4*8=32\t5*8=40\t6*8=48\t7*8=56\t8*8=64\t\n",
      "1*9=9\t2*9=18\t3*9=27\t4*9=36\t5*9=45\t6*9=54\t7*9=63\t8*9=72\t9*9=81\t\n"
     ]
    }
   ],
   "source": [
    "for x in range(1,10):\n",
    "    for y in range(1,10):\n",
    "        if y <= x :\n",
    "            print(f\"{y}*{x}={x * y}\\t\", end = \"\")\n",
    "    print()"
   ]
  },
  {
   "cell_type": "code",
   "execution_count": 20,
   "id": "9437f51e",
   "metadata": {},
   "outputs": [
    {
     "name": "stdout",
     "output_type": "stream",
     "text": [
      "语句一\n",
      "语句一\n",
      "语句一\n",
      "语句一\n",
      "语句二\n",
      "语句二\n",
      "语句四\n",
      "语句一\n",
      "语句二\n",
      "语句二\n",
      "语句四\n",
      "语句一\n",
      "语句二\n",
      "语句二\n",
      "语句四\n",
      "语句一\n",
      "语句一\n",
      "语句二\n",
      "语句四\n",
      "语句一\n",
      "语句二\n",
      "语句四\n"
     ]
    }
   ],
   "source": [
    "# continue 和 break 可以控制循环\n",
    "# continue用于： 中断 本次（！！！） 循环，直接进入下一次循环，比如：\n",
    "\n",
    "# 例子1\n",
    "for i in range(1,4):\n",
    "    print(\"语句一\")\n",
    "    continue\n",
    "    print(\"语句二\")\n",
    "# 此时输出内容均为语句一，因为continue表示中断循环，所以语句二不会被输出。\n",
    "\n",
    "# 例子2\n",
    "for i in range(1,4):\n",
    "    print(\"语句一\")\n",
    "    for j in range(1,3):\n",
    "        print(\"语句二\")\n",
    "        continue   #此处的continue只能作用于内层for循环，因此语句三不会被输出。\n",
    "        print(\"语句三\")\n",
    "    print(\"语句四\")\n",
    "   \n",
    "# break用于： for循环和while循环，中断 本（！！！） 循环，即直接结束循环语句的全部内容，如：\n",
    "\n",
    "# 例子3\n",
    "for x in range(1,4):\n",
    "    print(\"语句一\")\n",
    "    break   #这里遇到了break，相当于执行了一次语句一，直接被全部中止了。\n",
    "    print(\"语句二\")\n",
    "\n",
    "# 例子4\n",
    "for x in range(1,3):\n",
    "    print(\"语句一\")\n",
    "    for y in range(1,3):\n",
    "        print(\"语句二\")\n",
    "        break  # 这里只对内层循环有效，因此语句三不会输出，且语句二只有一次成功进行。\n",
    "        print(\"语句三\")\n",
    "    print(\"语句四\")\n",
    "    \n",
    "# 两者主要区别：continue表示“临时中断”，break表示“永久中断”。在while和for循环中，continue和break均一致"
   ]
  },
  {
   "cell_type": "code",
   "execution_count": 21,
   "id": "a7ad1efd",
   "metadata": {},
   "outputs": [
    {
     "name": "stdout",
     "output_type": "stream",
     "text": [
      "员工1,绩效分2,低于5，不发工资，下一位。\n",
      "向员工2发放工资1000元，账户余额还有9000元\n",
      "向员工3发放工资1000元，账户余额还有8000元\n",
      "向员工4发放工资1000元，账户余额还有7000元\n",
      "向员工5发放工资1000元，账户余额还有6000元\n",
      "向员工6发放工资1000元，账户余额还有5000元\n",
      "向员工7发放工资1000元，账户余额还有4000元\n",
      "向员工8发放工资1000元，账户余额还有3000元\n",
      "向员工9发放工资1000元，账户余额还有2000元\n",
      "员工10,绩效分1,低于5，不发工资，下一位。\n",
      "向员工11发放工资1000元，账户余额还有1000元\n",
      "向员工12发放工资1000元，账户余额还有0元\n",
      "工资已发完，下个月领取吧！\n"
     ]
    }
   ],
   "source": [
    "# 第一阶段-第四章-13-循环综合案例 练习案例\n",
    "company_save = 10000\n",
    "for i in range(1, 21):\n",
    "    \n",
    "    import random\n",
    "    num = random.randint(1, 10)\n",
    "# 上述定义的是绩效分\n",
    "\n",
    "    if num < 5:\n",
    "        print(f\"员工{i},绩效分{num},低于5，不发工资，下一位。\")\n",
    "    else:\n",
    "        company_save -= 1000\n",
    "        print(f\"向员工{i}发放工资1000元，账户余额还有{company_save}元\")\n",
    "        if company_save == 0:\n",
    "            print(\"工资已发完，下个月领取吧！\")\n",
    "            break  #这里的break结束的是外面的for循坏，可以直接终止。\n",
    "# 本代码是自创版本，没有用到continue代码，下面是出题人给的答案，可以参考。\n",
    "# 经过思考，此版本与出题人答案有差别，如果正好在第20个人发完工资，会弹出“工资已发完，下个月领取吧”这句话，但是出题人答案不会。"
   ]
  },
  {
   "cell_type": "code",
   "execution_count": 22,
   "id": "95327e77",
   "metadata": {},
   "outputs": [
    {
     "name": "stdout",
     "output_type": "stream",
     "text": [
      "员工1,绩效分2,低于5，不发工资，下一位。\n",
      "向员工2发放工资1000元，账户余额还有9000元\n",
      "员工3,绩效分1,低于5，不发工资，下一位。\n",
      "向员工4发放工资1000元，账户余额还有8000元\n",
      "向员工5发放工资1000元，账户余额还有7000元\n",
      "向员工6发放工资1000元，账户余额还有6000元\n",
      "员工7,绩效分1,低于5，不发工资，下一位。\n",
      "向员工8发放工资1000元，账户余额还有5000元\n",
      "员工9,绩效分4,低于5，不发工资，下一位。\n",
      "向员工10发放工资1000元，账户余额还有4000元\n",
      "向员工11发放工资1000元，账户余额还有3000元\n",
      "向员工12发放工资1000元，账户余额还有2000元\n",
      "向员工13发放工资1000元，账户余额还有1000元\n",
      "向员工14发放工资1000元，账户余额还有0元\n",
      "工资已发完，下个月领取吧！\n"
     ]
    }
   ],
   "source": [
    "# 第一阶段-第四章-13-循环综合案例 练习案例（出题人答案）\n",
    "company_save = 10000\n",
    "for i in range(1, 21):    \n",
    "    import random\n",
    "    num = random.randint(1, 10)\n",
    "# 上述定义的是绩效分\n",
    "    if num < 5:\n",
    "        print(f\"员工{i},绩效分{num},低于5，不发工资，下一位。\")\n",
    "        continue\n",
    "    if company_save >= 1000:\n",
    "        company_save -= 1000\n",
    "        print(f\"向员工{i}发放工资1000元，账户余额还有{company_save}元\")\n",
    "    else:\n",
    "        print(\"工资已发完，下个月领取吧！\")\n",
    "        break"
   ]
  }
 ],
 "metadata": {
  "kernelspec": {
   "display_name": "Python 3 (ipykernel)",
   "language": "python",
   "name": "python3"
  },
  "language_info": {
   "codemirror_mode": {
    "name": "ipython",
    "version": 3
   },
   "file_extension": ".py",
   "mimetype": "text/x-python",
   "name": "python",
   "nbconvert_exporter": "python",
   "pygments_lexer": "ipython3",
   "version": "3.10.9"
  }
 },
 "nbformat": 4,
 "nbformat_minor": 5
}

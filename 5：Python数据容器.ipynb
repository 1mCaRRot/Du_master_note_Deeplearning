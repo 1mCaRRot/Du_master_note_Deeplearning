{
 "cells": [
  {
   "cell_type": "code",
   "execution_count": 1,
   "id": "61e527a1",
   "metadata": {},
   "outputs": [
    {
     "name": "stdout",
     "output_type": "stream",
     "text": [
      "['37', '628', '515']\n",
      "<class 'list'>\n",
      "[37628, '字符串', True]\n",
      "<class 'list'>\n",
      "[[1, 2, 3], [4, 5, 6]]\n",
      "<class 'list'>\n",
      "[[1, 2, 3], [4, 5, 6]]\n",
      "<class 'list'>\n"
     ]
    }
   ],
   "source": [
    "# 列表（list）类型，是数据容器的一种\n",
    "\"\"\" # 基本语法：\n",
    "# 字面量\n",
    "[元素1, 元素2, 元素3, ...]\n",
    "# 定义变量\n",
    "变量名称 = [元素1, 元素2, 元素3, ...]\n",
    "# 定义空列表\n",
    "变量名称 = []\n",
    "变量名称 = list() \"\"\"\n",
    "num_list = [\"37\", \"628\", \"515\"]\n",
    "print(num_list)\n",
    "print(type(num_list))\n",
    "\n",
    "# 一个列表可以包含各种各样的数据类型，比如：\n",
    "my_list = [37628, \"字符串\", True]\n",
    "print(my_list)\n",
    "print(type(my_list))\n",
    "\n",
    "# 列表也可以进行嵌套，即列表内还有一个列表，比如：\n",
    "list = [[1,2,3], [4,5,6]]\n",
    "print(list)\n",
    "print(type(list))\n",
    "# 另一种表达方式\n",
    "list1 = [1, 2, 3]\n",
    "list2 = [4, 5, 6]\n",
    "list = [list1, list2]\n",
    "print(list)\n",
    "print(type(list))"
   ]
  },
  {
   "cell_type": "code",
   "execution_count": 2,
   "id": "1be8fbdd",
   "metadata": {},
   "outputs": [
    {
     "name": "stdout",
     "output_type": "stream",
     "text": [
      "37628\n",
      "字符串\n",
      "True\n",
      "True\n",
      "字符串\n",
      "37628\n",
      "6\n",
      "6\n",
      "6\n"
     ]
    }
   ],
   "source": [
    "# 列表中的每一个元素，都有其位置下标索引，从前往后，从0开始，依次递增，如：[1, 2, 3]中，“1”的下边索引为0\n",
    "name_list = [37628, \"字符串\", True]\n",
    "print(name_list[0])  # 结果：37628\n",
    "print(name_list[1])  # 结果：字符串\n",
    "print(name_list[2])  # 结果：True\n",
    "\n",
    "# 也可以从后往前，从 -1 开始，依次递减，如\n",
    "name_list = [37628, \"字符串\", True]\n",
    "print(name_list[-1])  # 结果：True\n",
    "print(name_list[-2])  # 结果：字符串\n",
    "print(name_list[-3])  # 结果：37628\n",
    "\n",
    "# 对于嵌套的列表，先取小列表，再按照元素在小列表位置取即可，如：\n",
    "list = [[1,2,3], [4,5,6]]\n",
    "print(list[1][2]) # 先取[4, 5, 6],再取 6\n",
    "print(list[-1][-1]) # 先取[4, 5, 6]，再取6\n",
    "\n",
    "# 同时，也可以正负混合使用，如：\n",
    "list = [[1,2,3], [4,5,6]]\n",
    "print(list[-1][2]) # 先取[4, 5, 6]，再取6"
   ]
  },
  {
   "cell_type": "code",
   "execution_count": 3,
   "id": "7833d0cf",
   "metadata": {},
   "outputs": [
    {
     "name": "stdout",
     "output_type": "stream",
     "text": [
      "布尔类型True在列表中的下标索引是2\n",
      "列表被修改元素值后结果为：[37515628, '字符串', True]\n",
      "列表插入元素后结果为：[37628, '插入的元素', '字符串', True]\n",
      "原列表追加元素5后，结果是：[1, 2, 3, 4, 5]\n",
      "列表在追加新的列表后结果为：[37628, '字符串', True, 1, 2, 3, 4]\n",
      "删除“字符串后，列表变成：”[37628, True]\n",
      "再取出“True”，列表变为：[37628]\n",
      "取出元素True后，列表变为：[37628]\n",
      "把第一个元素3删掉后，原列表变为：[3, 1, 2, 4, 2, 5]\n",
      "被清空列表后，列表为：[]\n",
      "列表中37628的数量为：2\n",
      "列表中37628的数量为：2\n",
      "列表共有3个元素\n",
      "列表共有3个元素\n"
     ]
    }
   ],
   "source": [
    "# 函数是一个封装的代码单元，可以提供特定功能\n",
    "# 在Python中，如果将函数定义为class（类）的成员，那么函数会称之为：方法\n",
    "# 方法和函数功能一样，有传入参数，有返回值，只是使用的格式不同,如：\n",
    "\"\"\"函数：\n",
    "def add(x, y):\n",
    "    return x + y\n",
    "方法：\n",
    "class Student:\n",
    "    def add(self, x, y):\n",
    "        return x + y  \"\"\"\n",
    "\"\"\"函数的使用:\n",
    "num = add(1, 2)\n",
    "\n",
    "方法的使用:\n",
    "student = Student()\n",
    "num = student.add(1, 2) \"\"\"\n",
    "# 列表的常用操作（方法）：查询某元素下标、修改特定下标索引对应元素、插入元素、追加元素、删除元素、清空列表、统计元素个数等\n",
    "\n",
    "# 查询某元素的下标：语法为： 列表.index(元素)  注：如果有多个，则返回值为第一个该元素对应的下标索引\n",
    "my_list = [37628, \"字符串\", True]\n",
    "index = my_list.index(True)\n",
    "print(f\"布尔类型True在列表中的下标索引是{index}\")  # 因为True在第三个位置，故对应下标索引为2\n",
    "\n",
    "# 修改特定下标索引对应元素： 语法： 列表[下标] = 值\n",
    "my_list = [37628, \"字符串\", True]\n",
    "my_list[0] = 37515628\n",
    "print(f\"列表被修改元素值后结果为：{my_list}\")\n",
    "\n",
    "# 插入元素： 语法： 列表.insert(下标, 插入元素)   注：这里的下标指的是插入元素后“插入元素”所在位置，如：\n",
    "my_list = [37628, \"字符串\", True]\n",
    "my_list.insert(1, \"插入的元素\")\n",
    "print(f\"列表插入元素后结果为：{my_list}\")\n",
    "\n",
    "# 追加元素： 语法： 列表.append(元素)   注：追加指的是将指定元素追加到列表的尾部\n",
    "num_list = [1, 2, 3, 4]\n",
    "num_list.append(5)\n",
    "print(f\"原列表追加元素5后，结果是：{num_list}\")\n",
    "\n",
    "# 追加 一批 元素： 语法： 列表.extend(其他数据容器)\n",
    "my_list = [37628, \"字符串\", True]\n",
    "num_list = [1, 2, 3, 4]\n",
    "my_list.extend(num_list)  #这里不能定义变量，因为extend返回值为 None\n",
    "print(f\"列表在追加新的列表后结果为：{my_list}\")\n",
    "\n",
    "# 删除/取出元素： 语法1：del 列表[下标]   语法2：列表.pop(下标)\n",
    "my_list = [37628, \"字符串\", True]\n",
    "del my_list[1]  # 删掉“字符串”\n",
    "print(f\"删除“字符串后，列表变成：”{my_list}\")\n",
    "my_list.pop(1)  # 删掉“True”\n",
    "print(f\"再取出“True”，列表变为：{my_list}\")\n",
    "# 这里应当注意，pop语法本质是通过返回值取出元素，故而可以用一个变量接收它，即：\n",
    "my_list = [37628,  True]\n",
    "element = my_list.pop(1)  # 删掉“True”\n",
    "print(f\"取出元素{element}后，列表变为：{my_list}\")\n",
    "\n",
    "# 删除某元素在列表中的第一个匹配项 语法：列表.remove(元素)\n",
    "numlist = [3, 3, 1, 2, 4, 2, 5]\n",
    "numlist.remove(3)\n",
    "print(f\"把第一个元素3删掉后，原列表变为：{numlist}\") # 把第一个“3”删掉，即为[3, 1, 2, 4, 2, 5]\n",
    "\n",
    "# 清空列表 语法：列表.clear()\n",
    "my_list = [37628, \"字符串\", True]\n",
    "my_list.clear()\n",
    "print(f\"被清空列表后，列表为：{my_list}\")\n",
    "\n",
    "# 统计某一元素的个数： 语法： 列表.count(元素)\n",
    "my_list = [37628, \"字符串\", True, 37628]\n",
    "count = my_list.count(37628)  # 这里的count方法有返回值，因此可以使用变量count接收\n",
    "print(f\"列表中37628的数量为：{count}\")\n",
    "# 另一种方法：不用变量接收\n",
    "my_list = [37628, \"字符串\", True, 37628]\n",
    "print(f\"列表中37628的数量为：{my_list.count(37628)}\")\n",
    "\n",
    "# 统计列表内有多少元素 语法：len(列表)\n",
    "my_list = [37628, \"字符串\", True]\n",
    "count = len(my_list) # 这里的len方法有返回值，因此可以使用变量count接收\n",
    "print(f\"列表共有{count}个元素\")\n",
    "# 另一种方法：不用变量接收\n",
    "my_list = [37628, \"字符串\", True]\n",
    "print(f\"列表共有{len(my_list)}个元素\")"
   ]
  },
  {
   "cell_type": "raw",
   "id": "f5f6e109",
   "metadata": {},
   "source": [
    "查询某元素的下标：语法为： 列表.index(元素)\n",
    "修改特定下标索引对应元素： 语法： 列表[下标] = 值\n",
    "插入元素： 语法： 列表.insert(下标, 插入元素)   注：这里的下标指的是插入元素后“插入元素”所在位置，如：\n",
    "追加元素： 语法： 列表.append(元素)   注：追加指的是将指定元素追加到列表的尾部\n",
    "追加 一批 元素： 语法： 列表.extend(其他数据容器)\n",
    "删除元素/取出元素： 语法1：del 列表[下标]   语法2：列表.pop(下标)\n",
    "删除某元素在列表中的第一个匹配项 语法：列表.remove(元素)\n",
    "清空列表 语法：列表.clear()\n",
    "统计某一元素的个数： 语法： 列表.count(元素)\n",
    "统计列表内有多少元素 语法：len(列表)"
   ]
  },
  {
   "cell_type": "code",
   "execution_count": 4,
   "id": "37738e28",
   "metadata": {},
   "outputs": [
    {
     "name": "stdout",
     "output_type": "stream",
     "text": [
      "age_list = [21, 25, 21, 23, 22, 20]\n",
      "追加一个数字31到列表的尾部后，列表变为：[21, 25, 21, 23, 22, 20, 31]\n",
      "追加一个新列表[29, 33, 30]到列表的尾部后，列表变为：[21, 25, 21, 23, 22, 20, 31, 29, 33, 30]\n",
      "取出第一个元素21后，列表变为：[25, 21, 23, 22, 20, 31, 29, 33, 30]\n",
      "取出最后一个元素30后，列表变为：[25, 21, 23, 22, 20, 31, 29, 33]\n",
      "元素31在列表中的下标索引为：5\n"
     ]
    }
   ],
   "source": [
    "# 第一阶段-第六章-04-列表的常用操作方法 练习案例\n",
    "age_list = [21, 25, 21, 23, 22, 20]\n",
    "print(f\"age_list = {age_list}\")\n",
    "\n",
    "age_list.append(31)\n",
    "print(f\"追加一个数字31到列表的尾部后，列表变为：{age_list}\")\n",
    "\n",
    "age_list2 = [29, 33, 30]\n",
    "age_list.extend(age_list2)\n",
    "print(f\"追加一个新列表[29, 33, 30]到列表的尾部后，列表变为：{age_list}\")\n",
    "\n",
    "The_first_element = age_list.pop(0)\n",
    "print(f\"取出第一个元素{The_first_element}后，列表变为：{age_list}\")\n",
    "\n",
    "The_final_element = age_list.pop(-1)\n",
    "print(f\"取出最后一个元素{The_final_element}后，列表变为：{age_list}\")\n",
    "\n",
    "index = age_list.index(31)\n",
    "print(f\"元素31在列表中的下标索引为：{index}\")"
   ]
  },
  {
   "cell_type": "code",
   "execution_count": 5,
   "id": "221b9885",
   "metadata": {},
   "outputs": [
    {
     "name": "stdout",
     "output_type": "stream",
     "text": [
      "列表的元素有：37628\n",
      "列表的元素有：字符串\n",
      "列表的元素有：True\n",
      "列表的元素有：37628\n",
      "列表的元素有：字符串\n",
      "列表的元素有：True\n",
      "列表的元素有：37628\n",
      "列表的元素有：字符串\n",
      "列表的元素有：True\n"
     ]
    }
   ],
   "source": [
    "my_list = [37628, \"字符串\", True]\n",
    "\n",
    "# 用while循环遍历列表：\n",
    "def list_while_func(list):\n",
    "    index = 0\n",
    "    while index < len(list):\n",
    "        element = list[index]\n",
    "        print(f\"列表的元素有：{element}\")\n",
    "        index += 1\n",
    "list_while_func(my_list)\n",
    "\n",
    "# 用for循环遍历列表：\n",
    "def list_for_func(list):\n",
    "    count = len(list)\n",
    "    for i in range(count):  # 这里用的是range语法。可从第一个开始，直到列表最后一个依次取出。\n",
    "        print(f\"列表的元素有：{list[i]}\")\n",
    "list_for_func(my_list)\n",
    "\n",
    "# 优雅版本：\n",
    "def list_for_func2(list):\n",
    "    for element in list:\n",
    "        print(f\"列表的元素有：{element}\")\n",
    "list_for_func2(my_list)"
   ]
  },
  {
   "cell_type": "code",
   "execution_count": 6,
   "id": "0b5a70b4",
   "metadata": {},
   "outputs": [
    {
     "name": "stdout",
     "output_type": "stream",
     "text": [
      "通过while循环，从列表：[1, 2, 3, 4, 5, 6, 7, 8, 9, 10]中取出偶数，组成新列表[2, 4, 6, 8, 10]\n",
      "通过for循环，从列表：[1, 2, 3, 4, 5, 6, 7, 8, 9, 10]中取出偶数，组成新列表[2, 4, 6, 8, 10]\n"
     ]
    }
   ],
   "source": [
    "# 第一阶段-第六章-06-列表的循环遍历 练习案例\n",
    "num_list = [1, 2, 3, 4, 5, 6, 7, 8, 9, 10]\n",
    "\n",
    "# 下面是while循环语句：\n",
    "def while_extract_even_numbers(input_list):\n",
    "    index = 0\n",
    "    result_list = []\n",
    "    while index < len(input_list):\n",
    "        if input_list[index] % 2 == 0:\n",
    "            result_list.append(input_list[index])\n",
    "        index += 1\n",
    "    print(f\"通过while循环，从列表：{input_list}中取出偶数，组成新列表{result_list}\")\n",
    "while_extract_even_numbers(num_list)\n",
    "\n",
    "# 下面是for循环语句：\n",
    "def for_extract_even_numbers(input_list):\n",
    "    result_list = []\n",
    "    for element in input_list:\n",
    "        if element % 2 == 0:\n",
    "            result_list.append(element)\n",
    "    print(f\"通过for循环，从列表：{input_list}中取出偶数，组成新列表{result_list}\")\n",
    "for_extract_even_numbers(num_list)"
   ]
  },
  {
   "cell_type": "code",
   "execution_count": 7,
   "id": "271b61ec",
   "metadata": {},
   "outputs": [
    {
     "name": "stdout",
     "output_type": "stream",
     "text": [
      "(37628, '字符串', True)的类型是：<class 'tuple'>，内容是：(37628, '字符串', True)\n",
      "()的类型是：<class 'tuple'>，内容是：()\n",
      "()的类型是：<class 'tuple'>，内容是：()\n",
      "37628的类型是：<class 'int'>，内容是：37628\n",
      "字符串的类型是：<class 'str'>，内容是：字符串\n",
      "(37628,)的类型是：<class 'tuple'>，内容是：(37628,)\n",
      "((1, 2, 3), (4, 5, 6))的类型是：<class 'tuple'>，内容是：((1, 2, 3), (4, 5, 6))\n",
      "((37628, '字符串', True), ((1, 2, 3), (4, 5, 6)))的类型是：<class 'tuple'>，内容是：((37628, '字符串', True), ((1, 2, 3), (4, 5, 6)))\n",
      "使用代码：tuple8[0][2] 取出的内容是：True\n"
     ]
    }
   ],
   "source": [
    "# 元组(tuple)和列表[list]类似，区别在于元组不可更改，语法：\n",
    "# 定义元组字面量：(元素1, 元素2, 元素3, ...... , 元素n)\n",
    "# 定义元组变量： 变量名称 = (元素1, 元素2, 元素3, ...... , 元素n) \n",
    "# 定义空元组： 变量名称 = () ,  或者： 变量名称 = tuple()\n",
    "\n",
    "# 定义元组变量\n",
    "tuple1 = (37628, \"字符串\", True)\n",
    "tuple2 = tuple()\n",
    "tuple3 = ()\n",
    "\n",
    "# 定义相关函数，减少重复代码书写\n",
    "def tuple_type(input_tuple):\n",
    "    print(f\"{input_tuple}的类型是：{type(input_tuple)}，内容是：{input_tuple}\")\n",
    "\n",
    "# 利用函数进行打印\n",
    "tuple_type(tuple1)\n",
    "tuple_type(tuple2)\n",
    "tuple_type(tuple3)\n",
    "\n",
    "# 若元组只有单个元素，则类型为元素的类型，为了使其类型变为元组，应当加逗号，如：\n",
    "tuple4 = (37628)\n",
    "tuple5 = (\"字符串\")\n",
    "tuple6 = (37628, )\n",
    "tuple_type(tuple4)\n",
    "tuple_type(tuple5)\n",
    "tuple_type(tuple6)\n",
    "\n",
    "# 元组也可以嵌套：\n",
    "tuple7 = ((1, 2, 3), (4, 5, 6))\n",
    "tuple_type(tuple7)\n",
    "tuple8 = (tuple1, tuple7)\n",
    "tuple_type(tuple8)\n",
    "\n",
    "# 下标索引和列表一致，如：\n",
    "tuple8[0][2]  # 取出的是tuple1的第3个元素，即 True\n",
    "print(f\"使用代码：tuple8[0][2] 取出的内容是：{tuple8[0][2]}\")"
   ]
  },
  {
   "cell_type": "code",
   "execution_count": 8,
   "id": "ff53056b",
   "metadata": {},
   "outputs": [
    {
     "name": "stdout",
     "output_type": "stream",
     "text": [
      "tuple1[0]取出的内容是：37628\n",
      "在元组tuple1中查找“True”的下标是：2\n",
      "在元组tuple2中，元素37628一共有2个\n",
      "元组tuple2中，一共有4个元素\n"
     ]
    }
   ],
   "source": [
    "# 元组不可修改，故而元组的方法比列表要少，主要为：index(), count(), len(元组)\n",
    "\n",
    "# 根据下标索引取出内容： 语法： 元组.[下标索引]\n",
    "tuple1 = (37628, \"字符串\", True)\n",
    "tuple1[0]  # 取出的是 37628\n",
    "print(f\"tuple1[0]取出的内容是：{tuple1[0]}\")\n",
    "\n",
    "# index查找方法： 语法： 元组.index(元素)  如：\n",
    "tuple1 = (37628, \"字符串\", True)\n",
    "index = tuple1.index(True)\n",
    "print(f\"在元组tuple1中查找“True”的下标是：{index}\")\n",
    "\n",
    "# count统计方法： 语法：元组.count(元素)   如：\n",
    "tuple2 = (37628, \"字符串\", True, 37628)\n",
    "count = tuple2.count(37628)\n",
    "print(f\"在元组tuple2中，元素37628一共有{count}个\")\n",
    "\n",
    "# len函数统计元组元素数量， 语法： len(元组)   如：\n",
    "tuple2 = (37628, \"字符串\", True, 37628)\n",
    "num = len(tuple2)\n",
    "print(f\"元组tuple2中，一共有{num}个元素\")"
   ]
  },
  {
   "cell_type": "code",
   "execution_count": 9,
   "id": "cb347532",
   "metadata": {},
   "outputs": [
    {
     "name": "stdout",
     "output_type": "stream",
     "text": [
      "元组的元素有：37628\n",
      "元组的元素有：字符串\n",
      "元组的元素有：True\n",
      "元组的元素有：37628\n",
      "元组的元素有：字符串\n",
      "元组的元素有：True\n"
     ]
    }
   ],
   "source": [
    "# 元组的遍历\n",
    "tuple1 = (37628, \"字符串\", True)\n",
    "\n",
    "# while循环语句：\n",
    "def while_loop_over_tuple(input_tuple):\n",
    "    index = 0\n",
    "    while index < len(input_tuple):\n",
    "        print(f\"元组的元素有：{input_tuple[index]}\")\n",
    "        index += 1\n",
    "while_loop_over_tuple(tuple1)\n",
    "\n",
    "# for循环语句：\n",
    "def for_loop_over_tuple(input_tuple):\n",
    "    for element in input_tuple:\n",
    "        print(f\"元组的元素有：{element}\")\n",
    "for_loop_over_tuple(tuple1)"
   ]
  },
  {
   "cell_type": "code",
   "execution_count": 10,
   "id": "8c217ee2",
   "metadata": {},
   "outputs": [
    {
     "name": "stdout",
     "output_type": "stream",
     "text": [
      "修改后的结果是(37628, '字符串', [515, '山东'])\n"
     ]
    }
   ],
   "source": [
    "# 元组内可以嵌套列表，虽然元组内容不可修改，但是元组内的list内容可以进行修改，比如：\n",
    "tuple_example = (37628, \"字符串\", [515, \"中国\"])\n",
    "tuple_example[2][1] = \"山东\"\n",
    "print(f\"修改后的结果是{tuple_example}\")"
   ]
  },
  {
   "cell_type": "code",
   "execution_count": 11,
   "id": "f5d5a370",
   "metadata": {},
   "outputs": [
    {
     "name": "stdout",
     "output_type": "stream",
     "text": [
      "年龄所在的下标位置是1\n",
      "学生的姓名为：张三\n",
      "修改后的元组为：('张三', 37, ['音乐'])\n",
      "增加“编程”后的元组为：('张三', 37, ['音乐', '编程'])\n"
     ]
    }
   ],
   "source": [
    "# 第一阶段-第六章-07-元组的定义和操作 练习案例\n",
    "tuple_practice = (\"张三\", 37, [\"篮球\", \"音乐\"])\n",
    "\n",
    "index = tuple_practice.index(37)\n",
    "print(f\"年龄所在的下标位置是{index}\")\n",
    "\n",
    "name = tuple_practice[0]\n",
    "print(f\"学生的姓名为：{name}\")\n",
    "\n",
    "del tuple_practice[2][0]\n",
    "print(f\"修改后的元组为：{tuple_practice}\")\n",
    "\n",
    "edit_list = tuple_practice[2]\n",
    "edit_list.append(\"编程\")\n",
    "print(f\"增加“编程”后的元组为：{tuple_practice}\")"
   ]
  },
  {
   "cell_type": "code",
   "execution_count": 12,
   "id": "e1bc8201",
   "metadata": {},
   "outputs": [
    {
     "name": "stdout",
     "output_type": "stream",
     "text": [
      "取字符串中下标索引为2的字符，得到的是3\n",
      "取字符串中下标索引为-1的字符，得到的是8\n"
     ]
    }
   ],
   "source": [
    "# 尽管字符串看起来不像数据容器，但是它就是数据容器，也有下标索引，如\"字符串\"的下标索引分别为0, 1, 2\n",
    "str_practice = \"数字37515628\"\n",
    "# 取3，对应下标索引为2，取8，对应的下标索引为-1，即：\n",
    "value = str_practice[2]\n",
    "value2 = str_practice[-1]\n",
    "print(f\"取字符串中下标索引为2的字符，得到的是{value}\")\n",
    "print(f\"取字符串中下标索引为-1的字符，得到的是{value2}\")\n",
    "\n",
    "# 字符串本质也是只读的，类似于元组，不可进行修改"
   ]
  },
  {
   "cell_type": "code",
   "execution_count": 13,
   "id": "fff5f136",
   "metadata": {},
   "outputs": [
    {
     "name": "stdout",
     "output_type": "stream",
     "text": [
      "“数”在字符串对应的下标索引为：0\n",
      "“3”在字符串对应的下标索引为：3\n",
      "“37515”在字符串对应的起始下标索引为：3\n"
     ]
    }
   ],
   "source": [
    "# 字符串的操作方法：\n",
    "# index方法： 语法： 字符串.index(元素)\n",
    "\"\"\"注意1：由于查询的是字符串，故而“元素”应该加双引号\n",
    "注意2：空格也算一个字符，因此也会占有一个下标索引\n",
    "注意3：如果输入的元素为多个字符，则会将这多个字符视作整体，继而给出整体的下标索引\"\"\"\n",
    "\n",
    "str_practice = \"数字 37515628\"\n",
    "index_数 = str_practice.index(\"数\")\n",
    "index_3 = str_practice.index(\"3\")\n",
    "index_37515 = str_practice.index(\"37515\")\n",
    "\n",
    "print(f\"“数”在字符串对应的下标索引为：{index_数}\")\n",
    "print(f\"“3”在字符串对应的下标索引为：{index_3}\")\n",
    "print(f\"“37515”在字符串对应的起始下标索引为：{index_37515}\")"
   ]
  },
  {
   "cell_type": "code",
   "execution_count": 14,
   "id": "79ea941e",
   "metadata": {},
   "outputs": [
    {
     "name": "stdout",
     "output_type": "stream",
     "text": [
      "将字符串中的“515”换成“628”后得到的新字符串为：数字37628\n",
      "将字符串按照空格进行切割后得到的新字符串为：['数字', '37', '515', '628']，类型是：<class 'list'>\n",
      "将字符串按照e进行切割后得到的新字符串为：['数字', '37', '515', '628']，类型是：<class 'list'>\n",
      "去掉前后空格，结果为：数字 37 515 628\n",
      "去掉前后对应字符，结果为：数字 37 515 62拆8\n",
      "去掉前后对应字符，结果为：数字 37 515 628\n",
      "“37”在字符串中出现了3次\n",
      "字符串的长度是13\n"
     ]
    }
   ],
   "source": [
    "# 字符串的替换 语法： 字符串.replace(字符串1, 字符串2)   将字符串1替换为字符串2，得到一个   ！新的！  字符串（新的！！）\n",
    "str_practice1 = \"数字37515\"\n",
    "new_str = str_practice1.replace(\"515\", \"628\")  #用new_str接收新的字符串\n",
    "print(f\"将字符串中的“515”换成“628”后得到的新字符串为：{new_str}\")\n",
    "\n",
    "# 字符串的分割 语法： 字符串.split(分隔符字符串)  功能：将字符串划分为多个字符串，并放到一个新的列表中\n",
    "str_practice2 = \"数字 37 515 628\"\n",
    "new_list = str_practice2.split(\" \")\n",
    "print(f\"将字符串按照空格进行切割后得到的新字符串为：{new_list}，类型是：{type(new_list)}\")\n",
    "\n",
    "str_practice3 = \"数字e37e515e628\"\n",
    "new_list = str_practice3.split(\"e\")\n",
    "print(f\"将字符串按照e进行切割后得到的新字符串为：{new_list}，类型是：{type(new_list)}\")\n",
    "\n",
    "# 字符串的规整操作（去前后空格）： 语法： 字符串.strip()      如：\n",
    "str_practice4 = \"          数字 37 515 628        \"\n",
    "print(f\"去掉前后空格，结果为：{str_practice4.strip()}\")\n",
    "\n",
    "# 字符串的规整操作（去前后特殊字符）：语法： 字符串.strip(\"待去除字符串\")   注：只能去掉前后特定字符，依次填入即可：\n",
    "str_practice5 = \"          拆数字 37 515 62拆8        \"\n",
    "print(f\"去掉前后对应字符，结果为：{str_practice5.strip(' 拆')}\") #只能去除首尾对应的特定字符，这里是 ： 空格+拆\n",
    "\n",
    "str_practice6 = \"123数字 37 515 628312\"\n",
    "print(f\"去掉前后对应字符，结果为：{str_practice6.strip('123')}\") #只能去除首尾对应的特定字符，无需在意顺序，这里是 ： 1、2、3\n",
    "\n",
    "# 统计字符串中某个字符串的出现次数  语法： 字符串.count(待统计字符串)\n",
    "str_practice7 = \"数字 37 51 37 53 672378\"\n",
    "count = str_practice7.count(\"37\")\n",
    "print(f\"“37”在字符串中出现了{count}次\")  #这里只统计连着在一起的“37”\n",
    "\n",
    "# 统计字符串的长度  语法： len(字符串)   如：\n",
    "str_practice8 = \"数字 37 515 628\"\n",
    "num = len(str_practice8)\n",
    "print(f\"字符串的长度是{num}\")"
   ]
  },
  {
   "cell_type": "code",
   "execution_count": 15,
   "id": "d928bb1b",
   "metadata": {},
   "outputs": [
    {
     "name": "stdout",
     "output_type": "stream",
     "text": [
      "字符串内有1个“37”\n",
      "字符串内的空格全部替换为“分割”后的结果是：37515分割628分割天津高手\n",
      "字符串通过“分割”来进行分割，获得新的列表为：['37515', '628', '天津高手']\n"
     ]
    }
   ],
   "source": [
    "# 第一阶段-第六章-08-字符串的定义和操作 练习案例\n",
    "str_practice = \"37515 628 天津高手\"\n",
    "\n",
    "num = str_practice.count(\"37\")\n",
    "print(f\"字符串内有{num}个“37”\")\n",
    "\n",
    "new_str1 = str_practice.replace(\" \", \"分割\")\n",
    "print(f\"字符串内的空格全部替换为“分割”后的结果是：{new_str1}\")\n",
    "\n",
    "new_list = new_str1.split(\"分割\")\n",
    "print(f\"字符串通过“分割”来进行分割，获得新的列表为：{new_list}\")"
   ]
  },
  {
   "cell_type": "code",
   "execution_count": 16,
   "id": "7b4b4f5e",
   "metadata": {},
   "outputs": [
    {
     "name": "stdout",
     "output_type": "stream",
     "text": [
      "结果一为：[1, 2, 3]\n",
      "结果二为：[3, 2]\n",
      "结果三为：(1, 2, 3)\n",
      "结果四为：(6, 4, 2, 0)\n",
      "结果五为：123\n",
      "结果六为：76543210\n",
      "结果七为：53\n"
     ]
    }
   ],
   "source": [
    "# 序列是指：内容连续、有序，可使用下标索引的一类数据容器，列表、元组、字符串均可以视为序列\n",
    "# 序列支持切片（从一个序列中，取出一个子序列），即列表，元组，字符串均支持切片操作 语法为： 序列[起始下标:结束下标:步长]\n",
    "# 对序列的切片操作不会影响序列本身，只会得到一个新的序列\n",
    "list_practice1 = [0, 1, 2, 3, 4, 5, 6]\n",
    "result1 = list_practice1[1:4]\n",
    "print(f\"结果一为：{result1}\")\n",
    "\n",
    "list_practice2 = [0, 1, 2, 3, 4, 5, 6]\n",
    "result2 = list_practice2[3:1:-1]\n",
    "print(f\"结果二为：{result2}\")\n",
    "\n",
    "tuple_practice1 = (0, 1, 2, 3, 4, 5, 6)\n",
    "result3 = tuple_practice1[1:4]\n",
    "print(f\"结果三为：{result3}\")\n",
    "\n",
    "tuple_practice2 = (0, 1, 2, 3, 4, 5, 6)\n",
    "result4 = tuple_practice2[::-2]  # 这里如果起始下标和结束下标都没有，表示从头取到尾（包含头尾）\n",
    "print(f\"结果四为：{result4}\")    # 接上行注释，如果[::-2]改为[:0:-2]，则结果为(6, 4, 2)\n",
    "\n",
    "str_practice1 = \"0, 1, 2, 3, 4, 5, 6\"\n",
    "result5 = str_practice1[3:10:3]  # 这里结束下标也是不包括的，比如如果改成3:9:3就没有结果三中的3\n",
    "print(f\"结果五为：{result5}\")\n",
    "\n",
    "str_practice2 = \"01234567\"\n",
    "result6 = str_practice2[::-1]\n",
    "print(f\"结果六为：{result6}\")   # 如果步长是负数，就从后往前数\n",
    "\n",
    "str_practice3 = \"01234567\"\n",
    "result7 = str_practice3[5:1:-2]\n",
    "print(f\"结果七为：{result7}\")"
   ]
  },
  {
   "cell_type": "code",
   "execution_count": 17,
   "id": "5aea5b73",
   "metadata": {},
   "outputs": [
    {
     "name": "stdout",
     "output_type": "stream",
     "text": [
      "628\n",
      "62\n",
      "628\n"
     ]
    }
   ],
   "source": [
    "# 第一阶段-第六章-10-序列的切片 练习案例 取出628\n",
    "str_work = \"82651573\"\n",
    "result1 = str_work[2::-1]\n",
    "print(result1)\n",
    "\n",
    "# 注：如果括号内是2:0:-1，则取不到8，如：\n",
    "str_work = \"82651573\"\n",
    "result2 = str_work[2:0:-1]\n",
    "print(result2)   # 此例子和代码16的result4同理\n",
    "\n",
    "# 也可以先倒序，再取628\n",
    "str_work = \"82651573\"\n",
    "result3 = str_work[::-1][5::1]\n",
    "print(result3)"
   ]
  },
  {
   "cell_type": "code",
   "execution_count": 18,
   "id": "27f912ae",
   "metadata": {},
   "outputs": [
    {
     "name": "stdout",
     "output_type": "stream",
     "text": [
      "set_practice的内容为：{True, 515, 628, 37, '字符串'}；类型为<class 'set'>\n",
      "set_empty_practice的内容为set()；类型为<class 'set'>\n"
     ]
    }
   ],
   "source": [
    "'''集合的定义语法：\n",
    "方法一：{元素1, 元素2, 元素3, ...}\n",
    "方法二：变量名称 = {元素1, 元素2, 元素3, ...}\n",
    "空集合：变量名称 = set()\n",
    "集合的特点：不可重复，且内容无序'''\n",
    "\n",
    "set_practice = {37, 515, 628, 628, \"字符串\", True}\n",
    "set_empty_practice = set()\n",
    "print(f\"set_practice的内容为：{set_practice}；类型为{type(set_practice)}\")  # 不可重复、内容无序\n",
    "print(f\"set_empty_practice的内容为{set_empty_practice}；类型为{type(set_empty_practice)}\")"
   ]
  },
  {
   "cell_type": "code",
   "execution_count": 19,
   "id": "e733c131",
   "metadata": {},
   "outputs": [
    {
     "name": "stdout",
     "output_type": "stream",
     "text": [
      "添加元素515, 37628 后的集合变为{'字符串', True, 515, 37628}\n",
      "移除元素 37628 后的集合变为{'字符串', True}\n",
      "取出元素为字符串，原集合变为：{True, 37628}\n",
      "移除所有元素后的集合变为set()\n"
     ]
    }
   ],
   "source": [
    "# 集合的常用操作：由于集合无序，故不可使用index方法查询元素对应的下标索引，但是集合可修改\n",
    "\n",
    "# 添加新元素： 语法： 集合.add(元素)   注：这里的结果是将原集合进行修改，且一次只能添加一个元素，如：\n",
    "set_practice = {37628, \"字符串\", True}\n",
    "set_practice.add(515)\n",
    "set_practice.add(37628)  # 重复元素会自动被覆盖，不会在集合中存在同一元素\n",
    "print(f\"添加元素515, 37628 后的集合变为{set_practice}\")\n",
    "\n",
    "# 移除元素： 语法： 集合.remove(元素)   注：这里的结果是将原集合进行修改，如：\n",
    "set_practice = {37628, \"字符串\", True}\n",
    "set_practice.remove(37628)\n",
    "print(f\"移除元素 37628 后的集合变为{set_practice}\")\n",
    "\n",
    "# 从集合中 随机 取出元素： 语法： 集合.pop()  注：这里的结果是将原集合进行修改。这里和列表不同在没有下标索引，取出元素随机，如：\n",
    "set_practice = {37628, \"字符串\", True}\n",
    "倒霉蛋 = set_practice.pop()\n",
    "print(f\"取出元素为{倒霉蛋}，原集合变为：{set_practice}\")\n",
    "# 注：此语法学习过程中发现每次都是同一个元素，应该是存在内在规律的，但是目前未知（2021.6.20 - 1:19）\n",
    "\n",
    "# 清空集合： 语法： 集合.clear()  如：\n",
    "set_practice = {37628, \"字符串\", True}\n",
    "set_practice.clear()\n",
    "print(f\"移除所有元素后的集合变为{set_practice}\")\n",
    "\n",
    "# 可以发现，代码19里面所有操作均改变原集合"
   ]
  },
  {
   "cell_type": "code",
   "execution_count": 20,
   "id": "4130efda",
   "metadata": {},
   "outputs": [
    {
     "name": "stdout",
     "output_type": "stream",
     "text": [
      "set_1 和 set_2 的差集(集合1有，但集合2没有的元素集)为：{2}\n",
      "取差集后，set_1变为：{1, 2, 3}\n",
      "取差集后，set_2变为：{1, 3, 5}\n",
      "set_1消去 本身和set_2的交集后，改变后的set_1变为：{2}\n",
      "将set_1和set_2合并后，得到的新集合为：{1, 2, 3, 628, 37}\n",
      "集合{True, 515, 628, 37, '字符串'}中的元素个数为：5\n",
      "{True, 515, 628, 37, '字符串'}的元素有：True\n",
      "{True, 515, 628, 37, '字符串'}的元素有：515\n",
      "{True, 515, 628, 37, '字符串'}的元素有：628\n",
      "{True, 515, 628, 37, '字符串'}的元素有：37\n",
      "{True, 515, 628, 37, '字符串'}的元素有：字符串\n"
     ]
    }
   ],
   "source": [
    "# 集合的特殊操作（其他数据容器没有）\n",
    "\n",
    "# 取出两个集合的差集： 语法： 集合1.difference（集合2） 功能：取出集合1和集合2的差集，得到一个新集合（集合1有而集合2没有的），如：\n",
    "set_1 = {1, 2, 3}\n",
    "set_2 = {1, 3, 5}\n",
    "set_result = set_1.difference(set_2)\n",
    "print(f\"set_1 和 set_2 的差集(集合1有，但集合2没有的元素集)为：{set_result}\")\n",
    "print(f\"取差集后，set_1变为：{set_1}\")\n",
    "print(f\"取差集后，set_2变为：{set_2}\")  #这里set_1 和 set_2的元素不变\n",
    "\n",
    "# 消除两个集合的交集：语法：集合1.difference_update(集合2) 功能：消除“集合1”中 “集合1和集合2的交集”。最终集合1被改变，集合2不变，如：\n",
    "set_1 = {1, 2, 3}\n",
    "set_2 = {1, 3, 5}\n",
    "set_1.difference_update(set_2)\n",
    "print(f\"set_1消去 本身和set_2的交集后，改变后的set_1变为：{set_1}\") #这里set_1被改变，set_2不变\n",
    "# 本语法可理解为：将set_1更改为例1中的set_result\n",
    "# 注:这里原视频内容为:消除两个集合的差集,但是本人感觉视频表述有误,故进行了修改\n",
    "\n",
    "# 集合合并：语法： 集合1.union(集合2) 功能：将集合1和集合2合并成了新的集合，但是集合1和集合2不变\n",
    "set_1 = {1, 2, 3}\n",
    "set_2 = {1, 37, 628}\n",
    "set_3 = set_1.union(set_2)\n",
    "print(f\"将set_1和set_2合并后，得到的新集合为：{set_3}\") # 这里的set_1 ；set_2不变\n",
    "\n",
    "# 统计元素个数： 语法： len(集合) ，如：\n",
    "set_practice = {37, 515, 628, \"字符串\", True, 37} #重复元素会自动去除\n",
    "count = len(set_practice)\n",
    "print(f\"集合{set_practice}中的元素个数为：{count}\")\n",
    "\n",
    "# 集合的遍历：由于集合元素没有下标索引，故而不能用while循环进行遍历，但是可以使用for循环进行\n",
    "def for_loop_over_set(set_input):\n",
    "    for element in set_input:\n",
    "        print(f\"{set_input}的元素有：{element}\")\n",
    "set_practice = {37, 515, 628, \"字符串\", True, 37}\n",
    "for_loop_over_set(set_practice)"
   ]
  },
  {
   "cell_type": "code",
   "execution_count": 21,
   "id": "6caf4365",
   "metadata": {},
   "outputs": [
    {
     "name": "stdout",
     "output_type": "stream",
     "text": [
      "my_list中的元素有：37\n",
      "my_list中的元素有：37\n",
      "my_list中的元素有：37\n",
      "my_list中的元素有：628\n",
      "my_list中的元素有：628\n",
      "my_list中的元素有：628\n",
      "my_list中的元素有：515\n",
      "最终的集合为：{515, 628, 37}\n"
     ]
    }
   ],
   "source": [
    "# 第一阶段-第六章-12-集合的定义和操作 课后案例\n",
    "my_list = [37, 37, 37, 628, 628, 628, 515]\n",
    "\n",
    "set_practice = set()\n",
    "\n",
    "for element in my_list:\n",
    "    print(f\"my_list中的元素有：{element}\")\n",
    "    set_practice.add(element)\n",
    "print(f'最终的集合为：{set_practice}')"
   ]
  },
  {
   "cell_type": "code",
   "execution_count": 22,
   "id": "bad11502",
   "metadata": {},
   "outputs": [
    {
     "name": "stdout",
     "output_type": "stream",
     "text": [
      "练习字典一的内容为：{'相恋': 3.7, '相伴': 6.28, '订婚': 5.15}，其类型为<class 'dict'>\n",
      "空字典的内容为：{}，其类型为<class 'dict'>\n",
      "练习字典二的内容为：{'相恋': 3.7, '相伴': 6.28, '订婚': 5.15}，其类型为<class 'dict'>\n",
      "3.7\n",
      "博哥和冉妹相恋的日期为：3.7\n",
      "练习字典三中的“相恋”对应的value值 类型为<class 'str'>\n",
      "学生的考研成绩信息为：{'张三': {'政治': 1, '英语': 2, '数学': 3}, '李四': {'政治': 4, '英语': 5, '数学': 6}, '王五': {'政治': 7, '英语': 8, '数学': 9}}\n",
      "张三的政治成绩为：1分\n",
      "李四的英语成绩为：5分\n",
      "王五的数学成绩为：9分\n"
     ]
    }
   ],
   "source": [
    "'''字典的定义语法：\n",
    "定义字典字面量： {key1: value1, key2: value2, key3:value3, ...}\n",
    "定义字典变量：dictionary_practice = {key1: value1, key2: value2, key3:value3, ...}\n",
    "定义空字典： 方法一：  dictionary_empty = {}\n",
    "方法二： dictionary_empty = dict()'''\n",
    "# 上述key表示关键词，value表示关键词对应的含义， key: value 的结合称为：键值对\n",
    "dict_practice1 = {\"相恋\": 3.7, \"相伴\": 6.28, \"订婚\":5.15}\n",
    "dict_empty = dict()\n",
    "print(f\"练习字典一的内容为：{dict_practice1}，其类型为{type(dict_practice1)}\")\n",
    "print(f\"空字典的内容为：{dict_empty}，其类型为{type(dict_empty)}\")\n",
    "\n",
    "# 字典中的内容也不可重复，如：\n",
    "dict_practice2 = {\"相恋\": 3.7, \"相伴\": 6.28, \"订婚\":5.15,  \"订婚\":5.15}\n",
    "print(f\"练习字典二的内容为：{dict_practice2}，其类型为{type(dict_practice2)}\")\n",
    "\n",
    "# 字典可以通过key来取得value，语法为：字典[key]   如：\n",
    "dict_practice3 = {\"相恋\": '3.7', \"相伴\": '6.28', \"订婚\": '5.15'}\n",
    "print(dict_practice3['相恋'])\n",
    "print(f\"博哥和冉妹相恋的日期为：{dict_practice3['相恋']}\")\n",
    "\n",
    "# 字典中的key不可以为字典，value可以是任何数据类型，且字典可以进行嵌套\n",
    "print(f\"练习字典三中的“相恋”对应的value值 类型为{type(dict_practice3['相恋'])}\")\n",
    "# 嵌套案例：张三的政治英语数学分数分别为1 2 3，李四为4 5 6，王五为7 8 9，用字典嵌套为：\n",
    "dict_grade = {\"张三\": {\"政治\": 1, \"英语\": 2, \"数学\": 3}, \n",
    "              \"李四\":{\"政治\": 4, \"英语\": 5, \"数学\": 6}, \n",
    "              \"王五\": {\"政治\": 7, \"英语\": 8, \"数学\": 9}}\n",
    "print(f'学生的考研成绩信息为：{dict_grade}')\n",
    "# 注：下面是对嵌套字典的value查询，但是请注意双引号和单引号的交错使用，不然会报错！\n",
    "print(f\"张三的政治成绩为：{dict_grade['张三']['政治']}分\")\n",
    "print(f\"李四的英语成绩为：{dict_grade['李四']['英语']}分\")\n",
    "print(f\"王五的数学成绩为：{dict_grade['王五']['数学']}分\")"
   ]
  },
  {
   "cell_type": "code",
   "execution_count": 23,
   "id": "df15b9f3",
   "metadata": {},
   "outputs": [
    {
     "name": "stdout",
     "output_type": "stream",
     "text": [
      "更新元素后的dict_love变为：{'相爱': '三月七', '相伴': '六月二十八', '订婚': '五月十五'}\n",
      "更改错误元素五月十四后的dict_false_love变为：{'相爱': '三月七', '相伴': '六月二十八', '订婚': '五月十五'}\n",
      "删除元素六月二十八后的dict_love变为：{'相爱': '三月七'}\n",
      "清除所有元素后的dict_love变为：{}\n",
      "正确的爱情日期字典中包括的所有关键词为：dict_keys(['相爱', '相伴', '订婚'])\n",
      "正确的爱情日期字典中包括的所有关键词为：dict_keys(['相爱', '相伴', '订婚'])\n",
      "字典的key是：相爱\n",
      "其对应的value是：三月七\n",
      "字典的key是：相伴\n",
      "其对应的value是：六月二十八\n",
      "字典的key是：订婚\n",
      "其对应的value是：五月十五\n",
      "字典的key是：相爱\n",
      "其对应的value是：三月七\n",
      "字典的key是：相伴\n",
      "其对应的value是：六月二十八\n",
      "字典的key是：订婚\n",
      "其对应的value是：五月十五\n",
      "字典中的元素数量有：3个\n"
     ]
    }
   ],
   "source": [
    "# 字典的常用操作\n",
    "# 新增元素 语法： 字典[key] = value  结果：字典被修改，新增了元素\n",
    "dict_love = {\"相爱\": \"三月七\", \"相伴\": \"六月二十八\"}\n",
    "dict_love[\"订婚\"] = \"五月十五\"\n",
    "print(f\"更新元素后的dict_love变为：{dict_love}\")\n",
    "\n",
    "#更新元素 语法： 字典[key] = value  结果：字典被修改，元素被更新  注：由于key不可重复，故而新增同名key会将原本替代，因此可视为更新value值\n",
    "dict_false_love = {'相爱': '三月七', '相伴': '六月二十八', '订婚': '五月十四'}\n",
    "dict_false_love[\"订婚\"] = \"五月十五\"\n",
    "print(f\"更改错误元素五月十四后的dict_false_love变为：{dict_false_love}\")\n",
    "\n",
    "# 删除元素 语法：字典.pop(key)  结果：获取指定key的value，同时将原本的字典进行修改，指定key的数据被删除，如：\n",
    "dict_love = {\"相爱\": \"三月七\", \"相伴\": \"六月二十八\"}\n",
    "element = dict_love.pop(\"相伴\")  # element获取的是“相伴”的value，即“六月二十八”\n",
    "print(f\"删除元素{element}后的dict_love变为：{dict_love}\")\n",
    "\n",
    "# 清空元素  语法： 字典.clear()  结果：字典被修改；清空字典中所有的元素\n",
    "dict_love = {\"相爱\": \"三月七\", \"相伴\": \"六月二十八\"}\n",
    "dict_love.clear()\n",
    "print(f\"清除所有元素后的dict_love变为：{dict_love}\")\n",
    "\n",
    "# 获取全部的key 语法：字典.keys()  结果：得到字典中的全部key，可以用变量进行接收\n",
    "# 直接进行\n",
    "dict_True_lovedate = {'相爱': '三月七', '相伴': '六月二十八', '订婚': '五月十五'}\n",
    "print(f\"正确的爱情日期字典中包括的所有关键词为：{dict_True_lovedate.keys()}\")\n",
    "# 变量接收\n",
    "dict_True_lovedate = {'相爱': '三月七', '相伴': '六月二十八', '订婚': '五月十五'}\n",
    "keys = dict_True_lovedate.keys()\n",
    "print(f\"正确的爱情日期字典中包括的所有关键词为：{keys}\")\n",
    "\n",
    "# 字典的遍历\n",
    "# 方式一：通过获取全部key的代码 对key进行获取，继而可以用 for循环 和 语法：字典[key] 取得对应的value值\n",
    "dict_True_lovedate = {'相爱': '三月七', '相伴': '六月二十八', '订婚': '五月十五'}\n",
    "keys = dict_True_lovedate.keys()\n",
    "for key in keys:\n",
    "    print(f\"字典的key是：{key}\")\n",
    "    print(f\"其对应的value是：{dict_True_lovedate[key]}\")\n",
    "# 方式二：直接对字典进行遍历\n",
    "for element in dict_True_lovedate:\n",
    "    print(f\"字典的key是：{element}\")\n",
    "    print(f\"其对应的value是：{dict_True_lovedate[element]}\")\n",
    "\n",
    "# 统计字典内的元素数量 语法：len(字典)\n",
    "dict_True_lovedate = {'相爱': '三月七', '相伴': '六月二十八', '订婚': '五月十五'}\n",
    "count = len(dict_True_lovedate)\n",
    "print(f\"字典中的元素数量有：{count}个\") # 一个键值对 就是 一个元素"
   ]
  },
  {
   "cell_type": "code",
   "execution_count": 24,
   "id": "1a452ec4",
   "metadata": {},
   "outputs": [
    {
     "name": "stdout",
     "output_type": "stream",
     "text": [
      "全体员工当前信息为：{'王力宏': {'部门': '科技部', '工资': 3000, '级别': 1}, '周杰伦': {'部门': '市场部', '工资': 5000, '级别': 2}, '林俊杰': {'部门': '市场部', '工资': 7000, '级别': 3}, '张学友': {'部门': '科技部', '工资': 4000, '级别': 1}, '刘德华': {'部门': '市场部', '工资': 6000, '级别': 2}}\n",
      "全体级别为1的员工完成升职加薪操作后，员工信息为：{'王力宏': {'部门': '科技部', '工资': 4000, '级别': 2}, '周杰伦': {'部门': '市场部', '工资': 5000, '级别': 2}, '林俊杰': {'部门': '市场部', '工资': 7000, '级别': 3}, '张学友': {'部门': '科技部', '工资': 5000, '级别': 2}, '刘德华': {'部门': '市场部', '工资': 6000, '级别': 2}}\n"
     ]
    }
   ],
   "source": [
    "# 第一阶段-第六章-15-字典的常用操作 课后案例 （自主完成）\n",
    "dict_company = {\"王力宏\":{\"部门\": \"科技部\", \"工资\": 3000, \"级别\": 1},\n",
    "                \"周杰伦\":{\"部门\": \"市场部\", \"工资\": 5000, \"级别\": 2},\n",
    "                \"林俊杰\":{\"部门\": \"市场部\", \"工资\": 7000, \"级别\": 3},\n",
    "                \"张学友\":{\"部门\": \"科技部\", \"工资\": 4000, \"级别\": 1},\n",
    "                \"刘德华\":{\"部门\": \"市场部\", \"工资\": 6000, \"级别\": 2}  }\n",
    "print(f\"全体员工当前信息为：{dict_company}\")\n",
    "\n",
    "for name in dict_company:  #这里将五个名字依次进行\n",
    "    level = dict_company[name][\"级别\"]  # 定义level是为了在下边接收对于变量的更改\n",
    "    salary = dict_company[name][\"工资\"] # 定义salary是为了在下边接收对于变量的更改\n",
    "    if level == 1:\n",
    "        level += 1   # 这里也可以直接写level = 2，因为题目只说了对等级1进行升级\n",
    "        dict_company[name][\"级别\"] = level  #这里接收了level的更改\n",
    "        salary += 1000 \n",
    "        dict_company[name][\"工资\"] = salary #这里接收了salary的更改\n",
    "print(f\"全体级别为1的员工完成升职加薪操作后，员工信息为：{dict_company}\")"
   ]
  },
  {
   "cell_type": "code",
   "execution_count": 25,
   "id": "b685aa63",
   "metadata": {},
   "outputs": [
    {
     "name": "stdout",
     "output_type": "stream",
     "text": [
      "全体员工当前信息为：{'王力宏': {'部门': '科技部', '工资': 3000, '级别': 1}, '周杰伦': {'部门': '市场部', '工资': 5000, '级别': 2}, '林俊杰': {'部门': '市场部', '工资': 7000, '级别': 3}, '张学友': {'部门': '科技部', '工资': 4000, '级别': 1}, '刘德华': {'部门': '市场部', '工资': 6000, '级别': 2}}\n",
      "全体级别为1的员工完成升职加薪操作后，员工信息为：{'王力宏': {'部门': '科技部', '工资': 4000, '级别': 2}, '周杰伦': {'部门': '市场部', '工资': 5000, '级别': 2}, '林俊杰': {'部门': '市场部', '工资': 7000, '级别': 3}, '张学友': {'部门': '科技部', '工资': 5000, '级别': 2}, '刘德华': {'部门': '市场部', '工资': 6000, '级别': 2}}\n"
     ]
    }
   ],
   "source": [
    "# 优化版本：这里不再定义中间变量level salary，从而简化了代码\n",
    "dict_company = {\"王力宏\":{\"部门\": \"科技部\", \"工资\": 3000, \"级别\": 1},\n",
    "                \"周杰伦\":{\"部门\": \"市场部\", \"工资\": 5000, \"级别\": 2},\n",
    "                \"林俊杰\":{\"部门\": \"市场部\", \"工资\": 7000, \"级别\": 3},\n",
    "                \"张学友\":{\"部门\": \"科技部\", \"工资\": 4000, \"级别\": 1},\n",
    "                \"刘德华\":{\"部门\": \"市场部\", \"工资\": 6000, \"级别\": 2}  }\n",
    "print(f\"全体员工当前信息为：{dict_company}\")\n",
    "\n",
    "for name in dict_company:  #这里将五个名字依次进行\n",
    "    if dict_company[name][\"级别\"] == 1:\n",
    "        dict_company[name][\"级别\"] += 1\n",
    "        dict_company[name][\"工资\"] += 1000 \n",
    "print(f\"全体级别为1的员工完成升职加薪操作后，员工信息为：{dict_company}\")"
   ]
  },
  {
   "cell_type": "code",
   "execution_count": 26,
   "id": "e7ce35c1",
   "metadata": {},
   "outputs": [
    {
     "name": "stdout",
     "output_type": "stream",
     "text": [
      "字符串abd 大于 字符串abc，其结果为True\n",
      "字符串ab 大于 字符串a，其结果为True\n",
      "字符串a 大于 字符串A，其结果为True\n",
      "key2 大于 key1，其结果为True\n"
     ]
    }
   ],
   "source": [
    "# 字符串大小的比较使用的是ASCII表格，数字0-9对应48-57，A-Z对应65-90，a-z对应97-122\n",
    "# 比较方式为从前向后依次进行比较：即如果第一位相同则比较第二位，直到比较出结果，空内容视为最小，如：\n",
    "print(f\"字符串abd 大于 字符串abc，其结果为{'abd' > 'abc'}\")\n",
    "print(f\"字符串ab 大于 字符串a，其结果为{'ab' > 'a'}\")\n",
    "print(f\"字符串a 大于 字符串A，其结果为{'a' > 'A'}\")\n",
    "print(f\"key2 大于 key1，其结果为{'key2' > 'key1'}\")"
   ]
  },
  {
   "cell_type": "code",
   "execution_count": 27,
   "id": "af8ce027",
   "metadata": {},
   "outputs": [
    {
     "name": "stdout",
     "output_type": "stream",
     "text": [
      "列表   元素个数为：5\n",
      "元组   元素个数为:5\n",
      "字符串 元素个数为:5\n",
      "集合   元素个数为:5\n",
      "字典   元素个数为:5\n",
      "列表   最大元素为：5\n",
      "元组   最大元素为:5\n",
      "字符串 最大元素为:5\n",
      "集合   最大元素为:5\n",
      "字典   最大元素为:key5\n",
      "列表   最小元素为：1\n",
      "元组   最小元素为:1\n",
      "字符串 最小元素为:1\n",
      "集合   最小元素为:1\n",
      "字典   最小元素为:key1\n",
      "列表    转  列表  为：[1, 2, 3, 4, 5]\n",
      "元组    转  列表  为:[1, 2, 3, 4, 5]\n",
      "字符串  转  列表  为:['1', '2', '3', '4', '5']\n",
      "集合    转  列表  为:[1, 2, 3, 4, 5]\n",
      "字典    转  列表  为:['key1', 'key2', 'key3', 'key4', 'key5']\n",
      "列表    转  元组  为：(1, 2, 3, 4, 5)\n",
      "元组    转  元组  为:(1, 2, 3, 4, 5)\n",
      "字符串  转  元组  为:('1', '2', '3', '4', '5')\n",
      "集合    转  元组  为:(1, 2, 3, 4, 5)\n",
      "字典    转  元组  为:('key1', 'key2', 'key3', 'key4', 'key5')\n",
      "列表    转  字符串  为：[1, 2, 3, 4, 5]\n",
      "元组    转  字符串  为:(1, 2, 3, 4, 5)\n",
      "字符串  转  字符串  为:12345\n",
      "集合    转  字符串  为:{1, 2, 3, 4, 5}\n",
      "字典    转  字符串  为:{'key1': 1, 'key2': 2, 'key3': 3, 'key4': 4, 'key5': 5}\n",
      "列表    转  集合  为:{1, 2, 3, 4, 5}\n",
      "元组    转  集合  为:{1, 2, 3, 4, 5}\n",
      "字符串  转  集合  为:{'5', '4', '3', '1', '2'}\n",
      "集合    转  集合  为:{1, 2, 3, 4, 5}\n",
      "字典    转  集合  为:{'key4', 'key2', 'key5', 'key3', 'key1'}\n",
      "列表   对象的排序结果为：[1, 2, 3, 4, 5]\n",
      "元组   对象的排序结果为：[1, 2, 3, 4, 5]\n",
      "字符串 对象的排序结果为：['1', '2', '3', '4', '5']\n",
      "集合   对象的排序结果为：[1, 2, 3, 4, 5]\n",
      "字典   对象的排序结果为：['key1', 'key2', 'key3', 'key4', 'key5']\n",
      "列表   对象的排序结果为：[5, 4, 3, 2, 1]\n",
      "元组   对象的排序结果为：[5, 4, 3, 2, 1]\n",
      "字符串 对象的排序结果为：['5', '4', '3', '2', '1']\n",
      "集合   对象的排序结果为：[5, 4, 3, 2, 1]\n",
      "字典   对象的排序结果为：['key5', 'key4', 'key3', 'key2', 'key1']\n"
     ]
    }
   ],
   "source": [
    "# 数据容器的通用操作\n",
    "# 数据容器通用for循环\n",
    "\n",
    "my_list = [1, 2, 3, 4, 5]\n",
    "my_tuple = (1, 2, 3, 4, 5)\n",
    "my_str = \"12345\"\n",
    "my_set = {1, 2, 3, 4, 5}\n",
    "my_dict = {\"key1\": 1, \"key2\": 2, \"key3\": 3, \"key4\": 4, \"key5\": 5}\n",
    "\n",
    "# len(容器)  可以统计容器的元素个数\n",
    "print(f\"列表   元素个数为：{len(my_list)}\")\n",
    "print(f\"元组   元素个数为:{len(my_tuple)}\")\n",
    "print(f\"字符串 元素个数为:{len(my_str)}\")\n",
    "print(f\"集合   元素个数为:{len(my_set)}\")\n",
    "print(f\"字典   元素个数为:{len(my_dict)}\")\n",
    "\n",
    "# max(容器)  可以统计容器的最大元素（ASCII表对比）\n",
    "print(f\"列表   最大元素为：{max(my_list)}\")\n",
    "print(f\"元组   最大元素为:{max(my_tuple)}\")\n",
    "print(f\"字符串 最大元素为:{max(my_str)}\")\n",
    "print(f\"集合   最大元素为:{max(my_set)}\")\n",
    "print(f\"字典   最大元素为:{max(my_dict)}\")  # 字典中对比的是key值的大小\n",
    "\n",
    "# min(容器)  可以统计容器的最大元素\n",
    "print(f\"列表   最小元素为：{min(my_list)}\")\n",
    "print(f\"元组   最小元素为:{min(my_tuple)}\")\n",
    "print(f\"字符串 最小元素为:{min(my_str)}\")\n",
    "print(f\"集合   最小元素为:{min(my_set)}\")\n",
    "print(f\"字典   最小元素为:{min(my_dict)}\")  # 字典中对比的是key值的大小\n",
    "\n",
    "# 类型转换 \n",
    "# 转换为列表    语法：list(容器)\n",
    "print(f\"列表    转  列表  为：{list(my_list)}\")\n",
    "print(f\"元组    转  列表  为:{list(my_tuple)}\")\n",
    "print(f\"字符串  转  列表  为:{list(my_str)}\")   #字符串转换为一个个的字符\n",
    "print(f\"集合    转  列表  为:{list(my_set)}\")\n",
    "print(f\"字典    转  列表  为:{list(my_dict)}\")  # 字典只会转换key值\n",
    "\n",
    "# 转换为元组    语法：tuple(容器)\n",
    "print(f\"列表    转  元组  为：{tuple(my_list)}\")\n",
    "print(f\"元组    转  元组  为:{tuple(my_tuple)}\")\n",
    "print(f\"字符串  转  元组  为:{tuple(my_str)}\")   #字符串转换为一个个的字符\n",
    "print(f\"集合    转  元组  为:{tuple(my_set)}\")\n",
    "print(f\"字典    转  元组  为:{tuple(my_dict)}\")  # 字典只会转换key值\n",
    "\n",
    "# 转换为字符串  语法：str(容器)\n",
    "print(f\"列表    转  字符串  为：{str(my_list)}\")  # 本体为： \"[1, 2, 3, 4, 5]\"\n",
    "print(f\"元组    转  字符串  为:{str(my_tuple)}\")  # 本体为： \"(1, 2, 3, 4, 5)\"\n",
    "print(f\"字符串  转  字符串  为:{str(my_str)}\")    # 加双引号是本体\n",
    "print(f\"集合    转  字符串  为:{str(my_set)}\")    # 本体为： \"{1, 2, 3, 4, 5}\"\n",
    "print(f\"字典    转  字符串  为:{str(my_dict)}\")   # 本体为：\"{'key1': 1, 'key2': 2, 'key3': 3, 'key4': 4, 'key5': 5}\"\n",
    "\n",
    "# 转换为集合    语法：set(容器)\n",
    "print(f\"列表    转  集合  为:{set(my_list)}\")\n",
    "print(f\"元组    转  集合  为:{set(my_tuple)}\")\n",
    "print(f\"字符串  转  集合  为:{set(my_str)}\")   #字符串转换为一个个的字符\n",
    "print(f\"集合    转  集合  为:{set(my_set)}\")\n",
    "print(f\"字典    转  集合  为:{set(my_dict)}\")  # 字典只会转换key值\n",
    "\n",
    "# 由于字典类型的每个元素都是键值对，故而其他数据容器无法转换为字典，因为没有value值\n",
    "\n",
    "# 容器通用排序功能  语法： sorted(容器)   功能：对给定容器进行排序(从小到大)\n",
    "my_list = [3, 1, 2, 5, 4]\n",
    "my_tuple = (3, 2, 1, 4, 5)\n",
    "my_str = \"12435\"\n",
    "my_set = {1, 3, 2, 4, 5}\n",
    "my_dict = {\"key5\": 5, \"key1\": 1, \"key3\": 3, \"key4\": 4, \"key2\": 2}\n",
    "\n",
    "print(f\"列表   对象的排序结果为：{sorted(my_list)}\")\n",
    "print(f\"元组   对象的排序结果为：{sorted(my_tuple)}\")\n",
    "print(f\"字符串 对象的排序结果为：{sorted(my_str)}\")\n",
    "print(f\"集合   对象的排序结果为：{sorted(my_set)}\")\n",
    "print(f\"字典   对象的排序结果为：{sorted(my_dict)}\")\n",
    "\n",
    "# sorted(容器, reverse = True)  功能：对给定容器进行排序（从大到小）  因为reverse表示反转，给定其等于True就可以反转\n",
    "\n",
    "print(f\"列表   对象的排序结果为：{sorted(my_list, reverse = True)}\")\n",
    "print(f\"元组   对象的排序结果为：{sorted(my_tuple, reverse = True)}\")\n",
    "print(f\"字符串 对象的排序结果为：{sorted(my_str, reverse = True)}\")\n",
    "print(f\"集合   对象的排序结果为：{sorted(my_set, reverse = True)}\")\n",
    "print(f\"字典   对象的排序结果为：{sorted(my_dict, reverse = True)}\")"
   ]
  }
 ],
 "metadata": {
  "kernelspec": {
   "display_name": "Python 3 (ipykernel)",
   "language": "python",
   "name": "python3"
  },
  "language_info": {
   "codemirror_mode": {
    "name": "ipython",
    "version": 3
   },
   "file_extension": ".py",
   "mimetype": "text/x-python",
   "name": "python",
   "nbconvert_exporter": "python",
   "pygments_lexer": "ipython3",
   "version": "3.10.9"
  }
 },
 "nbformat": 4,
 "nbformat_minor": 5
}

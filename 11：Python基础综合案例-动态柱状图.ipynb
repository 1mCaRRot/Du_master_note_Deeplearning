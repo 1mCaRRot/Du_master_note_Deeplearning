{
 "cells": [
  {
   "cell_type": "raw",
   "id": "5afb8eb0",
   "metadata": {},
   "source": [
    "折线图、柱状图、地图都是把元素封存在列表中。不过折线图、柱状图的每个元素是字符串或者数值，而地图的每个元素是元组"
   ]
  },
  {
   "cell_type": "code",
   "execution_count": 1,
   "id": "636b3de1",
   "metadata": {},
   "outputs": [
    {
     "data": {
      "text/plain": [
       "'C:\\\\Users\\\\Lenovo\\\\Python学习文件\\\\第一阶段\\\\render.html'"
      ]
     },
     "execution_count": 1,
     "metadata": {},
     "output_type": "execute_result"
    }
   ],
   "source": [
    "# 导包\n",
    "from pyecharts.charts import Bar\n",
    "\n",
    "# 使用Bar构建基础柱状图\n",
    "bar = Bar()\n",
    "\n",
    "# 添加x轴数据(数据封存在列表中)\n",
    "bar.add_xaxis([\"中国\", \"美国\", \"英国\"])\n",
    "# 添加y轴数据（数据封存在列表中，且一一对应，左边是数据标签）\n",
    "bar.add_yaxis(\"GDP\", [30, 20, 10])\n",
    "\n",
    "# 绘图\n",
    "bar.render()"
   ]
  },
  {
   "cell_type": "code",
   "execution_count": 2,
   "id": "f4812057",
   "metadata": {},
   "outputs": [
    {
     "data": {
      "text/plain": [
       "'C:\\\\Users\\\\Lenovo\\\\Python学习文件\\\\第一阶段\\\\render.html'"
      ]
     },
     "execution_count": 2,
     "metadata": {},
     "output_type": "execute_result"
    }
   ],
   "source": [
    "# 导包\n",
    "from pyecharts.charts import Bar\n",
    "from pyecharts.options import LabelOpts\n",
    "\n",
    "# 使用Bar构建基础柱状图\n",
    "bar = Bar()\n",
    "\n",
    "# 添加x轴数据(数据封存在列表中)\n",
    "bar.add_xaxis([\"中国\", \"美国\", \"英国\"])\n",
    "\n",
    "# 添加y轴数据（数据封存在列表中，且一一对应，左边是数据名称）\n",
    "# 设置数值标签(本例中的10,20,30)在右边\n",
    "bar.add_yaxis(\"GDP\", [30, 20, 10], label_opts =LabelOpts(position = \"right\"))\n",
    "\n",
    "# 反转x轴和y轴\n",
    "bar.reversal_axis()\n",
    "\n",
    "# 绘图\n",
    "bar.render()"
   ]
  },
  {
   "cell_type": "code",
   "execution_count": 3,
   "id": "414b6078",
   "metadata": {},
   "outputs": [
    {
     "data": {
      "text/plain": [
       "'C:\\\\Users\\\\Lenovo\\\\Python学习文件\\\\第一阶段\\\\render.html'"
      ]
     },
     "execution_count": 3,
     "metadata": {},
     "output_type": "execute_result"
    }
   ],
   "source": [
    "# 导包\n",
    "from pyecharts.charts import Bar, Timeline\n",
    "from pyecharts.options import LabelOpts\n",
    "from pyecharts.globals import ThemeType\n",
    "\n",
    "# 创建柱状图\n",
    "bar1 = Bar()\n",
    "bar1.add_xaxis([\"中国\", \"美国\", \"英国\"])\n",
    "bar1.add_yaxis(\"GDP\", [1, 2, 3], label_opts = LabelOpts(position = \"right\"))\n",
    "bar1.reversal_axis()\n",
    "\n",
    "bar2 = Bar()\n",
    "bar2.add_xaxis([\"中国\", \"美国\", \"英国\"])\n",
    "bar2.add_yaxis(\"GDP\", [4, 5, 6], label_opts = LabelOpts(position = \"right\"))\n",
    "bar2.reversal_axis()\n",
    "\n",
    "bar3 = Bar()\n",
    "bar3.add_xaxis([\"中国\", \"美国\", \"英国\"])\n",
    "bar3.add_yaxis(\"GDP\", [7, 8, 9], label_opts = LabelOpts(position = \"right\"))\n",
    "bar3.reversal_axis()\n",
    "\n",
    "# 构建时间线对象（在括号内加入字典元素，调用ThemeType函数可以改变颜色）\n",
    "timeline = Timeline({\"theme\":ThemeType.LIGHT})\n",
    "\n",
    "# 在时间线中添加柱状图对象，添加后绘图就是用时间线绘图，而不是bar对象了\n",
    "timeline.add(bar1, \"点1\")\n",
    "timeline.add(bar2, \"点2\")\n",
    "timeline.add(bar3, \"点3\")\n",
    "\n",
    "# 自动播放设置\n",
    "timeline.add_schema(\n",
    "                    play_interval = 1000,        # 自动播放的时间间隔，单位毫秒(1s = 1000ms)\n",
    "                    is_timeline_show = True,    # 是否在自动播放的时候显示时间线\n",
    "                    is_auto_play = True,        # 是否自动播放\n",
    "                    is_loop_play = True,        # 是否循环播放\n",
    ")\n",
    "\n",
    "# 绘图\n",
    "timeline.render()"
   ]
  },
  {
   "cell_type": "code",
   "execution_count": 4,
   "id": "a653fce6",
   "metadata": {},
   "outputs": [
    {
     "name": "stdout",
     "output_type": "stream",
     "text": [
      "[['相爱', 628], ['订婚', 515], ['相恋', 37]]\n",
      "[['相恋', 37], ['订婚', 515], ['相爱', 628]]\n"
     ]
    }
   ],
   "source": [
    "# 列表的sort方法：用于自己指定排序规则的排序（sorted是按照ASCII表）  语法：列表.sort(key = 选择排序依据的函数， reverse = True/False)\n",
    "# 参数key，是要求传入一个函数，表示将列表中的每一个元素都传入函数中，返回排序的依据\n",
    "# 参数reverse，是否反转排序结果，True表示降序，False表示升序\n",
    "\n",
    "# 带名函数形式\n",
    "my_list = [[\"相恋\", 37], [\"相爱\", 628], [\"订婚\", 515]]\n",
    "def choose_sort_key(element):\n",
    "    return element[1]   # 这里表示返回值为传入列表内的元素（本例子指的是[\"相恋\", 37]这种） 的第二个（下标索引为1）\n",
    "my_list.sort(key = choose_sort_key, reverse = True)\n",
    "print(my_list)   # 结果是原列表被更改\n",
    "\n",
    "# 匿名lambda函数形式\n",
    "my_list = [[\"相恋\", 37], [\"相爱\", 628], [\"订婚\", 515]]\n",
    "my_list.sort(key = lambda element: element[1], reverse = False)\n",
    "print(my_list)"
   ]
  },
  {
   "cell_type": "code",
   "execution_count": 5,
   "id": "feae9a6c",
   "metadata": {},
   "outputs": [
    {
     "data": {
      "text/plain": [
       "'C:\\\\Users\\\\Lenovo\\\\Python学习文件\\\\第一阶段\\\\1960-2019全球GDP前8国家.html'"
      ]
     },
     "execution_count": 5,
     "metadata": {},
     "output_type": "execute_result"
    }
   ],
   "source": [
    "# 导包\n",
    "from pyecharts.charts import Bar, Timeline\n",
    "from pyecharts.options import LabelOpts, TitleOpts\n",
    "from pyecharts.globals import ThemeType\n",
    "\n",
    "# 读取文件并关闭，注：encoding = GB2312（简体中文）\n",
    "f = open(\"D:/☆ Mathmatics/研0/编程/☆Python/第一阶段/9：Python基础综合案例/可视化案例数据/动态柱状图数据/1960-2019全球GDP数据.csv\", \"r\", encoding = \"GB2312\")\n",
    "data_lines = f.readlines()\n",
    "f.close()\n",
    "\n",
    "# 删除第一行数据（对应列表的第一项，下标为0）\n",
    "del data_lines[0]   # 也可以用 data_lines.pop(0)\n",
    "\n",
    "# 将数据转换为字典存储，格式为：\n",
    "# {年份一：[[国家, GDP], [国家, GDP], ......], 年份二: [[国家, GDP], [国家, GDP], ......], ......}\n",
    "# {1960：[[美国, 123], [英国, 321], ......], 1961: [[美国, 1234], [英国, 4321], ......], ......}\n",
    "\n",
    "# 先定义字典对象\n",
    "data_dict = {}\n",
    "# 利用for循环进行封装\n",
    "for line in data_lines:\n",
    "    year = int(line.split(\",\")[0])  # 这里的line是字符串，故而可以用split语句进行分割，然后生成新列表,下标索引0表示年份，变换数据类型为int\n",
    "    country = line.split(\",\")[1]\n",
    "    gdp = float(line.split(\",\")[2]) # 这里的float可以将科学计数法 转换为 数字（浮点数）\n",
    "# 如果用年份做key值，对应的value为列表，但是若字典中不包含这个key会报错，故而使用try语句\n",
    "    try:\n",
    "        data_dict[year].append([country, gdp])\n",
    "    except:\n",
    "        data_dict[year] = []\n",
    "        data_dict[year].append([country, gdp])\n",
    "\n",
    "# 创建时间线对象\n",
    "timeline = Timeline({\"theme\":ThemeType.LIGHT})\n",
    "\n",
    "# 排序年份\n",
    "sorted_year_list = sorted(data_dict.keys())\n",
    "for year in sorted_year_list:\n",
    "    data_dict[year].sort(key = lambda element: element[1], reverse = True)\n",
    "    # 取出本年份前八名的国家\n",
    "    year_data = data_dict[year][: 8]\n",
    "    x_data = []\n",
    "    y_data = []\n",
    "    for country_gdp in year_data:\n",
    "        x_data.append(country_gdp[0])  # x轴添加国家\n",
    "        y_data.append(country_gdp[1] / 100000000)  # y轴添加GDP（除以一亿，单位就是亿了）\n",
    "    # 构建柱状图\n",
    "    bar = Bar()\n",
    "    x_data.reverse()\n",
    "    y_data.reverse()\n",
    "    bar.add_xaxis(x_data)\n",
    "    bar.add_yaxis(\"GDP(亿)\", y_data, label_opts = LabelOpts(position = \"right\"))\n",
    "    # 反转x轴和y轴\n",
    "    bar.reversal_axis()\n",
    "    # 设置每一年图表的标题\n",
    "    bar.set_global_opts(title_opts = TitleOpts(title = f\"{year}年全球前八GDP数据\"))\n",
    "    \n",
    "    timeline.add(bar, str(year))  # 因为这里要求输入字符串，所以把year转换成字符串\n",
    "    \n",
    "# 设置自动播放\n",
    "timeline.add_schema(\n",
    "                    play_interval = 1000,\n",
    "                    is_timeline_show = True,\n",
    "                    is_auto_play = True,\n",
    "                    is_loop_play = False\n",
    ")\n",
    "# 绘图\n",
    "timeline.render(\"1960-2019全球GDP前8国家.html\")"
   ]
  }
 ],
 "metadata": {
  "kernelspec": {
   "display_name": "Python 3 (ipykernel)",
   "language": "python",
   "name": "python3"
  },
  "language_info": {
   "codemirror_mode": {
    "name": "ipython",
    "version": 3
   },
   "file_extension": ".py",
   "mimetype": "text/x-python",
   "name": "python",
   "nbconvert_exporter": "python",
   "pygments_lexer": "ipython3",
   "version": "3.10.9"
  }
 },
 "nbformat": 4,
 "nbformat_minor": 5
}

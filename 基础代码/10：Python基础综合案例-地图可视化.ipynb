{
 "cells": [
  {
   "cell_type": "code",
   "execution_count": 1,
   "id": "2a63def6",
   "metadata": {},
   "outputs": [
    {
     "data": {
      "text/plain": [
       "'C:\\\\Users\\\\Lenovo\\\\Python学习文件\\\\第一阶段\\\\render.html'"
      ]
     },
     "execution_count": 1,
     "metadata": {},
     "output_type": "execute_result"
    }
   ],
   "source": [
    "# 导包\n",
    "from pyecharts.charts import Map\n",
    "from pyecharts.options import VisualMapOpts\n",
    "\n",
    "# 准备地图对象\n",
    "map = Map()\n",
    "\n",
    "# 准备数据(列表里的元素为元组)  \n",
    "data = [(\"北京市\", 1), (\"山东省\", 37), (\"天津市\", 22)]  # 注：这里是“北京市”而不是“北京”\n",
    "\n",
    "# 添加数据  语法： map.add(name, data, maptype)\n",
    "map.add(\"测试地图\", data, \"china\")\n",
    "\n",
    "# 设置全局选项\n",
    "map.set_global_opts(\n",
    "    visualmap_opts = VisualMapOpts(is_show = True,   # 这里是显示地区的颜色\n",
    "                                   is_piecewise = True, # 这里是自己指定 对应分段的颜色\n",
    "                                   pieces = [\n",
    "                                       {\"min\": 1, \"max\": 9, \"label\": \"1-9\", \"color\": \"#CCFFFF\"},\n",
    "                                       {\"min\": 10, \"max\": 30, \"label\": \"10-30\", \"color\": \"#FF6666\"},\n",
    "                                       {\"min\": 31, \"max\": 50, \"label\": \"31-50\", \"color\": \"#990033\"},\n",
    "                                   ]\n",
    "                                  )\n",
    ")\n",
    "\n",
    "# 生成地图（render括号内部内容为文件名称，如果不加内容，名称就是render.html）\n",
    "map.render()"
   ]
  },
  {
   "cell_type": "raw",
   "id": "cbd65bd2",
   "metadata": {},
   "source": [
    "各种颜色对应的代号可以在相关网站查询（rgb颜色对照表）"
   ]
  },
  {
   "cell_type": "code",
   "execution_count": 2,
   "id": "0c46e70c",
   "metadata": {},
   "outputs": [
    {
     "data": {
      "text/plain": [
       "'C:\\\\Users\\\\Lenovo\\\\Python学习文件\\\\第一阶段\\\\全国疫情地图.html'"
      ]
     },
     "execution_count": 2,
     "metadata": {},
     "output_type": "execute_result"
    }
   ],
   "source": [
    "# 导包\n",
    "import json\n",
    "from 博哥工具包.map import province  # 这个province的功能就是把“北京”改成“北京市”，“山东”改成“山东省”等等...\n",
    "\n",
    "# 打开文件，进行读取后关闭\n",
    "f = open(\"D:/☆ Mathmatics/研0/编程/☆Python/第一阶段/9：Python基础综合案例/可视化案例数据/地图数据/疫情.txt\", \"r\", encoding=\"UTF-8\")\n",
    "data = f.read()\n",
    "f.close()\n",
    "\n",
    "# 将字符串json转换为Python的字典\n",
    "data_dict = json.loads(data)\n",
    "\n",
    "# 从字典中取出省份的数据\n",
    "province_data_list = data_dict[\"areaTree\"][0][\"children\"]\n",
    "\n",
    "# 将每个省份和确诊人数封装成为元组，并将各省数据组成的元组封装到列表内\n",
    "data_list = list()\n",
    "for province_data in province_data_list:\n",
    "    province_name = province(province_data[\"name\"]) # 省份名称，这里把原本的省份改成Pyecharts的标准格式，例如：北京市\n",
    "    province_confirm = province_data[\"total\"][\"confirm\"]  # 确诊人数\n",
    "    data_list.append((province_name, province_confirm))   # 将元组添加到列表中\n",
    "\n",
    "# 绘图：先导包\n",
    "from pyecharts.charts import Map\n",
    "from pyecharts.options import *\n",
    "\n",
    "# 准备地图对象\n",
    "map = Map()\n",
    "\n",
    "# 添加数据\n",
    "map.add(\"各省份确诊人数\", data_list, \"china\")\n",
    "\n",
    "# 设置全局选项\n",
    "map.set_global_opts(\n",
    "    title_opts = TitleOpts(title = \"全国疫情地图\"),   # 这里是地图的标题\n",
    "    visualmap_opts = VisualMapOpts(is_show = True,   # 这里是显示地区的颜色\n",
    "                                   is_piecewise = True, # 这里是自己指定 对应分段的颜色\n",
    "                                   pieces = [\n",
    "                                       {\"min\": 1, \"max\": 99, \"label\": \"1-99人\", \"color\": \"#CCFFFF\"},\n",
    "                                       {\"min\": 100, \"max\": 999, \"label\": \"100-999人\", \"color\": \"#FFFF99\"},\n",
    "                                       {\"min\": 1000, \"max\": 4999, \"label\": \"1000-4999人\", \"color\": \"#FF9966\"},\n",
    "                                       {\"min\": 5000, \"max\": 9999, \"label\": \"5000-9999人\", \"color\": \"#FF6666\"},\n",
    "                                       {\"min\": 10000, \"max\": 99999, \"label\": \"10000-99999人\", \"color\": \"#CC3333\"},\n",
    "                                       {\"min\": 100000, \"label\": \"100000+\", \"color\": \"#990033\"},   # 这里没有max，表示最大没有限制\n",
    "                                   ]\n",
    "                                  )\n",
    ")\n",
    "\n",
    "# 生成地图\n",
    "map.render(\"全国疫情地图.html\")"
   ]
  },
  {
   "cell_type": "code",
   "execution_count": 3,
   "id": "49b86e64",
   "metadata": {},
   "outputs": [
    {
     "data": {
      "text/plain": [
       "'C:\\\\Users\\\\Lenovo\\\\Python学习文件\\\\第一阶段\\\\山东省疫情地图.html'"
      ]
     },
     "execution_count": 3,
     "metadata": {},
     "output_type": "execute_result"
    }
   ],
   "source": [
    "# 导包\n",
    "import json\n",
    "\n",
    "# 打开文件，进行读取后关闭\n",
    "f = open(\"D:/☆ Mathmatics/研0/编程/☆Python/第一阶段/9：Python基础综合案例/可视化案例数据/地图数据/疫情.txt\", \"r\", encoding=\"UTF-8\")\n",
    "data = f.read()\n",
    "f.close()\n",
    "\n",
    "# 将字符串json转换为Python的字典\n",
    "data_dict = json.loads(data)\n",
    "\n",
    "# 从字典中取出省份的数据\n",
    "province_data_list = data_dict[\"areaTree\"][0][\"children\"]\n",
    "\n",
    "# 从省份中取出山东省的各市数据\n",
    "city_data_list = data_dict[\"areaTree\"][0][\"children\"][11][\"children\"]\n",
    "\n",
    "# 将每个城市和确诊人数封装成为元组，并将各市数据组成的元组封装到列表内\n",
    "data_list = list()\n",
    "for city_data in city_data_list:\n",
    "    city_name = city_data[\"name\"] + \"市\"          # 城市名称\n",
    "    city_confirm = city_data[\"total\"][\"confirm\"]  # 确诊人数\n",
    "    data_list.append((city_name, city_confirm))   # 将元组添加到列表中\n",
    "    \n",
    "# 手动添加莱芜市和东营市的数据\n",
    "data_list.append((\"莱芜市\", 0))\n",
    "data_list.append((\"东营市\", 0))\n",
    "\n",
    "# 绘图：先导包\n",
    "from pyecharts.charts import Map\n",
    "from pyecharts.options import *\n",
    "\n",
    "# 准备地图对象\n",
    "map = Map()\n",
    "\n",
    "# 添加数据\n",
    "map.add(\"山东省确诊人数\", data_list, \"山东\")   # 这里用“山东省”不可以，但是用“山东”可以，唉唉唉\n",
    "\n",
    "# 设置全局选项\n",
    "map.set_global_opts(\n",
    "    title_opts = TitleOpts(title = \"山东省疫情地图\"),   # 这里是地图的标题\n",
    "    visualmap_opts = VisualMapOpts(is_show = True,   # 这里是显示地区的颜色\n",
    "                                   is_piecewise = True, # 这里是自己指定 对应分段的颜色\n",
    "                                   pieces = [\n",
    "                                       {\"min\": 0, \"max\": 50, \"label\": \"0-50人\", \"color\": \"#CCFFFF\"},\n",
    "                                       {\"min\": 51, \"max\": 199, \"label\": \"51-199人\", \"color\": \"#FFFF99\"},\n",
    "                                       {\"min\": 200, \"label\": \"200+人\", \"color\": \"#FF9966\"} ]\n",
    "                                  )\n",
    ")\n",
    "\n",
    "# 生成地图\n",
    "map.render(\"山东省疫情地图.html\")"
   ]
  }
 ],
 "metadata": {
  "kernelspec": {
   "display_name": "Python 3 (ipykernel)",
   "language": "python",
   "name": "python3"
  },
  "language_info": {
   "codemirror_mode": {
    "name": "ipython",
    "version": 3
   },
   "file_extension": ".py",
   "mimetype": "text/x-python",
   "name": "python",
   "nbconvert_exporter": "python",
   "pygments_lexer": "ipython3",
   "version": "3.10.9"
  }
 },
 "nbformat": 4,
 "nbformat_minor": 5
}

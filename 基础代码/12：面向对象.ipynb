{
 "cells": [
  {
   "cell_type": "code",
   "execution_count": 1,
   "id": "5130e91b",
   "metadata": {},
   "outputs": [
    {
     "name": "stdout",
     "output_type": "stream",
     "text": [
      "张三\n",
      "Tom\n"
     ]
    }
   ],
   "source": [
    "# 在程序中设计表格，称之为：设计类（class）\n",
    "class Student:\n",
    "    name = None\n",
    "\n",
    "# 在程序中打印生产表格，我们称之为：创建对象（基于类）\n",
    "stu_1 = Student()\n",
    "stu_2 = Student()\n",
    "\n",
    "# 在程序中填写表格，我们称之为：对象属性赋值\n",
    "stu_1.name = \"张三\"   # 为学生1对象赋予名称属性值\n",
    "stu_2.name = \"Tom\"    # 为学生2对象赋予名称属性值\n",
    "\n",
    "# 获取对象中记录的信息\n",
    "print(stu_1.name)\n",
    "print(stu_2.name)"
   ]
  },
  {
   "cell_type": "code",
   "execution_count": 2,
   "id": "4a6ac9f4",
   "metadata": {},
   "outputs": [
    {
     "name": "stdout",
     "output_type": "stream",
     "text": [
      "Tom\n",
      "男\n",
      "USA\n",
      "California\n",
      "19\n"
     ]
    }
   ],
   "source": [
    "# 类的属性定义\n",
    "# 1.设计一个类（类比生活中 设计一个登记表）\n",
    "class Student:\n",
    "    name = None\n",
    "    gender = None\n",
    "    nationality = None  # 国籍\n",
    "    native_place = None # 籍贯\n",
    "    age = None\n",
    "    \n",
    "# 2.创建一个对象\n",
    "stu = Student()\n",
    "\n",
    "# 3.对 对象属性 进行赋值\n",
    "stu.name = \"Tom\"\n",
    "stu.gender = \"男\"\n",
    "stu.nationality = \"USA\"\n",
    "stu.native_place = \"California\"\n",
    "stu.age = 19\n",
    "\n",
    "# 4.获取对象中记录的信息\n",
    "print(stu.name)\n",
    "print(stu.gender)\n",
    "print(stu.nationality)\n",
    "print(stu.native_place)\n",
    "print(stu.age)"
   ]
  },
  {
   "cell_type": "code",
   "execution_count": 3,
   "id": "6b65042f",
   "metadata": {},
   "outputs": [
    {
     "name": "stdout",
     "output_type": "stream",
     "text": [
      "hi,大家好，我是Tom，今年17岁\n",
      "hi,大家好，我是Tom，今年17岁，你真帅\n"
     ]
    }
   ],
   "source": [
    "# 类的行为定义  注：行为就是定义在类中的函数（成员方法）\n",
    "\n",
    "# 在类中定义成员方法和定义函数基本一致，但有细微区别，语法格式为：\n",
    "'''\n",
    "def 方法名(self, 形式参数1, 形式参数2, ......)：    # 这里的self是必须有的。在方法内部，想要访问类的成员变量，就必须使用self\n",
    "    方法体   # 尽管self必须存在，但是调用时也可以忽略它\n",
    "'''\n",
    "\n",
    "# 定义一个带有方法的类\n",
    "class Student:\n",
    "    name = None\n",
    "    age = None\n",
    "    def say_hi(self):\n",
    "        print(f\"hi,大家好，我是{self.name}，今年{self.age}岁\")\n",
    "    def say_hi2(self, msg):\n",
    "        print(f\"hi,大家好，我是{self.name}，今年{self.age}岁，{msg}\")\n",
    "    \n",
    "# 创建一个对象\n",
    "stu = Student()\n",
    "\n",
    "# 对 对象属性 进行赋值\n",
    "stu.name = \"Tom\"\n",
    "stu.age = 17\n",
    "\n",
    "# 调用类的方法\n",
    "stu.say_hi()   # 定义的时候要有self，但是调用的时候就不需要了\n",
    "stu.say_hi2(\"你真帅\")"
   ]
  },
  {
   "cell_type": "code",
   "execution_count": 4,
   "id": "b065bcd5",
   "metadata": {},
   "outputs": [],
   "source": [
    "# 成员属性（信息）和成员行为（方法）\n",
    "\n",
    "# 设计一个闹钟类\n",
    "class clock:\n",
    "    id = None      # 序列号\n",
    "    price = None   # 价格\n",
    "    def ring(self):  # 响铃（功能），下面是Python内置的响铃代码\n",
    "        import winsound\n",
    "        winsound.Beep(2000, 3000)   # 2000是频率，3000是时间（ms）\n",
    "\n",
    "# 构建两个闹钟对象，并让其工作\n",
    "clock_1 = clock()\n",
    "clock_1.id = \"37515\"\n",
    "clock_1.price = 21.99\n",
    "clock_1.ring()\n",
    "\n",
    "clock_2 = clock()\n",
    "clock_2.id = \"37628\"\n",
    "clock_2.price = 29.99\n",
    "clock_2.ring()"
   ]
  },
  {
   "cell_type": "code",
   "execution_count": 5,
   "id": "c5f6044f",
   "metadata": {},
   "outputs": [
    {
     "name": "stdout",
     "output_type": "stream",
     "text": [
      "Tom\n",
      "17\n",
      "男\n",
      "Tom\n",
      "17\n",
      "男\n"
     ]
    }
   ],
   "source": [
    "# Python类可以使用 __init__ 方法，称之为构造方法，可以实现：\n",
    "# 1.创建类对象时自动执行\n",
    "# 2.自动将传入参数给__init__方法使用，如：\n",
    "class Student:\n",
    "    name = None\n",
    "    age = None\n",
    "    gender = None\n",
    "    def __init__(self, name, age, gender):\n",
    "        self.name = name\n",
    "        self.age = age\n",
    "        self.gender = gender\n",
    "# 创建类对象，会自动执行init方法\n",
    "stu = Student(\"Tom\", 17, \"男\")\n",
    "print(stu.name)\n",
    "print(stu.age)\n",
    "print(stu.gender)\n",
    "\n",
    "\n",
    "# 其实上述代码可以进一步省略，为：\n",
    "class Student2:\n",
    "    def __init__(self, name, age, gender):\n",
    "        self.name = name\n",
    "        self.age = age\n",
    "        self.gender = gender\n",
    "# 创建类对象，会自动执行init方法\n",
    "stu2 = Student2(\"Tom\", 17, \"男\")\n",
    "print(stu2.name)\n",
    "print(stu2.age)\n",
    "print(stu2.gender)"
   ]
  },
  {
   "cell_type": "code",
   "execution_count": 6,
   "id": "d91a8800",
   "metadata": {},
   "outputs": [
    {
     "name": "stdout",
     "output_type": "stream",
     "text": [
      "当前录入第1位学生信息，总共需要录入2位学生信息\n",
      "请输入学生姓名：张三\n",
      "请输入学生年龄：19\n",
      "请输入学生地址：中国\n",
      "学生1信息录入完成，信息为：【学生姓名：张三,年龄：19，地址：中国】\n",
      "当前录入第2位学生信息，总共需要录入2位学生信息\n",
      "请输入学生姓名：Tom\n",
      "请输入学生年龄：17\n",
      "请输入学生地址：USA\n",
      "学生2信息录入完成，信息为：【学生姓名：Tom,年龄：17，地址：USA】\n"
     ]
    }
   ],
   "source": [
    "# 第二阶段-第一章-04-构造方法 学生信息录入\n",
    "\n",
    "class Student:\n",
    "    def __init__(self, name, age, adress):\n",
    "        self.name = name\n",
    "        self.age = age\n",
    "        self.adress = adress\n",
    "\n",
    "for id in range(1, 3):\n",
    "    print(f\"当前录入第{id}位学生信息，总共需要录入2位学生信息\")\n",
    "    name = input(\"请输入学生姓名：\")\n",
    "    age = int(input(\"请输入学生年龄：\"))\n",
    "    adress = input(\"请输入学生地址：\")\n",
    "    stu = Student(name, age, adress)\n",
    "    print(f\"学生{id}信息录入完成，信息为：【学生姓名：{stu.name},年龄：{stu.age}，地址：{stu.adress}】\")"
   ]
  },
  {
   "cell_type": "code",
   "execution_count": 7,
   "id": "d010e4d1",
   "metadata": {},
   "outputs": [
    {
     "name": "stdout",
     "output_type": "stream",
     "text": [
      "Student类对象，name = Tom，age = 17\n"
     ]
    }
   ],
   "source": [
    "# 魔术方法：__init__ ： 构造方法（已学习）\n",
    "\"\"\"__str__ ： 字符串方法\n",
    "__lt__ ： 小于、大于符号比较\n",
    "__le__ ： 小于等于、大于等于符号比较\n",
    "__eq__ ： == 符号比较\"\"\"\n",
    "\n",
    "# __str__字符串方法，可以控制转换为字符串的行为\n",
    "class Student:\n",
    "    def __init__(self, name, age):\n",
    "        self.name = name\n",
    "        self.age = age\n",
    "    def __str__(self):    \n",
    "        return f\"Student类对象，name = {self.name}，age = {self.age}\"\n",
    "stu = Student(\"Tom\", 17)\n",
    "print(stu)  # 若没有__str__方法，则返回内容为： <__main__.Student object at 0x000001B2167DAFE0>"
   ]
  },
  {
   "cell_type": "code",
   "execution_count": 8,
   "id": "1c4fd7d0",
   "metadata": {},
   "outputs": [
    {
     "name": "stdout",
     "output_type": "stream",
     "text": [
      "True\n",
      "False\n",
      "True\n",
      "True\n"
     ]
    }
   ],
   "source": [
    "# __lt__ 小于符号比较方法\n",
    "# __gt__ 大于符号比较方法\n",
    "# __le__ 小于等于符号比较方法\n",
    "# __ge__ 大于等于符号比较方法\n",
    "# __eq__ 等于\n",
    "\n",
    "class Student:\n",
    "    def __init__(self, name, age):\n",
    "        self.name = name\n",
    "        self.age = age\n",
    "    def __lt__(self, competitor):\n",
    "        return self.age < competitor.age\n",
    "    def __gt__(self, competitor):\n",
    "        return self.age > competitor.age\n",
    "    def __le__(self, competitor):\n",
    "        return self.age <= competitor.age\n",
    "    def __ge__(self, competitor):\n",
    "        return self.age >= competitor.age\n",
    "    def __eq__(self, competitor):\n",
    "        return self.age == competitor.age\n",
    "\n",
    "stu1 = Student(\"Tom\", 17)\n",
    "stu2 = Student(\"Helen\", 19)\n",
    "stu3 = Student(\"张三\", 17)\n",
    "\n",
    "# 进行比较（因为使用了lt/le/gt/ge/eq定义\n",
    "print(stu1 < stu2)\n",
    "print(stu1 > stu2)\n",
    "print(stu1 >= stu3)\n",
    "print(stu1 == stu3)"
   ]
  },
  {
   "cell_type": "raw",
   "id": "c4305a75",
   "metadata": {},
   "source": [
    "封装：将现实世界事物在类中描述为属性和方法，即为封装。\n",
    "私有成员：包括私有成员变量和私有成员方法，在前面加__（2个下划线）\n",
    "私有方法无法直接被类对象使用，但是可以用于类中的其他方法。私有变量无法赋值，也无法获取值。"
   ]
  },
  {
   "cell_type": "code",
   "execution_count": 9,
   "id": "b014970f",
   "metadata": {},
   "outputs": [
    {
     "name": "stdout",
     "output_type": "stream",
     "text": [
      "报错类型为：'Phone' object has no attribute '__keep_single_core'\n",
      "报错类型为：'Phone' object has no attribute '__current_voltage'\n"
     ]
    }
   ],
   "source": [
    "# 私有方法无法直接被类对象使用，私有变量无法赋值，也无法获取值。\n",
    "\n",
    "class Phone:\n",
    "    id = None\n",
    "    __current_voltage = None  # 当前手机运行电压\n",
    "    def  __keep_single_core(self):\n",
    "        print(\"让CPU以单核模式运行。\")\n",
    "\n",
    "phone = Phone()        \n",
    "\n",
    "# 调用私有成员方法（会报错）\n",
    "try:\n",
    "    phone.__keep_single_core()\n",
    "except Exception as e:\n",
    "    print(f\"报错类型为：{e}\")\n",
    "\n",
    "# 访问类中的私有成员变量\n",
    "try:\n",
    "    print(phone.__current_voltage)\n",
    "except Exception as e:\n",
    "    print(f\"报错类型为：{e}\")"
   ]
  },
  {
   "cell_type": "code",
   "execution_count": 10,
   "id": "14e77dc6",
   "metadata": {},
   "outputs": [
    {
     "name": "stdout",
     "output_type": "stream",
     "text": [
      "5g通话已开启！\n"
     ]
    }
   ],
   "source": [
    "# 私有成员无法被类对象使用，但是可以被其它的成员使用\n",
    "class Phone:\n",
    "    __current_voltage = 1  # 当前手机运行电压\n",
    "    \n",
    "    def __keep_single_core(self):\n",
    "        print(\"让手机以CPU单核模式运行\")\n",
    "    def call_by_5g(self):\n",
    "        if self.__current_voltage >= 1:\n",
    "            print(\"5g通话已开启！\")\n",
    "        else:\n",
    "            self.__keep_single_core()\n",
    "            print(\"电量不足，无法使用5g通话，并已开启单核模式进行省电！\")\n",
    "phone = Phone()\n",
    "phone.call_by_5g()"
   ]
  },
  {
   "cell_type": "code",
   "execution_count": 11,
   "id": "00039dd3",
   "metadata": {},
   "outputs": [
    {
     "name": "stdout",
     "output_type": "stream",
     "text": [
      "让手机以CPU单核模式运行\n",
      "电量不足，无法使用5g通话，并已开启单核模式进行省电！\n"
     ]
    }
   ],
   "source": [
    "# 私有成员无法被类对象使用，但是可以被其它的成员使用\n",
    "class Phone:\n",
    "    __current_voltage = 0.5  # 当前手机运行电压\n",
    "    \n",
    "    def __keep_single_core(self):\n",
    "        print(\"让手机以CPU单核模式运行\")\n",
    "    def call_by_5g(self):\n",
    "        if self.__current_voltage >= 1:\n",
    "            print(\"5g通话已开启！\")\n",
    "        else:\n",
    "            self.__keep_single_core()\n",
    "            print(\"电量不足，无法使用5g通话，并已开启单核模式进行省电！\")\n",
    "phone = Phone()\n",
    "phone.call_by_5g()"
   ]
  },
  {
   "cell_type": "code",
   "execution_count": 12,
   "id": "7450b826",
   "metadata": {},
   "outputs": [
    {
     "name": "stdout",
     "output_type": "stream",
     "text": [
      "5g关闭，使用4g网络\n",
      "正在通话中！\n"
     ]
    }
   ],
   "source": [
    "# 第二阶段-第一章-06-封装  设计带有私有成员的手机\n",
    "class Phone:\n",
    "    __is_5g_enable = False\n",
    "    def __check_5g(self):\n",
    "        if self.__is_5g_enable == True:\n",
    "            print(\"5g开启\")\n",
    "        else:\n",
    "            print(\"5g关闭，使用4g网络\")\n",
    "    def call_by_5g(self):\n",
    "        self.__check_5g()\n",
    "        print(\"正在通话中！\")\n",
    "phone = Phone()\n",
    "phone.call_by_5g()"
   ]
  },
  {
   "cell_type": "raw",
   "id": "be1af0dd",
   "metadata": {},
   "source": [
    "继承：把原本的东西“拿来”，继续使用，被继承的类叫做“父类”，分为：单继承和多继承。\n",
    "单继承语法为：\n",
    "class 类名(父类名):\n",
    "    类内容体\n",
    "多继承语法为：\n",
    "class 类名(父类1, 父类2, ..., 父类N):\n",
    "    类内容体\n",
    "pass关键字用来保证类定义的完整性，表示无内容、空的意思"
   ]
  },
  {
   "cell_type": "code",
   "execution_count": 13,
   "id": "12534365",
   "metadata": {},
   "outputs": [
    {
     "name": "stdout",
     "output_type": "stream",
     "text": [
      "HM\n",
      "4g开启\n",
      "2024年新功能：5g通话\n"
     ]
    }
   ],
   "source": [
    "# 父类\n",
    "class Phone:\n",
    "    IMEI = None       # 序列号\n",
    "    producer = \"HM\"   # 厂商\n",
    "\n",
    "    def call_by_4g(self):\n",
    "        print(\"4g开启\")\n",
    "\n",
    "# 现在新研发出来了5g技术，需要进行更新，所以要继承原本的内容\n",
    "\n",
    "# 单继承演示\n",
    "class Phone2024(Phone):\n",
    "    face_id = \"10001\"    # 面部识别id\n",
    "    def call_by_5g(self):\n",
    "        print(\"2024年新功能：5g通话\")\n",
    "phone = Phone2024()\n",
    "print(phone.producer)\n",
    "phone.call_by_4g()\n",
    "phone.call_by_5g()"
   ]
  },
  {
   "cell_type": "code",
   "execution_count": 14,
   "id": "b892595c",
   "metadata": {},
   "outputs": [
    {
     "name": "stdout",
     "output_type": "stream",
     "text": [
      "红外遥控\n",
      "香蕉\n"
     ]
    }
   ],
   "source": [
    "# 多继承演示 如果父类有同名方法或属性，先继承的优先级高于后继承\n",
    "class NFCReader:\n",
    "    nfc_type = \"第五代\"\n",
    "    producer = \"香蕉\"  \n",
    "    def read_card(self):\n",
    "        print(\"NFC读卡\")\n",
    "        \n",
    "class RemoteControl:\n",
    "    rc_type = \"红外遥控\"\n",
    "    producer = \"菠萝\"\n",
    "    def control(self):\n",
    "        print(\"红外遥控开启\")\n",
    "\n",
    "class Machine(NFCReader, RemoteControl):\n",
    "    pass  # 因为Machine类没有变量和方法，所以要用pass语句\n",
    "\n",
    "machine = Machine()\n",
    "print(machine.rc_type)\n",
    "print(machine.producer)   # 输出为“香蕉”，说明继承的是第一个类（NFCReader）中的方法\n",
    "# 继承顺序为从左往右，如果同名则先继承的优先保留，后继承的被覆盖"
   ]
  },
  {
   "cell_type": "code",
   "execution_count": 15,
   "id": "21e88d62",
   "metadata": {},
   "outputs": [
    {
     "name": "stdout",
     "output_type": "stream",
     "text": [
      "None\n",
      "香蕉牌手机\n",
      "正在开启网络加速\n",
      "已开启清晰模式通话\n",
      "通话结束，已关闭网络加速\n"
     ]
    }
   ],
   "source": [
    "# 复写：子类继承父类的成员属性和成员方法后，若对其“不满意”，则可以进行复写（在子类中重新定义同名的属性或方法即可），如：\n",
    "\n",
    "# 定义父类\n",
    "class Phone:\n",
    "    IMEI = None   # 序列号\n",
    "    producer = \"香蕉牌手机\"\n",
    "    def call(self):\n",
    "        print(\"已开启清晰模式通话\")\n",
    "\n",
    "# 子类继承，并复写\n",
    "class NewPhone(Phone):\n",
    "    prodecer = \"苹果牌手机\"\n",
    "    def call(self):\n",
    "        print(\"正在开启网络加速\")\n",
    "        print(\"已开启清晰模式通话\")\n",
    "        print(\"通话结束，已关闭网络加速\")\n",
    "# 创建类对象\n",
    "phone = NewPhone()\n",
    "\n",
    "# 调用验证\n",
    "print(phone.IMEI)\n",
    "print(phone.producer)   # 输出内容为修改后的内容\n",
    "phone.call()            # 调用方法按照修改后的内容进行"
   ]
  },
  {
   "cell_type": "code",
   "execution_count": 16,
   "id": "287dca8b",
   "metadata": {},
   "outputs": [
    {
     "name": "stdout",
     "output_type": "stream",
     "text": [
      "香蕉牌手机\n",
      "父类的厂商为：香蕉牌手机\n",
      "正在开启网络加速\n",
      "已开启清晰模式通话\n",
      "通话结束，已关闭网络加速\n"
     ]
    }
   ],
   "source": [
    "#只可以在子类内部调用父类的同名成员！！！子类的实体类对象调用默认是调用子类复写的。\n",
    "\n",
    "# 调用父类同名成员（方式一）\n",
    "# 使用成员变量：父类名.成员变量\n",
    "# 使用成员方法： 父类名.成员方法(self)\n",
    "\n",
    "# 定义父类\n",
    "class Phone:\n",
    "    IMEI = None   # 序列号\n",
    "    producer = \"香蕉牌手机\"\n",
    "    def call(self):\n",
    "        print(\"已开启清晰模式通话\")\n",
    "\n",
    "# 子类继承，并复写\n",
    "class NewPhone(Phone):\n",
    "    prodecer = \"苹果牌手机\"\n",
    "    def call(self):\n",
    "        print(f\"父类的厂商为：{Phone.producer}\")\n",
    "        print(\"正在开启网络加速\")\n",
    "        Phone.call(self)\n",
    "        print(\"通话结束，已关闭网络加速\")\n",
    "# 创建类对象\n",
    "phone = NewPhone()\n",
    "\n",
    "# 调用验证\n",
    "print(phone.producer)   # 输出内容为修改后的内容\n",
    "phone.call()            # 调用方法按照修改后的内容进行"
   ]
  },
  {
   "cell_type": "code",
   "execution_count": 17,
   "id": "4e770dca",
   "metadata": {},
   "outputs": [
    {
     "name": "stdout",
     "output_type": "stream",
     "text": [
      "香蕉牌手机\n",
      "父类的厂商为：香蕉牌手机\n",
      "正在开启网络加速\n",
      "已开启清晰模式通话\n",
      "通话结束，已关闭网络加速\n"
     ]
    }
   ],
   "source": [
    "# 调用父类同名成员（方式二）\n",
    "# 使用成员变量： super().成员变量\n",
    "# 使用成员方法： super().成员方法()\n",
    "# 这里的super()相当于创建了父类的一个类对象，然后进行访问或调用\n",
    "\n",
    "# 定义父类\n",
    "class Phone:\n",
    "    IMEI = None   # 序列号\n",
    "    producer = \"香蕉牌手机\"\n",
    "    def call(self):\n",
    "        print(\"已开启清晰模式通话\")\n",
    "\n",
    "# 子类继承，并复写\n",
    "class NewPhone(Phone):\n",
    "    prodecer = \"苹果牌手机\"\n",
    "    def call(self):\n",
    "        print(f\"父类的厂商为：{super().producer}\")\n",
    "        print(\"正在开启网络加速\")\n",
    "        super().call()\n",
    "        print(\"通话结束，已关闭网络加速\")\n",
    "# 创建类对象\n",
    "phone = NewPhone()\n",
    "\n",
    "# 调用验证\n",
    "print(phone.producer)   # 输出内容为修改后的内容\n",
    "phone.call()            # 调用方法按照修改后的内容进行"
   ]
  },
  {
   "cell_type": "raw",
   "id": "bc6385ae",
   "metadata": {},
   "source": [
    "类型注解：在代码中设计数据交互的地方，提供数据类型的注解\n",
    "主要功能：帮助第三方IDE工具（如Pycharm）对代码进行类型推断，协助做代码提示，也可以帮助开发者自身对变量进行类型注释"
   ]
  },
  {
   "cell_type": "code",
   "execution_count": 18,
   "id": "1cc878cd",
   "metadata": {},
   "outputs": [],
   "source": [
    "# 变量的类型注解，基础语法为：   变量: 类型    如：\n",
    "var_1: int = 10\n",
    "var_2: float = 3.7\n",
    "var_3: str = \"37628515\"\n",
    "var_4: bool = True\n",
    "\n",
    "# 类对象的类型注解：\n",
    "class Student:\n",
    "    pass\n",
    "stu: Student = Student()\n",
    "    \n",
    "# 基础容器类型注解\n",
    "my_list: list = [37, 628]\n",
    "my_tuple: tuple = (37, 628)\n",
    "my_str: str = \"37628\"\n",
    "my_dict: dict = {37: 628}\n",
    "my_set: set = {37, 628}\n",
    "    \n",
    "# 容器类型详细注解（可以对容器内元素进行注解），如：\n",
    "my_list: list[int] = [37, 628]         # 列表和集合都只需要把所以元素中出现的数据类型 进行注解即可\n",
    "my_tuple: tuple[int, int] = (37, 628)  # 元组中每一个元素 都要进行注解\n",
    "my_dict: dict[str, int] = {\"37\": 628}  # 字典设置类型详细注解，需要两个，一个是key，一个是value\n",
    "my_set: set[int] = {37, 628}           # 集合和列表都只需要把所以元素中出现的数据类型 进行注解即可"
   ]
  },
  {
   "cell_type": "code",
   "execution_count": 19,
   "id": "36bae715",
   "metadata": {},
   "outputs": [],
   "source": [
    "# 类型注解的另外一种方式即为在注释中进行类型注解，语法为：  # type: 类型\n",
    "\n",
    "# 变量的类型注解\n",
    "var_1 = 10          # type: int\n",
    "var_2 = 3.7         # type: float\n",
    "var_3 = \"37628515\"  # type: str\n",
    "var_4 = True        # type: bool\n",
    "\n",
    "# 类对象的类型注解：\n",
    "class Student:\n",
    "    pass\n",
    "stu = Student()     # type: Student\n",
    "\n",
    "# 基础容器类型注解\n",
    "my_list = [37, 628]     # type: list\n",
    "my_tuple = (37, 628)    # type: tuple\n",
    "my_str = \"37628\"        # type: str\n",
    "my_dict = {37: 628}     # type: dict\n",
    "my_set = {37, 628}      # type: set\n",
    "\n",
    "# 基础容器类型详细注解\n",
    "# 列表和集合都只需要把所以元素中出现的数据类型 进行注解即可\n",
    "# 元组中每一个元素 都要进行注解\n",
    "# 字典设置类型详细注解，需要两个，一个是key，一个是value\n",
    "my_list = [37, 628]         # type: list[int]\n",
    "my_tuple = (37, 628)        # type: tuple[int, int] \n",
    "my_dict = {\"37\": 628}       # type: dict[str, int]\n",
    "my_set = {37, 628}          # type: set[int]"
   ]
  },
  {
   "cell_type": "code",
   "execution_count": 20,
   "id": "0baf3950",
   "metadata": {},
   "outputs": [
    {
     "data": {
      "text/plain": [
       "10"
      ]
     },
     "execution_count": 20,
     "metadata": {},
     "output_type": "execute_result"
    }
   ],
   "source": [
    "# 函数（方法）的类型注解：形参注解     语法：def 函数名(形参: 类型注解)   如：\n",
    "def add(x: int, y: int):\n",
    "    return x + y\n",
    "add(3, 7)"
   ]
  },
  {
   "cell_type": "raw",
   "id": "69dbed30",
   "metadata": {},
   "source": [
    "这里的箭头是 - 和 > 组合的（横杠和右括号），在 : 的全部做返回值的类型注解"
   ]
  },
  {
   "cell_type": "code",
   "execution_count": 21,
   "id": "7c19f5b3",
   "metadata": {},
   "outputs": [
    {
     "data": {
      "text/plain": [
       "21"
      ]
     },
     "execution_count": 21,
     "metadata": {},
     "output_type": "execute_result"
    }
   ],
   "source": [
    "# 函数（方法）的类型注解：返回值注解   语法: def 函数名（形参） -> 返回值类型:    如：\n",
    "def mul(x: int, y: int) -> int:\n",
    "    return x * y\n",
    "mul(3, 7)"
   ]
  },
  {
   "cell_type": "code",
   "execution_count": 22,
   "id": "955faf99",
   "metadata": {},
   "outputs": [],
   "source": [
    "# Union类型  使用 Union[类型, ..., 类型]  可以定义联合类型注解   如：\n",
    "\n",
    "# 使用Union类型应该先导包\n",
    "from typing import Union\n",
    "\n",
    "# Union类型演示\n",
    "my_list: list[Union[int, str]] = [37, \"628\", 515]\n",
    "my_dict: dict[str, Union[int, str]] = {\"37\": 1314, \"628\": \"五月十五\"}\n",
    "\n",
    "def func(data: Union[int, str]) -> Union[int, str]:\n",
    "    return data"
   ]
  },
  {
   "cell_type": "code",
   "execution_count": 23,
   "id": "79f95ea6",
   "metadata": {},
   "outputs": [
    {
     "name": "stdout",
     "output_type": "stream",
     "text": [
      "汪汪汪\n",
      "喵喵喵\n"
     ]
    }
   ],
   "source": [
    "# 多态：多种状态，即完成某个行为时，使用不同的对象会得到不同的状态。\n",
    "# 抽象类：含有抽象方法的类叫做抽象类。\n",
    "# 抽象方法：方法体是空实现的（pass）称为抽象方法。\n",
    "# 一个子类，多个父类叫继承； 一个父类，多个子类叫多态。\n",
    "\n",
    "class Animal:\n",
    "    def speak(self):\n",
    "        pass              # 这里设计了方法，但是不由父类实现，而是由子类自行决定，这种写法就叫做抽象类\n",
    "\n",
    "class Dog(Animal):\n",
    "    def speak(self):\n",
    "        print(\"汪汪汪\")\n",
    "\n",
    "class Cat(Animal):\n",
    "    def speak(self):\n",
    "        print(\"喵喵喵\")\n",
    " \n",
    "def make_noise(animal: Animal):\n",
    "    animal.speak()\n",
    "    \n",
    "# 演示多态，使用两个子类对象来调用函数\n",
    "dog = Dog()\n",
    "cat = Cat()\n",
    "\n",
    "make_noise(dog)\n",
    "make_noise(cat)\n",
    "\n",
    "# 多态中的父类就是用于指定标准，子类继承父类后需要进行完善，这样可以防止遗忘一些功能"
   ]
  }
 ],
 "metadata": {
  "kernelspec": {
   "display_name": "Python 3 (ipykernel)",
   "language": "python",
   "name": "python3"
  },
  "language_info": {
   "codemirror_mode": {
    "name": "ipython",
    "version": 3
   },
   "file_extension": ".py",
   "mimetype": "text/x-python",
   "name": "python",
   "nbconvert_exporter": "python",
   "pygments_lexer": "ipython3",
   "version": "3.10.9"
  }
 },
 "nbformat": 4,
 "nbformat_minor": 5
}

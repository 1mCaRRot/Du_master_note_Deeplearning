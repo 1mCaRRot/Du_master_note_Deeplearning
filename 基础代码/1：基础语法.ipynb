{
 "cells": [
  {
   "cell_type": "code",
   "execution_count": 1,
   "id": "4e949b93",
   "metadata": {},
   "outputs": [
    {
     "name": "stdout",
     "output_type": "stream",
     "text": [
      "文字1 文字2 文字3\n",
      "12345\n"
     ]
    }
   ],
   "source": [
    "# 1. 单行注释在前面用“#”，快捷键为“ctrl+/”\n",
    "# 2. 三个单引号或者三个双引号，可以将中间的内容转变为多行注释（前后引号保持一致，即都用单引号或者都用双引号）\n",
    "# 3. print('文字')表示将 文字 输出（打印出），纯数字的话无需加引号\n",
    "# 4. print('文字1','文字2','文字3')可以将文字1,2,3一起输出\n",
    "print('文字1','文字2','文字3')\n",
    "print(12345)"
   ]
  },
  {
   "cell_type": "code",
   "execution_count": 2,
   "id": "679e8b70",
   "metadata": {},
   "outputs": [
    {
     "name": "stdout",
     "output_type": "stream",
     "text": [
      "95分\n",
      "98分\n",
      "95分 98分\n",
      "100\n",
      "10\n",
      "100\n",
      "请输入文字：文字\n",
      "：文字\n"
     ]
    }
   ],
   "source": [
    "# 变量使用前，首先需要进行定义,变量名称不可以是纯数字，初始值如果不是纯数字需要加引号（ps:加引号好像是标识符了，不过不用改，能用就行）\n",
    "# 语法： 变量名=初始值，如果觉得不好看可以加空格\n",
    "# 使用“del 变量名”可以将变量删除\n",
    "# 变量名 = input('给定的文字')  在运行时会等待终端给定的输入文字\n",
    "subject1 = \"95分\"\n",
    "print(subject1)\n",
    "subject2=\"98分\"\n",
    "print(subject2)\n",
    "print(subject1,subject2)\n",
    "del subject1\n",
    "subject3=100\n",
    "print(subject3)\n",
    "一 = 10\n",
    "print(一)\n",
    "二 = 100\n",
    "print(二)\n",
    "三 = input('请输入文字')\n",
    "print(三)"
   ]
  },
  {
   "cell_type": "code",
   "execution_count": 3,
   "id": "fbfd6004",
   "metadata": {},
   "outputs": [
    {
     "name": "stdout",
     "output_type": "stream",
     "text": [
      "苹果 香蕉 西瓜\n"
     ]
    }
   ],
   "source": [
    "# 标识符就是一个字符串，用来给变量，函数等命名\n",
    "# 标识符由字母（区分大小写），数字，下划线组成，开头不能是数字，且不能是Python中的关键字\n",
    "水果一 = \"苹果\"\n",
    "水果二='香蕉'\n",
    "水果三= '西瓜'\n",
    "print(水果一,水果二,水果三)"
   ]
  },
  {
   "cell_type": "code",
   "execution_count": 4,
   "id": "ad76d0e2",
   "metadata": {},
   "outputs": [
    {
     "name": "stdout",
     "output_type": "stream",
     "text": [
      "得分为： 80 分\n"
     ]
    }
   ],
   "source": [
    "满分 = 100\n",
    "扣除的分数 = 20\n",
    "分数 = 满分 - 扣除的分数\n",
    "print('得分为：', 分数, '分')"
   ]
  },
  {
   "cell_type": "code",
   "execution_count": 5,
   "id": "ff7d791e",
   "metadata": {},
   "outputs": [
    {
     "name": "stdout",
     "output_type": "stream",
     "text": [
      "最终，钱包剩余 35 元\n"
     ]
    }
   ],
   "source": [
    "# 第一阶段-第二章-03-变量 课后作业：求钱包余额\n",
    "'''\n",
    "请在程序中，定义如下变量：\n",
    "钱包余额（变量名：money），初始余额50\n",
    "请通过程序计算，在购买了：冰淇淋10元，可乐5元，后，钱包余额还剩余多少元\n",
    "'''\n",
    "money = 50\n",
    "冰淇淋 = 10\n",
    "可乐 = 5\n",
    "钱包余额 = money - 冰淇淋 - 可乐\n",
    "print('最终，钱包剩余', 钱包余额 ,'元')"
   ]
  },
  {
   "cell_type": "code",
   "execution_count": 6,
   "id": "5887dec6",
   "metadata": {},
   "outputs": [
    {
     "name": "stdout",
     "output_type": "stream",
     "text": [
      "<class 'str'>\n",
      "<class 'int'>\n",
      "<class 'float'>\n"
     ]
    }
   ],
   "source": [
    "# 字符串（str），浮点数（float），整数（int）\n",
    "print(type('中国'))\n",
    "print(type(37628))\n",
    "print(type(1.2))"
   ]
  },
  {
   "cell_type": "code",
   "execution_count": 7,
   "id": "efb80d2b",
   "metadata": {},
   "outputs": [
    {
     "name": "stdout",
     "output_type": "stream",
     "text": [
      "<class 'type'>\n"
     ]
    }
   ],
   "source": [
    "name = '中国'\n",
    "name_type = type(name)\n",
    "print(type(name_type))"
   ]
  },
  {
   "cell_type": "code",
   "execution_count": 8,
   "id": "0191ce50",
   "metadata": {},
   "outputs": [
    {
     "name": "stdout",
     "output_type": "stream",
     "text": [
      "<class 'str'>\n"
     ]
    }
   ],
   "source": [
    "name = '中国'\n",
    "name_type = type(name)\n",
    "print(name_type)"
   ]
  },
  {
   "cell_type": "code",
   "execution_count": 9,
   "id": "ebb58e7d",
   "metadata": {},
   "outputs": [
    {
     "name": "stdout",
     "output_type": "stream",
     "text": [
      "<class 'str'>\n"
     ]
    }
   ],
   "source": [
    "# 将数字类型转换为字符串 ： str()\n",
    "num = str(37628)\n",
    "print(type(num))\n",
    "# 在用变量表示数据类型时，这里应该先定义一个新的变量=str(),然后输出新的变量即可"
   ]
  },
  {
   "cell_type": "code",
   "execution_count": 10,
   "id": "7cf59a78",
   "metadata": {},
   "outputs": [
    {
     "name": "stdout",
     "output_type": "stream",
     "text": [
      "<class 'str'>\n"
     ]
    }
   ],
   "source": [
    "# str()本身就是一个数据类型\n",
    "print(type(str(37628)))"
   ]
  },
  {
   "cell_type": "code",
   "execution_count": 11,
   "id": "93e1ae3d",
   "metadata": {},
   "outputs": [
    {
     "name": "stdout",
     "output_type": "stream",
     "text": [
      "<class 'str'>\n",
      "<class 'int'>\n",
      "<class 'str'>\n",
      "<class 'float'>\n",
      "<class 'str'>\n",
      "<class 'int'>\n",
      "<class 'int'> 37\n"
     ]
    }
   ],
   "source": [
    "# 同时还有int（整数型），float（浮点型）,如：\n",
    "print(type('37628'))\n",
    "print(type(int('37628')))\n",
    "\n",
    "print(type('37628.1314'))\n",
    "print(type(float('37628.1314')))\n",
    "\n",
    "# 或者用变量表示，如下（只展示整数类型int）：\n",
    "num1 = '37628'\n",
    "print(type(num1))\n",
    "num1 = int('37628')\n",
    "print(type(num1))\n",
    "\n",
    "# 所有的数据类型都可以转换为字符串，但是整数和浮点数不一定\n",
    "# 整数转为小数会加小数点，小数转换为整数会丢失小数点后的数字，如：\n",
    "num = int(37.628)\n",
    "print(type(num), num )"
   ]
  },
  {
   "cell_type": "code",
   "execution_count": 12,
   "id": "e15882c3",
   "metadata": {},
   "outputs": [
    {
     "name": "stdout",
     "output_type": "stream",
     "text": [
      "name1 张三\n",
      "博哥 冉妹\n",
      "1\n"
     ]
    }
   ],
   "source": [
    "# 标识符“规则怪谈”\n",
    "\n",
    "# 规则1：内容限定，限定只能使用：中文（不建议），英文，数字，下划线，且不能以数字开头\n",
    "# 错误的代码示范：1_name = \"张三\"，name_! = “张三”\n",
    "name1 = \"张三\"\n",
    "print(\"name1\",name1)\n",
    "\n",
    "# 规则2：大小写敏感\n",
    "A = '博哥'\n",
    "a = '冉妹'\n",
    "print(A,a)\n",
    "\n",
    "# 规则3：不可使用关键字（比如False，True,None,and等）；另外，因为规则2的存在，大小写与关键字不完全一样的话可以使用，比如：\n",
    "false = 1\n",
    "print(false)"
   ]
  },
  {
   "cell_type": "code",
   "execution_count": 13,
   "id": "2bc0f228",
   "metadata": {},
   "outputs": [
    {
     "name": "stdout",
     "output_type": "stream",
     "text": [
      "37+628= 665\n",
      "37-628= -591\n",
      "37×628= 23236\n",
      "37÷628= 0.0589171974522293\n",
      "3\n",
      "1\n",
      "81\n",
      "9\n",
      "37 += 1的值为 38\n",
      "37×2的值为 74\n",
      "157.0\n",
      "157\n"
     ]
    }
   ],
   "source": [
    "'''运算符号：\n",
    "加 + \n",
    "减 - \n",
    "乘 * \n",
    "除 / \n",
    "取整除（带余除法的整数部分）：//\n",
    "取余数（带余除法的余数部分）：%\n",
    "指数运算：**（比如a**b指的是a的b次方）'''\n",
    "num1 = 37\n",
    "num2 = 628\n",
    "print(\"37+628=\", num1 + num2)\n",
    "print(\"37-628=\", num1 - num2)\n",
    "print(\"37×628=\", num1 * num2)\n",
    "print(\"37÷628=\", num1 / num2)\n",
    "print(10 // 3)\n",
    "print(10 % 3)\n",
    "print(3 ** 4)\n",
    "\n",
    "# 赋值运算符：\n",
    "num = 1 + 2 ** 3\n",
    "print(num)\n",
    "\n",
    "# 复合赋值运算符：(a 上述运算符号= b，得到的数为  a ‘运算符号’ b 的值)，如a += b 表示 a+b的值；a *= b 表示 a*b的值\n",
    "num = 37\n",
    "num += 1  # 这个等同于 num = num + 1\n",
    "print('37 += 1的值为',num)\n",
    "num = 37\n",
    "num *= 2\n",
    "print(\"37×2的值为\",num)\n",
    "\n",
    "num = 628\n",
    "num /= 4\n",
    "print(num)\n",
    "\n",
    "# 下面是转换成整数类型，多了第三行的int指令\n",
    "num = 628\n",
    "num /= 4\n",
    "num = int(num)\n",
    "print(num)"
   ]
  },
  {
   "cell_type": "code",
   "execution_count": 14,
   "id": "a045dbf7",
   "metadata": {},
   "outputs": [
    {
     "name": "stdout",
     "output_type": "stream",
     "text": [
      "<class 'str'>\n",
      "<class 'str'>\n",
      "<class 'str'>\n",
      "<class 'str'>\n"
     ]
    }
   ],
   "source": [
    "# 定义字符串可以使用单引号，双引号，三引号（'''字符串内容'''，或者\"\"\"字符串内容\"\"\"，这里可以换行），如\n",
    "DB = '杜博'\n",
    "print(type(DB))\n",
    "DB = \"杜博\"\n",
    "print(type(DB))\n",
    "DB = '''杜博'''\n",
    "print(type(DB))\n",
    "DB = \"\"\"\n",
    "杜博\n",
    "\"\"\"\n",
    "print(type(DB))"
   ]
  },
  {
   "cell_type": "code",
   "execution_count": 15,
   "id": "b7e1334c",
   "metadata": {},
   "outputs": [
    {
     "name": "stdout",
     "output_type": "stream",
     "text": [
      "\"张三\"\n",
      "'张三'\n",
      "'张三'\n",
      "\"张三\"\n"
     ]
    }
   ],
   "source": [
    "# 如果想要字符串内包含单引号，可以使用双引号定义法；如果想要字符串内包含双引号，可以使用单引号定义法，如：\n",
    "name = '\"张三\"'\n",
    "print(name)\n",
    "\n",
    "name = \"'张三'\"\n",
    "print(name)\n",
    "\n",
    "# 也可以使用 \\ 解除引号的使用（这里的\\放到引号前）如：\n",
    "name = '\\'张三\\''\n",
    "print(name)\n",
    "name = \"\\\"张三\\\"\"\n",
    "print(name)"
   ]
  },
  {
   "cell_type": "code",
   "execution_count": 16,
   "id": "494bf375",
   "metadata": {},
   "outputs": [
    {
     "name": "stdout",
     "output_type": "stream",
     "text": [
      "我是中国人\n",
      "我是中国人,我爱数学!\n",
      "我是中国人,我爱数学!1234567\n"
     ]
    }
   ],
   "source": [
    "# 通过 + 可以将两个字符串（文本）进行拼接，如\n",
    "print(\"我是\" + \"中国人\")\n",
    "\n",
    "# 也可以通过变量进行拼接，如：\n",
    "sentence1 = \"我是中国人,\"\n",
    "sentence2 = \"我爱数学!\"\n",
    "print(sentence1 + sentence2)\n",
    "\n",
    "# 此方法只能用于字符串拼接，如果是其他类型应当首先进行转换\n",
    "sentence3 = 1234567\n",
    "sentence3 = str(sentence3)\n",
    "print(sentence1 + sentence2 + sentence3)"
   ]
  },
  {
   "cell_type": "code",
   "execution_count": 17,
   "id": "4366eb92",
   "metadata": {},
   "outputs": [
    {
     "name": "stdout",
     "output_type": "stream",
     "text": [
      "我的姓名是张三，我的家乡是北京市，我的电话号码为：12315\n"
     ]
    }
   ],
   "source": [
    "# 字符串格式化：也可以使用 %s 进行占位，并在最后补充对应的字符串，如果有多个需要加括号，如：\n",
    "name = \"张三\"\n",
    "adress = \"北京\"\n",
    "tel = 12315\n",
    "message = \"我的姓名是%s，我的家乡是%s市，我的电话号码为：%s\" %(name, adress, tel)\n",
    "print(message)\n",
    "# 这里的电话号码已经被转化成了字符串，因为 %s 代表字符串占位"
   ]
  },
  {
   "cell_type": "code",
   "execution_count": 18,
   "id": "3dab2efa",
   "metadata": {},
   "outputs": [
    {
     "name": "stdout",
     "output_type": "stream",
     "text": [
      "我的姓名是杜博，我来自水产3班，有13.500000万元的存款。\n"
     ]
    }
   ],
   "source": [
    "# 也可以通过 %d（整数） ， %s（字符串） ， %f（浮点型）等进行占位，比如：\n",
    "class_num = 3\n",
    "name = '杜博'\n",
    "money = 13.5\n",
    "message = \"我的姓名是%s，我来自水产%d班，有%f万元的存款。\" %(name, class_num, money)\n",
    "print(message)"
   ]
  },
  {
   "cell_type": "code",
   "execution_count": 19,
   "id": "3c0850f9",
   "metadata": {},
   "outputs": [
    {
     "name": "stdout",
     "output_type": "stream",
     "text": [
      "我的姓名是杜博，我来自水产 3 班，有13.5万元的存款。\n"
     ]
    }
   ],
   "source": [
    "'''我们可以使用辅助符号“m.n”来控制数据的宽度和精度，其中：\n",
    "m控制宽度，要求是数字，设置的宽度小于数字自身，不生效\n",
    ".n控制小数点精度，要求是数字，会进行小数的四舍五入。\n",
    "比如：%5d：表示将整数的宽度控制在五格，如37会表示成为【空格】【空格】【空格】37；\n",
    "又比如：%6.2f:表示将宽度控制在6，小数点精度为2,如37.628会表示为【空格】37.63（四舍五入,且小数点也算一格宽度）'''\n",
    "class_num = 3\n",
    "name = '杜博'\n",
    "money = 13.5\n",
    "message = \"我的姓名是%s，我来自水产%2d 班，有%3.1f万元的存款。\" %(name, class_num, money)\n",
    "print(message)"
   ]
  },
  {
   "cell_type": "code",
   "execution_count": 20,
   "id": "10ce57b9",
   "metadata": {},
   "outputs": [
    {
     "name": "stdout",
     "output_type": "stream",
     "text": [
      "数字37宽度限制5，结果是：   37\n",
      "数字37.628宽度限制4，小数点保留后两位，结果是：37.63\n",
      "数字37宽度限制1，结果是：37\n",
      "数字37.628宽度不作限制，小数点保留后两位，结果是：37.63\n"
     ]
    }
   ],
   "source": [
    "num1 = 37\n",
    "num2 = 37.628\n",
    "message1 = \"数字37宽度限制5，结果是：%5d\" % num1\n",
    "message2 = \"数字37.628宽度限制4，小数点保留后两位，结果是：%4.2f\" % num2\n",
    "print(message1)\n",
    "print(message2)\n",
    "\n",
    "# 另一种表示方式为：\n",
    "num1 = 37\n",
    "num2 = 37.628\n",
    "print(\"数字37宽度限制1，结果是：%1d\" % num1)\n",
    "print(\"数字37.628宽度不作限制，小数点保留后两位，结果是：%.2f\" % num2)\n",
    "\n",
    "# 若宽度限制比数字本身要小，则m不会生效；\n",
    "# m，.n都可以省略\n",
    "# .n会对小数作精度限制，遵循四舍五入的原则"
   ]
  },
  {
   "cell_type": "code",
   "execution_count": 21,
   "id": "ec0ebdec",
   "metadata": {},
   "outputs": [
    {
     "name": "stdout",
     "output_type": "stream",
     "text": [
      "我的姓名是杜博，我来自水产3班，有13.5万元的存款。\n",
      "我的姓名是杜博，我来自水产3班，有13.5万元的存款\n"
     ]
    }
   ],
   "source": [
    "# 字符串格式化更加优雅的方式：通过语法 f\"内容（变量）\" 来快速格式化，不限数据类型，也不限制精度控制，如：\n",
    "class_num = 3\n",
    "name = '杜博'\n",
    "money = 13.5\n",
    "message =f\"我的姓名是{name}，我来自水产{class_num}班，有{money}万元的存款。\"\n",
    "print(message)\n",
    "\n",
    "# 或者：\n",
    "class_num = 3\n",
    "name = '杜博'\n",
    "money = 13.5\n",
    "print(f\"我的姓名是{name}，我来自水产{class_num}班，有{money}万元的存款\")\n",
    "\n",
    "# 这里的 f 代表的是 “formot”，即“格式化”"
   ]
  },
  {
   "cell_type": "code",
   "execution_count": 22,
   "id": "a78c8ef3",
   "metadata": {},
   "outputs": [
    {
     "name": "stdout",
     "output_type": "stream",
     "text": [
      "我的姓名是{'杜博'}，我来自水产{3}班，有{13.5}万元的存款。\n",
      "我的姓名是杜博，我来自水产3班，有13.5万元的存款。\n"
     ]
    }
   ],
   "source": [
    "# 快速格式化的展示（前者无f，后者有f）\n",
    "message =\"我的姓名是{'杜博'}，我来自水产{3}班，有{13.5}万元的存款。\"\n",
    "print(message)\n",
    "\n",
    "message =f\"我的姓名是{'杜博'}，我来自水产{3}班，有{13.5}万元的存款。\"\n",
    "print(message)"
   ]
  },
  {
   "cell_type": "code",
   "execution_count": 23,
   "id": "c3ffb6b3",
   "metadata": {},
   "outputs": [
    {
     "name": "stdout",
     "output_type": "stream",
     "text": [
      "1×1的结果是1\n",
      "1×1的结果是1\n",
      "2.16在Python中的类型是<class 'str'>\n",
      "2.16在Python中的类型是<class 'str'>\n",
      "2.16在Python中的类型是 <class 'str'> \n",
      "2.16在Python中的类型是 <class 'str'> \n",
      "2.16在Python中的类型是 <class 'float'> \n"
     ]
    }
   ],
   "source": [
    "# 快速格式化的更多用法(直接对表达式进行格式化)\n",
    "print(\"1×1的结果是%s\" % (1*1))\n",
    "print(f\"1×1的结果是{1*1}\")\n",
    "\n",
    "print(\"2.16在Python中的类型是%s\" %type('2.16'))\n",
    "print(\"2.16在Python中的类型是%s\" %(type('2.16')))\n",
    "print(f\"2.16在Python中的类型是 { type('2.16') } \" )\n",
    "print(f\"2.16在Python中的类型是 { (type('2.16')) } \" )\n",
    "print(f\"2.16在Python中的类型是 { type(2.16) } \" )"
   ]
  },
  {
   "cell_type": "code",
   "execution_count": 24,
   "id": "77b59737",
   "metadata": {},
   "outputs": [
    {
     "name": "stdout",
     "output_type": "stream",
     "text": [
      "公司：传智播客，股票代码：003032，当前股价：19.99\n",
      "每日增长系数为1.20，经过7天的增长后，股价达到了：71.63\n"
     ]
    }
   ],
   "source": [
    "# 第一阶段-第二章-13-对表达式进行格式化\n",
    "name = \"传智播客\"\n",
    "stock_code = \"003032\"\n",
    "stock_price = 19.99\n",
    "stock_price_daily_growth_factor = 1.2\n",
    "growth_days = 7\n",
    "message1 = f\"公司：{name}，股票代码：{stock_code}，当前股价：{stock_price}\"\n",
    "message2 = \"每日增长系数为%.2f，经过%d天的增长后，股价达到了：%.2f\" % (stock_price_daily_growth_factor, growth_days, 19.99*1.2**7)\n",
    "print(message1)\n",
    "print(message2)"
   ]
  },
  {
   "cell_type": "code",
   "execution_count": 25,
   "id": "429d9b63",
   "metadata": {},
   "outputs": [
    {
     "name": "stdout",
     "output_type": "stream",
     "text": [
      "公司：传智播客，股票代码：003032，当前股价：19.99\n",
      "每日增长系数为1.20，经过7天的增长后，股价达到了：71.63\n"
     ]
    }
   ],
   "source": [
    "# 第一阶段-第二章-13-对表达式进行格式化\n",
    "name = \"传智播客\"\n",
    "stock_code = \"003032\"\n",
    "stock_price = 19.99\n",
    "stock_price_daily_growth_factor = 1.2\n",
    "growth_days = 7\n",
    "message1 = f\"公司：{name}，股票代码：{stock_code}，当前股价：{stock_price}\"\n",
    "message2 = \"每日增长系数为%.2f，经过%d天的增长后，股价达到了：%.2f\" % (stock_price_daily_growth_factor, growth_days, stock_price*stock_price_daily_growth_factor**growth_days)\n",
    "print(message1)\n",
    "print(message2)"
   ]
  },
  {
   "cell_type": "code",
   "execution_count": 26,
   "id": "b4b41f10",
   "metadata": {},
   "outputs": [
    {
     "name": "stdout",
     "output_type": "stream",
     "text": [
      "公司：传智播客，股票代码：003032，当前股价：19.99\n",
      "每日增长系数为1.2，经过7天的增长后，股价达到了：71.63\n"
     ]
    }
   ],
   "source": [
    "# 第一阶段-第二章-13-对表达式进行格式化name = \"传智播客\"\n",
    "stock_code = \"003032\"\n",
    "stock_price = 19.99\n",
    "stock_price_daily_growth_factor = 1.2\n",
    "growth_days = 7\n",
    "finally_stock_price = stock_price*stock_price_daily_growth_factor**growth_days\n",
    "message1 = f\"公司：{name}，股票代码：{stock_code}，当前股价：{stock_price}\"\n",
    "message2 = \"每日增长系数为%.1f，经过%d天的增长后，股价达到了：%.2f\" % (stock_price_daily_growth_factor, growth_days, finally_stock_price)\n",
    "print(message1)\n",
    "print(message2)"
   ]
  },
  {
   "cell_type": "code",
   "execution_count": 27,
   "id": "566d4c09",
   "metadata": {},
   "outputs": [
    {
     "name": "stdout",
     "output_type": "stream",
     "text": [
      "请告诉我你是谁？\n",
      "张三\n",
      "我知道了，你是张三\n"
     ]
    }
   ],
   "source": [
    "print(\"请告诉我你是谁？\")\n",
    "name = input()\n",
    "print(f\"我知道了，你是{name}\")"
   ]
  },
  {
   "cell_type": "code",
   "execution_count": 28,
   "id": "14a5ae63",
   "metadata": {},
   "outputs": [
    {
     "name": "stdout",
     "output_type": "stream",
     "text": [
      "张三\n",
      "我知道了，你是张三\n"
     ]
    }
   ],
   "source": [
    "print(f\"我知道了，你是{input()}\")"
   ]
  },
  {
   "cell_type": "code",
   "execution_count": 29,
   "id": "cb798d60",
   "metadata": {},
   "outputs": [
    {
     "name": "stdout",
     "output_type": "stream",
     "text": [
      "你是谁？张三\n",
      "我知道了，你是张三\n"
     ]
    }
   ],
   "source": [
    "print(f\"我知道了，你是{input('你是谁？')}\")"
   ]
  },
  {
   "cell_type": "code",
   "execution_count": 32,
   "id": "419aff89",
   "metadata": {},
   "outputs": [
    {
     "name": "stdout",
     "output_type": "stream",
     "text": [
      "请告诉我你是谁？张三\n",
      "我知道了，你是张三\n"
     ]
    }
   ],
   "source": [
    "# 也可以直接在input中进行询问，如：\n",
    "name = input(\"请告诉我你是谁？\")\n",
    "print(\"我知道了，你是%s\" % name )"
   ]
  },
  {
   "cell_type": "code",
   "execution_count": 33,
   "id": "de329c71",
   "metadata": {},
   "outputs": [
    {
     "name": "stdout",
     "output_type": "stream",
     "text": [
      "请输入密码123456\n",
      "密码错误\n"
     ]
    }
   ],
   "source": [
    "num = input(\"请输入密码\")\n",
    "print(\"密码错误\")"
   ]
  },
  {
   "cell_type": "code",
   "execution_count": 34,
   "id": "72d76f34",
   "metadata": {},
   "outputs": [
    {
     "name": "stdout",
     "output_type": "stream",
     "text": [
      "请输入密码123456\n",
      "<class 'str'>\n",
      "请输入密码123456\n",
      "<class 'int'>\n"
     ]
    }
   ],
   "source": [
    "num = input(\"请输入密码\")\n",
    "print(type(num))\n",
    "\n",
    "# 输入内容总是字符串，但是可以进行转换，比如：\n",
    "num = input(\"请输入密码\")\n",
    "num = int(num)\n",
    "print(type(num))"
   ]
  },
  {
   "cell_type": "code",
   "execution_count": 35,
   "id": "bf5d09c5",
   "metadata": {},
   "outputs": [
    {
     "name": "stdout",
     "output_type": "stream",
     "text": [
      "请输入您的姓名张三\n",
      "您好：尊敬的张三,您是尊贵的SVIP用户，欢迎您的光临\n"
     ]
    }
   ],
   "source": [
    "# 第一阶段-第二章-15-数据输入-欢迎登录小程序\n",
    "user_name = input(\"请输入您的姓名\")\n",
    "user_type = \"SVIP用户\"\n",
    "print(f\"您好：尊敬的{user_name},您是尊贵的{user_type}，欢迎您的光临\")"
   ]
  }
 ],
 "metadata": {
  "kernelspec": {
   "display_name": "Python 3 (ipykernel)",
   "language": "python",
   "name": "python3"
  },
  "language_info": {
   "codemirror_mode": {
    "name": "ipython",
    "version": 3
   },
   "file_extension": ".py",
   "mimetype": "text/x-python",
   "name": "python",
   "nbconvert_exporter": "python",
   "pygments_lexer": "ipython3",
   "version": "3.10.9"
  }
 },
 "nbformat": 4,
 "nbformat_minor": 5
}

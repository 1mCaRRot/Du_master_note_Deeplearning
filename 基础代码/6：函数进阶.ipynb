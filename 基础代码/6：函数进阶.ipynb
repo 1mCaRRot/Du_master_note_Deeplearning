{
 "cells": [
  {
   "cell_type": "code",
   "execution_count": 1,
   "id": "0e0b1f25",
   "metadata": {},
   "outputs": [
    {
     "name": "stdout",
     "output_type": "stream",
     "text": [
      "1\n",
      "2\n",
      "1\n",
      "字符串\n",
      "True\n"
     ]
    }
   ],
   "source": [
    "# 如果一个函数需要有多个返回值，可以用逗号隔开，即：return 1, 2  如：\n",
    "def test_return():\n",
    "    return 1, 2       # 这里返回值为1，2\n",
    "x, y = test_return()  #这里用x接收1，y接收2\n",
    "print(x)\n",
    "print(y)\n",
    "\n",
    "# 返回值类型不受限制，如：\n",
    "def test_return():\n",
    "    return 1, \"字符串\", True\n",
    "x, y, z = test_return()  #这里用x接收1，y接收字符串，z接收True，因为有三个返回值，故而需要用三个变量进行接收\n",
    "print(x)\n",
    "print(y)\n",
    "print(z)"
   ]
  },
  {
   "cell_type": "code",
   "execution_count": 2,
   "id": "8098f67e",
   "metadata": {},
   "outputs": [
    {
     "name": "stdout",
     "output_type": "stream",
     "text": [
      "你的姓名是张三，年龄18岁，性别：男\n",
      "你的姓名是张三，年龄18岁，性别：男\n",
      "你的姓名是张三，年龄18岁，性别：男\n",
      "你的姓名是张三，年龄18岁，性别：男\n",
      "你的名字是tom，年龄18岁，性别是男\n",
      "你的名字是tom，年龄18岁，性别是女\n",
      "args参数的类型是：<class 'tuple'>，内容为：(37, 515, 628, True, 'str')\n",
      "kwargs参数的类型是：<class 'dict'>，内容为：{'name': '张三', 'age': 18, 'gender': '男'}\n"
     ]
    }
   ],
   "source": [
    "def user_info(name, age, gender):\n",
    "    print(f\"你的姓名是{name}，年龄{age}岁，性别：{gender}\")\n",
    "\n",
    "# 位置参数：调用函数时根据函数定义的参数位置来传递参数，如：\n",
    "user_info(\"张三\", 18, \"男\")\n",
    "\n",
    "# 关键字参数：函数调用时通过“键 = 值”形式传递参数，好处是可以使函数更容易使用，且清除了参数的顺序需求，如\n",
    "user_info(name = \"张三\", age = 18, gender = \"男\")\n",
    "user_info(age = 18, gender = \"男\", name = \"张三\")   # 位置可以交换\n",
    "user_info(\"张三\", gender = \"男\", age = 18)          #可以位置参数和关键字参数交替使用\n",
    "# 应当注意：调用函数时，如果有位置参数时，位置参数必须在关键字参数的前面，但关键字参数之间不存在先后顺序\n",
    "# （错误示范）如：user_info(name = \"张三\", \"男\", age = 18)   会报错\n",
    "\n",
    "# 缺省参数(或称默认参数):用于定义函数,为参数提供默认值,当调用函数时没有传递参数,就会默认使用缺省参数对应的值,如:\n",
    "def user_info(name, age, gender = \"男\"): \n",
    "    print(f\"你的名字是{name}，年龄{age}岁，性别是{gender}\")\n",
    "user_info(\"tom\", 18)        # 如果这里不传入性别参数，则会使用默认值“男”\n",
    "user_info(\"tom\", 18, \"女\")  # 这里传入性别参数，就会传出自己传入的性别参数\n",
    "# 所有位置参数都必须出现在默认参数前，包括函数的定义过程和调用过程！！！\n",
    "\n",
    "# 不定长参数（或称可变参数）：用于 不确定 调用的时候会传递多少个参数  的场景。分为位置不定长、关键字不定长两种情况：\n",
    "\n",
    "# 位置不定长（*号）：不定长定义的形式参数会作为元组存在，接收不定长数量的参数传入，如：\n",
    "def user_info(*args):  #这里的args是一种规范，也可以起其它的名称\n",
    "    print(f\"args参数的类型是：{type(args)}，内容为：{args}\")\n",
    "user_info(37, 515, 628, True, \"str\")   # 数据的形式不受限\n",
    "\n",
    "# 关键字不定长（**号）：不定长定义的形式参数会作为字典存在，接收不定长数量的参数传入，如：\n",
    "def user_info(**kwargs):  #这里的kwargs(keyword args)是一种规范，也可以起其它的名称\n",
    "    print(f\"kwargs参数的类型是：{type(kwargs)}，内容为：{kwargs}\")\n",
    "user_info(name = \"张三\", age = 18, gender = \"男\")# 传入时的数据形式受限，必须以key = value的形式进行"
   ]
  },
  {
   "cell_type": "code",
   "execution_count": 3,
   "id": "30ef54ab",
   "metadata": {},
   "outputs": [
    {
     "name": "stdout",
     "output_type": "stream",
     "text": [
      "3\n",
      "3\n"
     ]
    }
   ],
   "source": [
    "# 函数作为参数传递\n",
    "# 先定义函数，注意这两个函数定义的顺序不重要，只需要调用时都已被定义即可\n",
    "def test_func(add):\n",
    "    result = add(1, 2)\n",
    "    print(result)\n",
    "def add(x, y):\n",
    "    result = x + y\n",
    "    return result\n",
    "# 调用函数（类似复合函数？？？）\n",
    "test_func(add)\n",
    "\n",
    "# def函数：可以重复使用的函数，有名称\n",
    "# lambda函数：只能临时使用一次，无名称  语法：lambda 传入参数：函数体（一行代码）\n",
    "# 注：def函数需要进行换行，但是lambda函数只能写一行，不可以写多行代码，如上述代码可以改为：\n",
    "def test_func(add):\n",
    "    result = add(1, 2)\n",
    "    print(result)\n",
    "# 调用函数\n",
    "test_func(lambda x, y: x + y)   # lambda函数的return值就是函数体中的内容，无须定义"
   ]
  }
 ],
 "metadata": {
  "kernelspec": {
   "display_name": "Python 3 (ipykernel)",
   "language": "python",
   "name": "python3"
  },
  "language_info": {
   "codemirror_mode": {
    "name": "ipython",
    "version": 3
   },
   "file_extension": ".py",
   "mimetype": "text/x-python",
   "name": "python",
   "nbconvert_exporter": "python",
   "pygments_lexer": "ipython3",
   "version": "3.10.9"
  }
 },
 "nbformat": 4,
 "nbformat_minor": 5
}

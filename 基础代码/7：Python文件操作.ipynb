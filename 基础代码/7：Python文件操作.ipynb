{
 "cells": [
  {
   "cell_type": "raw",
   "id": "f4084d59",
   "metadata": {},
   "source": [
    "计算机只能识别0、1，因此我们的文本文件是通过编码技术，将内容翻译成0和1存入，读取时只需要反像翻译即可得到文本文件。\n",
    "编码有许多种，为了防止存储和读取的错位，需要使用通用的编码技术，现在最常用的就是UTF-8编码。"
   ]
  },
  {
   "cell_type": "code",
   "execution_count": 1,
   "id": "fd49dafc",
   "metadata": {},
   "outputs": [
    {
     "name": "stdout",
     "output_type": "stream",
     "text": [
      "<class '_io.TextIOWrapper'>\n",
      "<_io.TextIOWrapper name='D:\\\\☆ Mathmatics\\\\研0\\\\编程\\\\☆Python\\\\第一阶段\\\\注意.txt' mode='r' encoding='UTF-8'>\n",
      "读取10个字节的结果是：对应B站视频：【黑马\n",
      "读取全部字节的结果是：程序员python教程，8天python从入门到精通，学python看这套就够了】\n",
      "链接：https://www.bilibili.com/video/BV1qW4y1a7fU?vd_source=ec3fc48edc64c8f15a1952690eec25ed\n",
      "\n",
      "这里的标号+1就是b站视频的标题，因为课程中第一单元没有内容\n"
     ]
    }
   ],
   "source": [
    "# 在Python中，使用open函数，可以打开一个已经存在的文件，或者创建一个新文件，语法为： open(name, mode, encoding)\n",
    "\"\"\"name：是要打开的目标文件的字符串（可以包含文件所在的具体路径）。\n",
    "mode：设置打开文件的模式（访问模式），包括只读、写入、追加等。\n",
    "encoding：编码格式（推荐使用UTF-8）。\n",
    "r（只读,read）：以只读方式打开文件。文件的指针将会放在文件的开头，此为默认模式。\n",
    "w（写入,write）：打开一个文件 只 用于写入。如果该文件不存在，创建新文件，如果文件存在，则打开文件，并从头开始编辑，原有内容删除。\n",
    "a（追加,append）：打开一个文件用于追加。如果该文件不存在，创建新文件，如果文件存在，则打开文件，新的内容会被写入到已有内容之后。\"\"\"\n",
    "f = open(\"D:\\☆ Mathmatics\\研0\\编程\\☆Python\\第一阶段\\注意.txt\", \"r\", encoding = \"UTF-8\")  # 这里的f是函数的文件对象，后续会有介绍\n",
    "print(type(f))\n",
    "print(f)\n",
    "\n",
    "# 读取 指定字节的 文件： 语法： 文件.read(num)     注：在使用语法前，需要先使用open函数打开文件，并定义变量接收打开的文件\n",
    "print(f\"读取10个字节的结果是：{f.read(10)}\")\n",
    "# 读取 文件   ： 语法： 文件.read()  注：和上一个区别在于没有括号的num，即一口气全部读取\n",
    "print(f\"读取全部字节的结果是：{f.read()}\")     # 因为上一次读取停留在了第10个字节后，所以再次调用时会从第11个字符开始\n",
    "\n",
    "# 关闭文件对象： 语法： 文件.close()\n",
    "f.close()    # 代码结束时应该关闭文件，不然Python就会一直占用文件！"
   ]
  },
  {
   "cell_type": "code",
   "execution_count": 2,
   "id": "f08c1e2b",
   "metadata": {},
   "outputs": [
    {
     "name": "stdout",
     "output_type": "stream",
     "text": [
      "lines对象的类型是：<class 'list'>\n",
      "lines对象的内容是：['这是第一行\\n', '第二行\\n', '第三行\\n', '第四行']\n",
      "第一行的内容是：这是第一行\n",
      "\n",
      "第二行的内容是：第二行\n",
      "\n",
      "第三行的内容是：第三行\n",
      "\n",
      "line1对象的类型是：<class 'str'>\n"
     ]
    }
   ],
   "source": [
    "# 错误演示：f = open(\"D:\\☆ Mathmatics\\研0\\编程\\☆Python\\第一阶段\\7：Python文件操作\\文本文档\\演示文档.txt\", \"r\", encoding = \"UTF-8\")\n",
    "# 错误原因：Python中的反斜杠 \\ 表示转义序列，而且 \\7 表示八进制数字为7的字符，因此如果运行上一行代码会报错，但是上一组代码不会报错\n",
    "# 如果纠正错误，可以使用以下方式：\n",
    "'''1：使用原始字符串自变量（在前面加 r），如：\n",
    "f = open(r\"D:\\☆ Mathmatics\\研0\\编程\\☆Python\\第一阶段\\7：Python文件操作\\文本文档\\演示文档.txt\", \"r\", encoding=\"UTF-8\")\n",
    "\n",
    "2：将反斜杠转义：如：\n",
    "f = open(\"D:\\\\☆ Mathmatics\\\\研0\\\\编程\\\\☆Python\\\\第一阶段\\\\7：Python文件操作\\\\文本文档\\\\演示文档.txt\", \"r\", encoding=\"UTF-8\")\n",
    "\n",
    "推荐☆ 3：将反斜杠换为正斜杠 / ，如：\n",
    "f = open(\"D:/☆ Mathmatics/研0/编程/☆Python/第一阶段/7：Python文件操作/文本文档/演示文档.txt\", \"r\", encoding=\"UTF-8\")'''\n",
    "\n",
    "# 打开文件\n",
    "f = open(\"D:/☆ Mathmatics/研0/编程/☆Python/第一阶段/7：Python文件操作/文本文档/演示文档.txt\", \"r\", encoding=\"UTF-8\")\n",
    "h = open(\"D:/☆ Mathmatics/研0/编程/☆Python/第一阶段/7：Python文件操作/文本文档/演示文档.txt\", \"r\", encoding=\"UTF-8\")\n",
    "# 读取文件的全部行，并封装到列表中： 语法： 文件.readlines()\n",
    "lines = f.readlines()\n",
    "print(f\"lines对象的类型是：{type(lines)}\")\n",
    "print(f\"lines对象的内容是：{lines}\")   # 这里输出的 \\n 表示换行\n",
    "f.close()\n",
    "\n",
    "# 一次读取一行内容： 语法： 文件.readline()  作用：使用一次readline函数，就读取一行，这里输出的是字符串！\n",
    "line1 = h.readline()\n",
    "line2 = h.readline()\n",
    "line3 = h.readline()\n",
    "print(f\"第一行的内容是：{line1}\")\n",
    "print(f\"第二行的内容是：{line2}\")\n",
    "print(f\"第三行的内容是：{line3}\")\n",
    "print(f\"line1对象的类型是：{type(line1)}\")\n",
    "h.close()"
   ]
  },
  {
   "cell_type": "code",
   "execution_count": 3,
   "id": "4e6ee333",
   "metadata": {},
   "outputs": [
    {
     "name": "stdout",
     "output_type": "stream",
     "text": [
      "每一行数据是：这是第一行\n",
      "\n",
      "每一行数据是：第二行\n",
      "\n",
      "每一行数据是：第三行\n",
      "\n",
      "每一行数据是：第四行\n"
     ]
    }
   ],
   "source": [
    "# for循环读取文件行。  注：文本文件中，每一行 视为 一个元素，故而可以用for循环 遍历 文本文件 的行\n",
    "f = open(\"D:/☆ Mathmatics/研0/编程/☆Python/第一阶段/7：Python文件操作/文本文档/演示文档.txt\", \"r\", encoding=\"UTF-8\")\n",
    "\n",
    "for line in f:\n",
    "    print(f\"每一行数据是：{line}\")\n",
    "f.close()"
   ]
  },
  {
   "cell_type": "code",
   "execution_count": 4,
   "id": "7860360b",
   "metadata": {},
   "outputs": [
    {
     "name": "stdout",
     "output_type": "stream",
     "text": [
      "每一行数据为：这是第一行\n",
      "\n",
      "每一行数据为：第二行\n",
      "\n",
      "每一行数据为：第三行\n",
      "\n",
      "每一行数据为：第四行\n"
     ]
    }
   ],
   "source": [
    "# 自动关闭文件： 语法：with open(路径等) as 变量名:   作用：在 with open 下进行的文件操作会在结束后自动结束 对文件的调用 ，如：\n",
    "with open(\"D:/☆ Mathmatics/研0/编程/☆Python/第一阶段/7：Python文件操作/文本文档/演示文档.txt\", \"r\", encoding=\"UTF-8\") as f:\n",
    "    for line in f:\n",
    "        print(f\"每一行数据为：{line}\")"
   ]
  },
  {
   "cell_type": "code",
   "execution_count": 5,
   "id": "31d19c91",
   "metadata": {},
   "outputs": [
    {
     "name": "stdout",
     "output_type": "stream",
     "text": [
      "8\n"
     ]
    }
   ],
   "source": [
    "# 第一阶段-第八章-02-文件的读取和操作 课后练习：单词计数\n",
    "with open(r\"D:\\☆ Mathmatics\\研0\\编程\\☆Python\\第一阶段\\7：Python文件操作\\文本文档\\8-2单词计数.txt\", \"r\", encoding = \"UTF-8\") as f:\n",
    "    count = 0\n",
    "    for line in f:\n",
    "        num = line.count(\"itheima\")   # 因为这里的line是字符串，故而可以使用字符串的查询元素数量方法（count）\n",
    "        count += num\n",
    "    print(count)"
   ]
  },
  {
   "cell_type": "code",
   "execution_count": 6,
   "id": "31cd81b0",
   "metadata": {},
   "outputs": [],
   "source": [
    "# 文件写入需要使用\"w\"，即写入\n",
    "# 直接调用write，内容并不会直接进入文件，而是积攒在程序内存的缓冲区，在调用flush之后才会真正写入文件，可避免频繁的操作硬盘，导致效率下降\n",
    "\n",
    "# 文件写入： 语法： 文件.write(指定内容)\n",
    "# 内容刷新： 语法： 文件.flush()\n",
    "\n",
    "f = open(\"D:/☆ Mathmatics/研0/编程/☆Python/第一阶段/7：Python文件操作/文本文档/8-4.txt\", \"w\")\n",
    "f.write(\"Hello World!\")\n",
    "f.flush()\n",
    "f.close()\n",
    "# 如果不调用flush，直接调用close也可以写入文件，因为close语法内置了flush语法。\n",
    "\n",
    "# 文件追加需要使用\"a\"，即追加\n",
    "# 文件追加的相关操作和文件写入是一致的"
   ]
  },
  {
   "cell_type": "code",
   "execution_count": 7,
   "id": "0bc14acb",
   "metadata": {},
   "outputs": [],
   "source": [
    "# 第一阶段-第八章-06-文件操作的综合案例 \n",
    "fr = open(\"D:/☆ Mathmatics/研0/编程/☆Python/第一阶段/7：Python文件操作/文本文档/8-6综合案例.txt\", \"r\", encoding = \"UTF-8\")\n",
    "fw = open(\"D:/☆ Mathmatics/研0/编程/☆Python/第一阶段/7：Python文件操作/文本文档/8-6综合案例.txt.bak\", \"w\", encoding = \"UTF-8\")\n",
    "for line in fr:\n",
    "    line = line.strip()   # 这里可以去掉换行符 \\n\n",
    "    if line.split(\"，\")[4] == \"测试\" : # 这里的split语法可以去掉逗号，得到的是列表，跟一个下标索引4表示判断最后一个是“测试”还是“正式”\n",
    "        continue   # 进入下一次循环\n",
    "    fw.write(line)\n",
    "    fw.write(\"\\n\")   # 由于strip语法去掉了换行符，所以这里要自己加上\n",
    "fr.close()\n",
    "fw.close()"
   ]
  }
 ],
 "metadata": {
  "kernelspec": {
   "display_name": "Python 3 (ipykernel)",
   "language": "python",
   "name": "python3"
  },
  "language_info": {
   "codemirror_mode": {
    "name": "ipython",
    "version": 3
   },
   "file_extension": ".py",
   "mimetype": "text/x-python",
   "name": "python",
   "nbconvert_exporter": "python",
   "pygments_lexer": "ipython3",
   "version": "3.10.9"
  }
 },
 "nbformat": 4,
 "nbformat_minor": 5
}

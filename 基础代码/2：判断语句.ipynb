{
 "cells": [
  {
   "cell_type": "code",
   "execution_count": 1,
   "id": "252632c8",
   "metadata": {},
   "outputs": [
    {
     "name": "stdout",
     "output_type": "stream",
     "text": [
      "10 > 5的结果是True,类型是<class 'bool'>\n"
     ]
    }
   ],
   "source": [
    "# 布尔类型（bool）用于表示真和假；布尔表示现实生活中的逻辑真假，True表示真（本质是一个数字记作1），False假（本质是一个数字记作0）\n",
    "result = 10 > 5\n",
    "print(f\"10 > 5的结果是{result},类型是{type(result)}\")"
   ]
  },
  {
   "cell_type": "code",
   "execution_count": 2,
   "id": "5629950c",
   "metadata": {},
   "outputs": [
    {
     "name": "stdout",
     "output_type": "stream",
     "text": [
      "10 > 5的结果是True,类型是<class 'bool'>\n"
     ]
    }
   ],
   "source": [
    "# 另外一种表述方式：\n",
    "print(f\"10 > 5的结果是{10 > 5},类型是{type(10 > 5)}\")"
   ]
  },
  {
   "cell_type": "code",
   "execution_count": 3,
   "id": "32f2ecf4",
   "metadata": {},
   "outputs": [
    {
     "name": "stdout",
     "output_type": "stream",
     "text": [
      "False <class 'bool'>\n"
     ]
    }
   ],
   "source": [
    "# “ == ”用于判断两者是否相等\n",
    "result = 143142 == 143112\n",
    "print(result,type(result))"
   ]
  },
  {
   "cell_type": "code",
   "execution_count": 4,
   "id": "7a26c1ca",
   "metadata": {},
   "outputs": [
    {
     "name": "stdout",
     "output_type": "stream",
     "text": [
      "3 == 7 的结果是：False\n",
      "3 != 7 的结果是：True\n",
      " 3 > 7 的结果是：False\n",
      " 3 < 7 的结果是：True\n",
      "3 >= 7 的结果是：False\n",
      "3 <= 7 的结果是：True\n",
      "3 >= 3 的结果是：True\n",
      "3 <= 3 的结果是：True\n"
     ]
    }
   ],
   "source": [
    "''' 比较运算符的符号：（满足即为True，不满足即为False）\n",
    "==  判断内容是否相等\n",
    "!=  判断内容是否不相等\n",
    ">   判断运算符左侧内容是否大于右侧\n",
    "<   判断运算符左侧内容是否小于右侧\n",
    ">=  判断运算符左侧内容是否大于等于右侧\n",
    "<=  判断运算符左侧内容是否小于等于右侧  '''\n",
    "\n",
    "num1 = 3\n",
    "num2 = 7\n",
    "num3 = 7\n",
    "print(f\"3 == 7 的结果是：{num1 == num2}\")\n",
    "print(f\"3 != 7 的结果是：{num1 != num2}\")\n",
    "print(f\" 3 > 7 的结果是：{num1 > num2}\")\n",
    "print(f\" 3 < 7 的结果是：{num1 < num2}\")\n",
    "print(f\"3 >= 7 的结果是：{num1 >= num2}\")\n",
    "print(f\"3 <= 7 的结果是：{num1 <= num2}\")\n",
    "print(f\"3 >= 3 的结果是：{num2 >= num3}\")\n",
    "print(f\"3 <= 3 的结果是：{num2 <= num3}\")"
   ]
  },
  {
   "cell_type": "code",
   "execution_count": 5,
   "id": "75d9fd88",
   "metadata": {},
   "outputs": [
    {
     "name": "stdout",
     "output_type": "stream",
     "text": [
      "我已经成年了\n"
     ]
    }
   ],
   "source": [
    "'''if 要判断的条件：\n",
    "若条件成立，要做的事情'''\n",
    "# 定义变量\n",
    "age = 37\n",
    "# 进行判断\n",
    "if age >= 18:\n",
    "    print(\"我已经成年了\")\n",
    "if age < 18:\n",
    "    print(\"我还没有成年\")\n",
    "# if 后面的冒号注意不要遗漏，且缩进为4格的内容对应上面的if语句"
   ]
  },
  {
   "cell_type": "code",
   "execution_count": 6,
   "id": "7747f041",
   "metadata": {},
   "outputs": [
    {
     "name": "stdout",
     "output_type": "stream",
     "text": [
      "请输入你的年龄17\n",
      "你还没有成年\n",
      "请在家长陪同下进行游玩\n"
     ]
    }
   ],
   "source": [
    "# 因为input语句默认为字符串类型，因此应该转换为int类型进行比较\n",
    "age = int(input(\"请输入你的年龄\"))\n",
    "if age >= 18:\n",
    "    print(\"你已经成年了\")\n",
    "    print(\"可以游玩该游戏\")\n",
    "if age < 18:\n",
    "    print(\"你还没有成年\")\n",
    "    print(\"请在家长陪同下进行游玩\")"
   ]
  },
  {
   "cell_type": "code",
   "execution_count": 7,
   "id": "4653422d",
   "metadata": {},
   "outputs": [
    {
     "name": "stdout",
     "output_type": "stream",
     "text": [
      "请输入你的六位数字密码123456\n",
      "密码正确，请稍后\n"
     ]
    }
   ],
   "source": [
    "# 因为input语句默认为字符串类型，因此应该转换为int类型进行比较\n",
    "password = int(input(\"请输入你的六位数字密码\"))\n",
    "if password != 123456:\n",
    "    print(\"密码错误，请重新输入\")\n",
    "if password == 123456:\n",
    "    print(\"密码正确，请稍后\")"
   ]
  },
  {
   "cell_type": "code",
   "execution_count": 8,
   "id": "56bc6bfe",
   "metadata": {},
   "outputs": [
    {
     "name": "stdout",
     "output_type": "stream",
     "text": [
      "请输入你的六位数字密码123123\n",
      "密码错误，请重新输入\n"
     ]
    }
   ],
   "source": [
    "# 因为input语句默认为字符串类型，因此应该转换为int类型进行比较\n",
    "password = int(input(\"请输入你的六位数字密码\"))\n",
    "if password != 123456:\n",
    "    print(\"密码错误，请重新输入\")\n",
    "if password == 123456:\n",
    "    print(\"密码正确，请稍后\")"
   ]
  },
  {
   "cell_type": "code",
   "execution_count": 9,
   "id": "ae37455e",
   "metadata": {},
   "outputs": [
    {
     "name": "stdout",
     "output_type": "stream",
     "text": [
      "欢迎来到儿童游乐园，儿童免费，成人收费，请输入你的年龄18\n",
      "你已成年，游玩需要补票10元\n",
      "祝你游玩愉快\n"
     ]
    }
   ],
   "source": [
    "# 第一阶段-第三章-02-if语句的基本格式 课后作业\n",
    "age = int(input('欢迎来到儿童游乐园，儿童免费，成人收费，请输入你的年龄'))\n",
    "if age >= 18:\n",
    "    print(\"你已成年，游玩需要补票10元\")\n",
    "if age < 18:\n",
    "    print(\"你未满18岁，可以免费游玩\")\n",
    "print(\"祝你游玩愉快\")"
   ]
  },
  {
   "cell_type": "code",
   "execution_count": 10,
   "id": "7f837ef7",
   "metadata": {},
   "outputs": [
    {
     "name": "stdout",
     "output_type": "stream",
     "text": [
      "欢迎来到儿童游乐园，儿童免费，成人收费，请输入你的年龄17\n",
      "你未满18岁，可以免费游玩\n",
      "祝你游玩愉快\n"
     ]
    }
   ],
   "source": [
    "# 第一阶段-第三章-02-if语句的基本格式 课后作业\n",
    "age = int(input('欢迎来到儿童游乐园，儿童免费，成人收费，请输入你的年龄'))\n",
    "if age >= 18:\n",
    "    print(\"你已成年，游玩需要补票10元\")\n",
    "if age < 18:\n",
    "    print(\"你未满18岁，可以免费游玩\")\n",
    "print(\"祝你游玩愉快\")\n",
    "# 这里小于18岁可以不加，这样就直接蹦出来“祝你游玩愉快”，以后可以试着使用这种思路"
   ]
  },
  {
   "cell_type": "code",
   "execution_count": 11,
   "id": "80a474fa",
   "metadata": {},
   "outputs": [
    {
     "name": "stdout",
     "output_type": "stream",
     "text": [
      "成年\n"
     ]
    }
   ],
   "source": [
    "# (else的意思是“否则”)else语句与if语句搭配使用，if语句用于“满足条件时做什么”，else语句用于“不满足条件时做什么”，如：\n",
    "age = 19\n",
    "if age >= 18:\n",
    "    print(\"成年\")\n",
    "else:\n",
    "    print(\"未成年\")"
   ]
  },
  {
   "cell_type": "code",
   "execution_count": 12,
   "id": "0e8bef4f",
   "metadata": {},
   "outputs": [
    {
     "name": "stdout",
     "output_type": "stream",
     "text": [
      "未成年\n"
     ]
    }
   ],
   "source": [
    "# (else的意思是“否则”)else语句与if语句搭配使用，if语句用于“满足条件时做什么”，else语句用于“不满足条件时做什么”，如：\n",
    "# else不需要加判断条件，且同样需要4个空格作为代码的缩进\n",
    "age = 17\n",
    "if age >= 18:\n",
    "    print(\"成年\")\n",
    "else:\n",
    "    print(\"未成年\")"
   ]
  },
  {
   "cell_type": "code",
   "execution_count": 13,
   "id": "6c2e8dd2",
   "metadata": {},
   "outputs": [
    {
     "name": "stdout",
     "output_type": "stream",
     "text": [
      "欢迎来到本市最大的动物园，请输入你的身高（cm）：119.6\n",
      "你的身高未超出120cm，可以免费游玩。\n",
      "祝你游玩愉快！\n"
     ]
    }
   ],
   "source": [
    "# 第一阶段-第三章-04-if else组合判断语句 课后作业\n",
    "# 因为身高可能有小数，所以转换为float类型（浮点型）\n",
    "height = float(input(\"欢迎来到本市最大的动物园，请输入你的身高（cm）：\"))\n",
    "if height > 120 :\n",
    "    print(\"你的身高超出120cm，游玩需要补票10元。\")\n",
    "else :\n",
    "    print(\"你的身高未超出120cm，可以免费游玩。\")\n",
    "print(\"祝你游玩愉快！\")"
   ]
  },
  {
   "cell_type": "code",
   "execution_count": 14,
   "id": "959f0474",
   "metadata": {},
   "outputs": [
    {
     "name": "stdout",
     "output_type": "stream",
     "text": [
      "欢迎来到本市最大的动物园，请输入你的身高（cm）：120.4\n",
      "你的身高超出120cm，游玩需要补票10元。\n",
      "祝你游玩愉快！\n"
     ]
    }
   ],
   "source": [
    "# 第一阶段-第三章-04-if else组合判断语句 课后作业\n",
    "# 因为身高可能有小数，所以转换为float类型（浮点型）\n",
    "height = float(input(\"欢迎来到本市最大的动物园，请输入你的身高（cm）：\"))\n",
    "if height > 120 :\n",
    "    print(\"你的身高超出120cm，游玩需要补票10元。\")\n",
    "if height <= 120 :\n",
    "    print(\"你的身高未超出120cm，可以免费游玩。\")\n",
    "print(\"祝你游玩愉快！\")"
   ]
  },
  {
   "cell_type": "code",
   "execution_count": 15,
   "id": "4cea65d5",
   "metadata": {},
   "outputs": [
    {
     "name": "stdout",
     "output_type": "stream",
     "text": [
      "请输入你的身高（cm）：120\n",
      "请输入你的VIP等级2\n",
      "抱歉，你的身高不小于120cm，且VIP等级不大于3级，需要补票10元\n",
      "祝你游玩愉快\n"
     ]
    }
   ],
   "source": [
    "\"\"\"if elif else语句：（else为所有条件均不满足时做的事情）\n",
    "if 条件1满足：\n",
    "    怎么怎么样  \n",
    "elif 条件2满足： \n",
    "    怎么怎么样  \n",
    "elif 条件N满足： \n",
    "    怎么怎么样\n",
    "else:\n",
    "    怎么怎么样\n",
    "\"\"\"\n",
    "# 若if条件满足，elif条件就不再进行判定；若if不满足，elif满足，后面的elif就不再进行判定；直至else条件，比如：\n",
    "height = float(input(\"请输入你的身高（cm）：\"))\n",
    "vip_level = int(input(\"请输入你的VIP等级\"))\n",
    "if height < 120 :\n",
    "    print(\"身高小于120cm，可以免费游玩\")\n",
    "elif vip_level > 3 :\n",
    "    print(\"VIP等级大于3，可以免费游玩\")\n",
    "else :\n",
    "    print(\"抱歉，你的身高不小于120cm，且VIP等级不大于3级，需要补票10元\")\n",
    "print(\"祝你游玩愉快\")"
   ]
  },
  {
   "cell_type": "code",
   "execution_count": 16,
   "id": "9a28a383",
   "metadata": {},
   "outputs": [
    {
     "name": "stdout",
     "output_type": "stream",
     "text": [
      "请输入你的身高（cm）：134\n",
      "请输入你的VIP等级：5\n",
      "请输入今天是本月的几号：1\n",
      "VIP等级大于3，可以免费游玩\n",
      "祝你游玩愉快\n"
     ]
    }
   ],
   "source": [
    "\"\"\"if elif else语句：（else为所有条件均不满足时做的事情）\n",
    "if 条件1满足：\n",
    "    怎么怎么样  \n",
    "elif 条件2满足： \n",
    "    怎么怎么样  \n",
    "elif 条件N满足： \n",
    "    怎么怎么样\n",
    "else:\n",
    "    怎么怎么样\n",
    "\"\"\"\n",
    "# 若if条件满足，elif条件就不再进行判定；若if不满足，elif满足，后面的elif就不再进行判定；直至else条件，比如：\n",
    "height = float(input(\"请输入你的身高（cm）：\"))\n",
    "vip_level = int(input(\"请输入你的VIP等级：\"))\n",
    "day = int(input(\"请输入今天是本月的几号：\"))\n",
    "if height < 120 :\n",
    "    print(\"身高小于120cm，可以免费游玩\")\n",
    "elif vip_level > 3 :\n",
    "    print(\"VIP等级大于3，可以免费游玩\")\n",
    "elif day == 1 :\n",
    "    print(\"今天是1号免费日，可以免费游玩\")\n",
    "else :\n",
    "    print(\"抱歉，你的身高不小于120cm，且VIP等级不大于3级，并且不是每月的免费日，需要补票10元\")\n",
    "print(\"祝你游玩愉快\")\n",
    "\n",
    "# if elif else 语句中可以没有else，区别就是如果不满足所有条件时，不会再执行其他操作"
   ]
  },
  {
   "cell_type": "code",
   "execution_count": 17,
   "id": "defa8904",
   "metadata": {},
   "outputs": [
    {
     "name": "stdout",
     "output_type": "stream",
     "text": [
      "请输入你的身高（cm）：179\n",
      "请输入你的VIP等级：5\n",
      "VIP等级大于3，可以免费游玩\n",
      "祝你游玩愉快\n"
     ]
    }
   ],
   "source": [
    "# 上述代码其实可以进行简化：\n",
    "if float(input(\"请输入你的身高（cm）：\"))< 120 :\n",
    "    print(\"身高小于120cm，可以免费游玩\")\n",
    "elif int(input(\"请输入你的VIP等级：\")) > 3 :\n",
    "    print(\"VIP等级大于3，可以免费游玩\")\n",
    "elif int(input(\"请输入今天是本月的几号：\")) == 1 :\n",
    "    print(\"今天是1号免费日，可以免费游玩\")\n",
    "else :\n",
    "    print(\"抱歉，你的身高不小于120cm，且VIP等级不大于3级，并且不是每月的免费日，需要补票10元\")\n",
    "print(\"祝你游玩愉快\")"
   ]
  },
  {
   "cell_type": "code",
   "execution_count": 18,
   "id": "84a2ccfe",
   "metadata": {},
   "outputs": [
    {
     "name": "stdout",
     "output_type": "stream",
     "text": [
      "请输入第一次猜想的数字(整数)：1\n",
      "不对，再猜一次：2\n",
      "不对，再猜最后一次：3\n",
      "sorry,全部猜错啦，我想的是：10\n"
     ]
    }
   ],
   "source": [
    "# 第一阶段-第三章-06-if elif else组合语法 课后习题\n",
    "if int(input(\"请输入第一次猜想的数字(整数)：\")) == 10:\n",
    "    print(\"恭喜你猜对啦！\")\n",
    "elif int(input(\"不对，再猜一次：\")) == 10:\n",
    "    print(\"恭喜你猜对啦！\")\n",
    "elif int(input(\"不对，再猜最后一次：\")) == 10:\n",
    "    print(\"恭喜你猜对啦！\")\n",
    "else :\n",
    "    print('sorry,全部猜错啦，我想的是：10')"
   ]
  },
  {
   "cell_type": "code",
   "execution_count": 19,
   "id": "04a8d8e2",
   "metadata": {},
   "outputs": [
    {
     "name": "stdout",
     "output_type": "stream",
     "text": [
      "请输入第一次猜想的数字(整数)：1\n",
      "不对，再猜一次：5\n",
      "不对，再猜最后一次：6\n",
      "sorry,全部猜错啦，我想的是：10\n"
     ]
    }
   ],
   "source": [
    "# 第一阶段-第三章-06-if elif else组合语法 课后习题(优化版本)\n",
    "num = 10\n",
    "if int(input(\"请输入第一次猜想的数字(整数)：\")) == num:\n",
    "    print(\"恭喜你猜对啦！\")\n",
    "elif int(input(\"不对，再猜一次：\")) == num:\n",
    "    print(\"恭喜你猜对啦！\")\n",
    "elif int(input(\"不对，再猜最后一次：\")) == num:\n",
    "    print(\"恭喜你猜对啦！\")\n",
    "else :\n",
    "    print(f'sorry,全部猜错啦，我想的是：{num}')"
   ]
  },
  {
   "cell_type": "code",
   "execution_count": 20,
   "id": "ee3e5a25",
   "metadata": {},
   "outputs": [
    {
     "name": "stdout",
     "output_type": "stream",
     "text": [
      "你的身高是多少cm？130\n",
      "身高超过120cm，不可以免费。\n",
      "但是如果你的VIP等级超过3级时，可以免费\n",
      "你的VIP级别是多少？1\n",
      "抱歉，你需要补票10元\n",
      "祝你游玩愉快！\n"
     ]
    }
   ],
   "source": [
    "# 嵌套判断语句（用于有层次的判断，比如：狗狗收容所会先确定是狗还是猫，如果是狗，需要再满足多大年龄才会判断是否需要填写进一步的资料）\n",
    "# elif表示的是并列，但是嵌套判断是需要满足迭近\n",
    "'''只需要将条件2前面的if缩进4格，这样条件2会在条件1满足的前提下进行判断，比如：\n",
    "if 条件1：\n",
    "    满足条件1做的事情A\n",
    "    if 条件2：\n",
    "        满足条件2做的事情B '''\n",
    "\n",
    "if float(input(\"你的身高是多少cm？\")) > 120:\n",
    "    print(\"身高超过120cm，不可以免费。\")\n",
    "    print(\"但是如果你的VIP等级超过3级时，可以免费\")\n",
    "    if int(input(\"你的VIP级别是多少？\")) > 3 :\n",
    "        print(\"恭喜你，你的VIP等级达标，可以免费！\")\n",
    "    else:\n",
    "        print(\"抱歉，你需要补票10元\")\n",
    "else :\n",
    "    print(\"欢迎你的游玩！\")\n",
    "print(\"祝你游玩愉快！\")"
   ]
  },
  {
   "cell_type": "code",
   "execution_count": 21,
   "id": "a93acccb",
   "metadata": {},
   "outputs": [
    {
     "name": "stdout",
     "output_type": "stream",
     "text": [
      "请输入年龄：19\n",
      "请输入在职时间：3\n",
      "请输入级别：4\n",
      "满足领取条件！\n"
     ]
    }
   ],
   "source": [
    "# 领取奖品条件:必须大于等于18岁小于30岁，在职时间2年以上，级别大于3\n",
    "age = int(input(\"请输入年龄：\"))\n",
    "if age >= 18 :\n",
    "    if age >= 30 :\n",
    "        print(\"年龄超过30岁，无法领取奖励\")\n",
    "    elif age < 30:\n",
    "        if int(input(\"请输入在职时间：\")) > 2:\n",
    "            if int(input(\"请输入级别：\")) > 3:\n",
    "                print(\"满足领取条件！\")\n",
    "            else :\n",
    "                print(\"级别不足，不能领取奖励！\")\n",
    "        else:\n",
    "            print(\"在职时间不足，不能领取奖励！\")\n",
    "else:\n",
    "    print(\"年龄不满18岁，不能领取奖励\")"
   ]
  },
  {
   "cell_type": "code",
   "execution_count": 22,
   "id": "463089c5",
   "metadata": {},
   "outputs": [
    {
     "name": "stdout",
     "output_type": "stream",
     "text": [
      "请输入年龄：19\n",
      "请输入在职时间：3\n",
      "请输入级别：7\n",
      "满足领取条件！\n"
     ]
    }
   ],
   "source": [
    "# 领取奖品条件:必须大于等于18岁小于30岁，在职时间2年以上，级别大于3（优化版本）\n",
    "age = int(input(\"请输入年龄：\"))\n",
    "if age >= 18 :\n",
    "    if age < 30:\n",
    "        if int(input(\"请输入在职时间：\")) > 2:\n",
    "            if int(input(\"请输入级别：\")) > 3:\n",
    "                print(\"满足领取条件！\")\n",
    "            else :\n",
    "                print(\"级别不足，不能领取奖励！\")\n",
    "        else:\n",
    "            print(\"在职时间不足，不能领取奖励！\")\n",
    "    else :          # if age >= 30 :\n",
    "        print(\"年龄超过30岁，无法领取奖励\")\n",
    "else:\n",
    "    print(\"年龄不满18岁，不能领取奖励\")"
   ]
  },
  {
   "cell_type": "code",
   "execution_count": 23,
   "id": "34ae77ec",
   "metadata": {},
   "outputs": [
    {
     "name": "stdout",
     "output_type": "stream",
     "text": [
      "请输入你的身高（cm）：110\n",
      "身高小于120cm，可以免费游玩\n",
      "请输入你的VIP等级：4\n",
      "VIP等级大于3，可以免费游玩\n",
      "请输入今天是本月的几号：5\n",
      "抱歉，你的身高不小于120cm，且VIP等级不大于3级，并且不是每月的免费日，需要补票10元\n",
      "祝你游玩愉快\n",
      "请输入你的身高（cm）：110\n",
      "身高小于120cm，可以免费游玩\n",
      "祝你游玩愉快\n"
     ]
    }
   ],
   "source": [
    "# 注：if elif 的区别是：if之间是并列关系，就算上一个if对应的条件满足且执行了，下面还会执行，但是elif前面的执行后，后面的就不会再进行\n",
    "# 注意下面两个例子，唯一的不同就是各自2 3 个的if 和 elif 不同\n",
    "\n",
    "if float(input(\"请输入你的身高（cm）：\"))< 120 :\n",
    "    print(\"身高小于120cm，可以免费游玩\")\n",
    "if int(input(\"请输入你的VIP等级：\")) > 3 :\n",
    "    print(\"VIP等级大于3，可以免费游玩\")\n",
    "if int(input(\"请输入今天是本月的几号：\")) == 1 :\n",
    "    print(\"今天是1号免费日，可以免费游玩\")\n",
    "else :\n",
    "    print(\"抱歉，你的身高不小于120cm，且VIP等级不大于3级，并且不是每月的免费日，需要补票10元\")\n",
    "print(\"祝你游玩愉快\")\n",
    "\n",
    "\n",
    "if float(input(\"请输入你的身高（cm）：\"))< 120 :\n",
    "    print(\"身高小于120cm，可以免费游玩\")\n",
    "elif int(input(\"请输入你的VIP等级：\")) > 3 :\n",
    "    print(\"VIP等级大于3，可以免费游玩\")\n",
    "elif int(input(\"请输入今天是本月的几号：\")) == 1 :\n",
    "    print(\"今天是1号免费日，可以免费游玩\")\n",
    "else :\n",
    "    print(\"抱歉，你的身高不小于120cm，且VIP等级不大于3级，并且不是每月的免费日，需要补票10元\")\n",
    "print(\"祝你游玩愉快\")"
   ]
  },
  {
   "cell_type": "code",
   "execution_count": 24,
   "id": "edba342a",
   "metadata": {},
   "outputs": [
    {
     "name": "stdout",
     "output_type": "stream",
     "text": [
      "输入你要猜测的数字（1-10的整数）：5\n",
      "你猜的这个数字大了！\n",
      "再次输入你要猜测的数字：3\n",
      "你猜的这个数字小了！\n",
      "请最后一次输入你要猜测的数字：4\n",
      "恭喜,终于猜中了！\n"
     ]
    }
   ],
   "source": [
    "# 下两行的代码指的是给出1-10的随机整数num\n",
    "import random\n",
    "num = random.randint(1, 10)\n",
    "\n",
    "# 后续代码为判断语句的嵌套形式\n",
    "guess_num = int(input(\"输入你要猜测的数字（1-10的整数）：\"))\n",
    "if guess_num == num :\n",
    "    print(\"恭喜，第一次就猜中了！\")\n",
    "else:\n",
    "    if guess_num > num :\n",
    "        print(\"你猜的这个数字大了！\")\n",
    "    elif guess_num < num :   # 这里的elif 和 if 一样，因为两者是相反的，不会同时成立，所以都可以用，也可以用下面的else（else不用加条件）\n",
    "        print(\"你猜的这个数字小了！\")\n",
    "    guess_num = int(input(\"再次输入你要猜测的数字：\"))\n",
    "    if guess_num == num :\n",
    "        print(\"恭喜你猜中了！\")\n",
    "    else:\n",
    "        if guess_num> num :\n",
    "            print(\"你猜的这个数字大了！\")\n",
    "        elif guess_num < num :\n",
    "            print(\"你猜的这个数字小了！\")\n",
    "        guess_num = int(input(\"请最后一次输入你要猜测的数字：\"))\n",
    "        if guess_num == num :\n",
    "            print(\"恭喜,终于猜中了！\")\n",
    "        else:\n",
    "            print(f\"很遗憾你没有猜中，正确的答案是{num}\")"
   ]
  },
  {
   "cell_type": "code",
   "execution_count": 25,
   "id": "fc439eea",
   "metadata": {},
   "outputs": [
    {
     "name": "stdout",
     "output_type": "stream",
     "text": [
      "输入你要猜测的数字（1-10的整数）：5\n",
      "你猜的这个数字小了！\n",
      "再次输入你要猜测的数字：7\n",
      "恭喜你猜中了！\n"
     ]
    }
   ],
   "source": [
    "# 把elif改成else的版本（猜数游戏）\n",
    "# 下两行的代码指的是给出1-10的随机整数num\n",
    "import random\n",
    "num = random.randint(1, 10)\n",
    "\n",
    "# 后续代码为判断语句的嵌套形式\n",
    "guess_num = int(input(\"输入你要猜测的数字（1-10的整数）：\"))\n",
    "if guess_num == num :\n",
    "    print(\"恭喜，第一次就猜中了！\")\n",
    "else:\n",
    "    if guess_num > num :\n",
    "        print(\"你猜的这个数字大了！\")\n",
    "    else :\n",
    "        print(\"你猜的这个数字小了！\")\n",
    "    guess_num = int(input(\"再次输入你要猜测的数字：\"))\n",
    "    if guess_num == num :\n",
    "        print(\"恭喜你猜中了！\")\n",
    "    else:\n",
    "        if guess_num> num :\n",
    "            print(\"你猜的这个数字大了！\")\n",
    "        else :\n",
    "            print(\"你猜的这个数字小了！\")\n",
    "        guess_num = int(input(\"请最后一次输入你要猜测的数字：\"))\n",
    "        if guess_num == num :\n",
    "            print(\"恭喜,终于猜中了！\")\n",
    "        else:\n",
    "            print(f\"很遗憾你没有猜中，正确的答案是{num}\")"
   ]
  }
 ],
 "metadata": {
  "kernelspec": {
   "display_name": "Python 3 (ipykernel)",
   "language": "python",
   "name": "python3"
  },
  "language_info": {
   "codemirror_mode": {
    "name": "ipython",
    "version": 3
   },
   "file_extension": ".py",
   "mimetype": "text/x-python",
   "name": "python",
   "nbconvert_exporter": "python",
   "pygments_lexer": "ipython3",
   "version": "3.10.9"
  }
 },
 "nbformat": 4,
 "nbformat_minor": 5
}

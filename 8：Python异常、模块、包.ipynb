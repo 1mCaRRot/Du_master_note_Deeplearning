{
 "cells": [
  {
   "cell_type": "code",
   "execution_count": 1,
   "id": "69d8a666",
   "metadata": {},
   "outputs": [],
   "source": [
    "# 捕获异常的基本语法：\n",
    "\"\"\"\n",
    "try:\n",
    "    可能发生错误的代码\n",
    "except:\n",
    "    如果出现异常，需要执行的代码\n",
    "\"\"\"\n",
    "# 例如：\n",
    "try:\n",
    "    f = open(\"D:/☆ Mathmatics/研0/编程/☆Python/第一阶段/8：Python异常、模块、包/文本文档/9-2演示文档.txt\", \"r\", encoding = \"UTF-8\")\n",
    "except:\n",
    "    print(\"上述代码有误，原因是使用r模式打开一个不存在的文件。因为w模式可以打开不存在的文件，所以把r模式该为w模式即可\")\n",
    "    f = open(\"D:/☆ Mathmatics/研0/编程/☆Python/第一阶段/8：Python异常、模块、包/文本文档/9-2演示文档.txt\", \"w\", encoding = \"UTF-8\")\n",
    "f.close()\n",
    "# 这个代码再次运行就不会报错了，因为第一次运行就已经创建这个文档了 ^  _ ^"
   ]
  },
  {
   "cell_type": "code",
   "execution_count": 2,
   "id": "3c28556a",
   "metadata": {},
   "outputs": [
    {
     "name": "stdout",
     "output_type": "stream",
     "text": [
      "出现了变量未定义的异常！\n",
      "如果直接运行，报错的内容为：name 'name' is not defined\n",
      "出现了变量未定义 或者 除以0的异常错误\n",
      "错误的内容为division by zero\n",
      "出现了变量未定义 或者 除以0的异常错误\n",
      "错误的内容为name 'abc' is not defined\n"
     ]
    }
   ],
   "source": [
    "# 捕获指定的异常，如果尝试执行的代码异常类型与要补货的不一致，则无法捕获异常，一般try下面只放一行尝试执行的代码，例如：\n",
    "try:\n",
    "    print(name)\n",
    "except NameError as e:\n",
    "    print(\"出现了变量未定义的异常！\")\n",
    "    print(f\"如果直接运行，报错的内容为：{e}\")\n",
    "'''若使用如下代码：\n",
    "\n",
    "try:\n",
    "    1/0\n",
    "except NameError as e:\n",
    "    print(\"出现了变量未定义的异常！\")\n",
    "    \n",
    "则会直接报错，因为 1除以0 不属于NameError'''\n",
    "\n",
    "# 捕获多个异常，如果未正确设置捕获异常类型，将无法捕获异常\n",
    "try:\n",
    "    1/0\n",
    "except (NameError, ZeroDivisionError) as e:\n",
    "    print(\"出现了变量未定义 或者 除以0的异常错误\")\n",
    "    print(f\"错误的内容为{e}\")\n",
    "# 或者\n",
    "try:\n",
    "    print(abc)\n",
    "except (NameError, ZeroDivisionError) as e:\n",
    "    print(\"出现了变量未定义 或者 除以0的异常错误\")\n",
    "    print(f\"错误的内容为{e}\")"
   ]
  },
  {
   "cell_type": "code",
   "execution_count": 3,
   "id": "e119bfb7",
   "metadata": {},
   "outputs": [
    {
     "name": "stdout",
     "output_type": "stream",
     "text": [
      "出现异常了，报错内容为：division by zero\n",
      "出现异常了，报错内容为：name 'name' is not defined\n",
      "出现异常了，报错内容为：[Errno 2] No such file or directory: 'D:/123.txt'\n"
     ]
    }
   ],
   "source": [
    "# 捕获所有异常: 如果只用except就是捕获所有异常，若非要给个异常类型用于匹配所有的异常，则使用Exception，如：\n",
    "try:\n",
    "    1/0\n",
    "except Exception as e:\n",
    "    print(f\"出现异常了，报错内容为：{e}\")\n",
    "    \n",
    "try:\n",
    "    print(name)\n",
    "except Exception as e:\n",
    "    print(f\"出现异常了，报错内容为：{e}\")\n",
    "    \n",
    "try:\n",
    "    open(\"D:/123.txt\", \"r\")\n",
    "except Exception as e:\n",
    "    print(f\"出现异常了，报错内容为：{e}\")"
   ]
  },
  {
   "cell_type": "code",
   "execution_count": 4,
   "id": "f1c578eb",
   "metadata": {},
   "outputs": [
    {
     "name": "stdout",
     "output_type": "stream",
     "text": [
      "没有异常\n",
      "关闭相关文件\n"
     ]
    }
   ],
   "source": [
    "# 异常else和finally（这两个都是选择写入内容，只有try和except是必写内容）\n",
    "# else的功能：如果没有异常，要执行的内容\n",
    "# finally的功能：不管有无异常，都要执行的内容\n",
    "try:\n",
    "    f = open(\"D:/☆ Mathmatics/研0/编程/☆Python/第一阶段/8：Python异常、模块、包/文本文档/9-2演示文档.txt\", \"r\", encoding = \"UTF-8\")\n",
    "except Exception as e:\n",
    "    print(\"上述代码有误，原因是使用r模式打开一个不存在的文件。因为w模式可以打开不存在的文件，所以把r模式该为w模式即可\")\n",
    "    f = open(\"D:/☆ Mathmatics/研0/编程/☆Python/第一阶段/8：Python异常、模块、包/文本文档/9-2演示文档.txt\", \"w\", encoding = \"UTF-8\")\n",
    "else:\n",
    "    print(\"没有异常\")\n",
    "finally:\n",
    "    print(\"关闭相关文件\")\n",
    "    f.close()\n",
    "# 因为这个文档是存在的，所以没有异常，执行try语句，else语句，并强制执行finally语句。"
   ]
  },
  {
   "cell_type": "code",
   "execution_count": 5,
   "id": "761188e7",
   "metadata": {},
   "outputs": [
    {
     "name": "stdout",
     "output_type": "stream",
     "text": [
      "func2开始执行\n",
      "func1开始执行\n",
      "出现异常，报错内容为：division by zero\n"
     ]
    }
   ],
   "source": [
    "# 异常可以进行传递，但是可以通过try,except组合函数找到错误的根源\n",
    "def func1():\n",
    "    print(\"func1开始执行\")\n",
    "    num = 1/0    # 这是异常的根源\n",
    "    print(\"func1结束执行\")\n",
    "def func2():\n",
    "    print(\"func2开始执行\")\n",
    "    func1()\n",
    "    print(\"func2结束执行\")\n",
    "def main():\n",
    "    try :\n",
    "        func2()\n",
    "    except Exception as e:\n",
    "        print(f\"出现异常，报错内容为：{e}\")\n",
    "main()"
   ]
  },
  {
   "cell_type": "raw",
   "id": "401ab1e0",
   "metadata": {},
   "source": [
    "Python模块（Module），是一个Python文件，以 .py 结尾，能定义函数、类、变量。模块里也能包含可执行的代码\n",
    "模块在使用前需要先导入，导入语法为（中括号内容表示可有可无）：\n",
    "[from 模块名] import [模块 丨 类 丨 变量 丨 函数 丨 * ] [as 别名]\n",
    "常用的组合形式如：\n",
    "import 模块名\n",
    "from 模块名 import 类、变量、方法等\n",
    "from 模块名 improt *\n",
    "import 模块名 as 别名\n",
    "from 模块名 import 功能名 as 别名"
   ]
  },
  {
   "cell_type": "code",
   "execution_count": 6,
   "id": "d631276e",
   "metadata": {},
   "outputs": [
    {
     "name": "stdout",
     "output_type": "stream",
     "text": [
      "你好\n",
      "我好\n",
      "Help on built-in function sleep in module time:\n",
      "\n",
      "sleep(...)\n",
      "    sleep(seconds)\n",
      "    \n",
      "    Delay execution for a given number of seconds.  The argument may be\n",
      "    a floating point number for subsecond precision.\n",
      "\n"
     ]
    }
   ],
   "source": [
    "# 使用import导入time模块使用sleep功能（函数）\n",
    "import time  # 导入Python内置的time模块（time.py这个代码文件）\n",
    "print(\"你好\")\n",
    "time.sleep(3)  # 这里表示调用time模块里面的sleep函数， 也可以使用time模块内部的其他功能，语法为time.内置功能名\n",
    "print(\"我好\")\n",
    "\n",
    "# 在Pycharm中，按住左ctrl，鼠标对准time即可查看详情，在jupyter可以使用 函数名?? 或者 help(函数名) 进行查看，如：\n",
    "help(time.sleep)"
   ]
  },
  {
   "cell_type": "code",
   "execution_count": 7,
   "id": "19bbe9a4",
   "metadata": {},
   "outputs": [
    {
     "name": "stdout",
     "output_type": "stream",
     "text": [
      "你好\n",
      "我好\n"
     ]
    }
   ],
   "source": [
    "# 使用from 模块名 import 功能名 直接导入time模块中的sleep方法，如：\n",
    "from time import sleep\n",
    "print(\"你好\")\n",
    "sleep(3)  # 只使用sleep功能\n",
    "print(\"我好\")"
   ]
  },
  {
   "cell_type": "code",
   "execution_count": 8,
   "id": "5877356d",
   "metadata": {},
   "outputs": [
    {
     "name": "stdout",
     "output_type": "stream",
     "text": [
      "你好\n",
      "我好\n"
     ]
    }
   ],
   "source": [
    "# 使用from 模块名 import * 导入time模块内部的全部功能（这里的*表示全部的意思），如：\n",
    "from time import *\n",
    "print(\"你好\")\n",
    "sleep(3)  # 这个和import time区别在于调用sleep功能时，不需要使用time.sleep()了\n",
    "print(\"我好\")"
   ]
  },
  {
   "cell_type": "code",
   "execution_count": 9,
   "id": "b796c591",
   "metadata": {},
   "outputs": [
    {
     "name": "stdout",
     "output_type": "stream",
     "text": [
      "你好\n",
      "我好\n",
      "你好\n",
      "我好\n"
     ]
    }
   ],
   "source": [
    "# 模块定义别名，语法： import 模块名 as 别名\n",
    "import time as t\n",
    "print(\"你好\")\n",
    "t.sleep(1)\n",
    "print(\"我好\")\n",
    "\n",
    "# 功能定义别名，语法： from 模块名 import 功能 as 别名\n",
    "from time import sleep as s\n",
    "print(\"你好\")\n",
    "s(1)\n",
    "print(\"我好\")"
   ]
  },
  {
   "cell_type": "code",
   "execution_count": 10,
   "id": "d785b030",
   "metadata": {},
   "outputs": [
    {
     "name": "stdout",
     "output_type": "stream",
     "text": [
      "3+7=10\n"
     ]
    },
    {
     "data": {
      "text/plain": [
       "10"
      ]
     },
     "execution_count": 10,
     "metadata": {},
     "output_type": "execute_result"
    }
   ],
   "source": [
    "# 自定义模块需要保证路径相同，只需要使用py文件即可导入，如：\n",
    "import my_module1\n",
    "my_module1.compute(3, 7)"
   ]
  },
  {
   "cell_type": "raw",
   "id": "a0b48462",
   "metadata": {},
   "source": [
    "模块一代码：\n",
    "def compute(x, y):\n",
    "    print(f\"{x}+{y}={x + y}\")\n",
    "    return x + y\n",
    "模块二代码：\n",
    "def compute(x, y):\n",
    "    print(f\"{x}-{y}={x - y}\")\n",
    "    return x - y"
   ]
  },
  {
   "cell_type": "code",
   "execution_count": 11,
   "id": "0609d9f5",
   "metadata": {},
   "outputs": [
    {
     "name": "stdout",
     "output_type": "stream",
     "text": [
      "3-7=-4\n"
     ]
    },
    {
     "data": {
      "text/plain": [
       "-4"
      ]
     },
     "execution_count": 11,
     "metadata": {},
     "output_type": "execute_result"
    }
   ],
   "source": [
    "# 导入模块和调用功能代码   \n",
    "from my_module1 import compute\n",
    "from my_module2 import compute\n",
    "# 调用时，会使用模块二中的函数，即后者覆盖前者\n",
    "compute(3, 7)"
   ]
  },
  {
   "cell_type": "raw",
   "id": "0bd41896",
   "metadata": {},
   "source": [
    "模块三代码如下：\n",
    "def compute(x, y):\n",
    "    print(f\"{x}+{y}={x + y}\")\n",
    "    return x + y\n",
    "compute(3, 7)"
   ]
  },
  {
   "cell_type": "code",
   "execution_count": 12,
   "id": "8ae5a690",
   "metadata": {},
   "outputs": [
    {
     "name": "stdout",
     "output_type": "stream",
     "text": [
      "3+7=10\n"
     ]
    }
   ],
   "source": [
    "from my_module3 import compute   # 由于代码中调用了compute，所以导入时会执行一次"
   ]
  },
  {
   "cell_type": "raw",
   "id": "659aa9e9",
   "metadata": {},
   "source": [
    "如果不想在导入的时候调用这个compute，可以将原代码改写为（name旁边有两个下划线）：\n",
    "def compute(x, y):\n",
    "    print(f\"{x}+{y}={x + y}\")\n",
    "    return x + y\n",
    "if __name__ == '__main__':\n",
    "    compute(3, 7)\n",
    "\n",
    "这样在运行时候，会调用compute函数，但是作为模块导入时将不再执行compute函数。\n",
    "原理：在函数运行时候会将__name__的值设置为“__main__”，这时布尔类型为True，执行compute函数的调用；但是在导入时布尔类型为False，不执行"
   ]
  },
  {
   "cell_type": "raw",
   "id": "c6cbdc6e",
   "metadata": {},
   "source": [
    "模块四代码如下：\n",
    "def compute(x, y):\n",
    "    print(f\"{x}+{y}={x + y}\")\n",
    "    return x + y\n",
    "if __name__ == '__main__':\n",
    "    compute(3, 7)"
   ]
  },
  {
   "cell_type": "code",
   "execution_count": 13,
   "id": "afef48e3",
   "metadata": {},
   "outputs": [],
   "source": [
    "from my_module4 import compute   # 这里将不再调用compute函数"
   ]
  },
  {
   "cell_type": "raw",
   "id": "3c6d583b",
   "metadata": {},
   "source": [
    "如果一个模块文件中有\" __all__ \"变量，当使用“from xxx import *”导入时，只能导入这个列表中的元素，如：\n",
    "模块五代码：\n",
    "__all__ = [\"add\"]\n",
    "def add(x, y):\n",
    "    print(x + y)\n",
    "def subtract(x, y):\n",
    "    print(x - y)"
   ]
  },
  {
   "cell_type": "code",
   "execution_count": 14,
   "id": "21e5b245",
   "metadata": {},
   "outputs": [
    {
     "name": "stdout",
     "output_type": "stream",
     "text": [
      "10\n",
      "报错内容为：name 'subtract' is not defined\n"
     ]
    }
   ],
   "source": [
    "from my_module5 import *\n",
    "add(3, 7)\n",
    "try:\n",
    "    subtract(3, 7)\n",
    "except Exception as e:\n",
    "    print(f\"报错内容为：{e}\")"
   ]
  },
  {
   "cell_type": "raw",
   "id": "24b57ffa",
   "metadata": {},
   "source": [
    "将Python的模块视为一个文件，Python的包就是文件夹(带有文件 __init__.py )。从逻辑上看，包的本质依然是模块。\n",
    "模块 + __init__.py  = Package包\n",
    "至于 __init__.py 可以创建一个txt文档，然后改名即可，里面可以空白"
   ]
  },
  {
   "cell_type": "raw",
   "id": "dbfbf6dc",
   "metadata": {},
   "source": [
    "自定义包中有自定义模块1,2,3，第{i}个模块中的函数名称为func{i}"
   ]
  },
  {
   "cell_type": "code",
   "execution_count": 15,
   "id": "853ca459",
   "metadata": {},
   "outputs": [
    {
     "name": "stdout",
     "output_type": "stream",
     "text": [
      "这是函数一的相关功能\n",
      "这是函数二的相关功能\n",
      "这是函数一的相关功能\n",
      "这是函数二的相关功能\n",
      "这是函数一的相关功能\n",
      "这是函数二的相关功能\n"
     ]
    }
   ],
   "source": [
    "# 导入自定义的包中的模块,并使用，如：\n",
    "import my_package.module1\n",
    "import my_package.module2\n",
    "\n",
    "my_package.module1.func1()\n",
    "my_package.module2.func2()\n",
    "\n",
    "# 从自定义包中导入自定义模块，再调用自定义模块中的自定义功能，如：\n",
    "from my_package import module1\n",
    "from my_package import module2\n",
    "module1.func1()\n",
    "module2.func2()\n",
    "\n",
    "# 直接从自定义包中的自定义模块中导入自定义功能，如：\n",
    "from my_package.module1 import func1\n",
    "from my_package.module2 import func2\n",
    "func1()\n",
    "func2()"
   ]
  },
  {
   "cell_type": "raw",
   "id": "d8990cf9",
   "metadata": {},
   "source": [
    "必须在 __init__.py 中添加 __all__ 变量才可以控制 import *\n",
    "例如：\n",
    "若__init__.py 的代码为：\n",
    "__all__ = ['module1']\n",
    "\n",
    "则只能导入module1的内容"
   ]
  },
  {
   "cell_type": "raw",
   "id": "c44b8f17",
   "metadata": {},
   "source": [
    "D:/☆ Mathmatics/研0/编程/☆Python/第一阶段/8：Python异常、模块、包/文本文档/9-8自定义工具包.txt"
   ]
  },
  {
   "cell_type": "code",
   "execution_count": 16,
   "id": "4abcb3a2",
   "metadata": {},
   "outputs": [
    {
     "name": "stdout",
     "output_type": "stream",
     "text": [
      "82651573\n",
      "37515\n",
      "这是一个文档\n"
     ]
    }
   ],
   "source": [
    "# 第一阶段-第九章-08-自定义工具包\n",
    "import my_utils.str_util\n",
    "print(my_utils.str_util.str_reverse(\"37515628\"))\n",
    "print(my_utils.str_util.substr(\"37515628\", 0, 4))\n",
    "\n",
    "from my_utils import file_util\n",
    "file_util.print_file_info(\"D:/☆ Mathmatics/研0/编程/☆Python/第一阶段/8：Python异常、模块、包/文本文档/9-8自定义工具包.txt\")\n",
    "file_util.append_to_file(\"D:/☆ Mathmatics/研0/编程/☆Python/第一阶段/8：Python异常、模块、包/文本文档/9-8自定义工具包测试文档3.txt\",\"追加内容\")"
   ]
  }
 ],
 "metadata": {
  "kernelspec": {
   "display_name": "Python 3 (ipykernel)",
   "language": "python",
   "name": "python3"
  },
  "language_info": {
   "codemirror_mode": {
    "name": "ipython",
    "version": 3
   },
   "file_extension": ".py",
   "mimetype": "text/x-python",
   "name": "python",
   "nbconvert_exporter": "python",
   "pygments_lexer": "ipython3",
   "version": "3.10.9"
  }
 },
 "nbformat": 4,
 "nbformat_minor": 5
}
